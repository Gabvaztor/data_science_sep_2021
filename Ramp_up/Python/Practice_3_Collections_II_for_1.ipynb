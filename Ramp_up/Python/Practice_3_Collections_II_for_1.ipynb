{
  "nbformat": 4,
  "nbformat_minor": 2,
  "metadata": {
    "kernelspec": {
      "name": "python3",
      "display_name": "Python 3.6.4 64-bit"
    },
    "language_info": {
      "codemirror_mode": {
        "name": "ipython",
        "version": 3
      },
      "file_extension": ".py",
      "mimetype": "text/x-python",
      "name": "python",
      "nbconvert_exporter": "python",
      "pygments_lexer": "ipython3",
      "version": "3.6.4"
    },
    "colab": {
      "name": "Practice_3_Collections_II_for.ipynb",
      "provenance": []
    },
    "interpreter": {
      "hash": "e05034a492cd28020b141b637ab43cad260081b164a40cac23ec4809d29fc4bf"
    }
  },
  "cells": [
    {
      "cell_type": "markdown",
      "source": [
        "# Python | day 3 | collections & if/else & for"
      ],
      "metadata": {
        "id": "cdEN_h24GdRg"
      }
    },
    {
      "cell_type": "markdown",
      "source": [
        "### Exercise 1. "
      ],
      "metadata": {
        "id": "Cw3xpZ9zGdRi"
      }
    },
    {
      "cell_type": "markdown",
      "source": [
        "1. Create a variable called **num_bridge** with a value of 15."
      ],
      "metadata": {
        "id": "nJWO9GdKGdRj"
      }
    },
    {
      "cell_type": "code",
      "execution_count": null,
      "source": [],
      "outputs": [],
      "metadata": {
        "id": "9OFmuzRdGdRj"
      }
    },
    {
      "cell_type": "markdown",
      "source": [
        "2. Create a variable called **name_street** with the value \"Recoletos\".\n",
        "\n"
      ],
      "metadata": {
        "id": "dOfvhFueGdRk"
      }
    },
    {
      "cell_type": "code",
      "execution_count": null,
      "source": [],
      "outputs": [],
      "metadata": {
        "id": "nNymoKP7GdRk"
      }
    },
    {
      "cell_type": "markdown",
      "source": [
        "3. Create a variable called **personal_taste** which should be `True` if you like the beach better or `False` if you rather choose mountain. \n",
        "\n",
        "```python\n",
        "Example: \n",
        "personal_taste = True\n",
        "```"
      ],
      "metadata": {
        "id": "-UQUrlFgGdRk"
      }
    },
    {
      "cell_type": "code",
      "execution_count": 7,
      "source": [
        "# 0, 0.0\r\n",
        "# False\r\n",
        "# None \r\n",
        "# Cualquier colección vacía\r\n",
        "\r\n",
        "personal_taste = False\r\n",
        "string = str(personal_taste)\r\n",
        "print(\"personal_taste:\", personal_taste)\r\n",
        "print(\"type(personal_taste):\", type(personal_taste))\r\n",
        "print(\"string:\", string)\r\n",
        "print(\"type(string):\", type(string))\r\n",
        "\r\n",
        "if string:\r\n",
        "    print(1)\r\n",
        "else:\r\n",
        "    print(0)\r\n"
      ],
      "outputs": [
        {
          "output_type": "stream",
          "name": "stdout",
          "text": [
            "personal_taste: False\n",
            "type(personal_taste): <class 'bool'>\n",
            "string: False\n",
            "type(string): <class 'str'>\n",
            "1\n"
          ]
        }
      ],
      "metadata": {
        "id": "yDzYUzIMGdRl"
      }
    },
    {
      "cell_type": "code",
      "execution_count": 9,
      "source": [
        "x = True\r\n",
        "y = \"True\"\r\n",
        "print(x)\r\n",
        "\r\n",
        "if x == y:\r\n",
        "    print(1)\r\n",
        "else:\r\n",
        "    print(0)"
      ],
      "outputs": [
        {
          "output_type": "stream",
          "name": "stdout",
          "text": [
            "True\n",
            "0\n"
          ]
        }
      ],
      "metadata": {}
    },
    {
      "cell_type": "markdown",
      "source": [
        "4. Create a variable called **nothing** like follows: `nothing = None`. `None`doesn't represent any value, something you should keep in mind if you do `if nothing:` then `nothing` acts as a boolean `False`. "
      ],
      "metadata": {
        "id": "svkLOt4RGdRl"
      }
    },
    {
      "cell_type": "code",
      "execution_count": null,
      "source": [],
      "outputs": [],
      "metadata": {
        "id": "ULNP2Q3mGdRm"
      }
    },
    {
      "cell_type": "markdown",
      "source": [
        "5. Create a variable called **address_list**. This should be a list which contains the following: first element **name_street** and second element **num_bridge**. "
      ],
      "metadata": {
        "id": "niFIo1NxGdRm"
      }
    },
    {
      "cell_type": "code",
      "execution_count": null,
      "source": [],
      "outputs": [],
      "metadata": {
        "id": "zJ1Zu5b_GdRm"
      }
    },
    {
      "cell_type": "markdown",
      "source": [
        "6. Create a variable called **sleep_hours** that should contains, as a string, the hours you've slept today."
      ],
      "metadata": {
        "id": "MdA6rmzyGdRm"
      }
    },
    {
      "cell_type": "code",
      "execution_count": null,
      "source": [],
      "outputs": [],
      "metadata": {
        "id": "pDQVqkBWGdRm"
      }
    },
    {
      "cell_type": "markdown",
      "source": [
        "7. Create a list called **info_list** containing every variable you've just created in the order you have done it.\n",
        "\n",
        "```python\n",
        "len(info_list) == 6\n",
        "True\n",
        "```\n",
        "\n",
        "**IMPORTANT: you will use `info_list` at some point during the ramp-up**"
      ],
      "metadata": {
        "id": "HCvA16y7GdRn"
      }
    },
    {
      "cell_type": "code",
      "execution_count": null,
      "source": [],
      "outputs": [],
      "metadata": {
        "id": "nvwP54qPGdRn"
      }
    },
    {
      "cell_type": "markdown",
      "source": [
        "8. Run the following cell in order to delete every variable you've just created and keep **info_list** only.\n",
        "Print **info_list** once you've done it to check the list still exists."
      ],
      "metadata": {
        "id": "VlgvxL7GGdRn"
      }
    },
    {
      "cell_type": "code",
      "execution_count": null,
      "source": [
        "#run this\r\n",
        "del num_bridge\r\n",
        "del name_street\r\n",
        "del personal_taste\r\n",
        "del nothing\r\n",
        "del address_list\r\n",
        "del sleep_hours"
      ],
      "outputs": [],
      "metadata": {
        "id": "XlisEXQ3GdRn"
      }
    },
    {
      "cell_type": "code",
      "execution_count": null,
      "source": [],
      "outputs": [],
      "metadata": {
        "id": "sv5rLeOrGdRo"
      }
    },
    {
      "cell_type": "markdown",
      "source": [
        "### Exercise 2."
      ],
      "metadata": {
        "id": "eUMnkJx0GdRo"
      }
    },
    {
      "cell_type": "markdown",
      "source": [
        "You'll need `info_list` in order to continue with this exercise. Remember don't use any variable except `info_list`. \n",
        "\n",
        "Print the following. Don't use functions and/or loops. "
      ],
      "metadata": {
        "id": "bCpzOD-DGdRo"
      }
    },
    {
      "cell_type": "markdown",
      "source": [
        " 1. Sum up the street number of The Bridge and the hours you slept last night. "
      ],
      "metadata": {
        "id": "mdtrWj0WGdRo"
      }
    },
    {
      "cell_type": "code",
      "execution_count": null,
      "source": [],
      "outputs": [],
      "metadata": {
        "id": "aKlbAXTFGdRo"
      }
    },
    {
      "cell_type": "markdown",
      "source": [
        "2. Concatenate the street number of The Bridge, the name of the street, your personal taste and the hours you slept. All of them should be separated by `\" --> \"`."
      ],
      "metadata": {
        "id": "nZysiLU3GdRo"
      }
    },
    {
      "cell_type": "code",
      "execution_count": null,
      "source": [],
      "outputs": [],
      "metadata": {
        "id": "O2k2-NwCGdRo"
      }
    },
    {
      "cell_type": "markdown",
      "source": [
        "3. Access to the list which is at the fourth position of **info_list** and print the result of: \n",
        "     - The concatenation of both elements contained in the list found in fourth position of **info_list**. \n",
        "     - The multiplication of the lenght of the list and the lenght of the street's name.\n",
        "    \n",
        "   If at the fourth position of **info_list** you don't find a list, go back to Exercise 1, please. "
      ],
      "metadata": {
        "id": "3pt3AtLJGdRo"
      }
    },
    {
      "cell_type": "code",
      "execution_count": null,
      "source": [],
      "outputs": [],
      "metadata": {
        "id": "FseUKilSGdRp"
      }
    },
    {
      "cell_type": "markdown",
      "source": [
        "### Exercise 3."
      ],
      "metadata": {
        "id": "r9-TkTAQGdRp"
      }
    },
    {
      "cell_type": "markdown",
      "source": [
        "1. Get user input using input(“Enter your age: ”). If user is 18 or older, give feedback: You are old enough to drive. If below 18 give feedback to wait for the missing amount of years."
      ],
      "metadata": {
        "id": "UIqA8QyMGdRp"
      }
    },
    {
      "cell_type": "code",
      "execution_count": null,
      "source": [],
      "outputs": [],
      "metadata": {
        "id": "Jg1FapyaGdRp"
      }
    },
    {
      "cell_type": "markdown",
      "source": [
        "2. Compare the values of **my_age** and **your_age** using if/else. Who is older (me or you)? Use input(“Enter your age: ”) to get **your_age** as input. **my_age** is always your age, cause you are the one coding the program. "
      ],
      "metadata": {
        "id": "RaaHN-y-GdRp"
      }
    },
    {
      "cell_type": "code",
      "execution_count": null,
      "source": [],
      "outputs": [],
      "metadata": {
        "id": "g3bGeM-iGdRp"
      }
    },
    {
      "cell_type": "markdown",
      "source": [
        "3. Get two numbers from the user using input prompt. If a is greater than b return \"a is greater than b\", if a is less b return \"a is smaller than b\", else \"a is equal to b\"."
      ],
      "metadata": {
        "id": "WlMiWyRYGdRp"
      }
    },
    {
      "cell_type": "code",
      "execution_count": null,
      "source": [],
      "outputs": [],
      "metadata": {
        "id": "pojLx1vvGdRp"
      }
    },
    {
      "cell_type": "markdown",
      "source": [
        "### Exercise 4\n",
        "\n",
        "Learn about **for loop**\n",
        "\n",
        "Watch this video: https://www.youtube.com/watch?v=wxds6MAtUQ0\n",
        "\n",
        "Read this: https://www.w3schools.com/python/python_for_loops.asp\n",
        "\n",
        "You may need this to understand what is going on with your loops: http://www.pythontutor.com/visualize.html#mode=edit"
      ],
      "metadata": {
        "id": "8xZfUxkiGdRp"
      }
    },
    {
      "cell_type": "markdown",
      "source": [
        "Declare four variables: \n",
        "- A string variable containing your surname. \n",
        "- Two integers variables: one, with the number of the street in which you live, and two, the age of the classmate sitting on your right. \n",
        "    If you are on the right edge of the table, look for your classmate on your left.\n",
        "    If you are on remote, choose one of your mates who are on remote too. \n",
        "- A list containing the variables you have just declared."
      ],
      "metadata": {
        "id": "bPqQtWcfGdRp"
      }
    },
    {
      "cell_type": "code",
      "execution_count": null,
      "source": [],
      "outputs": [],
      "metadata": {
        "id": "54RTtjTjGdRq"
      }
    },
    {
      "cell_type": "markdown",
      "source": [
        "Using a **for loop** print every element of the list you've just created. \n",
        "    \n"
      ],
      "metadata": {
        "id": "Ah7CUidyGdRq"
      }
    },
    {
      "cell_type": "code",
      "execution_count": null,
      "source": [],
      "outputs": [],
      "metadata": {
        "id": "pR8Yks78GdRq"
      }
    },
    {
      "cell_type": "markdown",
      "source": [
        "Using a **for loop** and a **if** make sure you only print the element in the list which is a string\n",
        "(Your surname). "
      ],
      "metadata": {
        "id": "oFPPbZ0eGdRq"
      }
    },
    {
      "cell_type": "code",
      "execution_count": null,
      "source": [],
      "outputs": [],
      "metadata": {
        "id": "pMBlNDzQGdRq"
      }
    },
    {
      "cell_type": "markdown",
      "source": [
        "**Well done!**"
      ],
      "metadata": {
        "id": "Q6CNW8a0GdRq"
      }
    },
    {
      "cell_type": "markdown",
      "source": [
        "### Exercise 5\n",
        "\n",
        "1. The following list contains some fruits:\n",
        "    \n",
        "`fruits = ['banana', 'orange', 'mango', 'lemon']`\n",
        "\n",
        "If a fruit doesn't exist in the list add the fruit to the list and print the modified list. If the fruit exists print('That fruit already exist in the list')\n",
        "\n",
        "Note: You can solve this exercise using or not `for` loop."
      ],
      "metadata": {
        "id": "fy4E7OA4GdRq"
      }
    },
    {
      "cell_type": "code",
      "execution_count": null,
      "source": [],
      "outputs": [],
      "metadata": {
        "id": "GPEJyA1jGdRq"
      }
    },
    {
      "cell_type": "markdown",
      "source": [
        "2. Prints the numbers between 0 and 70 that are multiples of 3 and 5."
      ],
      "metadata": {
        "id": "OteLWQllGdRq"
      }
    },
    {
      "cell_type": "code",
      "execution_count": null,
      "source": [],
      "outputs": [],
      "metadata": {
        "id": "lqWLYL7cGdRq"
      }
    },
    {
      "cell_type": "markdown",
      "source": [
        "3. Given two lists of same lenght, create a third list which contains the sum of both of the list, element by element. \n",
        "\n",
        "```python\n",
        "Example: \n",
        "a = [1,2]\n",
        "b = [4,5]\n",
        "new_list = [5,7]\n",
        "```"
      ],
      "metadata": {
        "id": "j6cpjWudGdRq"
      }
    },
    {
      "cell_type": "code",
      "execution_count": null,
      "source": [],
      "outputs": [],
      "metadata": {
        "id": "a__K5mmgGdRq"
      }
    },
    {
      "cell_type": "markdown",
      "source": [
        "### Bonus Track"
      ],
      "metadata": {
        "id": "Am0ohmJ9GdRr"
      }
    },
    {
      "cell_type": "markdown",
      "source": [
        "4. Print the following pattern:\n",
        "\n",
        "```python\n",
        "1\n",
        "22\n",
        "333\n",
        "4444\n",
        "55555\n",
        "666666\n",
        "7777777\n",
        "88888888\n",
        "999999999\n",
        "```"
      ],
      "metadata": {
        "id": "5s_tfETzGdRr"
      }
    },
    {
      "cell_type": "code",
      "execution_count": null,
      "source": [],
      "outputs": [],
      "metadata": {
        "id": "p1O3NaE9GdRr"
      }
    },
    {
      "cell_type": "markdown",
      "source": [
        "5. Get first, second best scores from the list.\n",
        "List contains duplicates."
      ],
      "metadata": {
        "id": "wMkvfxjnGdRr"
      }
    },
    {
      "cell_type": "code",
      "execution_count": null,
      "source": [
        "scores = [86,86,85,85,85,83,23,45,84,1,2,0]"
      ],
      "outputs": [],
      "metadata": {
        "id": "5vP4tvTFGdRr"
      }
    },
    {
      "cell_type": "code",
      "execution_count": null,
      "source": [],
      "outputs": [],
      "metadata": {
        "id": "44YvJBPkGdRr"
      }
    },
    {
      "cell_type": "markdown",
      "source": [
        "6. From the given list:\n",
        "    \n",
        "    a) Create separate lists of strings and numbers.\n",
        "\n",
        "    b) Sort the strings' list in ascending order\n",
        "\n",
        "    c) Sort the strings' list in descending order\n",
        "\n",
        "    d) Sort the number's list from lowest to highest\n",
        "\n",
        "    e) Sort the number's list from highest to lowest"
      ],
      "metadata": {
        "id": "QOLwygMEGdRr"
      }
    },
    {
      "cell_type": "code",
      "execution_count": null,
      "source": [
        "gadgets = [\"Mobile\", \"Laptop\", 100, \"Camera\", 310.28, \"Speakers\", 27.00, \n",
        "           \"Television\", 1000, \"Laptop Case\", \"Camera Lens\"]"
      ],
      "outputs": [],
      "metadata": {
        "id": "KVRGozxSGdRr"
      }
    },
    {
      "cell_type": "code",
      "execution_count": null,
      "source": [],
      "outputs": [],
      "metadata": {
        "id": "EChaJv33GdRs"
      }
    },
    {
      "cell_type": "markdown",
      "source": [
        "7. Make a list of ten aliens, each of which is one color: 'red', 'green', or 'blue'.\n",
        "    - You can shorten this to 'r', 'g', and 'b' if you want, but if you choose this option you have to include a comment explaining what r, g, and b stand for.\n",
        "    - Red aliens are worth 5 points, green aliens are worth 10 points, and blue aliens are worth 20 points.\n",
        "    - Use a for loop to determine the number of points a player would earn for destroying all of the aliens in your list."
      ],
      "metadata": {
        "id": "_9w132qDGdRs"
      }
    },
    {
      "cell_type": "code",
      "execution_count": null,
      "source": [],
      "outputs": [],
      "metadata": {
        "id": "8Wkx3Lc8GdRs"
      }
    },
    {
      "cell_type": "markdown",
      "source": [
        "![\"hola\"](https://preview.redd.it/wk843smkri441.jpg?width=960&crop=smart&auto=webp&s=1a4d7a5ddeef38c03334d275afe3a9dd33866ce8)"
      ],
      "metadata": {
        "id": "Ctu7COlDGdRs"
      }
    },
    {
      "cell_type": "code",
      "execution_count": null,
      "source": [],
      "outputs": [],
      "metadata": {
        "id": "FhqgpD2oGdRs"
      }
    }
  ]
}