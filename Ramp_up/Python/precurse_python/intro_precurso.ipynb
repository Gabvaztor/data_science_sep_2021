{
 "cells": [
  {
   "cell_type": "markdown",
   "source": [
    "# PRECURSO - Intro\n",
    "### Data Science Bootcamp - The Bridge \n"
   ],
   "metadata": {}
  },
  {
   "cell_type": "markdown",
   "source": [
    "## Índice\n",
    "\n",
    "**Apartado 1 - Variables**\n",
    "- Variables y tipos\n",
    "    - Creación de variables\n",
    "    - String\n",
    "    - Enteros\n",
    "    - Booleanos\n",
    "    - None (Ningún tipo)\n",
    "- Números y operadores\n",
    "    - Suma\n",
    "    - Resta\n",
    "    - División\n",
    "    - División absoluta\n",
    "    - Exponente\n",
    "    - Multiplicación\n",
    "    - And, or, not\n",
    "- Input  \n",
    "\n",
    "**Apartado 2 - Collections**\n",
    "- Listas, tuplas y conjuntos\n",
    "    - Acceso a dato por posiciones\n",
    "    - Tamaño de lista \n",
    "    - Listas dentro de listas\n",
    "    - Añadir datos a la listas\n",
    "    - Eliminar datos de listas\n",
    "    - Coger x elementos de listas [[:x]]\n",
    "- Diccionarios\n",
    "\n",
    "**Apartado 3 - Comprehension**\n",
    "- List/Dict comprehension \n",
    "- Zip \n",
    "\n",
    "**Apartado 4 - Bucles** \n",
    "- Iteraciones/ for\n",
    "    - acumuladores/contadores\n",
    "    - range/enumerate\n",
    "- while\n",
    "    - break, continue\n",
    "\n",
    "**Apartado 5 - Funciones** \n",
    "- Funciones con & sin return\n",
    "- Funciones con valores por defecto\n",
    "- Recursividad\n",
    "\n",
    "**Apartado 6 - Import**\n",
    "- Import modulos\n",
    "- Abrir ficheros\n",
    "\n",
    "**Apartado 7 - Error Handling** \n",
    "- Try/Except \n",
    "- Raise Error\n",
    "\n",
    "**Apartado 8 - Lambda & map/filter**\n",
    "- Lambda\n",
    "- Map/Filter/Reduce\n",
    "\n",
    "**Apartado 9 - Clases**"
   ],
   "metadata": {}
  },
  {
   "cell_type": "markdown",
   "source": [
    "---------------------------------------------------------"
   ],
   "metadata": {}
  },
  {
   "cell_type": "markdown",
   "source": [
    "**Enlaces de interés**\n",
    "\n",
    "Los siguientes enlaces están recomendados para el alumno para profundizar y reforzar conceptos a partir de  ejercicios y ejemplos:\n",
    "\n",
    "- https://facundoq.github.io/courses/aa2018/res/02_python.html\n",
    "\n",
    "- https://www.w3resource.com/python-exercises/\n",
    "\n",
    "- https://www.practicepython.org/\n",
    "\n",
    "- https://es.slideshare.net/egutierrezru/python-paraprincipiantes\n",
    "\n",
    "- https://www.sololearn.com/Play/Python#\n",
    "\n",
    "- https://github.com/mhkmcp/Python-Bootcamp-from-Basic-to-Advanced"
   ],
   "metadata": {}
  },
  {
   "cell_type": "markdown",
   "source": [
    "**Ejercicios avanzados**\n",
    "\n",
    "- https://github.com/darkprinx/100-plus-Python-programming-exercises-extended/tree/master/Status (++)\n",
    "\n",
    "- https://github.com/mahtab04/Python-Programming-Practice (++)\n",
    "\n",
    "- https://github.com/whojayantkumar/Python_Programs (+++)\n",
    "\n",
    "- https://www.w3resource.com/python-exercises/ (++++)\n",
    "\n",
    "- https://github.com/fupus/notebooks-ejercicios (+++++)\n",
    "\n",
    "Tutor de ayuda **PythonTutor:**\n",
    "\n",
    "- http://pythontutor.com/\n"
   ],
   "metadata": {}
  },
  {
   "cell_type": "code",
   "execution_count": 4,
   "source": [
    "# keep calm & keep coding\r\n",
    "\r\n"
   ],
   "outputs": [],
   "metadata": {}
  },
  {
   "cell_type": "code",
   "execution_count": null,
   "source": [],
   "outputs": [],
   "metadata": {}
  }
 ],
 "metadata": {
  "kernelspec": {
   "name": "python3",
   "display_name": "Python 3.6.4 64-bit"
  },
  "language_info": {
   "codemirror_mode": {
    "name": "ipython",
    "version": 3
   },
   "file_extension": ".py",
   "mimetype": "text/x-python",
   "name": "python",
   "nbconvert_exporter": "python",
   "pygments_lexer": "ipython3",
   "version": "3.6.4"
  },
  "interpreter": {
   "hash": "e05034a492cd28020b141b637ab43cad260081b164a40cac23ec4809d29fc4bf"
  }
 },
 "nbformat": 4,
 "nbformat_minor": 4
}