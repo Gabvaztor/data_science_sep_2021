{
  "nbformat": 4,
  "nbformat_minor": 2,
  "metadata": {
    "kernelspec": {
      "name": "python3",
      "display_name": "Python 3.7.4 64-bit"
    },
    "language_info": {
      "codemirror_mode": {
        "name": "ipython",
        "version": 3
      },
      "file_extension": ".py",
      "mimetype": "text/x-python",
      "name": "python",
      "nbconvert_exporter": "python",
      "pygments_lexer": "ipython3",
      "version": "3.7.4"
    },
    "colab": {
      "name": "Practice_7_while.ipynb",
      "provenance": []
    },
    "interpreter": {
      "hash": "7c77fdb427e7cbc9bc1367dd530fc2b36aacdbbde1ac83c85833b10dfa8b831c"
    }
  },
  "cells": [
    {
      "cell_type": "markdown",
      "source": [
        "# Python | day 6 | while"
      ],
      "metadata": {
        "id": "omXCNHByQCWX"
      }
    },
    {
      "cell_type": "markdown",
      "source": [
        "With the **while** loop we can execute a set of statements as long as a condition is true."
      ],
      "metadata": {
        "id": "_WOogxDkQCWb"
      }
    },
    {
      "cell_type": "markdown",
      "source": [
        "```python\n",
        "i = 1\n",
        "while i < 6:\n",
        "  print(i)\n",
        "  i += 1\n",
        "```"
      ],
      "metadata": {
        "id": "rjvlWIV0QCWb"
      }
    },
    {
      "cell_type": "markdown",
      "source": [
        "https://www.w3schools.com/python/python_while_loops.asp"
      ],
      "metadata": {
        "id": "knH5TArfQCWc"
      }
    },
    {
      "cell_type": "markdown",
      "source": [
        "### Exercise 1. "
      ],
      "metadata": {
        "id": "JI5GbasmQCWc"
      }
    },
    {
      "cell_type": "markdown",
      "source": [
        "Do as described below:\n",
        "\n",
        "- Make a variable called strength, and set its initial value to 5.\n",
        "\n",
        "- Print a message reporting the player's strength.\n",
        "\n",
        "- Set up a while loop that runs until the player's strength increases to a value such as 10.\n",
        "\n",
        "- Inside the while loop, print a message that reports the player's current strength.\n",
        "\n",
        "- Inside the while loop, write a statement that increases the player's strength.\n",
        "\n",
        "- Outside the while loop, print a message reporting that the player has grown too strong, and that they have moved up to a new level of the game.\n",
        "\n",
        "Play around with different cutoff levels for the value of strength, and play around with different ways to increase the strength value within the while loop.\n"
      ],
      "metadata": {
        "id": "VtpN7oNIQCWc"
      }
    },
    {
      "cell_type": "code",
      "execution_count": null,
      "source": [],
      "outputs": [],
      "metadata": {
        "id": "yyakY97xQCWd"
      }
    },
    {
      "cell_type": "markdown",
      "source": [
        "### Exercise 2. "
      ],
      "metadata": {
        "id": "4NJHixN5QCWe"
      }
    },
    {
      "cell_type": "markdown",
      "source": [
        "To solve the following exercises it will be necessary to define a function for each section. You choose the name of those functions unless specified, but make sure you define a single parameter `whichever_list`, when calling the function it will correspond to the variable `info_list`."
      ],
      "metadata": {
        "id": "maz97vqpQCWe"
      }
    },
    {
      "cell_type": "code",
      "execution_count": null,
      "source": [
        "# you can use this list or take yours from Practice 3\r\n",
        "info_list = [15, 'Recoletos', True, ['Recoletos', 15],  None, '8'] "
      ],
      "outputs": [],
      "metadata": {
        "id": "FI1Bt9-5QCWf"
      }
    },
    {
      "cell_type": "markdown",
      "source": [
        "You have already read these questions below, but this time you are asked to solve it using `while` loop instead of `for`. \r\n",
        "\r\n",
        "   - Loop through `whichever_list` to print all the elements it contains. This function should return the list turned into a tuple. \r\n",
        "   - Loop through `whichever_list` to print all the elements it contains concatenated with the string` \"--> OK\" `. This function should return a message saying, `\"everything will be ok\"`. \r\n",
        "   - Loop through `whichever_list` to display all items it contains except the first one. This function should return the first element of the list. \r\n",
        "   - Loop through `whichever_list` to display all the items it contains except the last one. This function should return the last element of the list. "
      ],
      "metadata": {
        "id": "82Smsl0IQCWg"
      }
    },
    {
      "cell_type": "code",
      "execution_count": null,
      "source": [],
      "outputs": [],
      "metadata": {
        "id": "n5UMXamBQCWg"
      }
    },
    {
      "cell_type": "code",
      "execution_count": null,
      "source": [],
      "outputs": [],
      "metadata": {
        "id": "_OslTLXxQCWg"
      }
    },
    {
      "cell_type": "code",
      "execution_count": null,
      "source": [],
      "outputs": [],
      "metadata": {
        "id": "Kfa6INn2QCWh"
      }
    },
    {
      "cell_type": "code",
      "execution_count": null,
      "source": [],
      "outputs": [],
      "metadata": {
        "id": "RaBvkDVGQCWh"
      }
    },
    {
      "cell_type": "code",
      "execution_count": null,
      "source": [],
      "outputs": [],
      "metadata": {
        "id": "JAz56EiaQCWh"
      }
    },
    {
      "cell_type": "markdown",
      "source": [
        "### Exercise 3. "
      ],
      "metadata": {
        "id": "XfnpDJsdQCWh"
      }
    },
    {
      "cell_type": "markdown",
      "source": [
        "1. Define a function that performs the [Fibonacci series](https://quantdare.com/numeros-de-fibonacci/#:~:text=En%20matem%C3%A1ticas%2C%20la%20sucesi%C3%B3n%20o,nombre%20de%20n%C3%BAmero%20de%20Fibonacci.) with a `while`."
      ],
      "metadata": {
        "id": "j1XqyW-dQCWh"
      }
    },
    {
      "cell_type": "code",
      "execution_count": null,
      "source": [],
      "outputs": [],
      "metadata": {
        "id": "I9VWBBxEQCWh"
      }
    },
    {
      "cell_type": "markdown",
      "source": [
        "### Bonus Track."
      ],
      "metadata": {
        "id": "_tDloLiZQCWi"
      }
    },
    {
      "cell_type": "markdown",
      "source": [
        "To solve the following exercises it will be necessary to define a function for each section. You choose the name of those functions unless specified, but make sure you define a single parameter `whichever_list`, when calling the function it will correspond to the variable `info_list`."
      ],
      "metadata": {
        "id": "wYIZyUoTQCWi"
      }
    },
    {
      "cell_type": "code",
      "execution_count": 70,
      "source": [
        "# you can use this list or take yours from Practice 3\r\n",
        "info_list = [15,'Recoletos',  True, ['Recoletos', 15],  None, '8'] "
      ],
      "outputs": [],
      "metadata": {
        "id": "t1OHzKIpQCWi"
      }
    },
    {
      "cell_type": "markdown",
      "source": [
        "1. Define a function `f_s` that saves the value of a word (for example: \"nothing\") in a variable and print it. Also, concatenate its value with the street number of The Bridge and display it on the screen. \r\n",
        "\r\n",
        "   Also, display a boolean **True** if the length of the concatenated word is 6. If not, it will be **False**. The function must return the value **True** or **False**."
      ],
      "metadata": {
        "id": "2vo9FVeZQCWi"
      }
    },
    {
      "cell_type": "code",
      "execution_count": 71,
      "source": [
        "info_list = [15, 'Recoletos', True, ['Recoletos', 15],  None, '8'] \r\n",
        "names_list ="
      ],
      "outputs": [],
      "metadata": {}
    },
    {
      "cell_type": "code",
      "execution_count": 81,
      "source": [
        "def f_s(whichever_list):\r\n",
        "    variable = input('Enter a word: ')\r\n",
        "    print('Variable introducida: ', variable)\r\n",
        "    concatenada = variable + str(whichever_list[0])\r\n",
        "    print('Concatenar dirección', concatenada)\r\n",
        "    print('Imprimir la condición', len(concatenada) == 6)\r\n",
        "    return len(concatenada) == 6"
      ],
      "outputs": [],
      "metadata": {}
    },
    {
      "cell_type": "code",
      "execution_count": 85,
      "source": [
        "x = f_s(info_list)\r\n",
        "print(x)"
      ],
      "outputs": [
        {
          "output_type": "stream",
          "name": "stdout",
          "text": [
            "Variable introducida:  miguel\n",
            "Concatenar dirección miguel15\n",
            "Imprimir la condición False\n",
            "True\n"
          ]
        }
      ],
      "metadata": {}
    },
    {
      "cell_type": "code",
      "execution_count": 78,
      "source": [
        "if x:\r\n",
        "    print(\"Se da la condición\")"
      ],
      "outputs": [
        {
          "output_type": "stream",
          "name": "stdout",
          "text": [
            "Se da la condición\n"
          ]
        }
      ],
      "metadata": {}
    },
    {
      "cell_type": "code",
      "execution_count": 10,
      "source": [
        "def f_s(whichever_list):\r\n",
        "    variable = input('Enter a word: ')\r\n",
        "    print('Variable introducida: ', variable)\r\n",
        "    # numero_calle = whichever_list[0]\r\n",
        "    \r\n",
        "    contador = 0\r\n",
        "    numero_calle_mayor = 0\r\n",
        "    while contador < len(whichever_list):\r\n",
        "        if type(whichever_list[contador]) == int:\r\n",
        "            numero_calle = whichever_list[contador]\r\n",
        "            if numero_calle > numero_calle_mayor:\r\n",
        "                numero_calle_mayor = numero_calle\r\n",
        "        contador = contador + 1\r\n",
        "    \r\n",
        "    print('Concatenar dirección', variable + str(numero_calle_mayor))"
      ],
      "outputs": [],
      "metadata": {
        "id": "D0G8T78VQCWj"
      }
    },
    {
      "cell_type": "code",
      "execution_count": 14,
      "source": [
        "def f_s_for(whichever_list):\r\n",
        "    variable = input('Enter a word: ')\r\n",
        "    print('Variable introducida: ', variable)\r\n",
        "    # numero_calle = whichever_list[0]\r\n",
        "    \r\n",
        "    numero_calle_mayor = 0\r\n",
        "    for elem in whichever_list:\r\n",
        "        if type(elem) == int:\r\n",
        "            numero_calle = elem\r\n",
        "            if numero_calle > numero_calle_mayor:\r\n",
        "                numero_calle_mayor = numero_calle\r\n",
        "    print('Concatenar dirección', variable + str(numero_calle_mayor))"
      ],
      "outputs": [],
      "metadata": {}
    },
    {
      "cell_type": "code",
      "execution_count": 29,
      "source": [
        "info_list = ['Recoletos', 28, True, ['Recoletos', 15], -20,  None, '8', 15, 49, 12] "
      ],
      "outputs": [],
      "metadata": {}
    },
    {
      "cell_type": "code",
      "execution_count": 37,
      "source": [
        "min(info_list)"
      ],
      "outputs": [
        {
          "output_type": "error",
          "ename": "TypeError",
          "evalue": "'<' not supported between instances of 'int' and 'str'",
          "traceback": [
            "\u001b[1;31m---------------------------------------------------------------------------\u001b[0m",
            "\u001b[1;31mTypeError\u001b[0m                                 Traceback (most recent call last)",
            "\u001b[1;32mC:\\Users\\MIGUEL~1\\AppData\\Local\\Temp/ipykernel_16020/3378105892.py\u001b[0m in \u001b[0;36m<module>\u001b[1;34m\u001b[0m\n\u001b[1;32m----> 1\u001b[1;33m \u001b[0mmin\u001b[0m\u001b[1;33m(\u001b[0m\u001b[0minfo_list\u001b[0m\u001b[1;33m)\u001b[0m\u001b[1;33m\u001b[0m\u001b[1;33m\u001b[0m\u001b[0m\n\u001b[0m",
            "\u001b[1;31mTypeError\u001b[0m: '<' not supported between instances of 'int' and 'str'"
          ]
        }
      ],
      "metadata": {}
    },
    {
      "cell_type": "code",
      "execution_count": 30,
      "source": [
        "def f_s_for(whichever_list):\r\n",
        "    variable = input('Enter a word: ')\r\n",
        "    print('Variable introducida: ', variable)\r\n",
        "    # numero_calle = whichever_list[0]\r\n",
        "    \r\n",
        "    numero_calle_mayor = 0\r\n",
        "    for elem in whichever_list:\r\n",
        "        if type(elem) == int and elem > numero_calle_mayor:\r\n",
        "            numero_calle_mayor = elem\r\n",
        "    print('Concatenar dirección', variable + str(numero_calle_mayor))"
      ],
      "outputs": [],
      "metadata": {}
    },
    {
      "cell_type": "code",
      "execution_count": 31,
      "source": [
        "def f_s_for(whichever_list):\r\n",
        "    # variable = input('Enter a word: ')\r\n",
        "    # print('Variable introducida: ', variable)\r\n",
        "    # numero_calle = whichever_list[0]\r\n",
        "    \r\n",
        "    numero_calle_menor = 0\r\n",
        "    for elem in whichever_list:\r\n",
        "        if type(elem) == int and elem < numero_calle_menor:\r\n",
        "            numero_calle_menor = elem\r\n",
        "    print('Concatenar dirección', str(numero_calle_menor))"
      ],
      "outputs": [],
      "metadata": {}
    },
    {
      "cell_type": "code",
      "execution_count": 53,
      "source": [
        "def f_s_for(whichever_list):\r\n",
        "    '''\r\n",
        "    Función que necuentra el número menor de la lista whichever_list\r\n",
        "    '''\r\n",
        "    lista_enteros = []\r\n",
        "    for elem in whichever_list:\r\n",
        "        if type(elem) == int:\r\n",
        "            lista_enteros.append(elem)\r\n",
        "    \r\n",
        "    print('El número menor es: ', str(min(lista_enteros)))\r\n",
        "    return int(min(lista_enteros)), lista_enteros\r\n",
        "    # return None"
      ],
      "outputs": [],
      "metadata": {}
    },
    {
      "cell_type": "code",
      "execution_count": 54,
      "source": [
        "respuesta, x = f_s_for(info_list)\r\n",
        "\r\n",
        "print('respuesta 1º función', respuesta)\r\n",
        "print('respuesta 1º función ultimo valor', x)\r\n",
        "\r\n",
        "respuesta_2 = calcular_prestamo(respuesta, 5)\r\n",
        "print('respuesta 2º función', respuesta_2)"
      ],
      "outputs": [
        {
          "output_type": "stream",
          "name": "stdout",
          "text": [
            "El número menor es:  -20\n",
            "respuesta 1º función -20\n",
            "respuesta 1º función ultimo valor [28, -20, 15, 49, 12]\n",
            "respuesta 2º función -4.0\n"
          ]
        }
      ],
      "metadata": {}
    },
    {
      "cell_type": "code",
      "execution_count": 44,
      "source": [
        "def calcular_prestamo(valor, años):\r\n",
        "    return valor/años\r\n"
      ],
      "outputs": [],
      "metadata": {}
    },
    {
      "cell_type": "code",
      "execution_count": 66,
      "source": [
        "def f_s_for(whichever_list):\r\n",
        "    '''\r\n",
        "    Función que necuentra el número menor de la lista whichever_list\r\n",
        "    '''\r\n",
        "    lista_enteros = []\r\n",
        "    for elem in whichever_list:\r\n",
        "        if type(elem) == int:\r\n",
        "            lista_enteros.append(elem)\r\n",
        "    \r\n",
        "    print('El número menor es: ', str(min(lista_enteros)))\r\n",
        "    return int(min(lista_enteros))\r\n",
        "    # return None"
      ],
      "outputs": [],
      "metadata": {}
    },
    {
      "cell_type": "code",
      "execution_count": 68,
      "source": [
        "f_s_for(info_list)"
      ],
      "outputs": [
        {
          "output_type": "execute_result",
          "data": {
            "text/plain": [
              "'El número menor es: -20'"
            ]
          },
          "metadata": {},
          "execution_count": 68
        }
      ],
      "metadata": {}
    },
    {
      "cell_type": "code",
      "execution_count": 64,
      "source": [
        "respuesta = f_s_for(info_list)\r\n",
        "print('respuesta 1º función', respuesta)\r\n",
        "\r\n",
        "respuesta_2 = calcular_prestamo(respuesta, 5)\r\n",
        "print('respuesta 2º función', respuesta_2)"
      ],
      "outputs": [
        {
          "output_type": "stream",
          "name": "stdout",
          "text": [
            "El número menor es:  -20\n",
            "respuesta 1º función -20\n",
            "respuesta 2º función -4.0\n"
          ]
        }
      ],
      "metadata": {}
    },
    {
      "cell_type": "code",
      "execution_count": null,
      "source": [],
      "outputs": [],
      "metadata": {}
    },
    {
      "cell_type": "code",
      "execution_count": 61,
      "source": [
        "def suma(a,b):\r\n",
        "    return a+b\r\n",
        "\r\n",
        "def multiply (a,b):\r\n",
        "    return a*b"
      ],
      "outputs": [],
      "metadata": {}
    },
    {
      "cell_type": "code",
      "execution_count": 62,
      "source": [
        "x = suma(3,5)\r\n",
        "multiply(x,2)"
      ],
      "outputs": [
        {
          "output_type": "execute_result",
          "data": {
            "text/plain": [
              "16"
            ]
          },
          "metadata": {},
          "execution_count": 62
        }
      ],
      "metadata": {}
    },
    {
      "cell_type": "code",
      "execution_count": 24,
      "source": [
        "history"
      ],
      "outputs": [
        {
          "output_type": "stream",
          "name": "stdout",
          "text": [
            "def f_s(whichever_list):\n",
            "    variable = input('Enter a word: ')\n",
            "    print('Variable introducida: ', variable)\n",
            "    numero_calle = whichever_list[0]\n",
            "    print('Concatenar dirección', variable + str(numero_calle))\n",
            "f_s(info_list)\n",
            "# you can use this list or take yours from Practice 3\n",
            "info_list = [15, 'Recoletos', True, ['Recoletos', 15],  None, '8']\n",
            "f_s(info_list)\n",
            "f_s(info_list)\n",
            "f_s(info_list)\n",
            "# you can use this list or take yours from Practice 3\n",
            "info_list = ['Recoletos', 15, True, ['Recoletos', 15],  None, '8']\n",
            "info_list = ['Recoletos', True, ['Recoletos', 15],  None, '8', 15]\n",
            "def f_s(whichever_list):\n",
            "    variable = input('Enter a word: ')\n",
            "    print('Variable introducida: ', variable)\n",
            "    # numero_calle = whichever_list[0]\n",
            "    \n",
            "    contador = 0\n",
            "    numero_calle_mayor = 0\n",
            "    while contador < len(whichever_list):\n",
            "        if type(whichever_list[contador]) == int:\n",
            "            numero_calle = whichever_list[contador]\n",
            "            if numero_calle > numero_calle_mayor:\n",
            "                numero_calle_mayor = numero_calle\n",
            "        contador = contador + 1\n",
            "    \n",
            "    print('Concatenar dirección', variable + str(numero_calle_mayor))\n",
            "def f_s(whichever_list):\n",
            "    variable = input('Enter a word: ')\n",
            "    print('Variable introducida: ', variable)\n",
            "    # numero_calle = whichever_list[0]\n",
            "    \n",
            "    contador = 0\n",
            "    numero_calle_mayor = 0\n",
            "    while contador < len(whichever_list):\n",
            "        if type(whichever_list[contador]) == int:\n",
            "            numero_calle = whichever_list[contador]\n",
            "            if numero_calle > numero_calle_mayor:\n",
            "                numero_calle_mayor = numero_calle\n",
            "        contador = contador + 1\n",
            "    \n",
            "    print('Concatenar dirección', variable + str(numero_calle_mayor))\n",
            "f_s(info_list)\n",
            "info_list = ['Recoletos', 28, True, ['Recoletos', 15],  None, '8', 15, 49, 12]\n",
            "f_s(info_list)\n",
            "def f_s_for(whichever_list):\n",
            "    variable = input('Enter a word: ')\n",
            "    print('Variable introducida: ', variable)\n",
            "    # numero_calle = whichever_list[0]\n",
            "    \n",
            "    numero_calle_mayor = 0\n",
            "    for i in whichever_list:\n",
            "        if type(i) == int:\n",
            "            numero_calle = i\n",
            "            if numero_calle > numero_calle_mayor:\n",
            "                numero_calle_mayor = numero_calle\n",
            "    \n",
            "    \n",
            "    print('Concatenar dirección', variable + str(numero_calle_mayor))\n",
            "f_s_for(info_list)\n",
            "def f_s_for(whichever_list):\n",
            "    variable = input('Enter a word: ')\n",
            "    print('Variable introducida: ', variable)\n",
            "    # numero_calle = whichever_list[0]\n",
            "    \n",
            "    numero_calle_mayor = 0\n",
            "    for elem in whichever_list:\n",
            "        if type(elem) == int and elem > numero_calle_mayor:\n",
            "            numero_calle_mayor = elem\n",
            "    print('Concatenar dirección', variable + str(numero_calle_mayor))\n",
            "f_s_for(info_list)\n",
            "def f_s_for(whichever_list):\n",
            "    variable = input('Enter a word: ')\n",
            "    print('Variable introducida: ', variable)\n",
            "    # numero_calle = whichever_list[0]\n",
            "    \n",
            "    numero_calle_mayor = 0\n",
            "    for elem in whichever_list:\n",
            "        if elem > numero_calle_mayor and type(elem) == int:\n",
            "            numero_calle_mayor = elem\n",
            "    print('Concatenar dirección', variable + str(numero_calle_mayor))\n",
            "f_s_for(info_list)\n",
            "def f_s_for(whichever_list):\n",
            "    variable = input('Enter a word: ')\n",
            "    print('Variable introducida: ', variable)\n",
            "    # numero_calle = whichever_list[0]\n",
            "    \n",
            "    numero_calle_mayor = 0\n",
            "    for elem in whichever_list:\n",
            "        if type(elem) == int and elem > numero_calle_mayor:\n",
            "            numero_calle_mayor = elem\n",
            "    print('Concatenar dirección', variable + str(numero_calle_mayor))\n",
            "f_s_for(info_list)\n",
            "In[0]\n",
            "In[1]\n",
            "history\n"
          ]
        }
      ],
      "metadata": {}
    },
    {
      "cell_type": "code",
      "execution_count": 21,
      "source": [
        "f_s_for(info_list)"
      ],
      "outputs": [
        {
          "output_type": "stream",
          "name": "stdout",
          "text": [
            "Variable introducida:  nothing\n",
            "Concatenar dirección nothing49\n"
          ]
        }
      ],
      "metadata": {}
    },
    {
      "cell_type": "code",
      "execution_count": 13,
      "source": [
        "f_s(info_list)"
      ],
      "outputs": [
        {
          "output_type": "stream",
          "name": "stdout",
          "text": [
            "Variable introducida:  nothing\n",
            "Concatenar dirección nothing49\n"
          ]
        }
      ],
      "metadata": {}
    },
    {
      "cell_type": "markdown",
      "source": [
        "2. Create a list `list_aux` with 7 elements, whichever you want. Next, create a function `function_use_f_s` which receives as parameters a function `some_function`, a word which is the argument of `some_funtion` and whichever list `whichever_list`. If the value of `some_function` is **True**, then delete an item from `whichever_list`. Repeat the process until `whichever_list` has no elements. The argument for `whichever_list` must be `list_aux` and for `some_function` it will be the function `f_s` from the previous point. In this case, it is inside the `function_use_f_s` where you have to call to `some_function`, that is `f_s` really. \r\n"
      ],
      "metadata": {
        "id": "sWiJ1fCFQCWj"
      }
    },
    {
      "cell_type": "code",
      "execution_count": 116,
      "source": [
        "def function_use_f_s(some_function, word, whichever_list):\r\n",
        "    #word is the argument for the parameter \"some_function\"    \r\n",
        "    while len(whichever_list) > 0:\r\n",
        "        if some_function(whichever_list, word):\r\n",
        "            whichever_list.pop()\r\n",
        "        print(whichever_list)\r\n",
        "\r\n",
        "function_use_f_s(some_function=f_s, word=\"juan\", whichever_list=list_aux)\r\n"
      ],
      "outputs": [
        {
          "output_type": "stream",
          "name": "stdout",
          "text": [
            "Variable introducida:  juan\n",
            "Concatenar dirección juan15\n",
            "Imprimir la condición True\n",
            "[15, 'Recoletos', True, ['Recoletos', 15], None, '8']\n",
            "Variable introducida:  juan\n",
            "Concatenar dirección juan15\n",
            "Imprimir la condición True\n",
            "[15, 'Recoletos', True, ['Recoletos', 15], None]\n",
            "Variable introducida:  juan\n",
            "Concatenar dirección juan15\n",
            "Imprimir la condición True\n",
            "[15, 'Recoletos', True, ['Recoletos', 15]]\n",
            "Variable introducida:  juan\n",
            "Concatenar dirección juan15\n",
            "Imprimir la condición True\n",
            "[15, 'Recoletos', True]\n",
            "Variable introducida:  juan\n",
            "Concatenar dirección juan15\n",
            "Imprimir la condición True\n",
            "[15, 'Recoletos']\n",
            "Variable introducida:  juan\n",
            "Concatenar dirección juan15\n",
            "Imprimir la condición True\n",
            "[15]\n",
            "Variable introducida:  juan\n",
            "Concatenar dirección juan15\n",
            "Imprimir la condición True\n",
            "[]\n"
          ]
        }
      ],
      "metadata": {}
    },
    {
      "cell_type": "code",
      "execution_count": 123,
      "source": [
        "def function_use_f_s(some_function, word, whichever_list):\r\n",
        "    #word is the argument for the parameter \"some_function\"\r\n",
        "    contador = 0\r\n",
        "    # copia_lista = whichever_list.copy()\r\n",
        "    longitud = len(whichever_list)\r\n",
        "    while contador < longitud:\r\n",
        "        if some_function(whichever_list, word):\r\n",
        "            whichever_list.pop()\r\n",
        "        print(whichever_list)\r\n",
        "        contador = contador + 1\r\n",
        "\r\n",
        "function_use_f_s(some_function=f_s, word=\"juan\", whichever_list=list_aux)\r\n"
      ],
      "outputs": [
        {
          "output_type": "stream",
          "name": "stdout",
          "text": [
            "Variable introducida:  juan\n",
            "Concatenar dirección juan15\n",
            "Imprimir la condición True\n",
            "[15, 'Recoletos', True, ['Recoletos', 15], None, '8']\n",
            "Variable introducida:  juan\n",
            "Concatenar dirección juan15\n",
            "Imprimir la condición True\n",
            "[15, 'Recoletos', True, ['Recoletos', 15], None]\n",
            "Variable introducida:  juan\n",
            "Concatenar dirección juan15\n",
            "Imprimir la condición True\n",
            "[15, 'Recoletos', True, ['Recoletos', 15]]\n",
            "Variable introducida:  juan\n",
            "Concatenar dirección juan15\n",
            "Imprimir la condición True\n",
            "[15, 'Recoletos', True]\n",
            "Variable introducida:  juan\n",
            "Concatenar dirección juan15\n",
            "Imprimir la condición True\n",
            "[15, 'Recoletos']\n",
            "Variable introducida:  juan\n",
            "Concatenar dirección juan15\n",
            "Imprimir la condición True\n",
            "[15]\n",
            "Variable introducida:  juan\n",
            "Concatenar dirección juan15\n",
            "Imprimir la condición True\n",
            "[]\n"
          ]
        }
      ],
      "metadata": {
        "id": "uWefb3_IQCWj"
      }
    },
    {
      "cell_type": "code",
      "execution_count": 122,
      "source": [
        "list_aux = [15,'Recoletos',  True, ['Recoletos', 15],  None, '8',23] "
      ],
      "outputs": [],
      "metadata": {}
    },
    {
      "cell_type": "code",
      "execution_count": 99,
      "source": [
        "def f_s(whichever_list, word):\r\n",
        "    print('Variable introducida: ', word)\r\n",
        "    concatenada = word + str(whichever_list[0])\r\n",
        "    print('Concatenar dirección', concatenada)\r\n",
        "    print('Imprimir la condición', len(concatenada) == 6)\r\n",
        "    return len(concatenada) == 6"
      ],
      "outputs": [],
      "metadata": {}
    },
    {
      "cell_type": "code",
      "execution_count": null,
      "source": [
        "def f_s(whichever_list):\r\n",
        "    word = input('Enter a word: ')\r\n",
        "    print('Variable introducida: ', word)\r\n",
        "    concatenada = word + str(whichever_list[0])\r\n",
        "    print('Concatenar dirección', concatenada)\r\n",
        "    print('Imprimir la condición', len(concatenada) == 6)\r\n",
        "    return len(concatenada) == 6"
      ],
      "outputs": [],
      "metadata": {}
    },
    {
      "cell_type": "code",
      "execution_count": 105,
      "source": [
        "f_s(list_aux, \"juan\")"
      ],
      "outputs": [
        {
          "output_type": "stream",
          "name": "stdout",
          "text": [
            "Variable introducida:  juan\n",
            "Concatenar dirección juan15\n",
            "Imprimir la condición True\n"
          ]
        },
        {
          "output_type": "execute_result",
          "data": {
            "text/plain": [
              "True"
            ]
          },
          "metadata": {},
          "execution_count": 105
        }
      ],
      "metadata": {}
    },
    {
      "cell_type": "markdown",
      "source": [
        "3. Define a function `even_numbers` that has an input parameter `arg1`, type integer. The function must return a list of numbers of size `arg1`, all of them being even numbers. \n",
        "\n",
        "   Don't use the function `print()` inside the function, but print what `even_numbers` returns when calling it with the argument `10`, just to check your function works.\n",
        "   \n",
        "```python\n",
        "print(even_numbers(10))\n",
        "```"
      ],
      "metadata": {
        "id": "runaeW2NQCWj"
      }
    },
    {
      "cell_type": "code",
      "execution_count": null,
      "source": [],
      "outputs": [],
      "metadata": {
        "id": "e69Z5a_DQCWj"
      }
    },
    {
      "cell_type": "markdown",
      "source": [
        "4. Create a function that has an input variable `arg1`, which will be the list of even numbers from the previous section, and that removes elements from the list, one by one, if `arg1` has a size divisible by 2 and, if not, it adds just once, the value of the function `f_s` that should be a boolean (`True` or `False`).\n"
      ],
      "metadata": {
        "id": "TmzovHq8QCWj"
      }
    },
    {
      "cell_type": "code",
      "execution_count": null,
      "source": [],
      "outputs": [],
      "metadata": {
        "id": "Q_HvXwiYQCWk"
      }
    },
    {
      "cell_type": "markdown",
      "source": [
        "!['nicetry'](https://i.pinimg.com/originals/36/ab/81/36ab81cd8d63cf7c4a08f39403698c77.jpg)"
      ],
      "metadata": {
        "id": "KFXb95snQCWk"
      }
    }
  ]
}