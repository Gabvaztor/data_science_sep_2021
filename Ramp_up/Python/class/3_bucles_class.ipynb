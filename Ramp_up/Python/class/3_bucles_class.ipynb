{
 "cells": [
  {
   "cell_type": "markdown",
   "source": [
    "# Apartado 3 - Bucles"
   ],
   "metadata": {}
  },
  {
   "cell_type": "markdown",
   "source": [
    "- Iteraciones | `for`\n",
    "- `range` & `enumerate`\n",
    "- `while`\n",
    "- `break` & `continue`"
   ],
   "metadata": {}
  },
  {
   "cell_type": "markdown",
   "source": [
    "--------------------------------------------------------------------------------------"
   ],
   "metadata": {}
  },
  {
   "cell_type": "code",
   "execution_count": 1,
   "source": [
    "# Iteración\r\n",
    "# Bucle\r\n",
    "# posición | índice\r\n",
    "# contador\r\n",
    "# valor de elemento\r\n",
    "\r\n",
    "# Los bucles for se utilizan para recorrer una colección \r\n",
    "\r\n",
    "l = [\"A\", \"B\", 2, 4]\r\n",
    "\r\n",
    "print(l[0])\r\n",
    "print(l[1])\r\n",
    "print(l[2])\r\n",
    "print(l[3])\r\n"
   ],
   "outputs": [
    {
     "output_type": "stream",
     "name": "stdout",
     "text": [
      "A\n",
      "B\n",
      "2\n",
      "4\n"
     ]
    }
   ],
   "metadata": {}
  },
  {
   "cell_type": "code",
   "execution_count": 6,
   "source": [
    "# Hay 3 tipos de for (recorren por el valor del elemento):\r\n",
    "# for in --> recorre por valor del elemento\r\n",
    "# for range  --> recorren por el valor del elemento y posición\r\n",
    "# for enumerate  --> recorren por valor y posición del elemento\r\n",
    "\r\n",
    "lista = [\"A\", \"B\", 2, 4]\r\n",
    "for valor_elem in lista:\r\n",
    "    print(\"------\")\r\n",
    "    print(valor_elem)\r\n",
    "print(\"END\")\r\n",
    "\r\n"
   ],
   "outputs": [
    {
     "output_type": "stream",
     "name": "stdout",
     "text": [
      "------\n",
      "A\n",
      "------\n",
      "B\n",
      "------\n",
      "2\n",
      "------\n",
      "4\n",
      "END\n"
     ]
    }
   ],
   "metadata": {}
  },
  {
   "cell_type": "code",
   "execution_count": 8,
   "source": [
    "lista_edades = [80, 25, 2, 40]\r\n",
    "for edad in lista_edades:\r\n",
    "    print(\"------\")\r\n",
    "    print(\"La edad es:\", edad)\r\n",
    "print(\"END\")"
   ],
   "outputs": [
    {
     "output_type": "stream",
     "name": "stdout",
     "text": [
      "------\n",
      "La edad es: 80\n",
      "------\n",
      "La edad es: 25\n",
      "------\n",
      "La edad es: 2\n",
      "------\n",
      "La edad es: 40\n",
      "END\n"
     ]
    }
   ],
   "metadata": {}
  },
  {
   "cell_type": "code",
   "execution_count": 9,
   "source": [
    "student_list = [(\"Gabriel Vázquez\", 29, 1.75), (\"Leonardo Sánchez\", 24, 1.82), (\"Piero Termini\", 25, 1.71), (\"Marta Buesa\", 35, 1.66), (\"Silvia Pasinato\", 37, 1.63), (\"Faro Zamani\", 29, 1.90), ('Miguel Nievas', 27, 1.80), (\"Alejandro Medina\", 28, 1.70), (\"Cristina Martínez\", 32, 1.60), (\"Francisco Palma\", 36, 1.74), (\"Jorge Duque\", 45, 1.72), (\"Jesús Llanes\", 41, 1.65), (\"Luis Pech\", 18, 1.71), (\"Marta Gómez\", 30, 1.65), (\"Jennifer Sanchez\", 40, 1.60), (\"Diego Isla\", 39, 1.80), (\"Nuria Brocar\", 35, 1.75), (\"Antonio Campaña\", 23, 1.77), (\"Isabella Schindowski\", 34, 1.60), (\"Juan Maniglia\", 32, 1.75), (\"David Suárez\", 27, 1.70), (\"Antonio Jiménez\", 34, 1.80), (\"Carlos Hernández\", 27, 1.77), (\"Erik Urresta\", 28, 1.70), (\"Marcos Lobo\", 35, 1.80), (\"Natalia Fernandez\", 31, 1.70)] "
   ],
   "outputs": [],
   "metadata": {}
  },
  {
   "cell_type": "code",
   "execution_count": 10,
   "source": [
    "len(student_list)"
   ],
   "outputs": [
    {
     "output_type": "execute_result",
     "data": {
      "text/plain": [
       "26"
      ]
     },
     "metadata": {},
     "execution_count": 10
    }
   ],
   "metadata": {}
  },
  {
   "cell_type": "code",
   "execution_count": 11,
   "source": [
    "for informacion_persona in student_list:\r\n",
    "    print(informacion_persona)"
   ],
   "outputs": [
    {
     "output_type": "stream",
     "name": "stdout",
     "text": [
      "('Gabriel Vázquez', 29, 1.75)\n",
      "('Leonardo Sánchez', 24, 1.82)\n",
      "('Piero Termini', 25, 1.71)\n",
      "('Marta Buesa', 35, 1.66)\n",
      "('Silvia Pasinato', 37, 1.63)\n",
      "('Faro Zamani', 29, 1.9)\n",
      "('Miguel Nievas', 27, 1.8)\n",
      "('Alejandro Medina', 28, 1.7)\n",
      "('Cristina Martínez', 32, 1.6)\n",
      "('Francisco Palma', 36, 1.74)\n",
      "('Jorge Duque', 45, 1.72)\n",
      "('Jesús Llanes', 41, 1.65)\n",
      "('Luis Pech', 18, 1.71)\n",
      "('Marta Gómez', 30, 1.65)\n",
      "('Jennifer Sanchez', 40, 1.6)\n",
      "('Diego Isla', 39, 1.8)\n",
      "('Nuria Brocar', 35, 1.75)\n",
      "('Antonio Campaña', 23, 1.77)\n",
      "('Isabella Schindowski', 34, 1.6)\n",
      "('Juan Maniglia', 32, 1.75)\n",
      "('David Suárez', 27, 1.7)\n",
      "('Antonio Jiménez', 34, 1.8)\n",
      "('Carlos Hernández', 27, 1.77)\n",
      "('Erik Urresta', 28, 1.7)\n",
      "('Marcos Lobo', 35, 1.8)\n",
      "('Natalia Fernandez', 31, 1.7)\n"
     ]
    }
   ],
   "metadata": {}
  },
  {
   "cell_type": "code",
   "execution_count": 12,
   "source": [
    "# media = suma de todos / cantidad de elementos\r\n",
    "\r\n",
    "# Mostrar todas las edades\r\n",
    "for tupla_persona in student_list:\r\n",
    "    print(tupla_persona[1])"
   ],
   "outputs": [
    {
     "output_type": "stream",
     "name": "stdout",
     "text": [
      "29\n",
      "24\n",
      "25\n",
      "35\n",
      "37\n",
      "29\n",
      "27\n",
      "28\n",
      "32\n",
      "36\n",
      "45\n",
      "41\n",
      "18\n",
      "30\n",
      "40\n",
      "39\n",
      "35\n",
      "23\n",
      "34\n",
      "32\n",
      "27\n",
      "34\n",
      "27\n",
      "28\n",
      "35\n",
      "31\n"
     ]
    }
   ],
   "metadata": {}
  },
  {
   "cell_type": "code",
   "execution_count": 14,
   "source": [
    "x = 1"
   ],
   "outputs": [],
   "metadata": {}
  },
  {
   "cell_type": "code",
   "execution_count": 37,
   "source": [
    "x = x + 1\r\n",
    "print(x)"
   ],
   "outputs": [
    {
     "output_type": "stream",
     "name": "stdout",
     "text": [
      "24\n"
     ]
    }
   ],
   "metadata": {}
  },
  {
   "cell_type": "code",
   "execution_count": 46,
   "source": [
    "frutas = [\"pera\", \"manzana\", \"platano\"]\r\n",
    "\r\n",
    "for fruta in frutas:\r\n",
    "    print(\"----------\")\r\n",
    "    print(fruta)\r\n",
    "    if fruta == \"manzana\":\r\n",
    "        print(fruta)"
   ],
   "outputs": [
    {
     "output_type": "stream",
     "name": "stdout",
     "text": [
      "----------\n",
      "pera\n",
      "----------\n",
      "manzana\n",
      "manzana\n",
      "----------\n",
      "platano\n"
     ]
    }
   ],
   "metadata": {}
  },
  {
   "cell_type": "code",
   "execution_count": 48,
   "source": [
    "frutas = [\"pera\", \"manzana\", \"platano\"]\r\n",
    "\r\n",
    "for fruta in frutas:\r\n",
    "    if fruta == \"pera\" or fruta == \"platano\":\r\n",
    "        print(fruta)\r\n",
    "    else:\r\n",
    "        print(\"Entonces es una manzana\")"
   ],
   "outputs": [
    {
     "output_type": "stream",
     "name": "stdout",
     "text": [
      "pera\n",
      "Entonces es una manzana\n",
      "platano\n"
     ]
    }
   ],
   "metadata": {}
  },
  {
   "cell_type": "code",
   "execution_count": 49,
   "source": [
    "frutas = [\"pera\", \"manzana\", \"platano\"]\r\n",
    "\r\n",
    "for fruta in frutas:\r\n",
    "    if fruta != \"manzana\":\r\n",
    "        print(fruta)"
   ],
   "outputs": [
    {
     "output_type": "stream",
     "name": "stdout",
     "text": [
      "pera\n",
      "platano\n"
     ]
    }
   ],
   "metadata": {}
  },
  {
   "cell_type": "code",
   "execution_count": 51,
   "source": [
    "# Los que empiezan por la letra 'p'\r\n",
    "frutas = [\"pera\", \"manzana\", \"platano\"]\r\n",
    "\r\n",
    "for fruta in frutas:  # fruta es el VALOR DEL ELEMENTO\r\n",
    "    if fruta[0] == \"p\":  # primer caracter es p\r\n",
    "        print(fruta)"
   ],
   "outputs": [
    {
     "output_type": "stream",
     "name": "stdout",
     "text": [
      "p\n",
      "pera\n",
      "m\n",
      "p\n",
      "platano\n"
     ]
    }
   ],
   "metadata": {}
  },
  {
   "cell_type": "code",
   "execution_count": 42,
   "source": [
    "# media = suma de todos / cantidad de elementos\r\n",
    "\r\n",
    "suma_de_edades = 0\r\n",
    "# Mostrar todas las edades\r\n",
    "for tupla_persona in student_list:\r\n",
    "    edad = tupla_persona[1]\r\n",
    "    suma_de_edades += edad\r\n",
    "    #print(\"suma_de_edades:\", suma_de_edades)\r\n",
    "\r\n",
    "numero_personas_clase = len(student_list)\r\n",
    "media_edades = suma_de_edades / numero_personas_clase\r\n",
    "print(\"suma_de_edades:\", suma_de_edades)\r\n",
    "print(\"numero_personas_clase:\", numero_personas_clase)\r\n",
    "print(\"media_edades:\", media_edades)"
   ],
   "outputs": [
    {
     "output_type": "stream",
     "name": "stdout",
     "text": [
      "suma_de_edades: 821\n",
      "numero_personas_clase: 26\n",
      "media_edades: 31.576923076923077\n"
     ]
    }
   ],
   "metadata": {}
  },
  {
   "cell_type": "markdown",
   "source": [
    "## Iteraciones | bucle `for`"
   ],
   "metadata": {}
  },
  {
   "cell_type": "code",
   "execution_count": null,
   "source": [
    "lista = [\"red\", 2, \"blue\", 4.0]\r\n",
    "lista2 = [2, 4, 6, 8, 10, 12, 9518591859]\r\n",
    "\r\n",
    "for x in lista2:\r\n",
    "    if x > 6:\r\n",
    "        print(x)\r\n",
    "    elif x == 6:\r\n",
    "        print(x)\r\n",
    "    elif x == 4:\r\n",
    "        lista2.append(x)\r\n",
    "\r\n",
    "lista2"
   ],
   "outputs": [],
   "metadata": {}
  },
  {
   "cell_type": "code",
   "execution_count": null,
   "source": [
    "lista = [\"Red\", \"GabriXel\", \"Blue\", 2]\r\n",
    "\r\n",
    "for gato in lista:\r\n",
    "    if gato == \"GabriXel\":\r\n",
    "        print(gato[5])"
   ],
   "outputs": [],
   "metadata": {}
  },
  {
   "cell_type": "code",
   "execution_count": null,
   "source": [
    "# Sacar del elemento 2 la posición 5.\n",
    "# Es String\n",
    "lista = [\"Red\", \"GabriXel\", \"Blue\", 2]\n",
    "\n",
    "for gato in lista:\n",
    "    if gato == lista[1]:\n",
    "        print(gato[5])"
   ],
   "outputs": [],
   "metadata": {}
  },
  {
   "cell_type": "code",
   "execution_count": null,
   "source": [
    "# Mostrar la iteración del for\n",
    "# Es String\n",
    "lista = [\"Red\", \"GabriXel\", \"Blue\", 2]\n",
    "\n",
    "count = 1\n",
    "for gato in lista:\n",
    "    if count == 2:\n",
    "        print(gato[5])\n",
    "    print(count)\n",
    "    count += 1"
   ],
   "outputs": [],
   "metadata": {}
  },
  {
   "cell_type": "code",
   "execution_count": null,
   "source": [
    "players = ['charles', 'martina', 'michael', 'florence', 'eli'] \n",
    "\n",
    "print(\"Here are the first three players on my team:\")\n",
    "for player in players[:3]:\n",
    "    print(player.title())"
   ],
   "outputs": [],
   "metadata": {}
  },
  {
   "cell_type": "code",
   "execution_count": null,
   "source": [
    "dimensions = (200, 50)\n",
    "for dimension in dimensions:\n",
    "    print(dimension)"
   ],
   "outputs": [],
   "metadata": {}
  },
  {
   "cell_type": "code",
   "execution_count": null,
   "source": [
    "lista = [1, 3, \"5\", 8]\n",
    "\n",
    "lista[2] = \"X\"\n",
    "lista"
   ],
   "outputs": [],
   "metadata": {}
  },
  {
   "cell_type": "markdown",
   "source": [
    "`for` dictionaries"
   ],
   "metadata": {}
  },
  {
   "cell_type": "code",
   "execution_count": null,
   "source": [
    "for elem in diccionario:\n",
    "    print(\"Claves:\", elem)"
   ],
   "outputs": [],
   "metadata": {}
  },
  {
   "cell_type": "code",
   "execution_count": null,
   "source": [
    "for elem in diccionario.values():\n",
    "    print(elem)"
   ],
   "outputs": [],
   "metadata": {}
  },
  {
   "cell_type": "code",
   "execution_count": null,
   "source": [
    "for elem in diccionario.keys():\n",
    "    print(elem)"
   ],
   "outputs": [],
   "metadata": {}
  },
  {
   "cell_type": "code",
   "execution_count": null,
   "source": [
    "diccionario"
   ],
   "outputs": [],
   "metadata": {}
  },
  {
   "cell_type": "code",
   "execution_count": null,
   "source": [
    "for maria, alba in diccionario.items():\n",
    "    print(\"k:\", maria)\n",
    "    print(\"v:\", alba)\n",
    "    print(\"-----------------\")"
   ],
   "outputs": [],
   "metadata": {}
  },
  {
   "cell_type": "code",
   "execution_count": null,
   "source": [
    "for k, v in diccionario.items():\n",
    "    print(\"k\", k)\n",
    "    print(\"v\", v)\n",
    "    if k == \"dict\":\n",
    "        for x, y in v.items():\n",
    "            print(\"x\", x)\n",
    "            print(\"y\", y)\n",
    "    print(\"-------------\")"
   ],
   "outputs": [],
   "metadata": {}
  },
  {
   "cell_type": "markdown",
   "source": [
    "--------------------------------------------------------------------------------------"
   ],
   "metadata": {}
  },
  {
   "cell_type": "markdown",
   "source": [
    "## `range` & `enumerate`"
   ],
   "metadata": {}
  },
  {
   "cell_type": "code",
   "execution_count": null,
   "source": [
    "lista = [\"Pepito\", \"Lorenzo\", \"Juan\", \"Laura\", \"Alicia\", \"Mónica\"]\n",
    "\n",
    "for x in lista:\n",
    "    print(x)"
   ],
   "outputs": [],
   "metadata": {}
  },
  {
   "cell_type": "code",
   "execution_count": null,
   "source": [
    "lista"
   ],
   "outputs": [],
   "metadata": {}
  },
  {
   "cell_type": "code",
   "execution_count": null,
   "source": [
    "tamano_lista = len(lista)\n",
    "for x in range(tamano_lista):\n",
    "    print(\"x:\", x)\n",
    "    print(\"elem:\", lista[x])\n",
    "    print(\"-------------\")"
   ],
   "outputs": [],
   "metadata": {}
  },
  {
   "cell_type": "code",
   "execution_count": null,
   "source": [
    "for x in enumerate(lista):\n",
    "    print(x)"
   ],
   "outputs": [],
   "metadata": {}
  },
  {
   "cell_type": "code",
   "execution_count": null,
   "source": [
    "for pos, elem in enumerate(lista):\n",
    "    print(\"pos:\", pos)\n",
    "    print(\"elem:\", elem)\n",
    "    print(\"-------------\")"
   ],
   "outputs": [],
   "metadata": {}
  },
  {
   "cell_type": "code",
   "execution_count": 1,
   "source": [
    "ol = ['Pepito', 'Lorenzo', [6, 8], 'Laura', 'Alicia', 'Mónica']\n",
    "\n",
    "ol[2][1]"
   ],
   "outputs": [
    {
     "output_type": "execute_result",
     "data": {
      "text/plain": [
       "8"
      ]
     },
     "metadata": {},
     "execution_count": 1
    }
   ],
   "metadata": {}
  },
  {
   "cell_type": "code",
   "execution_count": null,
   "source": [
    "for i, x in enumerate(ol):\n",
    "    if i == 2:\n",
    "        print(x[1])"
   ],
   "outputs": [],
   "metadata": {}
  },
  {
   "cell_type": "code",
   "execution_count": null,
   "source": [
    "x = 2\n",
    "print(isinstance(x, int))"
   ],
   "outputs": [],
   "metadata": {}
  },
  {
   "cell_type": "code",
   "execution_count": null,
   "source": [
    "for i, x in enumerate(ol):\n",
    "    print(\"Iteración:\", i+1)\n",
    "    if isinstance(x, list):\n",
    "        print(\"La posición es: \", i)\n",
    "        print(x[1])"
   ],
   "outputs": [],
   "metadata": {}
  },
  {
   "cell_type": "code",
   "execution_count": null,
   "source": [
    "al = ['Pepito', 'Lorenzo', [6, 8], 'Laura', (5, 78), 'Mónica']"
   ],
   "outputs": [],
   "metadata": {}
  },
  {
   "cell_type": "code",
   "execution_count": null,
   "source": [
    "for i, x in enumerate(al):\n",
    "    print(\"Iteración:\", i+1)\n",
    "    if isinstance(x, (list, tuple)):\n",
    "        print(\"Se cumple\")\n",
    "        print(\"La posición es: \", i)\n",
    "        print(x[1])\n",
    "        break\n",
    "    print(\"---------------\")"
   ],
   "outputs": [],
   "metadata": {}
  },
  {
   "cell_type": "code",
   "execution_count": null,
   "source": [
    "j = range(15)\n",
    "print(type(j))\n",
    "j"
   ],
   "outputs": [],
   "metadata": {}
  },
  {
   "cell_type": "code",
   "execution_count": null,
   "source": [
    "k = list(range(15))\n",
    "k"
   ],
   "outputs": [],
   "metadata": {}
  },
  {
   "cell_type": "markdown",
   "source": [
    "--------------------------------------------------------------------------------------"
   ],
   "metadata": {}
  },
  {
   "cell_type": "markdown",
   "source": [
    "## bucle `while`"
   ],
   "metadata": {}
  },
  {
   "cell_type": "code",
   "execution_count": 7,
   "source": [
    "l = \"dija\"\n",
    "acum = 0\n",
    "for i in l:\n",
    "    acum = acum + 1\n",
    "    print(i, acum)"
   ],
   "outputs": [
    {
     "output_type": "stream",
     "name": "stdout",
     "text": [
      "d 1\n",
      "i 2\n",
      "j 3\n",
      "a 4\n"
     ]
    }
   ],
   "metadata": {}
  },
  {
   "cell_type": "code",
   "execution_count": 8,
   "source": [
    "l = \"dija\"\n",
    "acum = 1\n",
    "for i in l:\n",
    "    print(i, acum)\n",
    "    acum = acum + 1"
   ],
   "outputs": [
    {
     "output_type": "stream",
     "name": "stdout",
     "text": [
      "d 1\n",
      "i 2\n",
      "j 3\n",
      "a 4\n"
     ]
    }
   ],
   "metadata": {}
  },
  {
   "cell_type": "code",
   "execution_count": 9,
   "source": [
    "acum = 0\n",
    "while acum < 5:\n",
    "    print(\"Iteración: \", acum + 1)\n",
    "    acum += 1"
   ],
   "outputs": [
    {
     "output_type": "stream",
     "name": "stdout",
     "text": [
      "Iteración:  1\n",
      "Iteración:  2\n",
      "Iteración:  3\n",
      "Iteración:  4\n",
      "Iteración:  5\n"
     ]
    }
   ],
   "metadata": {}
  },
  {
   "cell_type": "code",
   "execution_count": 12,
   "source": [
    "lista = [2, 4, 5, \"Yo\"]\n",
    "l = [], None, 0, False\n",
    "while len(lista)==4:\n",
    "    print(\"K\")\n",
    "    lista.pop(1)"
   ],
   "outputs": [
    {
     "output_type": "stream",
     "name": "stdout",
     "text": [
      "K\n"
     ]
    }
   ],
   "metadata": {}
  },
  {
   "cell_type": "code",
   "execution_count": 14,
   "source": [
    "lista[0]\n",
    "lista[1]\n",
    "lista[2]"
   ],
   "outputs": [
    {
     "output_type": "execute_result",
     "data": {
      "text/plain": [
       "'Yo'"
      ]
     },
     "metadata": {},
     "execution_count": 14
    }
   ],
   "metadata": {}
  },
  {
   "cell_type": "code",
   "execution_count": 15,
   "source": [
    "lista = [2, 4, 5, \"Yo\"]\n",
    "for x in lista:\n",
    "    print(x)"
   ],
   "outputs": [
    {
     "output_type": "stream",
     "name": "stdout",
     "text": [
      "2\n",
      "4\n",
      "5\n",
      "Yo\n"
     ]
    }
   ],
   "metadata": {}
  },
  {
   "cell_type": "code",
   "execution_count": 16,
   "source": [
    "lista = [2, 4, 5, \"Yo\"]\n",
    "acum = 0\n",
    "tamano_lista = len(lista)\n",
    "while acum < 4:\n",
    "    print(lista[acum])\n",
    "    acum += 1"
   ],
   "outputs": [
    {
     "output_type": "stream",
     "name": "stdout",
     "text": [
      "2\n",
      "4\n",
      "5\n",
      "Yo\n"
     ]
    }
   ],
   "metadata": {}
  },
  {
   "cell_type": "code",
   "execution_count": 17,
   "source": [
    "lista = [2, 4, 5, \"Yo\"]\n",
    "acum = 0\n",
    "tamano_lista = len(lista)\n",
    "while acum <= tamano_lista:\n",
    "    if acum >= tamano_lista:\n",
    "        print(\"Ha entrado en el break\")\n",
    "        print(\"acum:\", acum)\n",
    "        print(\"tamano_lista\", tamano_lista)\n",
    "        break\n",
    "    print(lista[acum])\n",
    "    print(\"acum:\", acum)\n",
    "    acum += 1\n",
    "    print(\"--------------------\")\n",
    "\n",
    "print(\"Esto está fuera del while\")"
   ],
   "outputs": [
    {
     "output_type": "stream",
     "name": "stdout",
     "text": [
      "2\n",
      "acum: 0\n",
      "--------------------\n",
      "4\n",
      "acum: 1\n",
      "--------------------\n",
      "5\n",
      "acum: 2\n",
      "--------------------\n",
      "Yo\n",
      "acum: 3\n",
      "--------------------\n",
      "Ha entrado en el break\n",
      "acum: 4\n",
      "tamano_lista 4\n",
      "Esto está fuera del while\n"
     ]
    }
   ],
   "metadata": {}
  },
  {
   "cell_type": "code",
   "execution_count": null,
   "source": [
    "acum = 0 \n",
    "if acum < 5:\n",
    "    print(\"Es menor\")"
   ],
   "outputs": [],
   "metadata": {}
  },
  {
   "cell_type": "markdown",
   "source": [
    "--------------------------------------------------------------------------------------"
   ],
   "metadata": {}
  },
  {
   "cell_type": "markdown",
   "source": [
    "## `break` & `continue`"
   ],
   "metadata": {}
  },
  {
   "cell_type": "code",
   "execution_count": 5,
   "source": [
    "lista = [\"alex\", 2, \"gab\", \"l\", \"8\"]\n",
    "for i in lista:\n",
    "    print(i)\n",
    "    if i == \"l\":\n",
    "        break"
   ],
   "outputs": [
    {
     "output_type": "stream",
     "name": "stdout",
     "text": [
      "alex\n",
      "2\n",
      "gab\n",
      "l\n"
     ]
    }
   ],
   "metadata": {}
  },
  {
   "cell_type": "code",
   "execution_count": 6,
   "source": [
    "lista = [\"alex\", \"begoña\", \"gabriel\", \"sara\", \"ataulfo\"]\n",
    "\n",
    "for k in lista:\n",
    "    if k == \"gabriel\":\n",
    "        continue\n",
    "    print(k)"
   ],
   "outputs": [
    {
     "output_type": "stream",
     "name": "stdout",
     "text": [
      "alex\n",
      "begoña\n",
      "sara\n",
      "ataulfo\n"
     ]
    }
   ],
   "metadata": {}
  }
 ],
 "metadata": {
  "kernelspec": {
   "name": "python3",
   "display_name": "Python 3.6.4 64-bit"
  },
  "language_info": {
   "codemirror_mode": {
    "name": "ipython",
    "version": 3
   },
   "file_extension": ".py",
   "mimetype": "text/x-python",
   "name": "python",
   "nbconvert_exporter": "python",
   "pygments_lexer": "ipython3",
   "version": "3.6.4"
  },
  "interpreter": {
   "hash": "e05034a492cd28020b141b637ab43cad260081b164a40cac23ec4809d29fc4bf"
  }
 },
 "nbformat": 4,
 "nbformat_minor": 4
}