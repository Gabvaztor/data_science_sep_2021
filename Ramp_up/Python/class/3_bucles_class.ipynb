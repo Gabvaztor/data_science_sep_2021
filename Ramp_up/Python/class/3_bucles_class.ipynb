{
 "cells": [
  {
   "cell_type": "markdown",
   "source": [
    "# Apartado 3 - Bucles"
   ],
   "metadata": {}
  },
  {
   "cell_type": "markdown",
   "source": [
    "- Iteraciones | `for`\n",
    "- `range` & `enumerate`\n",
    "- `while`\n",
    "- `break` & `continue`"
   ],
   "metadata": {}
  },
  {
   "cell_type": "markdown",
   "source": [
    "--------------------------------------------------------------------------------------"
   ],
   "metadata": {}
  },
  {
   "cell_type": "code",
   "execution_count": null,
   "source": [
    "# for que recorre por valor\r\n",
    "for valor_elem in lista:\r\n",
    "\r\n",
    "# for que recorre por valor y posición\r\n",
    "for pos, valor_elem in enumerate(lista):\r\n",
    "\r\n",
    "# for que recorre por posición y realizar N iteraciones\r\n",
    "for pos in range(len(lista)):\r\n",
    "for pos in range(6):\r\n",
    "\r\n",
    "# for con bandera\r\n",
    "bandera = True\r\n",
    "for elem in lista:\r\n",
    "    if bandera:\r\n",
    "        bandera = False \r\n",
    "\r\n",
    "# for con contador/acumulador\r\n",
    "contador = 0\r\n",
    "for elem in lista:\r\n",
    "    if contador < 2:\r\n",
    "        print(\"El contador es menor a 2\")\r\n",
    "    contador += 1"
   ],
   "outputs": [],
   "metadata": {}
  },
  {
   "cell_type": "code",
   "execution_count": 2,
   "source": [
    "10 % 2 == 0  # Es par si es True\r\n",
    "10 % 2 != 0  # Este número es impar"
   ],
   "outputs": [
    {
     "output_type": "execute_result",
     "data": {
      "text/plain": [
       "True"
      ]
     },
     "metadata": {},
     "execution_count": 2
    }
   ],
   "metadata": {}
  },
  {
   "cell_type": "code",
   "execution_count": 2,
   "source": [
    "for i in range(10):\r\n",
    "    print(1)"
   ],
   "outputs": [
    {
     "output_type": "stream",
     "name": "stdout",
     "text": [
      "1\n",
      "1\n",
      "1\n",
      "1\n",
      "1\n",
      "1\n",
      "1\n",
      "1\n",
      "1\n",
      "1\n"
     ]
    }
   ],
   "metadata": {}
  },
  {
   "cell_type": "code",
   "execution_count": 1,
   "source": [
    "# Iteración\r\n",
    "# Bucle\r\n",
    "# posición | índice\r\n",
    "# contador\r\n",
    "# valor de elemento\r\n",
    "\r\n",
    "# Los bucles for se utilizan para recorrer una colección \r\n",
    "\r\n",
    "l = [\"A\", \"B\", 2, 4]\r\n",
    "\r\n",
    "print(l[0])\r\n",
    "print(l[1])\r\n",
    "print(l[2])\r\n",
    "print(l[3])\r\n"
   ],
   "outputs": [
    {
     "output_type": "stream",
     "name": "stdout",
     "text": [
      "A\n",
      "B\n",
      "2\n",
      "4\n"
     ]
    }
   ],
   "metadata": {}
  },
  {
   "cell_type": "code",
   "execution_count": 6,
   "source": [
    "# Hay 3 tipos de for (recorren por el valor del elemento):\r\n",
    "# for in --> recorre por valor del elemento\r\n",
    "# for range  --> recorren por el valor del elemento y posición\r\n",
    "# for enumerate  --> recorren por valor y posición del elemento\r\n",
    "\r\n",
    "lista = [\"A\", \"B\", 2, 4]\r\n",
    "for valor_elem in lista:  # for in \r\n",
    "    print(\"------\")\r\n",
    "    print(valor_elem)\r\n",
    "print(\"END\")\r\n",
    "\r\n"
   ],
   "outputs": [
    {
     "output_type": "stream",
     "name": "stdout",
     "text": [
      "------\n",
      "A\n",
      "------\n",
      "B\n",
      "------\n",
      "2\n",
      "------\n",
      "4\n",
      "END\n"
     ]
    }
   ],
   "metadata": {}
  },
  {
   "cell_type": "code",
   "execution_count": 8,
   "source": [
    "lista_edades = [80, 25, 2, 40]\r\n",
    "for edad in lista_edades:\r\n",
    "    print(\"------\")\r\n",
    "    print(\"La edad es:\", edad)\r\n",
    "print(\"END\")"
   ],
   "outputs": [
    {
     "output_type": "stream",
     "name": "stdout",
     "text": [
      "------\n",
      "La edad es: 80\n",
      "------\n",
      "La edad es: 25\n",
      "------\n",
      "La edad es: 2\n",
      "------\n",
      "La edad es: 40\n",
      "END\n"
     ]
    }
   ],
   "metadata": {}
  },
  {
   "cell_type": "code",
   "execution_count": 1,
   "source": [
    "lista_edades = [80, 25, 2, 40]\r\n",
    "edad_total = 0  # variable acumulativa que se debe inicializar fuera del bucle para que no pierda su valor a lo largo de las iteraciones\r\n",
    "for edad in lista_edades:\r\n",
    "    edad_total = edad_total + edad\r\n",
    "\r\n",
    "tamano_lista = len(lista_edades)\r\n",
    "media = edad_total / tamano_lista\r\n",
    "print(\"La media es:\", media)\r\n",
    "print(\"END\")\r\n"
   ],
   "outputs": [
    {
     "output_type": "stream",
     "name": "stdout",
     "text": [
      "La media es: 36.75\n",
      "END\n"
     ]
    }
   ],
   "metadata": {}
  },
  {
   "cell_type": "code",
   "execution_count": null,
   "source": [
    "lista_edades = [80, 25, 2, 40]\r\n",
    "se_ha_inicializado = False\r\n",
    "for edad in lista_edades:\r\n",
    "    if se_ha_inicializado == False:  # Mientras 'se_ha_inicializado' sea False, se cumplirá siempre la condición\r\n",
    "        edad_total = 0\r\n",
    "        se_ha_inicializado = True\r\n",
    "    edad_total = edad_total + edad\r\n"
   ],
   "outputs": [],
   "metadata": {}
  },
  {
   "cell_type": "code",
   "execution_count": null,
   "source": [
    "lista_edades = [80, 25, 2, 40]\r\n",
    "pepita = 9\r\n",
    "for edad in lista_edades:\r\n",
    "    if pepita == 9:  # Mientras 'se_ha_inicializado' sea False, se cumplirá siempre la condición\r\n",
    "        edad_total = 0\r\n",
    "        pepita = 5\r\n",
    "    edad_total = edad_total + edad"
   ],
   "outputs": [],
   "metadata": {}
  },
  {
   "cell_type": "code",
   "execution_count": 3,
   "source": [
    "# for in --> por valor del elemento\r\n",
    "lista_edades = [80, 25, 2, 40]\r\n",
    "for i in lista_edades:\r\n",
    "    print(i)"
   ],
   "outputs": [
    {
     "output_type": "stream",
     "name": "stdout",
     "text": [
      "80\n",
      "25\n",
      "2\n",
      "40\n"
     ]
    }
   ],
   "metadata": {}
  },
  {
   "cell_type": "code",
   "execution_count": 7,
   "source": [
    "# for in enumerate --> valor del elemento & la posición del elemento\r\n",
    "\r\n",
    "lista_edades = [80, 25, 2, 40]\r\n",
    "print(lista_edades)\r\n",
    "# (posición del elemento, valor del elemento)\r\n",
    "for (pos, valor_elem) in enumerate(lista_edades):\r\n",
    "    print(\"--------\")\r\n",
    "    print(\"pos:\", pos)\r\n",
    "    print(\"valor_elem:\", valor_elem)"
   ],
   "outputs": [
    {
     "output_type": "stream",
     "name": "stdout",
     "text": [
      "[80, 25, 2, 40]\n",
      "--------\n",
      "pos: 0\n",
      "valor_elem: 80\n",
      "--------\n",
      "pos: 1\n",
      "valor_elem: 25\n",
      "--------\n",
      "pos: 2\n",
      "valor_elem: 2\n",
      "--------\n",
      "pos: 3\n",
      "valor_elem: 40\n"
     ]
    }
   ],
   "metadata": {}
  },
  {
   "cell_type": "code",
   "execution_count": null,
   "source": [
    "lista = [2, 4, 6]\r\n",
    "lista[-1]"
   ],
   "outputs": [],
   "metadata": {}
  },
  {
   "cell_type": "code",
   "execution_count": 12,
   "source": [
    "lista = [2, 4, 7, 2, 4, 7,2, 4, 7,2, 4, 7,2, 4, 7,2, 4, 7,2, 4, 7,2, 4, 7,2, 4, 7,2, 4, 7,2, 4, 7,2, 4, 7,2, 4, 7,2, 4, 7,]\r\n",
    "\r\n",
    "tamano = len(lista)\r\n",
    "print(tamano)\r\n",
    "ultima_posicion = tamano - 1\r\n",
    "print(ultima_posicion)\r\n",
    "print(lista[41])"
   ],
   "outputs": [
    {
     "output_type": "stream",
     "name": "stdout",
     "text": [
      "42\n",
      "41\n",
      "7\n"
     ]
    }
   ],
   "metadata": {}
  },
  {
   "cell_type": "code",
   "execution_count": 13,
   "source": [
    "lista_edades = [80, 25, 2, 40]\r\n",
    "print(lista_edades)\r\n",
    "for (pos, valor_elem) in enumerate(lista_edades):\r\n",
    "    if pos == 3:  # Solo cuando pos = 3 se ejecutará lo de debajo\r\n",
    "        print(\"--------\")\r\n",
    "        print(\"pos:\", pos)\r\n",
    "        print(\"valor_elem:\", valor_elem)"
   ],
   "outputs": [
    {
     "output_type": "stream",
     "name": "stdout",
     "text": [
      "[80, 25, 2, 40]\n",
      "--------\n",
      "pos: 3\n",
      "valor_elem: 40\n"
     ]
    }
   ],
   "metadata": {}
  },
  {
   "cell_type": "code",
   "execution_count": 15,
   "source": [
    "lista_edades = [80, 25, 2, 40, 2]\r\n",
    "print(lista_edades)\r\n",
    "for (pos, valor_elem) in enumerate(lista_edades):\r\n",
    "    if valor_elem == 2:  # Solo cuando pos = 3 se ejecutará lo de debajo\r\n",
    "        print(\"--------\")\r\n",
    "        print(\"pos:\", pos)\r\n",
    "        print(\"valor_elem:\", valor_elem)"
   ],
   "outputs": [
    {
     "output_type": "stream",
     "name": "stdout",
     "text": [
      "[80, 25, 2, 40, 2]\n",
      "--------\n",
      "pos: 2\n",
      "valor_elem: 2\n",
      "--------\n",
      "pos: 4\n",
      "valor_elem: 2\n"
     ]
    }
   ],
   "metadata": {}
  },
  {
   "cell_type": "code",
   "execution_count": 17,
   "source": [
    "lista_edades = [80, 25, 2, 40, 2]\r\n",
    "print(lista_edades)\r\n",
    "for (pos, valor_elem) in enumerate(lista_edades):\r\n",
    "    if valor_elem == 2 and pos == 4:  # Solo cuando pos = 3 se ejecutará lo de debajo\r\n",
    "        print(\"--------\")\r\n",
    "        print(\"pos:\", pos)\r\n",
    "        print(\"valor_elem:\", valor_elem)"
   ],
   "outputs": [
    {
     "output_type": "stream",
     "name": "stdout",
     "text": [
      "(80, 25, 2, 40, 2)\n",
      "--------\n",
      "pos: 4\n",
      "valor_elem: 2\n"
     ]
    }
   ],
   "metadata": {}
  },
  {
   "cell_type": "code",
   "execution_count": 23,
   "source": [
    "x = 4\r\n",
    "print(type(x))\r\n",
    "\r\n",
    "if type(x) == int:  # Se cumple cuando type(x) es un número entero\r\n",
    "    print(1)\r\n",
    "else: \r\n",
    "    print(0)"
   ],
   "outputs": [
    {
     "output_type": "stream",
     "name": "stdout",
     "text": [
      "<class 'int'>\n",
      "1\n"
     ]
    }
   ],
   "metadata": {}
  },
  {
   "cell_type": "code",
   "execution_count": 24,
   "source": [
    "if isinstance(x, (int, float)):  # Se cumple cuando type(x) es un número entero\r\n",
    "    print(1)\r\n",
    "else: \r\n",
    "    print(0)"
   ],
   "outputs": [
    {
     "output_type": "stream",
     "name": "stdout",
     "text": [
      "1\n"
     ]
    }
   ],
   "metadata": {}
  },
  {
   "cell_type": "code",
   "execution_count": 25,
   "source": [
    "lista_ejercicio = [80, 25, 2, 40.6, 2, \"A\"]\r\n",
    "\r\n",
    "# Mostrar todos los elementos cuyo valor es mayor que 25 (con for)\r\n",
    "for pos, valor_elem in enumerate(lista_ejercicio):\r\n",
    "    if type(valor_elem) == int or type(valor_elem) == float:\r\n",
    "        if valor_elem > 25:\r\n",
    "            print(valor_elem)\r\n"
   ],
   "outputs": [
    {
     "output_type": "stream",
     "name": "stdout",
     "text": [
      "80\n",
      "40.6\n"
     ]
    }
   ],
   "metadata": {}
  },
  {
   "cell_type": "code",
   "execution_count": null,
   "source": [
    "lista_ejercicio = [80, 25, 2, 40.6, 2, \"A\"]\r\n",
    "\r\n",
    "# Mostrar todos los elementos cuyo valor es mayor que 25 (con for)\r\n",
    "for valor_elem in lista_ejercicio:\r\n",
    "    if type(valor_elem) == int or type(valor_elem) == float:\r\n",
    "        if valor_elem > 25:\r\n",
    "            print(valor_elem)"
   ],
   "outputs": [],
   "metadata": {}
  },
  {
   "cell_type": "code",
   "execution_count": 37,
   "source": [
    "help(lista.pop)"
   ],
   "outputs": [
    {
     "output_type": "stream",
     "name": "stdout",
     "text": [
      "Help on built-in function pop:\n",
      "\n",
      "pop(...) method of builtins.list instance\n",
      "    L.pop([index]) -> item -- remove and return item at index (default last).\n",
      "    Raises IndexError if list is empty or index is out of range.\n",
      "\n"
     ]
    }
   ],
   "metadata": {}
  },
  {
   "cell_type": "code",
   "execution_count": 35,
   "source": [
    "lista = [\"A\", \"B\"]\r\n",
    "x = lista.pop()\r\n",
    "print(lista)\r\n",
    "print(x)"
   ],
   "outputs": [
    {
     "output_type": "stream",
     "name": "stdout",
     "text": [
      "['A']\n",
      "B\n"
     ]
    }
   ],
   "metadata": {}
  },
  {
   "cell_type": "code",
   "execution_count": 36,
   "source": [
    "lista = [\"A\", \"B\"]\r\n",
    "x = lista.remove(\"B\")\r\n",
    "print(lista)\r\n",
    "print(x)"
   ],
   "outputs": [
    {
     "output_type": "stream",
     "name": "stdout",
     "text": [
      "['A']\n",
      "None\n"
     ]
    }
   ],
   "metadata": {}
  },
  {
   "cell_type": "code",
   "execution_count": 31,
   "source": [
    "a_list = ['ab', 'b', 'B', 'aa', \"A\"]\r\n",
    "a_list.sort()\r\n",
    "print(a_list)"
   ],
   "outputs": [
    {
     "output_type": "stream",
     "name": "stdout",
     "text": [
      "['A', 'B', 'aa', 'ab', 'b']\n"
     ]
    }
   ],
   "metadata": {}
  },
  {
   "cell_type": "code",
   "execution_count": 32,
   "source": [
    "a_list = ['ab', 'b', 'aa']\r\n",
    "sorted_list = sorted(a_list)\r\n",
    "print(sorted_list)"
   ],
   "outputs": [
    {
     "output_type": "stream",
     "name": "stdout",
     "text": [
      "['aa', 'ab', 'b']\n"
     ]
    }
   ],
   "metadata": {}
  },
  {
   "cell_type": "code",
   "execution_count": 40,
   "source": [
    "lista = [\"A\", \"B\", 3]\r\n",
    "for valor_elem in lista:\r\n",
    "    if valor_elem == 3:\r\n",
    "        print(valor_elem)"
   ],
   "outputs": [],
   "metadata": {}
  },
  {
   "cell_type": "code",
   "execution_count": 42,
   "source": [
    "lista = [\"A\", \"B\", 3]\r\n",
    "\r\n",
    "for pos, valor_elem in enumerate(lista):\r\n",
    "    if pos == 1:\r\n",
    "        print(valor_elem)"
   ],
   "outputs": [
    {
     "output_type": "stream",
     "name": "stdout",
     "text": [
      "B\n"
     ]
    }
   ],
   "metadata": {}
  },
  {
   "cell_type": "code",
   "execution_count": 49,
   "source": [
    "# Un número es par cuando el resto de la divisón entre 2 es 0.\r\n",
    "x = 10\r\n",
    "resto_de_la_division = x % 2\r\n",
    "print(resto_de_la_division)"
   ],
   "outputs": [
    {
     "output_type": "stream",
     "name": "stdout",
     "text": [
      "0\n"
     ]
    }
   ],
   "metadata": {}
  },
  {
   "cell_type": "code",
   "execution_count": 54,
   "source": [
    "x = 0\r\n",
    "if (x % 2 == 0):  # Si el número es par\r\n",
    "    print(\"Par\")\r\n",
    "elif (x % 2 != 0):  # el número es impar\r\n",
    "    print(\"Impar\")"
   ],
   "outputs": [
    {
     "output_type": "stream",
     "name": "stdout",
     "text": [
      "Par\n"
     ]
    }
   ],
   "metadata": {}
  },
  {
   "cell_type": "code",
   "execution_count": 55,
   "source": [
    "lista = [99, -8, 3, 1000]\r\n",
    "\r\n",
    "# Solo muestre los elementos en posiciones pares\r\n",
    "for pos, valor_elem in enumerate(lista):\r\n",
    "    if pos % 2 == 0:\r\n",
    "        print(valor_elem)"
   ],
   "outputs": [
    {
     "output_type": "stream",
     "name": "stdout",
     "text": [
      "99\n",
      "3\n"
     ]
    }
   ],
   "metadata": {}
  },
  {
   "cell_type": "code",
   "execution_count": 56,
   "source": [
    "lista = [99, -8, 3, 1000]\r\n",
    "\r\n",
    "# Solo muestre los elementos cuyo valor sea par\r\n",
    "for pos, valor_elem in enumerate(lista):\r\n",
    "    if valor_elem % 2 == 0:\r\n",
    "        print(valor_elem)"
   ],
   "outputs": [
    {
     "output_type": "stream",
     "name": "stdout",
     "text": [
      "-8\n",
      "1000\n"
     ]
    }
   ],
   "metadata": {}
  },
  {
   "cell_type": "code",
   "execution_count": 57,
   "source": [
    "# for in range\r\n",
    "# range necesita un número, no una colección\r\n",
    "\r\n",
    "for i in range(5):\r\n",
    "    print(i)"
   ],
   "outputs": [
    {
     "output_type": "stream",
     "name": "stdout",
     "text": [
      "0\n",
      "1\n",
      "2\n",
      "3\n",
      "4\n"
     ]
    }
   ],
   "metadata": {}
  },
  {
   "cell_type": "code",
   "execution_count": 59,
   "source": [
    "lista = [\"A\", \"B\", \"C\", \"D\", \"E\"]\r\n",
    "\r\n",
    "for i in range(len(lista)):\r\n",
    "    print(i)"
   ],
   "outputs": [
    {
     "output_type": "stream",
     "name": "stdout",
     "text": [
      "0\n",
      "1\n",
      "2\n",
      "3\n",
      "4\n"
     ]
    }
   ],
   "metadata": {}
  },
  {
   "cell_type": "code",
   "execution_count": 62,
   "source": [
    "lista = [\"A\", \"B\", \"C\", \"D\", \"E\"]\r\n",
    "rango = range(5)\r\n",
    "print(list(rango))\r\n",
    "for elem in list(rango):\r\n",
    "    print(elem)"
   ],
   "outputs": [
    {
     "output_type": "stream",
     "name": "stdout",
     "text": [
      "[0, 1, 2, 3, 4]\n",
      "0\n",
      "1\n",
      "2\n",
      "3\n",
      "4\n"
     ]
    }
   ],
   "metadata": {}
  },
  {
   "cell_type": "code",
   "execution_count": 66,
   "source": [
    "lista = [\"A\", \"B\", \"C\", \"D\", \"E\"]\r\n",
    "\r\n",
    "print(list(range(len(lista))))"
   ],
   "outputs": [
    {
     "output_type": "stream",
     "name": "stdout",
     "text": [
      "[0, 1, 2, 3, 4]\n"
     ]
    }
   ],
   "metadata": {}
  },
  {
   "cell_type": "code",
   "execution_count": 65,
   "source": [
    "lista = [\"A\", \"B\", \"C\", \"D\", \"E\"]\r\n",
    "\r\n",
    "for pos in range(len(lista)):\r\n",
    "    print(\"----------\")\r\n",
    "    print(\"pos:\", pos)\r\n",
    "    print(lista[pos])"
   ],
   "outputs": [
    {
     "output_type": "stream",
     "name": "stdout",
     "text": [
      "pos: 0\n",
      "pos: 1\n",
      "pos: 2\n",
      "pos: 3\n",
      "pos: 4\n"
     ]
    }
   ],
   "metadata": {}
  },
  {
   "cell_type": "code",
   "execution_count": 76,
   "source": [
    "lista = [\"A\", \"B\", \"C\", \"D\", \"E\"]\r\n",
    "lista = list(reversed(lista))\r\n",
    "for pos in range(len(lista)):\r\n",
    "    pos_neg = (len(lista) - pos) * -1\r\n",
    "    print(lista[pos_neg]) "
   ],
   "outputs": [
    {
     "output_type": "stream",
     "name": "stdout",
     "text": [
      "E\n",
      "D\n",
      "C\n",
      "B\n",
      "A\n"
     ]
    }
   ],
   "metadata": {}
  },
  {
   "cell_type": "code",
   "execution_count": 81,
   "source": [
    "lista = [\"A\", \"B\", \"C\"]\r\n",
    "#for i in [0, 1, 2, 3, 4, 5, 6, 7]:\r\n",
    "for i in range(len(lista)):\r\n",
    "    print(\"i:\", i)\r\n",
    "    print(lista[i])"
   ],
   "outputs": [
    {
     "output_type": "stream",
     "name": "stdout",
     "text": [
      "i: 0\n",
      "A\n",
      "i: 1\n",
      "B\n",
      "i: 2\n",
      "C\n"
     ]
    }
   ],
   "metadata": {}
  },
  {
   "cell_type": "code",
   "execution_count": null,
   "source": [
    "lista = [\"A\", \"B\", \"C\"]\r\n",
    "for pos, valor_elem in enumerate(lista):\r\n",
    "    if pos == 1:\r\n",
    "        print(\"pos:\", pos)\r\n",
    "        print(lista[pos])"
   ],
   "outputs": [],
   "metadata": {}
  },
  {
   "cell_type": "code",
   "execution_count": null,
   "source": [
    "lista = [\"A\", \"B\", \"C\"]\r\n",
    "for pos in range(len(lista)):\r\n",
    "    if pos == 1:\r\n",
    "        print(\"pos:\", pos)\r\n",
    "        print(lista[pos])"
   ],
   "outputs": [],
   "metadata": {}
  },
  {
   "cell_type": "code",
   "execution_count": 83,
   "source": [
    "lista = [\"A\", \"B\", \"C\"]\r\n",
    "ha_entrado_en_el_for = False\r\n",
    "for elem in lista:\r\n",
    "    print(ha_entrado_en_el_for)\r\n",
    "    if ha_entrado_en_el_for == False:\r\n",
    "        print(\"Esto se ejecuta una vez\")\r\n",
    "        ha_entrado_en_el_for = True\r\n",
    "    print(elem)"
   ],
   "outputs": [
    {
     "output_type": "stream",
     "name": "stdout",
     "text": [
      "False\n",
      "Esto se ejecuta una vez\n",
      "A\n",
      "True\n",
      "B\n",
      "True\n",
      "C\n"
     ]
    }
   ],
   "metadata": {}
  },
  {
   "cell_type": "code",
   "execution_count": 87,
   "source": [
    "lista = [\"A\", \"B\", \"C\"]\r\n",
    "contador = 0\r\n",
    "for elem in lista:\r\n",
    "    if contador < 2:\r\n",
    "        print(\"Se ejecuta\")\r\n",
    "    print(\"contador:\", contador)\r\n",
    "    contador = contador + 1\r\n",
    "    \r\n",
    "\r\n",
    "print(\"contador:\", contador)"
   ],
   "outputs": [
    {
     "output_type": "stream",
     "name": "stdout",
     "text": [
      "Se ejecuta\n",
      "contador: 0\n",
      "Se ejecuta\n",
      "contador: 1\n",
      "contador: 2\n",
      "contador: 3\n"
     ]
    }
   ],
   "metadata": {}
  },
  {
   "cell_type": "code",
   "execution_count": null,
   "source": [
    "# for que recorre por valor\r\n",
    "for valor_elem in lista:\r\n",
    "\r\n",
    "# for que recorre por valor y posición\r\n",
    "for pos, valor_elem in enumerate(lista):\r\n",
    "\r\n",
    "# for que recorre por posición\r\n",
    "for pos in range(len(lista)):\r\n",
    "\r\n",
    "# for con bandera\r\n",
    "bandera = True\r\n",
    "for elem in lista:\r\n",
    "    if bandera:\r\n",
    "        bandera = False \r\n",
    "    \r\n",
    "# for con contador\r\n",
    "contador = 0\r\n",
    "for elem in lista:\r\n",
    "    if contador < 2:\r\n",
    "        print(\"El contador es menor a 2\")\r\n",
    "    contador += 1\r\n"
   ],
   "outputs": [],
   "metadata": {}
  },
  {
   "cell_type": "code",
   "execution_count": 90,
   "source": [
    "lista = [2, 4, 6, 8, 10, 12]\r\n",
    "contador = 0\r\n",
    "for elem in lista:\r\n",
    "    if contador < 2:\r\n",
    "        print(\"El contador es menor a 2\")\r\n",
    "    contador += 1"
   ],
   "outputs": [
    {
     "output_type": "stream",
     "name": "stdout",
     "text": [
      "El contador es menor a 2\n"
     ]
    }
   ],
   "metadata": {}
  },
  {
   "cell_type": "code",
   "execution_count": 92,
   "source": [
    "lista = [2, 4, 6, 8, 10, 12]\r\n",
    "contador = 0\r\n",
    "for elem in lista:\r\n",
    "    if contador >= 2 and contador <= 4:\r\n",
    "        print(elem)\r\n",
    "    contador = contador + 1"
   ],
   "outputs": [],
   "metadata": {}
  },
  {
   "cell_type": "code",
   "execution_count": 99,
   "source": [
    "lista = [2, 4, 6, 8, 10, 12, 14]\r\n",
    "contador = 0\r\n",
    "for valor_elem in lista:\r\n",
    "    if contador <= (len(lista) - 1):  # Mientras el contador sea menor o igual a la última posición \r\n",
    "        print(lista[contador])\r\n",
    "        contador = contador + 2"
   ],
   "outputs": [
    {
     "output_type": "stream",
     "name": "stdout",
     "text": [
      "2\n",
      "6\n",
      "10\n",
      "14\n"
     ]
    }
   ],
   "metadata": {}
  },
  {
   "cell_type": "code",
   "execution_count": 102,
   "source": [
    "lista = [2, 4, 6, 8, 10, 12, 14]\r\n",
    "contador = len(lista) - 1  # contador es la última posición\r\n",
    "for valor_elem in lista:\r\n",
    "    if contador <= (len(lista) - 1):  # Mientras el contador sea menor o igual a la última posición \r\n",
    "        print(\"---------\")\r\n",
    "        print(\"contador:\", contador)\r\n",
    "        print(\"valor_elem:\", lista[contador])\r\n",
    "        contador = contador - 1"
   ],
   "outputs": [
    {
     "output_type": "stream",
     "name": "stdout",
     "text": [
      "---------\n",
      "contador: 6\n",
      "valor_elem: 14\n",
      "---------\n",
      "contador: 5\n",
      "valor_elem: 12\n",
      "---------\n",
      "contador: 4\n",
      "valor_elem: 10\n",
      "---------\n",
      "contador: 3\n",
      "valor_elem: 8\n",
      "---------\n",
      "contador: 2\n",
      "valor_elem: 6\n",
      "---------\n",
      "contador: 1\n",
      "valor_elem: 4\n",
      "---------\n",
      "contador: 0\n",
      "valor_elem: 2\n"
     ]
    }
   ],
   "metadata": {}
  },
  {
   "cell_type": "code",
   "execution_count": 104,
   "source": [
    "lista = [2, 4, 6, 8, 10, 12, 14]\r\n",
    "contador = len(lista) - 1  # contador es la última posición\r\n",
    "for valor_elem in lista:\r\n",
    "    if contador <= (len(lista) - 1):  # Mientras el contador sea menor o igual a la última posición \r\n",
    "        if contador >= 0:\r\n",
    "            print(\"---------\")\r\n",
    "            print(\"contador:\", contador)\r\n",
    "            print(\"valor_elem:\", lista[contador])\r\n",
    "            contador = contador - 2"
   ],
   "outputs": [
    {
     "output_type": "stream",
     "name": "stdout",
     "text": [
      "---------\n",
      "contador: 6\n",
      "valor_elem: 14\n",
      "---------\n",
      "contador: 4\n",
      "valor_elem: 10\n",
      "---------\n",
      "contador: 2\n",
      "valor_elem: 6\n",
      "---------\n",
      "contador: 0\n",
      "valor_elem: 2\n"
     ]
    }
   ],
   "metadata": {}
  },
  {
   "cell_type": "code",
   "execution_count": 68,
   "source": [
    "lista = [\"A\", \"B\", \"C\", \"D\", \"E\"]\r\n",
    "\r\n",
    "for pos in range(5):\r\n",
    "    print(\"----------\")\r\n",
    "    print(\"pos:\", pos)\r\n",
    "    print(lista[pos])"
   ],
   "outputs": [],
   "metadata": {}
  },
  {
   "cell_type": "code",
   "execution_count": 9,
   "source": [
    "student_list = [(\"Gabriel Vázquez\", 29, 1.75), (\"Leonardo Sánchez\", 24, 1.82), (\"Piero Termini\", 25, 1.71), (\"Marta Buesa\", 35, 1.66), (\"Silvia Pasinato\", 37, 1.63), (\"Faro Zamani\", 29, 1.90), ('Miguel Nievas', 27, 1.80), (\"Alejandro Medina\", 28, 1.70), (\"Cristina Martínez\", 32, 1.60), (\"Francisco Palma\", 36, 1.74), (\"Jorge Duque\", 45, 1.72), (\"Jesús Llanes\", 41, 1.65), (\"Luis Pech\", 18, 1.71), (\"Marta Gómez\", 30, 1.65), (\"Jennifer Sanchez\", 40, 1.60), (\"Diego Isla\", 39, 1.80), (\"Nuria Brocar\", 35, 1.75), (\"Antonio Campaña\", 23, 1.77), (\"Isabella Schindowski\", 34, 1.60), (\"Juan Maniglia\", 32, 1.75), (\"David Suárez\", 27, 1.70), (\"Antonio Jiménez\", 34, 1.80), (\"Carlos Hernández\", 27, 1.77), (\"Erik Urresta\", 28, 1.70), (\"Marcos Lobo\", 35, 1.80), (\"Natalia Fernandez\", 31, 1.70)] "
   ],
   "outputs": [],
   "metadata": {}
  },
  {
   "cell_type": "code",
   "execution_count": 10,
   "source": [
    "len(student_list)"
   ],
   "outputs": [
    {
     "output_type": "execute_result",
     "data": {
      "text/plain": [
       "26"
      ]
     },
     "metadata": {},
     "execution_count": 10
    }
   ],
   "metadata": {}
  },
  {
   "cell_type": "code",
   "execution_count": 11,
   "source": [
    "for informacion_persona in student_list:\r\n",
    "    print(informacion_persona)"
   ],
   "outputs": [
    {
     "output_type": "stream",
     "name": "stdout",
     "text": [
      "('Gabriel Vázquez', 29, 1.75)\n",
      "('Leonardo Sánchez', 24, 1.82)\n",
      "('Piero Termini', 25, 1.71)\n",
      "('Marta Buesa', 35, 1.66)\n",
      "('Silvia Pasinato', 37, 1.63)\n",
      "('Faro Zamani', 29, 1.9)\n",
      "('Miguel Nievas', 27, 1.8)\n",
      "('Alejandro Medina', 28, 1.7)\n",
      "('Cristina Martínez', 32, 1.6)\n",
      "('Francisco Palma', 36, 1.74)\n",
      "('Jorge Duque', 45, 1.72)\n",
      "('Jesús Llanes', 41, 1.65)\n",
      "('Luis Pech', 18, 1.71)\n",
      "('Marta Gómez', 30, 1.65)\n",
      "('Jennifer Sanchez', 40, 1.6)\n",
      "('Diego Isla', 39, 1.8)\n",
      "('Nuria Brocar', 35, 1.75)\n",
      "('Antonio Campaña', 23, 1.77)\n",
      "('Isabella Schindowski', 34, 1.6)\n",
      "('Juan Maniglia', 32, 1.75)\n",
      "('David Suárez', 27, 1.7)\n",
      "('Antonio Jiménez', 34, 1.8)\n",
      "('Carlos Hernández', 27, 1.77)\n",
      "('Erik Urresta', 28, 1.7)\n",
      "('Marcos Lobo', 35, 1.8)\n",
      "('Natalia Fernandez', 31, 1.7)\n"
     ]
    }
   ],
   "metadata": {}
  },
  {
   "cell_type": "code",
   "execution_count": 12,
   "source": [
    "# media = suma de todos / cantidad de elementos\r\n",
    "\r\n",
    "# Mostrar todas las edades\r\n",
    "for tupla_persona in student_list:\r\n",
    "    print(tupla_persona[1])"
   ],
   "outputs": [
    {
     "output_type": "stream",
     "name": "stdout",
     "text": [
      "29\n",
      "24\n",
      "25\n",
      "35\n",
      "37\n",
      "29\n",
      "27\n",
      "28\n",
      "32\n",
      "36\n",
      "45\n",
      "41\n",
      "18\n",
      "30\n",
      "40\n",
      "39\n",
      "35\n",
      "23\n",
      "34\n",
      "32\n",
      "27\n",
      "34\n",
      "27\n",
      "28\n",
      "35\n",
      "31\n"
     ]
    }
   ],
   "metadata": {}
  },
  {
   "cell_type": "code",
   "execution_count": 14,
   "source": [
    "x = 1"
   ],
   "outputs": [],
   "metadata": {}
  },
  {
   "cell_type": "code",
   "execution_count": 37,
   "source": [
    "x = x + 1\r\n",
    "print(x)"
   ],
   "outputs": [
    {
     "output_type": "stream",
     "name": "stdout",
     "text": [
      "24\n"
     ]
    }
   ],
   "metadata": {}
  },
  {
   "cell_type": "code",
   "execution_count": 46,
   "source": [
    "frutas = [\"pera\", \"manzana\", \"platano\"]\r\n",
    "\r\n",
    "for fruta in frutas:\r\n",
    "    print(\"----------\")\r\n",
    "    print(fruta)\r\n",
    "    if fruta == \"manzana\":\r\n",
    "        print(fruta)"
   ],
   "outputs": [
    {
     "output_type": "stream",
     "name": "stdout",
     "text": [
      "----------\n",
      "pera\n",
      "----------\n",
      "manzana\n",
      "manzana\n",
      "----------\n",
      "platano\n"
     ]
    }
   ],
   "metadata": {}
  },
  {
   "cell_type": "code",
   "execution_count": 48,
   "source": [
    "frutas = [\"pera\", \"manzana\", \"platano\"]\r\n",
    "\r\n",
    "for fruta in frutas:\r\n",
    "    if fruta == \"pera\" or fruta == \"platano\":\r\n",
    "        print(fruta)\r\n",
    "    else:\r\n",
    "        print(\"Entonces es una manzana\")"
   ],
   "outputs": [
    {
     "output_type": "stream",
     "name": "stdout",
     "text": [
      "pera\n",
      "Entonces es una manzana\n",
      "platano\n"
     ]
    }
   ],
   "metadata": {}
  },
  {
   "cell_type": "code",
   "execution_count": 49,
   "source": [
    "frutas = [\"pera\", \"manzana\", \"platano\"]\r\n",
    "\r\n",
    "for fruta in frutas:\r\n",
    "    if fruta != \"manzana\":\r\n",
    "        print(fruta)"
   ],
   "outputs": [
    {
     "output_type": "stream",
     "name": "stdout",
     "text": [
      "pera\n",
      "platano\n"
     ]
    }
   ],
   "metadata": {}
  },
  {
   "cell_type": "code",
   "execution_count": 51,
   "source": [
    "# Los que empiezan por la letra 'p'\r\n",
    "frutas = [\"pera\", \"manzana\", \"platano\"]\r\n",
    "\r\n",
    "for fruta in frutas:  # fruta es el VALOR DEL ELEMENTO\r\n",
    "    if fruta[0] == \"p\":  # primer caracter es p\r\n",
    "        print(fruta)"
   ],
   "outputs": [
    {
     "output_type": "stream",
     "name": "stdout",
     "text": [
      "p\n",
      "pera\n",
      "m\n",
      "p\n",
      "platano\n"
     ]
    }
   ],
   "metadata": {}
  },
  {
   "cell_type": "code",
   "execution_count": 42,
   "source": [
    "# media = suma de todos / cantidad de elementos\r\n",
    "\r\n",
    "suma_de_edades = 0\r\n",
    "# Mostrar todas las edades\r\n",
    "for tupla_persona in student_list:\r\n",
    "    edad = tupla_persona[1]\r\n",
    "    suma_de_edades += edad\r\n",
    "    #print(\"suma_de_edades:\", suma_de_edades)\r\n",
    "\r\n",
    "numero_personas_clase = len(student_list)\r\n",
    "media_edades = suma_de_edades / numero_personas_clase\r\n",
    "print(\"suma_de_edades:\", suma_de_edades)\r\n",
    "print(\"numero_personas_clase:\", numero_personas_clase)\r\n",
    "print(\"media_edades:\", media_edades)"
   ],
   "outputs": [
    {
     "output_type": "stream",
     "name": "stdout",
     "text": [
      "suma_de_edades: 821\n",
      "numero_personas_clase: 26\n",
      "media_edades: 31.576923076923077\n"
     ]
    }
   ],
   "metadata": {}
  },
  {
   "cell_type": "markdown",
   "source": [
    "## Iteraciones | bucle `for`"
   ],
   "metadata": {}
  },
  {
   "cell_type": "code",
   "execution_count": null,
   "source": [
    "lista = [\"red\", 2, \"blue\", 4.0]\r\n",
    "lista2 = [2, 4, 6, 8, 10, 12, 9518591859]\r\n",
    "\r\n",
    "for x in lista2:\r\n",
    "    if x > 6:\r\n",
    "        print(x)\r\n",
    "    elif x == 6:\r\n",
    "        print(x)\r\n",
    "    elif x == 4:\r\n",
    "        lista2.append(x)\r\n",
    "\r\n",
    "lista2"
   ],
   "outputs": [],
   "metadata": {}
  },
  {
   "cell_type": "code",
   "execution_count": null,
   "source": [
    "lista = [\"Red\", \"GabriXel\", \"Blue\", 2]\r\n",
    "\r\n",
    "for gato in lista:\r\n",
    "    if gato == \"GabriXel\":\r\n",
    "        print(gato[5])"
   ],
   "outputs": [],
   "metadata": {}
  },
  {
   "cell_type": "code",
   "execution_count": null,
   "source": [
    "# Sacar del elemento 2 la posición 5.\n",
    "# Es String\n",
    "lista = [\"Red\", \"GabriXel\", \"Blue\", 2]\n",
    "\n",
    "for gato in lista:\n",
    "    if gato == lista[1]:\n",
    "        print(gato[5])"
   ],
   "outputs": [],
   "metadata": {}
  },
  {
   "cell_type": "code",
   "execution_count": null,
   "source": [
    "# Mostrar la iteración del for\n",
    "# Es String\n",
    "lista = [\"Red\", \"GabriXel\", \"Blue\", 2]\n",
    "\n",
    "count = 1\n",
    "for gato in lista:\n",
    "    if count == 2:\n",
    "        print(gato[5])\n",
    "    print(count)\n",
    "    count += 1"
   ],
   "outputs": [],
   "metadata": {}
  },
  {
   "cell_type": "code",
   "execution_count": null,
   "source": [
    "players = ['charles', 'martina', 'michael', 'florence', 'eli'] \n",
    "\n",
    "print(\"Here are the first three players on my team:\")\n",
    "for player in players[:3]:\n",
    "    print(player.title())"
   ],
   "outputs": [],
   "metadata": {}
  },
  {
   "cell_type": "code",
   "execution_count": null,
   "source": [
    "dimensions = (200, 50)\n",
    "for dimension in dimensions:\n",
    "    print(dimension)"
   ],
   "outputs": [],
   "metadata": {}
  },
  {
   "cell_type": "code",
   "execution_count": null,
   "source": [
    "lista = [1, 3, \"5\", 8]\n",
    "\n",
    "lista[2] = \"X\"\n",
    "lista"
   ],
   "outputs": [],
   "metadata": {}
  },
  {
   "cell_type": "markdown",
   "source": [
    "`for` dictionaries"
   ],
   "metadata": {}
  },
  {
   "cell_type": "code",
   "execution_count": null,
   "source": [
    "for elem in diccionario:\n",
    "    print(\"Claves:\", elem)"
   ],
   "outputs": [],
   "metadata": {}
  },
  {
   "cell_type": "code",
   "execution_count": null,
   "source": [
    "for elem in diccionario.values():\n",
    "    print(elem)"
   ],
   "outputs": [],
   "metadata": {}
  },
  {
   "cell_type": "code",
   "execution_count": null,
   "source": [
    "for elem in diccionario.keys():\n",
    "    print(elem)"
   ],
   "outputs": [],
   "metadata": {}
  },
  {
   "cell_type": "code",
   "execution_count": null,
   "source": [
    "diccionario"
   ],
   "outputs": [],
   "metadata": {}
  },
  {
   "cell_type": "code",
   "execution_count": null,
   "source": [
    "for maria, alba in diccionario.items():\n",
    "    print(\"k:\", maria)\n",
    "    print(\"v:\", alba)\n",
    "    print(\"-----------------\")"
   ],
   "outputs": [],
   "metadata": {}
  },
  {
   "cell_type": "code",
   "execution_count": null,
   "source": [
    "for k, v in diccionario.items():\n",
    "    print(\"k\", k)\n",
    "    print(\"v\", v)\n",
    "    if k == \"dict\":\n",
    "        for x, y in v.items():\n",
    "            print(\"x\", x)\n",
    "            print(\"y\", y)\n",
    "    print(\"-------------\")"
   ],
   "outputs": [],
   "metadata": {}
  },
  {
   "cell_type": "markdown",
   "source": [
    "--------------------------------------------------------------------------------------"
   ],
   "metadata": {}
  },
  {
   "cell_type": "markdown",
   "source": [
    "## `range` & `enumerate`"
   ],
   "metadata": {}
  },
  {
   "cell_type": "code",
   "execution_count": null,
   "source": [
    "lista = [\"Pepito\", \"Lorenzo\", \"Juan\", \"Laura\", \"Alicia\", \"Mónica\"]\n",
    "\n",
    "for x in lista:\n",
    "    print(x)"
   ],
   "outputs": [],
   "metadata": {}
  },
  {
   "cell_type": "code",
   "execution_count": null,
   "source": [
    "lista"
   ],
   "outputs": [],
   "metadata": {}
  },
  {
   "cell_type": "code",
   "execution_count": null,
   "source": [
    "tamano_lista = len(lista)\n",
    "for x in range(tamano_lista):\n",
    "    print(\"x:\", x)\n",
    "    print(\"elem:\", lista[x])\n",
    "    print(\"-------------\")"
   ],
   "outputs": [],
   "metadata": {}
  },
  {
   "cell_type": "code",
   "execution_count": null,
   "source": [
    "for x in enumerate(lista):\n",
    "    print(x)"
   ],
   "outputs": [],
   "metadata": {}
  },
  {
   "cell_type": "code",
   "execution_count": null,
   "source": [
    "for pos, elem in enumerate(lista):\n",
    "    print(\"pos:\", pos)\n",
    "    print(\"elem:\", elem)\n",
    "    print(\"-------------\")"
   ],
   "outputs": [],
   "metadata": {}
  },
  {
   "cell_type": "code",
   "execution_count": 1,
   "source": [
    "ol = ['Pepito', 'Lorenzo', [6, 8], 'Laura', 'Alicia', 'Mónica']\n",
    "\n",
    "ol[2][1]"
   ],
   "outputs": [
    {
     "output_type": "execute_result",
     "data": {
      "text/plain": [
       "8"
      ]
     },
     "metadata": {},
     "execution_count": 1
    }
   ],
   "metadata": {}
  },
  {
   "cell_type": "code",
   "execution_count": null,
   "source": [
    "for i, x in enumerate(ol):\n",
    "    if i == 2:\n",
    "        print(x[1])"
   ],
   "outputs": [],
   "metadata": {}
  },
  {
   "cell_type": "code",
   "execution_count": null,
   "source": [
    "x = 2\n",
    "print(isinstance(x, int))"
   ],
   "outputs": [],
   "metadata": {}
  },
  {
   "cell_type": "code",
   "execution_count": null,
   "source": [
    "for i, x in enumerate(ol):\n",
    "    print(\"Iteración:\", i+1)\n",
    "    if isinstance(x, list):\n",
    "        print(\"La posición es: \", i)\n",
    "        print(x[1])"
   ],
   "outputs": [],
   "metadata": {}
  },
  {
   "cell_type": "code",
   "execution_count": null,
   "source": [
    "al = ['Pepito', 'Lorenzo', [6, 8], 'Laura', (5, 78), 'Mónica']"
   ],
   "outputs": [],
   "metadata": {}
  },
  {
   "cell_type": "code",
   "execution_count": null,
   "source": [
    "for i, x in enumerate(al):\n",
    "    print(\"Iteración:\", i+1)\n",
    "    if isinstance(x, (list, tuple)):\n",
    "        print(\"Se cumple\")\n",
    "        print(\"La posición es: \", i)\n",
    "        print(x[1])\n",
    "        break\n",
    "    print(\"---------------\")"
   ],
   "outputs": [],
   "metadata": {}
  },
  {
   "cell_type": "code",
   "execution_count": null,
   "source": [
    "j = range(15)\n",
    "print(type(j))\n",
    "j"
   ],
   "outputs": [],
   "metadata": {}
  },
  {
   "cell_type": "code",
   "execution_count": null,
   "source": [
    "k = list(range(15))\n",
    "k"
   ],
   "outputs": [],
   "metadata": {}
  },
  {
   "cell_type": "markdown",
   "source": [
    "--------------------------------------------------------------------------------------"
   ],
   "metadata": {}
  },
  {
   "cell_type": "markdown",
   "source": [
    "## bucle `while`"
   ],
   "metadata": {}
  },
  {
   "cell_type": "code",
   "execution_count": 7,
   "source": [
    "l = \"dija\"\n",
    "acum = 0\n",
    "for i in l:\n",
    "    acum = acum + 1\n",
    "    print(i, acum)"
   ],
   "outputs": [
    {
     "output_type": "stream",
     "name": "stdout",
     "text": [
      "d 1\n",
      "i 2\n",
      "j 3\n",
      "a 4\n"
     ]
    }
   ],
   "metadata": {}
  },
  {
   "cell_type": "code",
   "execution_count": 8,
   "source": [
    "l = \"dija\"\n",
    "acum = 1\n",
    "for i in l:\n",
    "    print(i, acum)\n",
    "    acum = acum + 1"
   ],
   "outputs": [
    {
     "output_type": "stream",
     "name": "stdout",
     "text": [
      "d 1\n",
      "i 2\n",
      "j 3\n",
      "a 4\n"
     ]
    }
   ],
   "metadata": {}
  },
  {
   "cell_type": "code",
   "execution_count": 9,
   "source": [
    "acum = 0\n",
    "while acum < 5:\n",
    "    print(\"Iteración: \", acum + 1)\n",
    "    acum += 1"
   ],
   "outputs": [
    {
     "output_type": "stream",
     "name": "stdout",
     "text": [
      "Iteración:  1\n",
      "Iteración:  2\n",
      "Iteración:  3\n",
      "Iteración:  4\n",
      "Iteración:  5\n"
     ]
    }
   ],
   "metadata": {}
  },
  {
   "cell_type": "code",
   "execution_count": 12,
   "source": [
    "lista = [2, 4, 5, \"Yo\"]\n",
    "l = [], None, 0, False\n",
    "while len(lista)==4:\n",
    "    print(\"K\")\n",
    "    lista.pop(1)"
   ],
   "outputs": [
    {
     "output_type": "stream",
     "name": "stdout",
     "text": [
      "K\n"
     ]
    }
   ],
   "metadata": {}
  },
  {
   "cell_type": "code",
   "execution_count": 14,
   "source": [
    "lista[0]\n",
    "lista[1]\n",
    "lista[2]"
   ],
   "outputs": [
    {
     "output_type": "execute_result",
     "data": {
      "text/plain": [
       "'Yo'"
      ]
     },
     "metadata": {},
     "execution_count": 14
    }
   ],
   "metadata": {}
  },
  {
   "cell_type": "code",
   "execution_count": 15,
   "source": [
    "lista = [2, 4, 5, \"Yo\"]\n",
    "for x in lista:\n",
    "    print(x)"
   ],
   "outputs": [
    {
     "output_type": "stream",
     "name": "stdout",
     "text": [
      "2\n",
      "4\n",
      "5\n",
      "Yo\n"
     ]
    }
   ],
   "metadata": {}
  },
  {
   "cell_type": "code",
   "execution_count": 16,
   "source": [
    "lista = [2, 4, 5, \"Yo\"]\n",
    "acum = 0\n",
    "tamano_lista = len(lista)\n",
    "while acum < 4:\n",
    "    print(lista[acum])\n",
    "    acum += 1"
   ],
   "outputs": [
    {
     "output_type": "stream",
     "name": "stdout",
     "text": [
      "2\n",
      "4\n",
      "5\n",
      "Yo\n"
     ]
    }
   ],
   "metadata": {}
  },
  {
   "cell_type": "code",
   "execution_count": 17,
   "source": [
    "lista = [2, 4, 5, \"Yo\"]\n",
    "acum = 0\n",
    "tamano_lista = len(lista)\n",
    "while acum <= tamano_lista:\n",
    "    if acum >= tamano_lista:\n",
    "        print(\"Ha entrado en el break\")\n",
    "        print(\"acum:\", acum)\n",
    "        print(\"tamano_lista\", tamano_lista)\n",
    "        break\n",
    "    print(lista[acum])\n",
    "    print(\"acum:\", acum)\n",
    "    acum += 1\n",
    "    print(\"--------------------\")\n",
    "\n",
    "print(\"Esto está fuera del while\")"
   ],
   "outputs": [
    {
     "output_type": "stream",
     "name": "stdout",
     "text": [
      "2\n",
      "acum: 0\n",
      "--------------------\n",
      "4\n",
      "acum: 1\n",
      "--------------------\n",
      "5\n",
      "acum: 2\n",
      "--------------------\n",
      "Yo\n",
      "acum: 3\n",
      "--------------------\n",
      "Ha entrado en el break\n",
      "acum: 4\n",
      "tamano_lista 4\n",
      "Esto está fuera del while\n"
     ]
    }
   ],
   "metadata": {}
  },
  {
   "cell_type": "code",
   "execution_count": null,
   "source": [
    "acum = 0 \n",
    "if acum < 5:\n",
    "    print(\"Es menor\")"
   ],
   "outputs": [],
   "metadata": {}
  },
  {
   "cell_type": "markdown",
   "source": [
    "--------------------------------------------------------------------------------------"
   ],
   "metadata": {}
  },
  {
   "cell_type": "markdown",
   "source": [
    "## `break` & `continue`"
   ],
   "metadata": {}
  },
  {
   "cell_type": "code",
   "execution_count": 5,
   "source": [
    "lista = [\"alex\", 2, \"gab\", \"l\", \"8\"]\r\n",
    "for i in lista:\r\n",
    "    print(i)\r\n",
    "    if i == \"l\":\r\n",
    "        break"
   ],
   "outputs": [
    {
     "output_type": "stream",
     "name": "stdout",
     "text": [
      "alex\n",
      "2\n",
      "gab\n",
      "l\n"
     ]
    }
   ],
   "metadata": {}
  },
  {
   "cell_type": "code",
   "execution_count": 6,
   "source": [
    "lista = [\"alex\", \"begoña\", \"gabriel\", \"sara\", \"ataulfo\"]\r\n",
    "\r\n",
    "for k in lista:\r\n",
    "    if k == \"gabriel\":\r\n",
    "        continue\r\n",
    "    print(k)"
   ],
   "outputs": [
    {
     "output_type": "stream",
     "name": "stdout",
     "text": [
      "alex\n",
      "begoña\n",
      "sara\n",
      "ataulfo\n"
     ]
    }
   ],
   "metadata": {}
  },
  {
   "cell_type": "markdown",
   "source": [
    "## WHILE"
   ],
   "metadata": {}
  },
  {
   "cell_type": "code",
   "execution_count": null,
   "source": [
    "while condicion:\r\n",
    "    ..."
   ],
   "outputs": [],
   "metadata": {}
  },
  {
   "cell_type": "code",
   "execution_count": 3,
   "source": [
    "# Bucle while ejecuta lo que esté dentro de ella mientras\r\n",
    "# la condición se cumpla\r\n",
    "\r\n",
    "x = 2\r\n",
    "while x == 2:\r\n",
    "    print(1)\r\n",
    "    x = 1\r\n",
    "print(\"Fuera del while\")"
   ],
   "outputs": [
    {
     "output_type": "stream",
     "name": "stdout",
     "text": [
      "1\n",
      "Fuera del while\n"
     ]
    }
   ],
   "metadata": {}
  },
  {
   "cell_type": "code",
   "execution_count": 15,
   "source": [
    "list(range(7))"
   ],
   "outputs": [
    {
     "output_type": "execute_result",
     "data": {
      "text/plain": [
       "[0, 1, 2, 3, 4, 5, 6]"
      ]
     },
     "metadata": {},
     "execution_count": 15
    }
   ],
   "metadata": {}
  },
  {
   "cell_type": "code",
   "execution_count": 16,
   "source": [
    "for contador in range(7):\r\n",
    "    print(contador)"
   ],
   "outputs": [
    {
     "output_type": "stream",
     "name": "stdout",
     "text": [
      "0\n",
      "1\n",
      "2\n",
      "3\n",
      "4\n",
      "5\n",
      "6\n"
     ]
    }
   ],
   "metadata": {}
  },
  {
   "cell_type": "code",
   "execution_count": 17,
   "source": [
    "# ejecutar el print(1) --> 7 veces\r\n",
    "contador = 0  # variable de control\r\n",
    "while contador < 7:\r\n",
    "    print(contador)\r\n",
    "    contador = contador + 1\r\n",
    "print(\"fuera del while\")"
   ],
   "outputs": [
    {
     "output_type": "stream",
     "name": "stdout",
     "text": [
      "0\n",
      "1\n",
      "2\n",
      "3\n",
      "4\n",
      "5\n",
      "6\n",
      "fuera del while\n"
     ]
    }
   ],
   "metadata": {}
  },
  {
   "cell_type": "code",
   "execution_count": 6,
   "source": [
    "# ejecutar el print(1) --> 7 veces\r\n",
    "contador = 7\r\n",
    "while contador > 0:\r\n",
    "    print(\"1\")\r\n",
    "    contador = contador - 1\r\n",
    "print(\"fuera del while\")"
   ],
   "outputs": [
    {
     "output_type": "stream",
     "name": "stdout",
     "text": [
      "1\n",
      "1\n",
      "1\n",
      "1\n",
      "1\n",
      "1\n",
      "1\n",
      "fuera del while\n"
     ]
    }
   ],
   "metadata": {}
  },
  {
   "cell_type": "code",
   "execution_count": 7,
   "source": [
    "# ejecutar el print(1) --> 7 veces\r\n",
    "contador = 7\r\n",
    "while contador < 14:\r\n",
    "    print(\"1\")\r\n",
    "    contador = contador + 1\r\n",
    "print(\"fuera del while\")"
   ],
   "outputs": [
    {
     "output_type": "stream",
     "name": "stdout",
     "text": [
      "1\n",
      "1\n",
      "1\n",
      "1\n",
      "1\n",
      "1\n",
      "1\n",
      "fuera del while\n"
     ]
    }
   ],
   "metadata": {}
  },
  {
   "cell_type": "code",
   "execution_count": 10,
   "source": [
    "# mostrar los valores de los elementos de lista\r\n",
    "\r\n",
    "lista = [\"A\", \"B\", \"C\", \"D\"]\r\n",
    "contador = 0  # primera posición\r\n",
    "while contador < len(lista) and contador >= 0:  # contador no out of range\r\n",
    "    print(lista[contador])\r\n",
    "    contador = contador + 1\r\n",
    "print(\"fuera del while\")"
   ],
   "outputs": [
    {
     "output_type": "stream",
     "name": "stdout",
     "text": [
      "A\n",
      "B\n",
      "C\n",
      "D\n",
      "fuera del while\n"
     ]
    }
   ],
   "metadata": {}
  },
  {
   "cell_type": "code",
   "execution_count": 11,
   "source": [
    "import time\r\n",
    "\r\n",
    "print(1)\r\n",
    "time.sleep(2)\r\n",
    "print(4)"
   ],
   "outputs": [
    {
     "output_type": "stream",
     "name": "stdout",
     "text": [
      "1\n",
      "4\n"
     ]
    }
   ],
   "metadata": {}
  },
  {
   "cell_type": "code",
   "execution_count": 12,
   "source": [
    "while True:\r\n",
    "    print(1)\r\n",
    "    time.sleep(1)"
   ],
   "outputs": [
    {
     "output_type": "stream",
     "name": "stdout",
     "text": [
      "1\n",
      "1\n",
      "1\n",
      "1\n",
      "1\n",
      "1\n",
      "1\n",
      "1\n",
      "1\n",
      "1\n",
      "1\n",
      "1\n",
      "1\n",
      "1\n",
      "1\n",
      "1\n",
      "1\n"
     ]
    },
    {
     "output_type": "error",
     "ename": "KeyboardInterrupt",
     "evalue": "",
     "traceback": [
      "\u001b[1;31m---------------------------------------------------------------------------\u001b[0m",
      "\u001b[1;31mKeyboardInterrupt\u001b[0m                         Traceback (most recent call last)",
      "\u001b[1;32m<ipython-input-12-cd043bfaaf44>\u001b[0m in \u001b[0;36m<module>\u001b[1;34m\u001b[0m\n\u001b[0;32m      1\u001b[0m \u001b[1;32mwhile\u001b[0m \u001b[1;32mTrue\u001b[0m\u001b[1;33m:\u001b[0m\u001b[1;33m\u001b[0m\u001b[0m\n\u001b[0;32m      2\u001b[0m     \u001b[0mprint\u001b[0m\u001b[1;33m(\u001b[0m\u001b[1;36m1\u001b[0m\u001b[1;33m)\u001b[0m\u001b[1;33m\u001b[0m\u001b[0m\n\u001b[1;32m----> 3\u001b[1;33m     \u001b[0mtime\u001b[0m\u001b[1;33m.\u001b[0m\u001b[0msleep\u001b[0m\u001b[1;33m(\u001b[0m\u001b[1;36m1\u001b[0m\u001b[1;33m)\u001b[0m\u001b[1;33m\u001b[0m\u001b[0m\n\u001b[0m",
      "\u001b[1;31mKeyboardInterrupt\u001b[0m: "
     ]
    }
   ],
   "metadata": {}
  },
  {
   "cell_type": "code",
   "execution_count": 19,
   "source": [
    "# mostrar los valores de los elementos de lista \r\n",
    "# excepto \"B\" y \"D\"\r\n",
    "\r\n",
    "lista = [\"A\", \"B\", \"C\", \"D\"]\r\n",
    "contador = 0  # primera posición\r\n",
    "while contador < len(lista) and contador >= 0:\r\n",
    "    if lista[contador] == \"B\" or lista[contador] == \"D\":\r\n",
    "        contador = contador + 1\r\n",
    "        continue\r\n",
    "    print(lista[contador])\r\n",
    "    contador = contador + 1\r\n",
    "print(\"fuera del while\")"
   ],
   "outputs": [
    {
     "output_type": "stream",
     "name": "stdout",
     "text": [
      "A\n",
      "C\n",
      "fuera del while\n"
     ]
    }
   ],
   "metadata": {}
  },
  {
   "cell_type": "code",
   "execution_count": 22,
   "source": [
    "# mostrar los valores de los elementos de lista \r\n",
    "# excepto \"B\" y \"D\" \r\n",
    "# sin repetir (contador = contador + 1)\r\n",
    "\r\n",
    "lista = [\"A\", \"B\", \"C\", \"D\"]\r\n",
    "contador = 0  # primera posición\r\n",
    "while contador < len(lista) and contador >= 0:\r\n",
    "    if lista[contador] != \"B\" and lista[contador] != \"D\":\r\n",
    "        print(lista[contador])\r\n",
    "    contador = contador + 1\r\n",
    "print(\"fuera del while\")"
   ],
   "outputs": [
    {
     "output_type": "stream",
     "name": "stdout",
     "text": [
      "A\n",
      "C\n",
      "fuera del while\n"
     ]
    }
   ],
   "metadata": {}
  },
  {
   "cell_type": "code",
   "execution_count": 26,
   "source": [
    "# mostrar los valores de los elementos de lista \r\n",
    "# excepto \"B\" y \"D\" \r\n",
    "# sin repetir (contador = contador + 1)\r\n",
    "\r\n",
    "lista = [\"A\", \"B\", \"C\", \"D\"]\r\n",
    "contador = 0  # primera posición\r\n",
    "while contador < len(lista) and contador >= 0:\r\n",
    "    if contador != 1 and contador != 3:\r\n",
    "        print(lista[contador])\r\n",
    "    contador = contador + 1\r\n",
    "print(\"fuera del while\")"
   ],
   "outputs": [
    {
     "output_type": "stream",
     "name": "stdout",
     "text": [
      "A\n",
      "C\n",
      "fuera del while\n"
     ]
    }
   ],
   "metadata": {}
  },
  {
   "cell_type": "code",
   "execution_count": 28,
   "source": [
    "# mostrar los valores de los elementos pares de lista \r\n",
    "\r\n",
    "lista = [\"A\", \"B\", \"C\", \"D\"]\r\n",
    "contador = 0  # primera posición\r\n",
    "while contador < len(lista) and contador >= 0:\r\n",
    "    if (contador % 2 == 0):  # Es par\r\n",
    "    #if (contador % 2 != 0):  # Es impar\r\n",
    "        print(lista[contador])\r\n",
    "    contador = contador + 1\r\n",
    "print(\"fuera del while\")"
   ],
   "outputs": [
    {
     "output_type": "stream",
     "name": "stdout",
     "text": [
      "A\n",
      "C\n",
      "fuera del while\n"
     ]
    }
   ],
   "metadata": {}
  },
  {
   "cell_type": "code",
   "execution_count": 24,
   "source": [
    "# mostrar los valores C y D\r\n",
    "lista = [\"A\", \"B\", \"C\", \"D\"]\r\n",
    "contador = 2  # primera posición\r\n",
    "while contador < len(lista) and contador >= 0:\r\n",
    "    print(lista[contador])\r\n",
    "    contador = contador + 1\r\n",
    "print(\"fuera del while\")\r\n",
    "print(lista)"
   ],
   "outputs": [
    {
     "output_type": "stream",
     "name": "stdout",
     "text": [
      "C\n",
      "D\n",
      "fuera del while\n",
      "['A', 'B', 'C', 'D']\n"
     ]
    }
   ],
   "metadata": {}
  },
  {
   "cell_type": "code",
   "execution_count": 25,
   "source": [
    "# mostrar los valores de la lista al revés\r\n",
    "lista = [\"A\", \"B\", \"C\", \"D\"]\r\n",
    "contador = 3  # primera posición\r\n",
    "while contador < len(lista) and contador >= 0:\r\n",
    "    print(lista[contador])\r\n",
    "    contador = contador - 1\r\n",
    "print(\"fuera del while\")\r\n",
    "print(lista)"
   ],
   "outputs": [
    {
     "output_type": "stream",
     "name": "stdout",
     "text": [
      "D\n",
      "C\n",
      "B\n",
      "A\n",
      "fuera del while\n",
      "['A', 'B', 'C', 'D']\n"
     ]
    }
   ],
   "metadata": {}
  },
  {
   "cell_type": "code",
   "execution_count": null,
   "source": [
    "# mostrar los valores C y D\r\n",
    "lista = [\"A\", \"B\", \"C\", \"D\"]\r\n",
    "contador = 0  # primera posición\r\n",
    "while contador < len(lista) and contador >= 0:\r\n",
    "    if contador >= 2:\r\n",
    "        print(lista[contador])\r\n",
    "    contador = contador + 1\r\n",
    "print(\"fuera del while\")"
   ],
   "outputs": [],
   "metadata": {}
  },
  {
   "cell_type": "code",
   "execution_count": null,
   "source": [],
   "outputs": [],
   "metadata": {}
  },
  {
   "cell_type": "code",
   "execution_count": 1,
   "source": [
    "lista = [2, 4, 6, 8]\r\n",
    "for x in lista:\r\n",
    "    print(x)"
   ],
   "outputs": [
    {
     "output_type": "stream",
     "name": "stdout",
     "text": [
      "2\n",
      "4\n",
      "6\n",
      "8\n"
     ]
    }
   ],
   "metadata": {}
  },
  {
   "cell_type": "code",
   "execution_count": null,
   "source": [],
   "outputs": [],
   "metadata": {}
  },
  {
   "cell_type": "code",
   "execution_count": null,
   "source": [],
   "outputs": [],
   "metadata": {}
  }
 ],
 "metadata": {
  "kernelspec": {
   "name": "python3",
   "display_name": "Python 3.6.4 64-bit"
  },
  "language_info": {
   "codemirror_mode": {
    "name": "ipython",
    "version": 3
   },
   "file_extension": ".py",
   "mimetype": "text/x-python",
   "name": "python",
   "nbconvert_exporter": "python",
   "pygments_lexer": "ipython3",
   "version": "3.6.4"
  },
  "interpreter": {
   "hash": "e05034a492cd28020b141b637ab43cad260081b164a40cac23ec4809d29fc4bf"
  }
 },
 "nbformat": 4,
 "nbformat_minor": 4
}