{
 "cells": [
  {
   "cell_type": "code",
   "execution_count": 1,
   "source": [
    "student_list = [(\"Gabriel Vázquez\", 29, 1.75), (\"Leonardo Sánchez\", 24, 1.82), (\"Piero Termini\", 25, 1.71), (\"Marta Buesa\", 35, 1.66), (\"Silvia Pasinato\", 37, 1.63), (\"Faro Zamani\", 29, 1.90), ('Miguel Nievas', 27, 1.80), (\"Alejandro Medina\", 28, 1.70), (\"Cristina Martínez\", 32, 1.60), (\"Francisco Palma\", 36, 1.74), (\"Jorge Duque\", 45, 1.72), (\"Jesús Llanes\", 41, 1.65), (\"Luis Pech\", 18, 1.71), (\"Marta Gómez\", 30, 1.65), (\"Jennifer Sanchez\", 40, 1.60), (\"Diego Isla\", 39, 1.80), (\"Nuria Brocar\", 35, 1.75), (\"Antonio Campaña\", 23, 1.77), (\"Isabella Schindowski\", 34, 1.60), (\"Juan Maniglia\", 32, 1.75), (\"David Suárez\", 27, 1.70), (\"Antonio Jiménez\", 34, 1.80), (\"Carlos Hernández\", 27, 1.77), (\"Erik Urresta\", 28, 1.70), (\"Marcos Lobo\", 35, 1.80), (\"Natalia Fernandez\", 31, 1.70)]\r\n",
    "\r\n",
    "print(student_list)"
   ],
   "outputs": [
    {
     "output_type": "stream",
     "name": "stdout",
     "text": [
      "[('Gabriel Vázquez', 29, 1.75), ('Leonardo Sánchez', 24, 1.82), ('Piero Termini', 25, 1.71), ('Marta Buesa', 35, 1.66), ('Silvia Pasinato', 37, 1.63), ('Faro Zamani', 29, 1.9), ('Miguel Nievas', 27, 1.8), ('Alejandro Medina', 28, 1.7), ('Cristina Martínez', 32, 1.6), ('Francisco Palma', 36, 1.74), ('Jorge Duque', 45, 1.72), ('Jesús Llanes', 41, 1.65), ('Luis Pech', 18, 1.71), ('Marta Gómez', 30, 1.65), ('Jennifer Sanchez', 40, 1.6), ('Diego Isla', 39, 1.8), ('Nuria Brocar', 35, 1.75), ('Antonio Campaña', 23, 1.77), ('Isabella Schindowski', 34, 1.6), ('Juan Maniglia', 32, 1.75), ('David Suárez', 27, 1.7), ('Antonio Jiménez', 34, 1.8), ('Carlos Hernández', 27, 1.77), ('Erik Urresta', 28, 1.7), ('Marcos Lobo', 35, 1.8), ('Natalia Fernandez', 31, 1.7)]\n"
     ]
    }
   ],
   "metadata": {}
  },
  {
   "cell_type": "code",
   "execution_count": 4,
   "source": [
    "gabriel = \"Gabriel Vázquez\"\r\n",
    "miguel = \"Miguel Nievas\"\r\n",
    "cristina = \"Cristina Martínez\"\r\n",
    "leo = \"Leonardo Sánchez\"\r\n",
    "\r\n",
    "# eliminar a los 4 profesores de la lista de estudiantes a partir del nombre\r\n",
    "\r\n",
    "for student_tupla in student_list:\r\n",
    "    print(student_tupla[0])"
   ],
   "outputs": [
    {
     "output_type": "stream",
     "name": "stdout",
     "text": [
      "Gabriel Vázquez\n",
      "Leonardo Sánchez\n",
      "Piero Termini\n",
      "Marta Buesa\n",
      "Silvia Pasinato\n",
      "Faro Zamani\n",
      "Miguel Nievas\n",
      "Alejandro Medina\n",
      "Cristina Martínez\n",
      "Francisco Palma\n",
      "Jorge Duque\n",
      "Jesús Llanes\n",
      "Luis Pech\n",
      "Marta Gómez\n",
      "Jennifer Sanchez\n",
      "Diego Isla\n",
      "Nuria Brocar\n",
      "Antonio Campaña\n",
      "Isabella Schindowski\n",
      "Juan Maniglia\n",
      "David Suárez\n",
      "Antonio Jiménez\n",
      "Carlos Hernández\n",
      "Erik Urresta\n",
      "Marcos Lobo\n",
      "Natalia Fernandez\n"
     ]
    }
   ],
   "metadata": {}
  }
 ],
 "metadata": {
  "orig_nbformat": 4,
  "language_info": {
   "name": "python",
   "version": "3.6.4",
   "mimetype": "text/x-python",
   "codemirror_mode": {
    "name": "ipython",
    "version": 3
   },
   "pygments_lexer": "ipython3",
   "nbconvert_exporter": "python",
   "file_extension": ".py"
  },
  "kernelspec": {
   "name": "python3",
   "display_name": "Python 3.6.4 64-bit"
  },
  "interpreter": {
   "hash": "e05034a492cd28020b141b637ab43cad260081b164a40cac23ec4809d29fc4bf"
  }
 },
 "nbformat": 4,
 "nbformat_minor": 2
}