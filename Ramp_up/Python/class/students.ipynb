{
 "cells": [
  {
   "cell_type": "code",
   "execution_count": 15,
   "source": [
    "student_list = [(\"Gabriel Vázquez\", 29, 1.75), (\"Leonardo Sánchez\", 24, 1.82), (\"Piero Termini\", 25, 1.71), (\"Marta Buesa\", 35, 1.66), (\"Silvia Pasinato\", 37, 1.63), (\"Faro Zamani\", 29, 1.90), ('Miguel Nievas', 27, 1.80), (\"Alejandro Medina\", 28, 1.70), (\"Cristina Martínez\", 32, 1.60), (\"Francisco Palma\", 36, 1.74), (\"Jorge Duque\", 45, 1.72), (\"Jesús Llanes\", 41, 1.65), (\"Luis Pech\", 18, 1.71), (\"Marta Gómez\", 30, 1.65), (\"Jennifer Sanchez\", 40, 1.60), (\"Diego Isla\", 39, 1.80), (\"Nuria Brocar\", 35, 1.75), (\"Antonio Campaña\", 23, 1.77), (\"Isabella Schindowski\", 34, 1.60), (\"Juan Maniglia\", 32, 1.75), (\"David Suárez\", 27, 1.70), (\"Antonio Jiménez\", 34, 1.80), (\"Carlos Hernández\", 27, 1.77), (\"Erik Urresta\", 28, 1.70), (\"Marcos Lobo\", 35, 1.80), (\"Natalia Fernandez\", 31, 1.70)]\r\n",
    "\r\n",
    "print(student_list)\r\n",
    "#import random\r\n",
    "#random.choice(student_list)"
   ],
   "outputs": [
    {
     "output_type": "stream",
     "name": "stdout",
     "text": [
      "[('Gabriel Vázquez', 29, 1.75), ('Leonardo Sánchez', 24, 1.82), ('Piero Termini', 25, 1.71), ('Marta Buesa', 35, 1.66), ('Silvia Pasinato', 37, 1.63), ('Faro Zamani', 29, 1.9), ('Miguel Nievas', 27, 1.8), ('Alejandro Medina', 28, 1.7), ('Cristina Martínez', 32, 1.6), ('Francisco Palma', 36, 1.74), ('Jorge Duque', 45, 1.72), ('Jesús Llanes', 41, 1.65), ('Luis Pech', 18, 1.71), ('Marta Gómez', 30, 1.65), ('Jennifer Sanchez', 40, 1.6), ('Diego Isla', 39, 1.8), ('Nuria Brocar', 35, 1.75), ('Antonio Campaña', 23, 1.77), ('Isabella Schindowski', 34, 1.6), ('Juan Maniglia', 32, 1.75), ('David Suárez', 27, 1.7), ('Antonio Jiménez', 34, 1.8), ('Carlos Hernández', 27, 1.77), ('Erik Urresta', 28, 1.7), ('Marcos Lobo', 35, 1.8), ('Natalia Fernandez', 31, 1.7)]\n"
     ]
    }
   ],
   "metadata": {}
  },
  {
   "cell_type": "code",
   "execution_count": 16,
   "source": [
    "gabriel = \"Gabriel Vázquez\"\r\n",
    "miguel = \"Miguel Nievas\"\r\n",
    "cristina = \"Cristina Martínez\"\r\n",
    "leo = \"Leonardo Sánchez\"\r\n",
    "\r\n",
    "lista_nombres_profes = [gabriel, miguel, cristina, leo]\r\n",
    "lista_estudiantes_sin_profes = []\r\n",
    "# 1. eliminar las tuplas que contengan a los 4 profesores de la lista de\r\n",
    "# estudiantes a partir del nombre\r\n",
    "# 2. crear una lista que contenga solo los nombres de los alumnos\r\n",
    "\r\n",
    "for persona_tupla in student_list:\r\n",
    "    nombre = persona_tupla[0]\r\n",
    "    if not (nombre in lista_nombres_profes):  # Si no es un profe\r\n",
    "        lista_estudiantes_sin_profes.append(persona_tupla)\r\n",
    "\r\n",
    "lista_estudiantes_sin_profes"
   ],
   "outputs": [
    {
     "output_type": "execute_result",
     "data": {
      "text/plain": [
       "[('Piero Termini', 25, 1.71),\n",
       " ('Marta Buesa', 35, 1.66),\n",
       " ('Silvia Pasinato', 37, 1.63),\n",
       " ('Faro Zamani', 29, 1.9),\n",
       " ('Alejandro Medina', 28, 1.7),\n",
       " ('Francisco Palma', 36, 1.74),\n",
       " ('Jorge Duque', 45, 1.72),\n",
       " ('Jesús Llanes', 41, 1.65),\n",
       " ('Luis Pech', 18, 1.71),\n",
       " ('Marta Gómez', 30, 1.65),\n",
       " ('Jennifer Sanchez', 40, 1.6),\n",
       " ('Diego Isla', 39, 1.8),\n",
       " ('Nuria Brocar', 35, 1.75),\n",
       " ('Antonio Campaña', 23, 1.77),\n",
       " ('Isabella Schindowski', 34, 1.6),\n",
       " ('Juan Maniglia', 32, 1.75),\n",
       " ('David Suárez', 27, 1.7),\n",
       " ('Antonio Jiménez', 34, 1.8),\n",
       " ('Carlos Hernández', 27, 1.77),\n",
       " ('Erik Urresta', 28, 1.7),\n",
       " ('Marcos Lobo', 35, 1.8),\n",
       " ('Natalia Fernandez', 31, 1.7)]"
      ]
     },
     "metadata": {},
     "execution_count": 16
    }
   ],
   "metadata": {}
  },
  {
   "cell_type": "code",
   "execution_count": 37,
   "source": [
    "# Crea una lista de alturas de alumnos\r\n",
    "# Crea una lista de edad de alumnos\r\n",
    "# Muestra por pantalla la altura del alumno, \":\", y edad de alumno \r\n",
    "# a partir de las dos listas creadas\r\n",
    "\r\n",
    "lista_alturas_alumnos = []\r\n",
    "lista_edades_alumnos = []\r\n",
    "\r\n",
    "for estudiante_tupla in lista_estudiantes_sin_profes:\r\n",
    "    altura = estudiante_tupla[2]\r\n",
    "    lista_alturas_alumnos.append(altura)\r\n",
    "\r\n",
    "for estudiante_tupla in lista_estudiantes_sin_profes:\r\n",
    "    lista_edades_alumnos.append(estudiante_tupla[1])\r\n",
    "\r\n",
    "print(lista_estudiantes_sin_profes[0])\r\n",
    "print(\"lista_alturas_alumnos:\\n\", lista_alturas_alumnos)\r\n",
    "print(\"lista_edades_alumnos:\\n\", lista_edades_alumnos)\r\n",
    "\r\n",
    "for pos, valor_elem in enumerate(lista_alturas_alumnos):\r\n",
    "    valor_elem == lista_alturas_alumnos[pos]\r\n",
    "\r\n",
    "# for in range\r\n",
    "for pos in range(len(lista_alturas_alumnos)):\r\n",
    "    valor_altura = lista_alturas_alumnos[pos]\r\n",
    "    if valor_altura < 1.7:\r\n",
    "        print(lista_alturas_alumnos[pos], \":\", lista_edades_alumnos[pos])"
   ],
   "outputs": [
    {
     "output_type": "stream",
     "name": "stdout",
     "text": [
      "('Piero Termini', 25, 1.71)\n",
      "lista_alturas_alumnos:\n",
      " [1.71, 1.66, 1.63, 1.9, 1.7, 1.74, 1.72, 1.65, 1.71, 1.65, 1.6, 1.8, 1.75, 1.77, 1.6, 1.75, 1.7, 1.8, 1.77, 1.7, 1.8, 1.7]\n",
      "lista_edades_alumnos:\n",
      " [25, 35, 37, 29, 28, 36, 45, 41, 18, 30, 40, 39, 35, 23, 34, 32, 27, 34, 27, 28, 35, 31]\n",
      "1.66 : 35\n",
      "1.63 : 37\n",
      "1.65 : 41\n",
      "1.65 : 30\n",
      "1.6 : 40\n",
      "1.6 : 34\n"
     ]
    }
   ],
   "metadata": {}
  },
  {
   "cell_type": "code",
   "execution_count": 30,
   "source": [
    "lista = [\"A\", \"Z\", \"W\"]\r\n",
    "for pos, valor_elem in enumerate(lista):\r\n",
    "    print(pos, \":\", valor_elem)"
   ],
   "outputs": [
    {
     "output_type": "stream",
     "name": "stdout",
     "text": [
      "0 : A\n",
      "1 : Z\n",
      "2 : W\n"
     ]
    }
   ],
   "metadata": {}
  },
  {
   "cell_type": "code",
   "execution_count": 33,
   "source": [
    "lista_edades_alumnos[1]"
   ],
   "outputs": [
    {
     "output_type": "execute_result",
     "data": {
      "text/plain": [
       "25"
      ]
     },
     "metadata": {},
     "execution_count": 33
    }
   ],
   "metadata": {}
  },
  {
   "cell_type": "code",
   "execution_count": 31,
   "source": [
    "# for in enumerate\r\n",
    "for pos, valor_elem in enumerate(lista_alturas_alumnos):\r\n",
    "    print(valor_elem, \":\", lista_edades_alumnos[pos])"
   ],
   "outputs": [
    {
     "output_type": "stream",
     "name": "stdout",
     "text": [
      "1.71 : 25\n",
      "1.66 : 35\n",
      "1.63 : 37\n",
      "1.9 : 29\n",
      "1.7 : 28\n",
      "1.74 : 36\n",
      "1.72 : 45\n",
      "1.65 : 41\n",
      "1.71 : 18\n",
      "1.65 : 30\n",
      "1.6 : 40\n",
      "1.8 : 39\n",
      "1.75 : 35\n",
      "1.77 : 23\n",
      "1.6 : 34\n",
      "1.75 : 32\n",
      "1.7 : 27\n",
      "1.8 : 34\n",
      "1.77 : 27\n",
      "1.7 : 28\n",
      "1.8 : 35\n",
      "1.7 : 31\n"
     ]
    }
   ],
   "metadata": {}
  },
  {
   "cell_type": "code",
   "execution_count": 24,
   "source": [
    "list(range(len(lista_alturas_alumnos)))"
   ],
   "outputs": [
    {
     "output_type": "execute_result",
     "data": {
      "text/plain": [
       "[0, 1, 2, 3, 4, 5, 6, 7, 8, 9, 10, 11, 12, 13, 14, 15, 16, 17, 18, 19, 20, 21]"
      ]
     },
     "metadata": {},
     "execution_count": 24
    }
   ],
   "metadata": {}
  },
  {
   "cell_type": "code",
   "execution_count": null,
   "source": [
    "gabriel = \"Gabriel Vázquez\"\r\n",
    "miguel = \"Miguel Nievas\"\r\n",
    "cristina = \"Cristina Martínez\"\r\n",
    "leo = \"Leonardo Sánchez\"\r\n",
    "\r\n",
    "lista_nombres_profes = [gabriel, miguel, cristina, leo]\r\n",
    "lista_estudiantes_sin_profes = []\r\n",
    "# 1. eliminar las tuplas que contengan a los 4 profesores de la lista de\r\n",
    "# estudiantes a partir del nombre\r\n",
    "# 2. crear una lista que contenga solo los nombres de los alumnos\r\n",
    "\r\n",
    "for persona_tupla in student_list:\r\n",
    "    nombre = persona_tupla[0]\r\n",
    "    if nombre in lista_nombres_profes:  # Si es un profe\r\n",
    "        pass  # No hace nada\r\n",
    "    else:  # Si no es profe\r\n",
    "        lista_estudiantes_sin_profes.append(persona_tupla)\r\n",
    "\r\n",
    "lista_estudiantes_sin_profes"
   ],
   "outputs": [],
   "metadata": {}
  },
  {
   "cell_type": "code",
   "execution_count": 13,
   "source": [
    "gabriel = \"Gabriel Vázquez\"\r\n",
    "miguel = \"Miguel Nievas\"\r\n",
    "cristina = \"Cristina Martínez\"\r\n",
    "leo = \"Leonardo Sánchez\"\r\n",
    "\r\n",
    "lista_nombres_profes = [gabriel, miguel, cristina, leo]\r\n",
    "\r\n",
    "for profe in lista_nombres_profes:\r\n",
    "    if profe == miguel:\r\n",
    "        print(\"Salta al siguiente porque es Miguel\")\r\n",
    "        continue  # Salta al siguiente elemento de la colección\r\n",
    "    print(profe)\r\n",
    "\r\n",
    "for profe in lista_nombres_profes:\r\n",
    "    if profe != miguel: \r\n",
    "        print(profe)"
   ],
   "outputs": [
    {
     "output_type": "stream",
     "name": "stdout",
     "text": [
      "Gabriel Vázquez\n",
      "Salta al siguiente porque es Miguel\n",
      "Cristina Martínez\n",
      "Leonardo Sánchez\n",
      "Gabriel Vázquez\n",
      "Cristina Martínez\n",
      "Leonardo Sánchez\n"
     ]
    }
   ],
   "metadata": {}
  },
  {
   "cell_type": "code",
   "execution_count": 12,
   "source": [
    "gabriel = \"Gabriel Vázquez\"\r\n",
    "miguel = \"Miguel Nievas\"\r\n",
    "cristina = \"Cristina Martínez\"\r\n",
    "leo = \"Leonardo Sánchez\"\r\n",
    "\r\n",
    "lista_nombres_profes = [gabriel, miguel, cristina, leo]\r\n",
    "\r\n",
    "for profe in lista_nombres_profes:\r\n",
    "    if profe == miguel:\r\n",
    "        break  # Se para el bucle\r\n",
    "    print(profe)\r\n",
    "\r\n",
    "print(\"fuera de bucle\")"
   ],
   "outputs": [
    {
     "output_type": "stream",
     "name": "stdout",
     "text": [
      "Gabriel Vázquez\n",
      "fuera de bucle\n"
     ]
    }
   ],
   "metadata": {}
  },
  {
   "cell_type": "code",
   "execution_count": null,
   "source": [
    "gabriel = \"Gabriel Vázquez\"\r\n",
    "miguel = \"Miguel Nievas\"\r\n",
    "cristina = \"Cristina Martínez\"\r\n",
    "leo = \"Leonardo Sánchez\"\r\n",
    "\r\n",
    "lista_nombres_profes = [gabriel, miguel, cristina, leo]\r\n",
    "lista_estudiantes_sin_profes = []\r\n",
    "# 1. eliminar las tuplas que contengan a los 4 profesores de la lista de\r\n",
    "# estudiantes a partir del nombre\r\n",
    "# 2. crear una lista que contenga solo los nombres de los alumnos\r\n",
    "\r\n",
    "for persona_tupla in student_list:\r\n",
    "    nombre = persona_tupla[0]\r\n",
    "    if nombre in lista_nombres_profes:  # Si es un profe\r\n",
    "        continue  # No hace nada\r\n",
    "    else:  # Si no es profe\r\n",
    "        lista_estudiantes_sin_profes.append(persona_tupla)\r\n",
    "\r\n",
    "lista_estudiantes_sin_profes"
   ],
   "outputs": [],
   "metadata": {}
  },
  {
   "cell_type": "code",
   "execution_count": null,
   "source": [
    "# Ocurre el problema de eliminar el elemento en la misma posición en la que está el bucle.\r\n",
    "\r\n",
    "for student_tupla in student_list:\r\n",
    "    nombre = student_tupla[0]\r\n",
    "    if nombre in lista_nombres_profes:  # Si nombre está en la 'lista_nombres_profes'\r\n",
    "        print(student_tupla)\r\n",
    "        student_list.remove(student_tupla)\r\n",
    "print(student_list)"
   ],
   "outputs": [],
   "metadata": {}
  },
  {
   "cell_type": "code",
   "execution_count": null,
   "source": [
    "for student_tupla in student_list:\r\n",
    "    nombre = student_tupla[0]\r\n",
    "    if nombre == gabriel or nombre == miguel or nombre == cristina or nombre == leo:\r\n",
    "        print(student_tupla)"
   ],
   "outputs": [],
   "metadata": {}
  },
  {
   "cell_type": "code",
   "execution_count": 10,
   "source": [
    "lista = [\"A\", \"C\", \"G\", 67]\r\n",
    "\r\n",
    "for pos, elem in enumerate(lista):\r\n",
    "    print(\"pos:\", pos)\r\n",
    "    print()\r\n",
    "    if elem == \"A\" or elem == \"G\":\r\n",
    "        lista.remove(elem)\r\n",
    "\r\n",
    "print(lista)"
   ],
   "outputs": [
    {
     "output_type": "stream",
     "name": "stdout",
     "text": [
      "['A', 'C', 'G', 67]\n",
      "['C', 'G', 67]\n",
      "['C', 67]\n"
     ]
    }
   ],
   "metadata": {}
  },
  {
   "cell_type": "code",
   "execution_count": 9,
   "source": [
    "lista = [\"A\", \"C\", \"G\", 67]\r\n",
    "\r\n",
    "if \"A\" in lista:\r\n",
    "    print(True)\r\n",
    "else:\r\n",
    "    print(False)"
   ],
   "outputs": [
    {
     "output_type": "stream",
     "name": "stdout",
     "text": [
      "True\n"
     ]
    }
   ],
   "metadata": {}
  },
  {
   "cell_type": "code",
   "execution_count": 24,
   "source": [
    "# ejercicio: eliminar a los 4 profes de la lista completa\r\n",
    "gabriel = \"Gabriel Vázquez\"\r\n",
    "miguel = \"Miguel Nievas\"\r\n",
    "cristian = \"Cristina Martínez\"\r\n",
    "leo = \"Leonardo Sánchez\"\r\n",
    "\r\n",
    "lista_nombres_profes = [gabriel, miguel, cristian, leo]\r\n",
    "\r\n",
    "for student_tupla in student_list:\r\n",
    "    if student_tupla[0] in lista_nombres_profes:\r\n",
    "        student_list.remove(student_tupla)\r\n",
    "print(\"----- Aquí imprimo la lista SIN los profes: -----\")\r\n",
    "print(student_list)\r\n",
    "print(\"----- FIN ejercicio 1 -----\")"
   ],
   "outputs": [
    {
     "output_type": "stream",
     "name": "stdout",
     "text": [
      "----- Aquí imprimo la lista SIN los profes: -----\n",
      "[('Piero Termini', 25, 1.71), ('Marta Buesa', 35, 1.66), ('Silvia Pasinato', 37, 1.63), ('Faro Zamani', 29, 1.9), ('Alejandro Medina', 28, 1.7), ('Francisco Palma', 36, 1.74), ('Jorge Duque', 45, 1.72), ('Jesús Llanes', 41, 1.65), ('Luis Pech', 18, 1.71), ('Marta Gómez', 30, 1.65), ('Jennifer Sanchez', 40, 1.6), ('Diego Isla', 39, 1.8), ('Nuria Brocar', 35, 1.75), ('Antonio Campaña', 23, 1.77), ('Isabella Schindowski', 34, 1.6), ('Juan Maniglia', 32, 1.75), ('David Suárez', 27, 1.7), ('Antonio Jiménez', 34, 1.8), ('Carlos Hernández', 27, 1.77), ('Erik Urresta', 28, 1.7), ('Marcos Lobo', 35, 1.8), ('Natalia Fernandez', 31, 1.7)]\n",
      "----- FIN ejercicio 1 -----\n"
     ]
    }
   ],
   "metadata": {}
  },
  {
   "cell_type": "code",
   "execution_count": 6,
   "source": [
    "lista = [\"ana\", \"maria\", \"juan\"]\r\n",
    "\r\n",
    "a_mostrar = \"\"\r\n",
    "for elem in lista:\r\n",
    "    a_mostrar += elem\r\n",
    "    if elem != lista[-1]:\r\n",
    "        a_mostrar += \",\"\r\n",
    "a_mostrar"
   ],
   "outputs": [
    {
     "output_type": "execute_result",
     "data": {
      "text/plain": [
       "'ana,maria,juan'"
      ]
     },
     "metadata": {},
     "execution_count": 6
    }
   ],
   "metadata": {}
  },
  {
   "cell_type": "code",
   "execution_count": 42,
   "source": [
    "# Crear una función que devuelva (return) una lista con todos \r\n",
    "# los nombres  de alumnos cuyo nombre tenga una longitud mayor a 11\r\n",
    "# y cuya edad sea mayor a 35\r\n",
    "\r\n",
    "lista_estudiantes_sin_profes\r\n",
    "\r\n",
    "def funcion_ejercicio1(pepito):\r\n",
    "\r\n",
    "    lista_nombres_filtrada = []\r\n",
    "\r\n",
    "    for estudiante_tupla in pepito:\r\n",
    "        nombre = estudiante_tupla[0]\r\n",
    "        edad = estudiante_tupla[1]\r\n",
    "        if len(nombre) > 11 and edad > 35:\r\n",
    "            lista_nombres_filtrada.append(nombre)\r\n",
    "    return lista_nombres_filtrada\r\n",
    "\r\n",
    "x = funcion_ejercicio1(pepito=lista_estudiantes_sin_profes)\r\n",
    "print(x)\r\n"
   ],
   "outputs": [
    {
     "output_type": "stream",
     "name": "stdout",
     "text": [
      "['Silvia Pasinato', 'Francisco Palma', 'Jesús Llanes', 'Jennifer Sanchez']\n"
     ]
    }
   ],
   "metadata": {}
  },
  {
   "cell_type": "code",
   "execution_count": 43,
   "source": [
    "def funcion_ejercicio1_generico(pepito, longitud_nombre=11, min_edad=36):\r\n",
    "\r\n",
    "    lista_nombres_filtrada = []\r\n",
    "\r\n",
    "    for estudiante_tupla in pepito:\r\n",
    "        nombre = estudiante_tupla[0]\r\n",
    "        edad = estudiante_tupla[1]\r\n",
    "        if len(nombre) >= longitud_nombre and edad >= min_edad:\r\n",
    "            lista_nombres_filtrada.append(nombre)\r\n",
    "    return lista_nombres_filtrada\r\n",
    "\r\n",
    "x = funcion_ejercicio1_generico(pepito=lista_estudiantes_sin_profes,\r\n",
    "                       longitud_nombre=7, min_edad=18)\r\n",
    "print(x)"
   ],
   "outputs": [
    {
     "output_type": "stream",
     "name": "stdout",
     "text": [
      "['Piero Termini', 'Marta Buesa', 'Silvia Pasinato', 'Faro Zamani', 'Alejandro Medina', 'Francisco Palma', 'Jorge Duque', 'Jesús Llanes', 'Luis Pech', 'Marta Gómez', 'Jennifer Sanchez', 'Diego Isla', 'Nuria Brocar', 'Antonio Campaña', 'Isabella Schindowski', 'Juan Maniglia', 'David Suárez', 'Antonio Jiménez', 'Carlos Hernández', 'Erik Urresta', 'Marcos Lobo', 'Natalia Fernandez']\n"
     ]
    }
   ],
   "metadata": {}
  },
  {
   "cell_type": "code",
   "execution_count": 46,
   "source": [
    "palito = \"|\"\r\n",
    "raya_baja = \"_\"\r\n",
    "\r\n",
    "print(palito + raya_baja + palito + raya_baja + palito + raya_baja + palito)"
   ],
   "outputs": [
    {
     "output_type": "stream",
     "name": "stdout",
     "text": [
      "|_|_|_|\n"
     ]
    }
   ],
   "metadata": {}
  },
  {
   "cell_type": "code",
   "execution_count": 50,
   "source": [
    "ele = \"|_\" \r\n",
    "(ele * 3) + \"|\" "
   ],
   "outputs": [
    {
     "output_type": "execute_result",
     "data": {
      "text/plain": [
       "'|_|_|_|'"
      ]
     },
     "metadata": {},
     "execution_count": 50
    }
   ],
   "metadata": {}
  },
  {
   "cell_type": "code",
   "execution_count": 52,
   "source": [
    "palito = \"|\"\r\n",
    "raya_baja = \"_\"\r\n",
    "\r\n",
    "ele = \"\"\r\n",
    "for i in range(3):\r\n",
    "    ele = palito + raya_baja\r\n",
    "    fila_completa = (ele * 3) + palito \r\n",
    "    print(fila_completa)\r\n"
   ],
   "outputs": [
    {
     "output_type": "stream",
     "name": "stdout",
     "text": [
      "|_|_|_|\n",
      "|_|_|_|\n",
      "|_|_|_|\n"
     ]
    }
   ],
   "metadata": {}
  },
  {
   "cell_type": "code",
   "execution_count": 55,
   "source": [
    "def crea_tablero(f, c):\r\n",
    "    palito = \"|\"\r\n",
    "    raya_baja = \"_\"\r\n",
    "\r\n",
    "    ele = \"\"\r\n",
    "    for i in range(f):\r\n",
    "        ele = palito + raya_baja\r\n",
    "        fila_completa = (ele * c) + palito \r\n",
    "        print(fila_completa)\r\n",
    "\r\n",
    "crea_tablero(f=9, c=9)\r\n",
    "\r\n"
   ],
   "outputs": [
    {
     "output_type": "stream",
     "name": "stdout",
     "text": [
      "|_|_|_|_|_|_|_|_|_|\n",
      "|_|_|_|_|_|_|_|_|_|\n",
      "|_|_|_|_|_|_|_|_|_|\n",
      "|_|_|_|_|_|_|_|_|_|\n",
      "|_|_|_|_|_|_|_|_|_|\n",
      "|_|_|_|_|_|_|_|_|_|\n",
      "|_|_|_|_|_|_|_|_|_|\n",
      "|_|_|_|_|_|_|_|_|_|\n",
      "|_|_|_|_|_|_|_|_|_|\n"
     ]
    }
   ],
   "metadata": {}
  },
  {
   "cell_type": "code",
   "execution_count": 56,
   "source": [
    "l = {2, 3, 5, 7, 1}\r\n",
    "\r\n",
    "print(l[0])"
   ],
   "outputs": [
    {
     "output_type": "error",
     "ename": "TypeError",
     "evalue": "'set' object does not support indexing",
     "traceback": [
      "\u001b[1;31m---------------------------------------------------------------------------\u001b[0m",
      "\u001b[1;31mTypeError\u001b[0m                                 Traceback (most recent call last)",
      "\u001b[1;32m<ipython-input-56-85149f9ec9aa>\u001b[0m in \u001b[0;36m<module>\u001b[1;34m\u001b[0m\n\u001b[0;32m      1\u001b[0m \u001b[0ml\u001b[0m \u001b[1;33m=\u001b[0m \u001b[1;33m{\u001b[0m\u001b[1;36m2\u001b[0m\u001b[1;33m,\u001b[0m \u001b[1;36m3\u001b[0m\u001b[1;33m,\u001b[0m \u001b[1;36m5\u001b[0m\u001b[1;33m,\u001b[0m \u001b[1;36m7\u001b[0m\u001b[1;33m,\u001b[0m \u001b[1;36m1\u001b[0m\u001b[1;33m}\u001b[0m\u001b[1;33m\u001b[0m\u001b[0m\n\u001b[0;32m      2\u001b[0m \u001b[1;33m\u001b[0m\u001b[0m\n\u001b[1;32m----> 3\u001b[1;33m \u001b[0mprint\u001b[0m\u001b[1;33m(\u001b[0m\u001b[0ml\u001b[0m\u001b[1;33m[\u001b[0m\u001b[1;36m0\u001b[0m\u001b[1;33m]\u001b[0m\u001b[1;33m)\u001b[0m\u001b[1;33m\u001b[0m\u001b[0m\n\u001b[0m",
      "\u001b[1;31mTypeError\u001b[0m: 'set' object does not support indexing"
     ]
    }
   ],
   "metadata": {}
  },
  {
   "cell_type": "code",
   "execution_count": 62,
   "source": [
    "x = (\"2\")\r\n",
    "type(x)"
   ],
   "outputs": [
    {
     "output_type": "execute_result",
     "data": {
      "text/plain": [
       "str"
      ]
     },
     "metadata": {},
     "execution_count": 62
    }
   ],
   "metadata": {}
  }
 ],
 "metadata": {
  "orig_nbformat": 4,
  "language_info": {
   "name": "python",
   "version": "3.6.4",
   "mimetype": "text/x-python",
   "codemirror_mode": {
    "name": "ipython",
    "version": 3
   },
   "pygments_lexer": "ipython3",
   "nbconvert_exporter": "python",
   "file_extension": ".py"
  },
  "kernelspec": {
   "name": "python3",
   "display_name": "Python 3.6.4 64-bit"
  },
  "interpreter": {
   "hash": "e05034a492cd28020b141b637ab43cad260081b164a40cac23ec4809d29fc4bf"
  }
 },
 "nbformat": 4,
 "nbformat_minor": 2
}