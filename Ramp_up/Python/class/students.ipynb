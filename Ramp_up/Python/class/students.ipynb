{
 "cells": [
  {
   "cell_type": "code",
   "execution_count": 1,
   "source": [
    "student_list = [(\"Gabriel Vázquez\", 29, 1.75), (\"Leonardo Sánchez\", 24, 1.82), (\"Piero Termini\", 25, 1.71), (\"Marta Buesa\", 35, 1.66), (\"Silvia Pasinato\", 37, 1.63), (\"Faro Zamani\", 29, 1.90), ('Miguel Nievas', 27, 1.80), (\"Alejandro Medina\", 28, 1.70), (\"Cristina Martínez\", 32, 1.60), (\"Francisco Palma\", 36, 1.74), (\"Jorge Duque\", 45, 1.72), (\"Jesús Llanes\", 41, 1.65), (\"Luis Pech\", 18, 1.71), (\"Marta Gómez\", 30, 1.65), (\"Jennifer Sanchez\", 40, 1.60), (\"Diego Isla\", 39, 1.80), (\"Nuria Brocar\", 35, 1.75), (\"Antonio Campaña\", 23, 1.77), (\"Isabella Schindowski\", 34, 1.60), (\"Juan Maniglia\", 32, 1.75), (\"David Suárez\", 27, 1.70), (\"Antonio Jiménez\", 34, 1.80), (\"Carlos Hernández\", 27, 1.77), (\"Erik Urresta\", 28, 1.70), (\"Marcos Lobo\", 35, 1.80), (\"Natalia Fernandez\", 31, 1.70)]\r\n",
    "\r\n",
    "print(student_list)\r\n",
    "#import random\r\n",
    "#random.choice(student_list)"
   ],
   "outputs": [
    {
     "output_type": "stream",
     "name": "stdout",
     "text": [
      "[('Gabriel Vázquez', 29, 1.75), ('Leonardo Sánchez', 24, 1.82), ('Piero Termini', 25, 1.71), ('Marta Buesa', 35, 1.66), ('Silvia Pasinato', 37, 1.63), ('Faro Zamani', 29, 1.9), ('Miguel Nievas', 27, 1.8), ('Alejandro Medina', 28, 1.7), ('Cristina Martínez', 32, 1.6), ('Francisco Palma', 36, 1.74), ('Jorge Duque', 45, 1.72), ('Jesús Llanes', 41, 1.65), ('Luis Pech', 18, 1.71), ('Marta Gómez', 30, 1.65), ('Jennifer Sanchez', 40, 1.6), ('Diego Isla', 39, 1.8), ('Nuria Brocar', 35, 1.75), ('Antonio Campaña', 23, 1.77), ('Isabella Schindowski', 34, 1.6), ('Juan Maniglia', 32, 1.75), ('David Suárez', 27, 1.7), ('Antonio Jiménez', 34, 1.8), ('Carlos Hernández', 27, 1.77), ('Erik Urresta', 28, 1.7), ('Marcos Lobo', 35, 1.8), ('Natalia Fernandez', 31, 1.7)]\n"
     ]
    }
   ],
   "metadata": {}
  },
  {
   "cell_type": "code",
   "execution_count": null,
   "source": [
    "# Crea una lista de alturas de alumnos\r\n",
    "# Crea una lista de edad de alumnos\r\n",
    "# Muestra por pantalla la altura del alumno, \":\", y edad de alumno \r\n",
    "# a partir de las dos listas creadas\r\n"
   ],
   "outputs": [],
   "metadata": {}
  },
  {
   "cell_type": "code",
   "execution_count": 4,
   "source": [
    "gabriel = \"Gabriel Vázquez\"\r\n",
    "miguel = \"Miguel Nievas\"\r\n",
    "cristina = \"Cristina Martínez\"\r\n",
    "leo = \"Leonardo Sánchez\"\r\n",
    "\r\n",
    "lista_nombres_profes = [gabriel, miguel, cristina, leo]\r\n",
    "lista_estudiantes_sin_profes = []\r\n",
    "# 1. eliminar las tuplas que contengan a los 4 profesores de la lista de\r\n",
    "# estudiantes a partir del nombre\r\n",
    "# 2. crear una lista que contenga solo los nombres de los alumnos\r\n",
    "\r\n",
    "for persona_tupla in student_list:\r\n",
    "    nombre = persona_tupla[0]\r\n",
    "    if not (nombre in lista_nombres_profes):  # Si no es un profe\r\n",
    "        lista_estudiantes_sin_profes.append(persona_tupla)\r\n",
    "\r\n",
    "lista_estudiantes_sin_profes"
   ],
   "outputs": [
    {
     "output_type": "execute_result",
     "data": {
      "text/plain": [
       "[('Piero Termini', 25, 1.71),\n",
       " ('Marta Buesa', 35, 1.66),\n",
       " ('Silvia Pasinato', 37, 1.63),\n",
       " ('Faro Zamani', 29, 1.9),\n",
       " ('Alejandro Medina', 28, 1.7),\n",
       " ('Francisco Palma', 36, 1.74),\n",
       " ('Jorge Duque', 45, 1.72),\n",
       " ('Jesús Llanes', 41, 1.65),\n",
       " ('Luis Pech', 18, 1.71),\n",
       " ('Marta Gómez', 30, 1.65),\n",
       " ('Jennifer Sanchez', 40, 1.6),\n",
       " ('Diego Isla', 39, 1.8),\n",
       " ('Nuria Brocar', 35, 1.75),\n",
       " ('Antonio Campaña', 23, 1.77),\n",
       " ('Isabella Schindowski', 34, 1.6),\n",
       " ('Juan Maniglia', 32, 1.75),\n",
       " ('David Suárez', 27, 1.7),\n",
       " ('Antonio Jiménez', 34, 1.8),\n",
       " ('Carlos Hernández', 27, 1.77),\n",
       " ('Erik Urresta', 28, 1.7),\n",
       " ('Marcos Lobo', 35, 1.8),\n",
       " ('Natalia Fernandez', 31, 1.7)]"
      ]
     },
     "metadata": {},
     "execution_count": 4
    }
   ],
   "metadata": {}
  },
  {
   "cell_type": "code",
   "execution_count": null,
   "source": [
    "gabriel = \"Gabriel Vázquez\"\r\n",
    "miguel = \"Miguel Nievas\"\r\n",
    "cristina = \"Cristina Martínez\"\r\n",
    "leo = \"Leonardo Sánchez\"\r\n",
    "\r\n",
    "lista_nombres_profes = [gabriel, miguel, cristina, leo]\r\n",
    "lista_estudiantes_sin_profes = []\r\n",
    "# 1. eliminar las tuplas que contengan a los 4 profesores de la lista de\r\n",
    "# estudiantes a partir del nombre\r\n",
    "# 2. crear una lista que contenga solo los nombres de los alumnos\r\n",
    "\r\n",
    "for persona_tupla in student_list:\r\n",
    "    nombre = persona_tupla[0]\r\n",
    "    if nombre in lista_nombres_profes:  # Si es un profe\r\n",
    "        pass  # No hace nada\r\n",
    "    else:  # Si no es profe\r\n",
    "        lista_estudiantes_sin_profes.append(persona_tupla)\r\n",
    "\r\n",
    "lista_estudiantes_sin_profes"
   ],
   "outputs": [],
   "metadata": {}
  },
  {
   "cell_type": "code",
   "execution_count": 13,
   "source": [
    "gabriel = \"Gabriel Vázquez\"\r\n",
    "miguel = \"Miguel Nievas\"\r\n",
    "cristina = \"Cristina Martínez\"\r\n",
    "leo = \"Leonardo Sánchez\"\r\n",
    "\r\n",
    "lista_nombres_profes = [gabriel, miguel, cristina, leo]\r\n",
    "\r\n",
    "for profe in lista_nombres_profes:\r\n",
    "    if profe == miguel:\r\n",
    "        print(\"Salta al siguiente porque es Miguel\")\r\n",
    "        continue  # Salta al siguiente elemento de la colección\r\n",
    "    print(profe)\r\n",
    "\r\n",
    "for profe in lista_nombres_profes:\r\n",
    "    if profe != miguel: \r\n",
    "        print(profe)"
   ],
   "outputs": [
    {
     "output_type": "stream",
     "name": "stdout",
     "text": [
      "Gabriel Vázquez\n",
      "Salta al siguiente porque es Miguel\n",
      "Cristina Martínez\n",
      "Leonardo Sánchez\n",
      "Gabriel Vázquez\n",
      "Cristina Martínez\n",
      "Leonardo Sánchez\n"
     ]
    }
   ],
   "metadata": {}
  },
  {
   "cell_type": "code",
   "execution_count": 12,
   "source": [
    "gabriel = \"Gabriel Vázquez\"\r\n",
    "miguel = \"Miguel Nievas\"\r\n",
    "cristina = \"Cristina Martínez\"\r\n",
    "leo = \"Leonardo Sánchez\"\r\n",
    "\r\n",
    "lista_nombres_profes = [gabriel, miguel, cristina, leo]\r\n",
    "\r\n",
    "for profe in lista_nombres_profes:\r\n",
    "    if profe == miguel:\r\n",
    "        break  # Se para el bucle\r\n",
    "    print(profe)\r\n",
    "\r\n",
    "print(\"fuera de bucle\")"
   ],
   "outputs": [
    {
     "output_type": "stream",
     "name": "stdout",
     "text": [
      "Gabriel Vázquez\n",
      "fuera de bucle\n"
     ]
    }
   ],
   "metadata": {}
  },
  {
   "cell_type": "code",
   "execution_count": null,
   "source": [
    "gabriel = \"Gabriel Vázquez\"\r\n",
    "miguel = \"Miguel Nievas\"\r\n",
    "cristina = \"Cristina Martínez\"\r\n",
    "leo = \"Leonardo Sánchez\"\r\n",
    "\r\n",
    "lista_nombres_profes = [gabriel, miguel, cristina, leo]\r\n",
    "lista_estudiantes_sin_profes = []\r\n",
    "# 1. eliminar las tuplas que contengan a los 4 profesores de la lista de\r\n",
    "# estudiantes a partir del nombre\r\n",
    "# 2. crear una lista que contenga solo los nombres de los alumnos\r\n",
    "\r\n",
    "for persona_tupla in student_list:\r\n",
    "    nombre = persona_tupla[0]\r\n",
    "    if nombre in lista_nombres_profes:  # Si es un profe\r\n",
    "        continue  # No hace nada\r\n",
    "    else:  # Si no es profe\r\n",
    "        lista_estudiantes_sin_profes.append(persona_tupla)\r\n",
    "\r\n",
    "lista_estudiantes_sin_profes"
   ],
   "outputs": [],
   "metadata": {}
  },
  {
   "cell_type": "code",
   "execution_count": null,
   "source": [
    "# Ocurre el problema de eliminar el elemento en la misma posición en la que está el bucle.\r\n",
    "\r\n",
    "for student_tupla in student_list:\r\n",
    "    nombre = student_tupla[0]\r\n",
    "    if nombre in lista_nombres_profes:  # Si nombre está en la 'lista_nombres_profes'\r\n",
    "        print(student_tupla)\r\n",
    "        student_list.remove(student_tupla)\r\n",
    "print(student_list)"
   ],
   "outputs": [],
   "metadata": {}
  },
  {
   "cell_type": "code",
   "execution_count": null,
   "source": [
    "for student_tupla in student_list:\r\n",
    "    nombre = student_tupla[0]\r\n",
    "    if nombre == gabriel or nombre == miguel or nombre == cristina or nombre == leo:\r\n",
    "        print(student_tupla)"
   ],
   "outputs": [],
   "metadata": {}
  },
  {
   "cell_type": "code",
   "execution_count": 10,
   "source": [
    "lista = [\"A\", \"C\", \"G\", 67]\r\n",
    "\r\n",
    "for pos, elem in enumerate(lista):\r\n",
    "    print(\"pos:\", pos)\r\n",
    "    print()\r\n",
    "    if elem == \"A\" or elem == \"G\":\r\n",
    "        lista.remove(elem)\r\n",
    "\r\n",
    "print(lista)"
   ],
   "outputs": [
    {
     "output_type": "stream",
     "name": "stdout",
     "text": [
      "['A', 'C', 'G', 67]\n",
      "['C', 'G', 67]\n",
      "['C', 67]\n"
     ]
    }
   ],
   "metadata": {}
  },
  {
   "cell_type": "code",
   "execution_count": 9,
   "source": [
    "lista = [\"A\", \"C\", \"G\", 67]\r\n",
    "\r\n",
    "if \"A\" in lista:\r\n",
    "    print(True)\r\n",
    "else:\r\n",
    "    print(False)"
   ],
   "outputs": [
    {
     "output_type": "stream",
     "name": "stdout",
     "text": [
      "True\n"
     ]
    }
   ],
   "metadata": {}
  },
  {
   "cell_type": "code",
   "execution_count": 24,
   "source": [
    "# ejercicio: eliminar a los 4 profes de la lista completa\r\n",
    "gabriel = \"Gabriel Vázquez\"\r\n",
    "miguel = \"Miguel Nievas\"\r\n",
    "cristian = \"Cristina Martínez\"\r\n",
    "leo = \"Leonardo Sánchez\"\r\n",
    "\r\n",
    "lista_nombres_profes = [gabriel, miguel, cristian, leo]\r\n",
    "\r\n",
    "for student_tupla in student_list:\r\n",
    "    if student_tupla[0] in lista_nombres_profes:\r\n",
    "        student_list.remove(student_tupla)\r\n",
    "print(\"----- Aquí imprimo la lista SIN los profes: -----\")\r\n",
    "print(student_list)\r\n",
    "print(\"----- FIN ejercicio 1 -----\")"
   ],
   "outputs": [
    {
     "output_type": "stream",
     "name": "stdout",
     "text": [
      "----- Aquí imprimo la lista SIN los profes: -----\n",
      "[('Piero Termini', 25, 1.71), ('Marta Buesa', 35, 1.66), ('Silvia Pasinato', 37, 1.63), ('Faro Zamani', 29, 1.9), ('Alejandro Medina', 28, 1.7), ('Francisco Palma', 36, 1.74), ('Jorge Duque', 45, 1.72), ('Jesús Llanes', 41, 1.65), ('Luis Pech', 18, 1.71), ('Marta Gómez', 30, 1.65), ('Jennifer Sanchez', 40, 1.6), ('Diego Isla', 39, 1.8), ('Nuria Brocar', 35, 1.75), ('Antonio Campaña', 23, 1.77), ('Isabella Schindowski', 34, 1.6), ('Juan Maniglia', 32, 1.75), ('David Suárez', 27, 1.7), ('Antonio Jiménez', 34, 1.8), ('Carlos Hernández', 27, 1.77), ('Erik Urresta', 28, 1.7), ('Marcos Lobo', 35, 1.8), ('Natalia Fernandez', 31, 1.7)]\n",
      "----- FIN ejercicio 1 -----\n"
     ]
    }
   ],
   "metadata": {}
  },
  {
   "cell_type": "code",
   "execution_count": 6,
   "source": [
    "lista = [\"ana\", \"maria\", \"juan\"]\r\n",
    "\r\n",
    "a_mostrar = \"\"\r\n",
    "for elem in lista:\r\n",
    "    a_mostrar += elem\r\n",
    "    if elem != lista[-1]:\r\n",
    "        a_mostrar += \",\"\r\n",
    "a_mostrar"
   ],
   "outputs": [
    {
     "output_type": "execute_result",
     "data": {
      "text/plain": [
       "'ana,maria,juan'"
      ]
     },
     "metadata": {},
     "execution_count": 6
    }
   ],
   "metadata": {}
  }
 ],
 "metadata": {
  "orig_nbformat": 4,
  "language_info": {
   "name": "python",
   "version": "3.6.4",
   "mimetype": "text/x-python",
   "codemirror_mode": {
    "name": "ipython",
    "version": 3
   },
   "pygments_lexer": "ipython3",
   "nbconvert_exporter": "python",
   "file_extension": ".py"
  },
  "kernelspec": {
   "name": "python3",
   "display_name": "Python 3.6.4 64-bit"
  },
  "interpreter": {
   "hash": "e05034a492cd28020b141b637ab43cad260081b164a40cac23ec4809d29fc4bf"
  }
 },
 "nbformat": 4,
 "nbformat_minor": 2
}