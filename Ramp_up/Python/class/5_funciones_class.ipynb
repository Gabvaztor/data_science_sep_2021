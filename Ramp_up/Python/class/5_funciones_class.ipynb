{
 "cells": [
  {
   "cell_type": "markdown",
   "source": [
    "# Apartado 5 - Funciones"
   ],
   "metadata": {}
  },
  {
   "cell_type": "markdown",
   "source": [
    "- funciones con & sin `return`\r\n",
    "- funciones con valores por defecto\r\n",
    "- recursividad\r\n",
    "- parámetros (opcionales)\r\n",
    "- variables locales y globales"
   ],
   "metadata": {}
  },
  {
   "cell_type": "markdown",
   "source": [
    "--------------------------------------------------------------------------------------"
   ],
   "metadata": {}
  },
  {
   "cell_type": "code",
   "execution_count": 2,
   "source": [
    "# Para sacar la media de una lista de números\r\n",
    "lista = [2, 5, 6]\r\n",
    "suma_total = 0\r\n",
    "for valor_elem in lista:\r\n",
    "    suma_total += valor_elem\r\n",
    "media = suma_total / len(lista)\r\n",
    "print(media)"
   ],
   "outputs": [
    {
     "output_type": "stream",
     "name": "stdout",
     "text": [
      "4.333333333333333\n"
     ]
    }
   ],
   "metadata": {}
  },
  {
   "cell_type": "code",
   "execution_count": 8,
   "source": [
    "def nombre_funcion():\r\n",
    "    print(\"Entra función\")\r\n",
    "    print(\"Acaba función\")\r\n",
    "\r\n",
    "nombre_funcion()\r\n",
    "print(\"END\")"
   ],
   "outputs": [
    {
     "output_type": "stream",
     "name": "stdout",
     "text": [
      "Entra función\n",
      "Acaba función\n",
      "END\n"
     ]
    }
   ],
   "metadata": {}
  },
  {
   "cell_type": "code",
   "execution_count": 9,
   "source": [
    "nombre_funcion()"
   ],
   "outputs": [
    {
     "output_type": "stream",
     "name": "stdout",
     "text": [
      "Entra función\n",
      "Acaba función\n"
     ]
    }
   ],
   "metadata": {}
  },
  {
   "cell_type": "code",
   "execution_count": 11,
   "source": [
    "def funcion_simple(a):\r\n",
    "    print(a)\r\n",
    "\r\n",
    "funcion_simple(a=\"Hola\")\r\n",
    "funcion_simple(a=\"Adios\")"
   ],
   "outputs": [
    {
     "output_type": "stream",
     "name": "stdout",
     "text": [
      "Hola\n",
      "Adios\n"
     ]
    }
   ],
   "metadata": {}
  },
  {
   "cell_type": "code",
   "execution_count": 20,
   "source": [
    "def funcion_suma(a, b):\r\n",
    "    if isinstance(a, (int, float)) and isinstance(b, (int, float)):\r\n",
    "        z = a + b\r\n",
    "        print(z)\r\n",
    "    else: \r\n",
    "        print(\"Deben ser números\")\r\n",
    "\r\n",
    "funcion_suma(a=412, b=158)"
   ],
   "outputs": [
    {
     "output_type": "stream",
     "name": "stdout",
     "text": [
      "570\n"
     ]
    }
   ],
   "metadata": {}
  },
  {
   "cell_type": "code",
   "execution_count": 15,
   "source": [
    "funcion_suma(a=-124, b=-158)"
   ],
   "outputs": [
    {
     "output_type": "stream",
     "name": "stdout",
     "text": [
      "-282\n"
     ]
    }
   ],
   "metadata": {}
  },
  {
   "cell_type": "code",
   "execution_count": 21,
   "source": [
    "funcion_suma(a=\"A\", b=158)"
   ],
   "outputs": [
    {
     "output_type": "stream",
     "name": "stdout",
     "text": [
      "Deben ser números\n"
     ]
    }
   ],
   "metadata": {}
  },
  {
   "cell_type": "code",
   "execution_count": 22,
   "source": [
    "def f_sin_parametros():\r\n",
    "    x = 2 + 2\r\n",
    "\r\n",
    "f_sin_parametros()"
   ],
   "outputs": [],
   "metadata": {}
  },
  {
   "cell_type": "code",
   "execution_count": 23,
   "source": [
    "def f_con_parametros(param):\r\n",
    "    x = 2 + param\r\n",
    "    print(x)\r\n",
    "\r\n",
    "f_con_parametros(param=6)"
   ],
   "outputs": [
    {
     "output_type": "stream",
     "name": "stdout",
     "text": [
      "8\n"
     ]
    }
   ],
   "metadata": {}
  },
  {
   "cell_type": "code",
   "execution_count": 24,
   "source": [
    "def f_con_parametros(param):\r\n",
    "    x = 2 + param\r\n",
    "    print(x)\r\n",
    "\r\n",
    "f_con_parametros(param=6)"
   ],
   "outputs": [
    {
     "output_type": "stream",
     "name": "stdout",
     "text": [
      "8\n"
     ]
    }
   ],
   "metadata": {}
  },
  {
   "cell_type": "code",
   "execution_count": 44,
   "source": [
    "import random\r\n",
    "\r\n",
    "random.choice([1, 5, 9])"
   ],
   "outputs": [
    {
     "output_type": "execute_result",
     "data": {
      "text/plain": [
       "9"
      ]
     },
     "metadata": {},
     "execution_count": 44
    }
   ],
   "metadata": {}
  },
  {
   "cell_type": "code",
   "execution_count": 59,
   "source": [
    "def funcion_hace_media(lista_de_numeros):\r\n",
    "    \"\"\"\r\n",
    "    Esto solo sirve para una colección de números\r\n",
    "    \"\"\" \r\n",
    "    suma_total = 0\r\n",
    "    for valor_elem in lista_de_numeros:\r\n",
    "        suma_total += valor_elem\r\n",
    "    media = suma_total / len(lista_de_numeros)\r\n",
    "    print(media)\r\n",
    "    return(media)\r\n",
    "  \r\n",
    "l = [2, 3, 1, -231]\r\n",
    "k = (20, 30, 0, -2)\r\n",
    "\r\n",
    "funcion_hace_media(lista_de_numeros=l)\r\n"
   ],
   "outputs": [
    {
     "output_type": "stream",
     "name": "stdout",
     "text": [
      "-56.25\n"
     ]
    },
    {
     "output_type": "execute_result",
     "data": {
      "text/plain": [
       "-56.25"
      ]
     },
     "metadata": {},
     "execution_count": 59
    }
   ],
   "metadata": {}
  },
  {
   "cell_type": "code",
   "execution_count": 60,
   "source": [
    "2"
   ],
   "outputs": [
    {
     "output_type": "execute_result",
     "data": {
      "text/plain": [
       "2"
      ]
     },
     "metadata": {},
     "execution_count": 60
    }
   ],
   "metadata": {}
  },
  {
   "cell_type": "code",
   "execution_count": 52,
   "source": [
    "student_list = [(\"Gabriel Vázquez\", 29, 1.75), (\"Leonardo Sánchez\", 24, 1.82), (\"Piero Termini\", 25, 1.71), (\"Marta Buesa\", 35, 1.66), (\"Silvia Pasinato\", 37, 1.63), (\"Faro Zamani\", 29, 1.90), ('Miguel Nievas', 27, 1.80), (\"Alejandro Medina\", 28, 1.70), (\"Cristina Martínez\", 32, 1.60), (\"Francisco Palma\", 36, 1.74), (\"Jorge Duque\", 45, 1.72), (\"Jesús Llanes\", 41, 1.65), (\"Luis Pech\", 18, 1.71), (\"Marta Gómez\", 30, 1.65), (\"Jennifer Sanchez\", 40, 1.60), (\"Diego Isla\", 39, 1.80), (\"Nuria Brocar\", 35, 1.75), (\"Antonio Campaña\", 23, 1.77), (\"Isabella Schindowski\", 34, 1.60), (\"Juan Maniglia\", 32, 1.75), (\"David Suárez\", 27, 1.70), (\"Antonio Jiménez\", 34, 1.80), (\"Carlos Hernández\", 27, 1.77), (\"Erik Urresta\", 28, 1.70), (\"Marcos Lobo\", 35, 1.80), (\"Natalia Fernandez\", 31, 1.70)]\r\n",
    "\r\n",
    "# lista con todas las edades\r\n",
    "lista_edades = []\r\n",
    "for student_tupla in student_list:\r\n",
    "    edad = student_tupla[1]\r\n",
    "    lista_edades.append()\r\n",
    "print(lista_edades)"
   ],
   "outputs": [
    {
     "output_type": "stream",
     "name": "stdout",
     "text": [
      "[29, 24, 25, 35, 37, 29, 27, 28, 32, 36, 45, 41, 18, 30, 40, 39, 35, 23, 34, 32, 27, 34, 27, 28, 35, 31]\n"
     ]
    }
   ],
   "metadata": {}
  },
  {
   "cell_type": "code",
   "execution_count": 58,
   "source": [
    "media = funcion_hace_media(lista_de_numeros=lista_edades)\r\n",
    "print(\"media:\", media)\r\n",
    "print(\"media + 2:\", media + 2)"
   ],
   "outputs": [
    {
     "output_type": "stream",
     "name": "stdout",
     "text": [
      "31.576923076923077\n",
      "media: 31.576923076923077\n",
      "media + 2: 33.57692307692308\n"
     ]
    }
   ],
   "metadata": {}
  },
  {
   "cell_type": "code",
   "execution_count": 47,
   "source": [
    "def sin_return():\r\n",
    "    print(2)\r\n",
    "\r\n",
    "x = sin_return()\r\n",
    "print(\"x:\", x)"
   ],
   "outputs": [
    {
     "output_type": "stream",
     "name": "stdout",
     "text": [
      "2\n",
      "x: None\n"
     ]
    }
   ],
   "metadata": {}
  },
  {
   "cell_type": "code",
   "execution_count": 51,
   "source": [
    "def con_return():\r\n",
    "    print(2)\r\n",
    "    return 1\r\n",
    "\r\n",
    "x = con_return()\r\n",
    "print(\"x:\", x)"
   ],
   "outputs": [
    {
     "output_type": "stream",
     "name": "stdout",
     "text": [
      "2\n",
      "x: 1\n"
     ]
    }
   ],
   "metadata": {}
  },
  {
   "cell_type": "code",
   "execution_count": 50,
   "source": [
    "lista = [2, 4]\r\n",
    "\r\n",
    "x = lista.pop()\r\n",
    "y = lista.remove(2)\r\n",
    "\r\n",
    "print(\"x:\", x)\r\n",
    "print(\"y:\", y)"
   ],
   "outputs": [
    {
     "output_type": "stream",
     "name": "stdout",
     "text": [
      "x: 4\n",
      "y: None\n"
     ]
    }
   ],
   "metadata": {}
  },
  {
   "cell_type": "code",
   "execution_count": null,
   "source": [
    "# Parámetros: opcionales \r\n",
    "# No tiene restricciones a la hora de pasarle un valor\r\n",
    "\r\n",
    "# Return (opcional)\r\n",
    "# Si no tiene return es como si tuviera 'return None'\r\n",
    "# Si tiene return, la función devuelve lo que retorna\r\n",
    "\r\n",
    "\r\n"
   ],
   "outputs": [],
   "metadata": {}
  },
  {
   "cell_type": "markdown",
   "source": [
    "## Funciones `print`"
   ],
   "metadata": {}
  },
  {
   "cell_type": "code",
   "execution_count": 4,
   "source": [
    "print(\"Yo soy 'así'\")"
   ],
   "outputs": [
    {
     "output_type": "stream",
     "name": "stdout",
     "text": [
      "Yo soy 'así'\n"
     ]
    }
   ],
   "metadata": {}
  },
  {
   "cell_type": "code",
   "execution_count": 5,
   "source": [
    "print('Yo soy \"así\"')"
   ],
   "outputs": [
    {
     "output_type": "stream",
     "name": "stdout",
     "text": [
      "Yo soy \"así\"\n"
     ]
    }
   ],
   "metadata": {}
  },
  {
   "cell_type": "code",
   "execution_count": 6,
   "source": [
    "_ = \"así\"\r\n",
    "print(\"Yo soy \" + _ + \" .\")"
   ],
   "outputs": [
    {
     "output_type": "stream",
     "name": "stdout",
     "text": [
      "Yo soy así .\n"
     ]
    }
   ],
   "metadata": {}
  },
  {
   "cell_type": "code",
   "execution_count": 7,
   "source": [
    "_ = 15\n",
    "x = \"Yo tengo \" + str(_) + \" años.\"\n",
    "print(x)"
   ],
   "outputs": [
    {
     "output_type": "stream",
     "name": "stdout",
     "text": [
      "Yo tengo 15 años.\n"
     ]
    }
   ],
   "metadata": {}
  },
  {
   "cell_type": "code",
   "execution_count": 8,
   "source": [
    "print(\"Yo tengo\", _ , \" años.\")"
   ],
   "outputs": [
    {
     "output_type": "stream",
     "name": "stdout",
     "text": [
      "Yo tengo 15  años.\n"
     ]
    }
   ],
   "metadata": {}
  },
  {
   "cell_type": "code",
   "execution_count": 9,
   "source": [
    "def prtn(x, r, y, t):\n",
    "    print(x + r + y + t)\n",
    "\n",
    "prtn(x=\"Yo\", r=\" tengo\", y=\" 15\", t=\" años.\")"
   ],
   "outputs": [
    {
     "output_type": "stream",
     "name": "stdout",
     "text": [
      "Yo tengo 15 años.\n"
     ]
    }
   ],
   "metadata": {}
  },
  {
   "cell_type": "code",
   "execution_count": 3,
   "source": [
    "def prtn(x, r, y, t):\n",
    "    print(x + r + y + t)\n",
    "\n",
    "prtn(\"Yo\", \" tengo\", \" 15\", \" años.\")"
   ],
   "outputs": [
    {
     "output_type": "stream",
     "name": "stdout",
     "text": [
      "Yo tengo 15 años.\n"
     ]
    }
   ],
   "metadata": {}
  },
  {
   "cell_type": "code",
   "execution_count": 10,
   "source": [
    "def p(*args):\n",
    "    print(args)\n",
    "\n",
    "p(2, 4, 6, 8, 3, 1, 3)"
   ],
   "outputs": [
    {
     "output_type": "stream",
     "name": "stdout",
     "text": [
      "(2, 4, 6, 8, 3, 1, 3)\n"
     ]
    }
   ],
   "metadata": {}
  },
  {
   "cell_type": "code",
   "execution_count": null,
   "source": [
    "def x():\n",
    "    a = 2\n",
    "    b = 4\n",
    "    suma = a + b\n",
    "    print(suma)\n",
    "\n",
    "x()"
   ],
   "outputs": [],
   "metadata": {}
  },
  {
   "cell_type": "markdown",
   "source": [
    "--------------------------------------------------------------------------------------"
   ],
   "metadata": {}
  },
  {
   "cell_type": "markdown",
   "source": [
    "## Funciones `return`"
   ],
   "metadata": {}
  },
  {
   "cell_type": "code",
   "execution_count": 12,
   "source": [
    "def x():\n",
    "    a = 2\n",
    "    b = 4\n",
    "    suma = a + b\n",
    "    #print(\"suma:\", suma)\n",
    "    return a\n",
    "\n",
    "z = x()\n",
    "print(\"z:\", z)"
   ],
   "outputs": [
    {
     "output_type": "stream",
     "name": "stdout",
     "text": [
      "z: 2\n"
     ]
    }
   ],
   "metadata": {}
  },
  {
   "cell_type": "code",
   "execution_count": 13,
   "source": [
    "a = 3\n",
    "\n",
    "def nombre_funcion():\n",
    "    a = 2\n",
    "    b = 4\n",
    "    suma3 = a + b\n",
    "    print(\"suma3:\", suma3)\n",
    "\n",
    "print(\"a:\", a)\n",
    "nombre_funcion()"
   ],
   "outputs": [
    {
     "output_type": "stream",
     "name": "stdout",
     "text": [
      "a: 3\n",
      "suma3: 6\n"
     ]
    }
   ],
   "metadata": {}
  },
  {
   "cell_type": "code",
   "execution_count": null,
   "source": [
    "a = 3\n",
    "\n",
    "def nombre_funcion():\n",
    "    print(\"a2:\", a)\n",
    "    b = 4\n",
    "    suma3 = a + b\n",
    "    print(\"suma3:\", suma3)\n",
    "\n",
    "print(\"a0:\", a)\n",
    "nombre_funcion()"
   ],
   "outputs": [],
   "metadata": {}
  },
  {
   "cell_type": "code",
   "execution_count": null,
   "source": [
    "def nombre_funcion():\n",
    "    a = 2\n",
    "    b = 4\n",
    "    suma3 = a + b\n",
    "    return suma3\n",
    "    \n",
    "print(nombre_funcion())"
   ],
   "outputs": [],
   "metadata": {}
  },
  {
   "cell_type": "code",
   "execution_count": null,
   "source": [
    "def nombre_funcion():\n",
    "    a = 2\n",
    "    b = 4\n",
    "    suma3 = a + b\n",
    "    \n",
    "print(nombre_funcion())"
   ],
   "outputs": [],
   "metadata": {}
  },
  {
   "cell_type": "code",
   "execution_count": null,
   "source": [
    "s = \"HOLA\"\n",
    "s.lower()"
   ],
   "outputs": [],
   "metadata": {}
  },
  {
   "cell_type": "code",
   "execution_count": null,
   "source": [
    "def nombre_funcion():\n",
    "    a = 2\n",
    "    b = 4\n",
    "    suma3 = a + b\n",
    "    resta = a - b\n",
    "    print(suma3)\n",
    "    print(resta)\n",
    "    return resta\n",
    "    print(suma3)\n",
    "    return [\"2\", 2]\n",
    "    \n",
    "x = nombre_funcion()\n",
    "print(x)"
   ],
   "outputs": [],
   "metadata": {}
  },
  {
   "cell_type": "code",
   "execution_count": null,
   "source": [
    "def suma():\n",
    "    a = 2\n",
    "    b = 3\n",
    "    return a + b\n",
    "\n",
    "def multiplicacion():\n",
    "    a = 2\n",
    "    b = 3\n",
    "    return a * b\n",
    "\n",
    "def f():\n",
    "    x = suma()\n",
    "    y = multiplicacion()\n",
    "    h = x / y\n",
    "    return h\n",
    "\n",
    "x = f()\n",
    "print(x)"
   ],
   "outputs": [],
   "metadata": {}
  },
  {
   "cell_type": "code",
   "execution_count": null,
   "source": [
    "suma = 2 \n",
    "x = suma()"
   ],
   "outputs": [],
   "metadata": {}
  },
  {
   "cell_type": "code",
   "execution_count": 15,
   "source": [
    "# Esto es un comentario\n",
    "\"\"\" Esto es otro\"\"\" \n",
    "\n",
    "def suma_generica(arg1, arg2):\n",
    "    \"\"\" Suma arg1 y arg2 \n",
    "    Esta es la segunda línea de la documentación de la función\n",
    "    \"\"\"\n",
    "    a = 2  # Esta variable vale 2\n",
    "    return arg1 + arg2\n",
    "\n",
    "a = 3\n",
    "b = 7\n",
    "\n",
    "x = suma_generica(arg1=a, arg2=b)\n",
    "print(x)"
   ],
   "outputs": [
    {
     "output_type": "stream",
     "name": "stdout",
     "text": [
      "10\n"
     ]
    }
   ],
   "metadata": {}
  },
  {
   "cell_type": "markdown",
   "source": [
    "`help`"
   ],
   "metadata": {}
  },
  {
   "cell_type": "code",
   "execution_count": 16,
   "source": [
    "help(suma_generica)"
   ],
   "outputs": [
    {
     "output_type": "stream",
     "name": "stdout",
     "text": [
      "Help on function suma_generica in module __main__:\n",
      "\n",
      "suma_generica(arg1, arg2)\n",
      "    Suma arg1 y arg2 \n",
      "    Esta es la segunda línea de la documentación de la función\n",
      "\n"
     ]
    }
   ],
   "metadata": {}
  },
  {
   "cell_type": "code",
   "execution_count": 17,
   "source": [
    "def suma_generica(arg1, arg2):\n",
    "    \"\"\" Suma arg1 y arg2 \"\"\"\n",
    "    if arg1.isnumeric() and arg2.isnumeric():\n",
    "        return int(arg1) + int(arg2)\n",
    "    else:\n",
    "        print(\"Solo se pueden sumar números\")\n",
    "\n",
    "a = input()\n",
    "b = input()\n",
    "\n",
    "x = suma_generica(arg1=a, arg2=b)\n",
    "print(x)"
   ],
   "outputs": [
    {
     "output_type": "stream",
     "name": "stdout",
     "text": [
      " 5\n",
      " 6\n"
     ]
    },
    {
     "output_type": "stream",
     "name": "stdout",
     "text": [
      "11\n"
     ]
    }
   ],
   "metadata": {}
  },
  {
   "cell_type": "code",
   "execution_count": 18,
   "source": [
    "def suma_generica(arg1, arg2):\n",
    "    \"\"\" Suma arg1 y arg2 \"\"\"\n",
    "    if arg1.isnumeric() and arg2.isnumeric():\n",
    "        return int(arg1) + int(arg2)\n",
    "    else:\n",
    "        return \"Solo se pueden sumar números\"\n",
    "\n",
    "a = input()\n",
    "b = input()\n",
    "\n",
    "x = suma_generica(arg1=a, arg2=b)\n",
    "print(x)"
   ],
   "outputs": [
    {
     "output_type": "stream",
     "name": "stdout",
     "text": [
      " 6\n",
      " 7\n"
     ]
    },
    {
     "output_type": "stream",
     "name": "stdout",
     "text": [
      "13\n"
     ]
    }
   ],
   "metadata": {}
  },
  {
   "cell_type": "markdown",
   "source": [
    "--------------------------------------------------------------------------------------"
   ],
   "metadata": {}
  },
  {
   "cell_type": "markdown",
   "source": [
    "## Funciones con valores por defecto"
   ],
   "metadata": {}
  },
  {
   "cell_type": "code",
   "execution_count": null,
   "source": [
    "def mi_funcion_1(a, b=10):\n",
    "    return a**b\n",
    "\n",
    "r = mi_funcion(a=2)\n",
    "r"
   ],
   "outputs": [],
   "metadata": {}
  },
  {
   "cell_type": "code",
   "execution_count": null,
   "source": [
    "def mi_funcion_2(a, b=10):\n",
    "    return a**b\n",
    "\n",
    "r = mi_funcion(a=2, b=5)\n",
    "r"
   ],
   "outputs": [],
   "metadata": {}
  },
  {
   "cell_type": "code",
   "execution_count": null,
   "source": [
    "def mi_funcion_3(a, b):\n",
    "    return a**b\n",
    "\n",
    "k = int(input(\"Edad:\"))\n",
    "h = int(input(\"Altura:\"))\n",
    "\n",
    "r = mi_funcion(a=k, b=h)\n",
    "type(r)"
   ],
   "outputs": [],
   "metadata": {}
  },
  {
   "cell_type": "code",
   "execution_count": null,
   "source": [
    "b = None\n",
    "str(b)"
   ],
   "outputs": [],
   "metadata": {}
  },
  {
   "cell_type": "code",
   "execution_count": null,
   "source": [
    "def mi_funcion_4(a=5, b=None, c=None, y=None, h=None):\n",
    "    if b == None:\n",
    "        b = len(str(None))\n",
    "    return a**b\n",
    "\n",
    "r = mi_funcion()\n",
    "r"
   ],
   "outputs": [],
   "metadata": {}
  },
  {
   "cell_type": "code",
   "execution_count": null,
   "source": [
    "def mi_funcion_5(a, b=4, c=None, y=None, h=None):\n",
    "    return a**b\n",
    "\n",
    "r = mi_funcion(a=2)\n",
    "r"
   ],
   "outputs": [],
   "metadata": {}
  },
  {
   "cell_type": "code",
   "execution_count": null,
   "source": [
    "def mi_funcion_6(a, b=4, c=676, y=None, h=None):\n",
    "    return a**b\n",
    "\n",
    "r = mi_funcion(a=2)\n",
    "r"
   ],
   "outputs": [],
   "metadata": {}
  },
  {
   "cell_type": "code",
   "execution_count": null,
   "source": [
    "def mi_funcion_7(b, a=7, c=676, y=None, h=None):\n",
    "    return a**b\n",
    "\n",
    "r = mi_funcion(b=2)\n",
    "r"
   ],
   "outputs": [],
   "metadata": {}
  },
  {
   "cell_type": "markdown",
   "source": [
    "**Ejemplos:** \n",
    "\n",
    " - [Función de matplotlib](https://matplotlib.org/api/_as_gen/matplotlib.pyplot.pie.html#matplotlib.pyplot.pie)\n",
    " - [Función de pandas](https://pandas.pydata.org/pandas-docs/stable/reference/api/pandas.DataFrame.to_csv.html)\n",
    "    "
   ],
   "metadata": {}
  },
  {
   "cell_type": "markdown",
   "source": [
    "--------------------------------------------------------------------------------------"
   ],
   "metadata": {}
  },
  {
   "cell_type": "markdown",
   "source": [
    "## Recursividad"
   ],
   "metadata": {}
  },
  {
   "cell_type": "code",
   "execution_count": 19,
   "source": [
    "def nombre_funcion():\n",
    "    print(\"X\")\n",
    "    \n",
    "nombre_funcion()"
   ],
   "outputs": [
    {
     "output_type": "stream",
     "name": "stdout",
     "text": [
      "X\n"
     ]
    }
   ],
   "metadata": {}
  },
  {
   "cell_type": "code",
   "execution_count": 20,
   "source": [
    "def nombre_funcion(x):\n",
    "    print(x)\n",
    "    \n",
    "nombre_funcion(x=\"4\")"
   ],
   "outputs": [
    {
     "output_type": "stream",
     "name": "stdout",
     "text": [
      "4\n"
     ]
    }
   ],
   "metadata": {}
  },
  {
   "cell_type": "code",
   "execution_count": 21,
   "source": [
    "def nombre_funcion(x):\n",
    "    return x\n",
    "    \n",
    "s = nombre_funcion(x=3)"
   ],
   "outputs": [],
   "metadata": {}
  },
  {
   "cell_type": "code",
   "execution_count": 22,
   "source": [
    "print(s)"
   ],
   "outputs": [
    {
     "output_type": "stream",
     "name": "stdout",
     "text": [
      "3\n"
     ]
    }
   ],
   "metadata": {}
  },
  {
   "cell_type": "code",
   "execution_count": 23,
   "source": [
    "def f_recursiva():\n",
    "    print(\"X\")\n",
    "    f_recursiva()"
   ],
   "outputs": [],
   "metadata": {}
  },
  {
   "cell_type": "markdown",
   "source": [
    "```python\n",
    "def f():\n",
    "    print(\"Muestro esto\")\n",
    "    f()\n",
    "    print(\"X\")\n",
    "    \n",
    "f()\n",
    "```"
   ],
   "metadata": {}
  },
  {
   "cell_type": "code",
   "execution_count": 25,
   "source": [
    "def f(acum):\n",
    "    if acum == 10:\n",
    "        return acum\n",
    "    print(\"acum:\", acum)\n",
    "    f(acum=acum+1)\n",
    "    \n",
    "x = f(acum=0)\n",
    "print(\"x:\", x)"
   ],
   "outputs": [
    {
     "output_type": "stream",
     "name": "stdout",
     "text": [
      "acum: 0\n",
      "acum: 1\n",
      "acum: 2\n",
      "acum: 3\n",
      "acum: 4\n",
      "acum: 5\n",
      "acum: 6\n",
      "acum: 7\n",
      "acum: 8\n",
      "acum: 9\n",
      "x: None\n"
     ]
    }
   ],
   "metadata": {}
  },
  {
   "cell_type": "code",
   "execution_count": 26,
   "source": [
    "def f(acum):\n",
    "    if acum == 0:\n",
    "        return acum\n",
    "    print(\"acum:\", acum)\n",
    "    p = f(acum=acum+1)\n",
    "    \n",
    "x = f(acum=0)\n",
    "print(x)\n",
    "print(\"Ha terminado esto\")"
   ],
   "outputs": [
    {
     "output_type": "stream",
     "name": "stdout",
     "text": [
      "0\n",
      "Ha terminado esto\n"
     ]
    }
   ],
   "metadata": {}
  },
  {
   "cell_type": "code",
   "execution_count": 27,
   "source": [
    "def f(acum):\n",
    "    if acum == 10:\n",
    "        return acum\n",
    "    print(\"acum:\", acum)\n",
    "    p = f(acum=acum+1)\n",
    "    return p\n",
    "    \n",
    "x = f(acum=0)\n",
    "print(x)\n",
    "print(\"Ha terminado esto\")"
   ],
   "outputs": [
    {
     "output_type": "stream",
     "name": "stdout",
     "text": [
      "acum: 0\n",
      "acum: 1\n",
      "acum: 2\n",
      "acum: 3\n",
      "acum: 4\n",
      "acum: 5\n",
      "acum: 6\n",
      "acum: 7\n",
      "acum: 8\n",
      "acum: 9\n",
      "10\n",
      "Ha terminado esto\n"
     ]
    }
   ],
   "metadata": {}
  },
  {
   "cell_type": "markdown",
   "source": [
    "--------------------------------------------------------------------------------------"
   ],
   "metadata": {}
  },
  {
   "cell_type": "code",
   "execution_count": null,
   "source": [],
   "outputs": [],
   "metadata": {}
  }
 ],
 "metadata": {
  "kernelspec": {
   "name": "python3",
   "display_name": "Python 3.6.4 64-bit"
  },
  "language_info": {
   "codemirror_mode": {
    "name": "ipython",
    "version": 3
   },
   "file_extension": ".py",
   "mimetype": "text/x-python",
   "name": "python",
   "nbconvert_exporter": "python",
   "pygments_lexer": "ipython3",
   "version": "3.6.4"
  },
  "interpreter": {
   "hash": "e05034a492cd28020b141b637ab43cad260081b164a40cac23ec4809d29fc4bf"
  }
 },
 "nbformat": 4,
 "nbformat_minor": 4
}