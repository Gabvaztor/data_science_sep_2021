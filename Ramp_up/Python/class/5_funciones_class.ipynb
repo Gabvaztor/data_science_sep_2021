{
 "cells": [
  {
   "cell_type": "markdown",
   "source": [
    "# Apartado 5 - Funciones"
   ],
   "metadata": {}
  },
  {
   "cell_type": "markdown",
   "source": [
    "- funciones con & sin `return`\r\n",
    "- funciones con valores por defecto\r\n",
    "- recursividad\r\n",
    "- parámetros (opcionales)\r\n",
    "- variables locales y globales\r\n",
    "- orden de parámetros"
   ],
   "metadata": {}
  },
  {
   "cell_type": "markdown",
   "source": [
    "--------------------------------------------------------------------------------------"
   ],
   "metadata": {}
  },
  {
   "cell_type": "code",
   "execution_count": 65,
   "source": [
    "# variables locales y globales\r\n",
    "\r\n",
    "x = 1\r\n",
    "def f1():\r\n",
    "    x = 2\r\n",
    "    print(\"x_de_función:\", x)\r\n",
    "    return x\r\n",
    "\r\n",
    "print(\"x1:\", x)  # 1\r\n",
    "f1()  # 2\r\n",
    "print(\"x2:\", x)  # ?\r\n",
    "\r\n"
   ],
   "outputs": [
    {
     "output_type": "stream",
     "name": "stdout",
     "text": [
      "x1: 1\n",
      "x_de_función: 2\n",
      "x2: 1\n"
     ]
    }
   ],
   "metadata": {}
  },
  {
   "cell_type": "code",
   "execution_count": 67,
   "source": [
    "# variables locales y globales\r\n",
    "\r\n",
    "x = 1\r\n",
    "def f1():\r\n",
    "    x = 2\r\n",
    "    print(\"x_de_función:\", x)\r\n",
    "    return x\r\n",
    "\r\n",
    "print(\"x1:\", x)  # 1\r\n",
    "x = f1()  # 2\r\n",
    "print(\"x2:\", x)  # ?"
   ],
   "outputs": [
    {
     "output_type": "stream",
     "name": "stdout",
     "text": [
      "x1: 1\n",
      "x_de_función: 2\n",
      "x2: 2\n"
     ]
    }
   ],
   "metadata": {}
  },
  {
   "cell_type": "code",
   "execution_count": 69,
   "source": [
    "# variables locales y globales\r\n",
    "x = 1\r\n",
    "def f1():\r\n",
    "    global x\r\n",
    "    x = 2\r\n",
    "    print(\"x_de_función:\", x)\r\n",
    "\r\n",
    "print(\"x1:\", x)  # 1\r\n",
    "f1()  # 2\r\n",
    "print(\"x2:\", x)  # ?"
   ],
   "outputs": [
    {
     "output_type": "stream",
     "name": "stdout",
     "text": [
      "x1: 1\n",
      "x_de_función: 2\n",
      "x2: 2\n"
     ]
    }
   ],
   "metadata": {}
  },
  {
   "cell_type": "code",
   "execution_count": 72,
   "source": [
    "lista = [\"A\", 2, \"C\", 1]\r\n",
    "\r\n",
    "def elimina_elemento(lista1):\r\n",
    "    lista1.remove(1)\r\n",
    "    lista1 = lista\r\n",
    "\r\n",
    "print(\"lista:\", lista)\r\n",
    "elimina_elemento(lista1=lista)\r\n",
    "print(\"lista:\", lista)"
   ],
   "outputs": [
    {
     "output_type": "stream",
     "name": "stdout",
     "text": [
      "lista: ['A', 2, 'C', 1]\n",
      "lista: ['A', 2, 'C']\n"
     ]
    }
   ],
   "metadata": {}
  },
  {
   "cell_type": "code",
   "execution_count": 91,
   "source": [
    "lista = [\"A\", 2, \"C\", 1]\r\n",
    "x = 2\r\n",
    "def f2(l):\r\n",
    "    lista = 4\r\n",
    "    l.remove(1)\r\n",
    "    print(\"2:\",x)\r\n",
    "    print(\"3:\",lista)\r\n",
    "\r\n",
    "print(\"1:\", lista)\r\n",
    "f2(l=lista)\r\n",
    "print(\"4:\",lista)\r\n"
   ],
   "outputs": [
    {
     "output_type": "stream",
     "name": "stdout",
     "text": [
      "1: ['A', 2, 'C', 1]\n",
      "2: 2\n",
      "3: 4\n",
      "4: ['A', 2, 'C']\n"
     ]
    }
   ],
   "metadata": {}
  },
  {
   "cell_type": "code",
   "execution_count": 31,
   "source": [
    "# vpd = valor por defecto \r\n",
    "def f_con_param_sin_vpd(param):\r\n",
    "    print(param)\r\n",
    "\r\n",
    "# x es igual A LO QUE RETORNA LA FUNCIÓN\r\n",
    "x = f_con_param_sin_vpd()"
   ],
   "outputs": [
    {
     "output_type": "error",
     "ename": "TypeError",
     "evalue": "f_con_param_sin_vpd() missing 1 required positional argument: 'param'",
     "traceback": [
      "\u001b[1;31m---------------------------------------------------------------------------\u001b[0m",
      "\u001b[1;31mTypeError\u001b[0m                                 Traceback (most recent call last)",
      "\u001b[1;32m<ipython-input-31-d845a77365ed>\u001b[0m in \u001b[0;36m<module>\u001b[1;34m\u001b[0m\n\u001b[0;32m      4\u001b[0m \u001b[1;33m\u001b[0m\u001b[0m\n\u001b[0;32m      5\u001b[0m \u001b[1;31m# x es igual A LO QUE RETORNA LA FUNCIÓN\u001b[0m\u001b[1;33m\u001b[0m\u001b[1;33m\u001b[0m\u001b[0m\n\u001b[1;32m----> 6\u001b[1;33m \u001b[0mx\u001b[0m \u001b[1;33m=\u001b[0m \u001b[0mf_con_param_sin_vpd\u001b[0m\u001b[1;33m(\u001b[0m\u001b[1;33m)\u001b[0m\u001b[1;33m\u001b[0m\u001b[0m\n\u001b[0m",
      "\u001b[1;31mTypeError\u001b[0m: f_con_param_sin_vpd() missing 1 required positional argument: 'param'"
     ]
    }
   ],
   "metadata": {}
  },
  {
   "cell_type": "code",
   "execution_count": 32,
   "source": [
    "# vpd = valor por defecto \r\n",
    "def f_con_param_con_vpd(param=20):\r\n",
    "    print(param)\r\n",
    "\r\n",
    "f_con_param_con_vpd()"
   ],
   "outputs": [
    {
     "output_type": "stream",
     "name": "stdout",
     "text": [
      "20\n"
     ]
    }
   ],
   "metadata": {}
  },
  {
   "cell_type": "code",
   "execution_count": 33,
   "source": [
    "# vpd = valor por defecto \r\n",
    "def f_con_param_con_vpd(param=20):\r\n",
    "    print(param)\r\n",
    "\r\n",
    "f_con_param_con_vpd(param=5)"
   ],
   "outputs": [
    {
     "output_type": "stream",
     "name": "stdout",
     "text": [
      "5\n"
     ]
    }
   ],
   "metadata": {}
  },
  {
   "cell_type": "code",
   "execution_count": 36,
   "source": [
    "# vpd = valor por defecto \r\n",
    "def f_con_param_con_vpd(ojos_humano=2, piernas=2):\r\n",
    "    print(ojos_humano + piernas)\r\n",
    "\r\n",
    "f_con_param_con_vpd()"
   ],
   "outputs": [
    {
     "output_type": "stream",
     "name": "stdout",
     "text": [
      "4\n"
     ]
    }
   ],
   "metadata": {}
  },
  {
   "cell_type": "code",
   "execution_count": 39,
   "source": [
    "# vpd = valor por defecto \r\n",
    "# Es obligatorio que si otorgamos un valor por defecto a un \r\n",
    "# parámetro, todos a su derecha deben tener un valor por defecto.\r\n",
    "def f_con_param_con_vpd(ojos_humano=2, piernas):\r\n",
    "    print(ojos_humano + piernas)\r\n",
    "\r\n",
    "f_con_param_con_vpd(piernas=2)"
   ],
   "outputs": [
    {
     "output_type": "error",
     "ename": "SyntaxError",
     "evalue": "non-default argument follows default argument (<ipython-input-39-02bac98e9dfb>, line 4)",
     "traceback": [
      "\u001b[1;36m  File \u001b[1;32m\"<ipython-input-39-02bac98e9dfb>\"\u001b[1;36m, line \u001b[1;32m4\u001b[0m\n\u001b[1;33m    def f_con_param_con_vpd(ojos_humano=2, piernas):\u001b[0m\n\u001b[1;37m                           ^\u001b[0m\n\u001b[1;31mSyntaxError\u001b[0m\u001b[1;31m:\u001b[0m non-default argument follows default argument\n"
     ]
    }
   ],
   "metadata": {}
  },
  {
   "cell_type": "code",
   "execution_count": 40,
   "source": [
    "# vpd = valor por defecto \r\n",
    "# Es obligatorio que si otorgamos un valor por defecto a un \r\n",
    "# parámetro, todos a su derecha deben tener un valor por defecto.\r\n",
    "def f_con_param_con_vpd(ojos_humano, piernas=2):\r\n",
    "    print(ojos_humano + piernas)\r\n",
    "\r\n",
    "f_con_param_con_vpd(ojos_humano=3)"
   ],
   "outputs": [
    {
     "output_type": "stream",
     "name": "stdout",
     "text": [
      "5\n"
     ]
    }
   ],
   "metadata": {}
  },
  {
   "cell_type": "code",
   "execution_count": 44,
   "source": [
    "def f_con_param_con_vpd(ojos_humano, piernas=2):\r\n",
    "    ojos_humano = int(ojos_humano)\r\n",
    "    print(ojos_humano + piernas)\r\n",
    "\r\n",
    "ojos_humano = input(\"Inserte el número de ojos:\")\r\n",
    "\r\n",
    "f_con_param_con_vpd(ojos_humano=ojos_humano)"
   ],
   "outputs": [
    {
     "output_type": "stream",
     "name": "stdout",
     "text": [
      "4\n"
     ]
    }
   ],
   "metadata": {}
  },
  {
   "cell_type": "code",
   "execution_count": 45,
   "source": [
    "def f_con_param_con_vpd(ojos_humano, piernas=2):\r\n",
    "    print(ojos_humano + piernas)\r\n",
    "\r\n",
    "ojos_humano = int(input(\"Inserte el número de ojos:\"))\r\n",
    "\r\n",
    "f_con_param_con_vpd(ojos_humano)"
   ],
   "outputs": [
    {
     "output_type": "stream",
     "name": "stdout",
     "text": [
      "5\n"
     ]
    }
   ],
   "metadata": {}
  },
  {
   "cell_type": "code",
   "execution_count": 49,
   "source": [
    "def f_con_param_con_vpd(ojos_humano, piernas=2):\r\n",
    "    print(ojos_humano + piernas)\r\n",
    "\r\n",
    "f_con_param_con_vpd(1, 8)"
   ],
   "outputs": [
    {
     "output_type": "stream",
     "name": "stdout",
     "text": [
      "9\n"
     ]
    }
   ],
   "metadata": {}
  },
  {
   "cell_type": "code",
   "execution_count": 52,
   "source": [
    "def f_con_param_con_vpd(ojos_humano, k, piernas=2):\r\n",
    "    print(\"k:\", k)\r\n",
    "    print(ojos_humano + piernas)\r\n",
    "\r\n",
    "f_con_param_con_vpd(1, 8, 9)"
   ],
   "outputs": [
    {
     "output_type": "stream",
     "name": "stdout",
     "text": [
      "k: 8\n",
      "10\n"
     ]
    }
   ],
   "metadata": {}
  },
  {
   "cell_type": "code",
   "execution_count": 56,
   "source": [
    "def f_con_param_con_vpd(ojos_humano, k, piernas=2):\r\n",
    "    print(\"k:\", k)\r\n",
    "    print(ojos_humano + piernas)\r\n",
    "\r\n",
    "f_con_param_con_vpd(ojos_humano=1, k=8, piernas=9)"
   ],
   "outputs": [
    {
     "output_type": "stream",
     "name": "stdout",
     "text": [
      "k: 8\n",
      "10\n"
     ]
    }
   ],
   "metadata": {}
  },
  {
   "cell_type": "code",
   "execution_count": 59,
   "source": [
    "def f_con_param_con_vpd(ojos_humano, k, piernas=2):\r\n",
    "    print(\"k:\", k)\r\n",
    "    print(ojos_humano + piernas)\r\n",
    "\r\n",
    "f_con_param_con_vpd(k=8, ojos_humano=7, piernas=9)"
   ],
   "outputs": [
    {
     "output_type": "stream",
     "name": "stdout",
     "text": [
      "k: 8\n",
      "16\n"
     ]
    }
   ],
   "metadata": {}
  },
  {
   "cell_type": "code",
   "execution_count": 62,
   "source": [
    "def f_con_param_con_vpd(ojos_humano, k=1, piernas=2):\r\n",
    "    print(\"k:\", k)\r\n",
    "    print(ojos_humano + piernas)\r\n",
    "\r\n",
    "f_con_param_con_vpd(8, 7, 9)"
   ],
   "outputs": [
    {
     "output_type": "stream",
     "name": "stdout",
     "text": [
      "k: 7\n",
      "17\n"
     ]
    }
   ],
   "metadata": {}
  },
  {
   "cell_type": "code",
   "execution_count": 92,
   "source": [
    "def f_con_param_con_vpd(ojos_humano=19, k=1, piernas=2):\r\n",
    "    print(\"k:\", k)\r\n",
    "    print(ojos_humano + piernas)\r\n",
    "\r\n",
    "f_con_param_con_vpd(piernas=1, ojos_humano=10)"
   ],
   "outputs": [
    {
     "output_type": "stream",
     "name": "stdout",
     "text": [
      "k: 1\n",
      "11\n"
     ]
    }
   ],
   "metadata": {}
  },
  {
   "cell_type": "code",
   "execution_count": 28,
   "source": [
    "def f_con_param_sin_vpd(param):\r\n",
    "    print(param)\r\n",
    "\r\n",
    "# x es igual A LO QUE RETORNA LA FUNCIÓN\r\n",
    "x = f_con_param_sin_vpd(param=2)\r\n",
    "z = x + 5\r\n",
    "print(z)"
   ],
   "outputs": [
    {
     "output_type": "stream",
     "name": "stdout",
     "text": [
      "2\n",
      "7\n"
     ]
    }
   ],
   "metadata": {}
  },
  {
   "cell_type": "code",
   "execution_count": 2,
   "source": [
    "# Para sacar la media de una lista de números\r\n",
    "lista = [2, 5, 6]\r\n",
    "suma_total = 0\r\n",
    "for valor_elem in lista:\r\n",
    "    suma_total += valor_elem\r\n",
    "media = suma_total / len(lista)\r\n",
    "print(media)"
   ],
   "outputs": [
    {
     "output_type": "stream",
     "name": "stdout",
     "text": [
      "4.333333333333333\n"
     ]
    }
   ],
   "metadata": {}
  },
  {
   "cell_type": "code",
   "execution_count": 8,
   "source": [
    "def nombre_funcion():\r\n",
    "    print(\"Entra función\")\r\n",
    "    print(\"Acaba función\")\r\n",
    "\r\n",
    "nombre_funcion()\r\n",
    "print(\"END\")"
   ],
   "outputs": [
    {
     "output_type": "stream",
     "name": "stdout",
     "text": [
      "Entra función\n",
      "Acaba función\n",
      "END\n"
     ]
    }
   ],
   "metadata": {}
  },
  {
   "cell_type": "code",
   "execution_count": 9,
   "source": [
    "nombre_funcion()"
   ],
   "outputs": [
    {
     "output_type": "stream",
     "name": "stdout",
     "text": [
      "Entra función\n",
      "Acaba función\n"
     ]
    }
   ],
   "metadata": {}
  },
  {
   "cell_type": "code",
   "execution_count": 11,
   "source": [
    "def funcion_simple(a):\r\n",
    "    print(a)\r\n",
    "\r\n",
    "funcion_simple(a=\"Hola\")\r\n",
    "funcion_simple(a=\"Adios\")"
   ],
   "outputs": [
    {
     "output_type": "stream",
     "name": "stdout",
     "text": [
      "Hola\n",
      "Adios\n"
     ]
    }
   ],
   "metadata": {}
  },
  {
   "cell_type": "code",
   "execution_count": 1,
   "source": [
    "def funcion_suma(a, b):\r\n",
    "    if isinstance(a, (int, float)) and isinstance(b, (int, float)):\r\n",
    "        z = a + b\r\n",
    "        print(z)\r\n",
    "    else: \r\n",
    "        print(\"Deben ser números\")\r\n",
    "\r\n",
    "funcion_suma(a=412, b=158)"
   ],
   "outputs": [
    {
     "output_type": "stream",
     "name": "stdout",
     "text": [
      "570\n"
     ]
    }
   ],
   "metadata": {}
  },
  {
   "cell_type": "code",
   "execution_count": 3,
   "source": [
    "funcion_suma(a=-124, b=-158)"
   ],
   "outputs": [
    {
     "output_type": "stream",
     "name": "stdout",
     "text": [
      "-282\n"
     ]
    }
   ],
   "metadata": {}
  },
  {
   "cell_type": "code",
   "execution_count": 21,
   "source": [
    "funcion_suma(a=\"A\", b=158)"
   ],
   "outputs": [
    {
     "output_type": "stream",
     "name": "stdout",
     "text": [
      "Deben ser números\n"
     ]
    }
   ],
   "metadata": {}
  },
  {
   "cell_type": "code",
   "execution_count": 22,
   "source": [
    "def f_sin_parametros():\r\n",
    "    x = 2 + 2\r\n",
    "\r\n",
    "f_sin_parametros()"
   ],
   "outputs": [],
   "metadata": {}
  },
  {
   "cell_type": "code",
   "execution_count": 23,
   "source": [
    "def f_con_parametros(param):\r\n",
    "    x = 2 + param\r\n",
    "    print(x)\r\n",
    "\r\n",
    "f_con_parametros(param=6)"
   ],
   "outputs": [
    {
     "output_type": "stream",
     "name": "stdout",
     "text": [
      "8\n"
     ]
    }
   ],
   "metadata": {}
  },
  {
   "cell_type": "code",
   "execution_count": 24,
   "source": [
    "def f_con_parametros(param):\r\n",
    "    x = 2 + param\r\n",
    "    print(x)\r\n",
    "\r\n",
    "f_con_parametros(param=6)"
   ],
   "outputs": [
    {
     "output_type": "stream",
     "name": "stdout",
     "text": [
      "8\n"
     ]
    }
   ],
   "metadata": {}
  },
  {
   "cell_type": "code",
   "execution_count": 4,
   "source": [
    "def sin_print():\r\n",
    "    return 2\r\n",
    "\r\n",
    "sin_print()\r\n",
    "x = 6\r\n",
    "z = 2 + x"
   ],
   "outputs": [],
   "metadata": {}
  },
  {
   "cell_type": "code",
   "execution_count": 99,
   "source": [
    "# 1. Si hay algún None, muestra que deben tener valores\r\n",
    "# 2. Si ambos son int, muestra \"La suma es: X\"\r\n",
    "# 3. Si ambos son str, muestra \"La concatenación es: X\"\r\n",
    "# 4. Si uno es str y el otro int, entonces muestra:\r\n",
    "# \"Ambos deben ser del mismo tipo.\"\r\n",
    "def funcion_suma_o_concatena(a=None, b=None):\r\n",
    "    if a == None or b == None:  # 1. Si alguno es None\r\n",
    "        print(\"Los parámetros deben tener algún valor\")\r\n",
    "    elif isinstance(a, (float,int)) and type(b) == int: \r\n",
    "        print(\"La suma de ambos es: \" + str(a + b)) \r\n",
    "    elif isinstance(a, str) and type(b) == str:\r\n",
    "        print(\"La concatenación es: \", a + b)\r\n",
    "    elif type(a) != type(b):\r\n",
    "        print(\"Ambos deben ser del mismo tipo\") \r\n",
    "    \r\n",
    " \r\n",
    "funcion_suma_o_concatena(a=2, b=2)\r\n"
   ],
   "outputs": [
    {
     "output_type": "stream",
     "name": "stdout",
     "text": [
      "La suma de ambos es: 4\n"
     ]
    }
   ],
   "metadata": {}
  },
  {
   "cell_type": "code",
   "execution_count": 10,
   "source": [
    "# El None es el único valor que si está en la\r\n",
    "# última línea de una celda de jupyter notebook no se\r\n",
    "# muestra por pantalla\r\n",
    "x = None\r\n",
    "print(x)"
   ],
   "outputs": [
    {
     "output_type": "stream",
     "name": "stdout",
     "text": [
      "None\n"
     ]
    }
   ],
   "metadata": {}
  },
  {
   "cell_type": "code",
   "execution_count": 12,
   "source": [
    "def no_return():\r\n",
    "    l = 2\r\n",
    "\r\n",
    "no_return()\r\n"
   ],
   "outputs": [],
   "metadata": {}
  },
  {
   "cell_type": "code",
   "execution_count": 15,
   "source": [
    "def si_return():\r\n",
    "    l = 2\r\n",
    "    return l\r\n",
    "\r\n",
    "si_return()"
   ],
   "outputs": [
    {
     "output_type": "execute_result",
     "data": {
      "text/plain": [
       "2"
      ]
     },
     "metadata": {},
     "execution_count": 15
    }
   ],
   "metadata": {}
  },
  {
   "cell_type": "code",
   "execution_count": 44,
   "source": [
    "import random\r\n",
    "\r\n",
    "random.choice([1, 5, 9])"
   ],
   "outputs": [
    {
     "output_type": "execute_result",
     "data": {
      "text/plain": [
       "9"
      ]
     },
     "metadata": {},
     "execution_count": 44
    }
   ],
   "metadata": {}
  },
  {
   "cell_type": "code",
   "execution_count": 18,
   "source": [
    "def funcion_hace_media(lista_de_numeros):\r\n",
    "    \"\"\"\r\n",
    "    Esto solo sirve para una colección de números\r\n",
    "    \"\"\" \r\n",
    "    suma_total = 0\r\n",
    "    for valor_elem in lista_de_numeros:\r\n",
    "        suma_total += valor_elem\r\n",
    "    media = suma_total / len(lista_de_numeros)\r\n",
    "    #print(media)\r\n",
    "    return media\r\n",
    "  \r\n",
    "l = [2, 3, 1, -231]\r\n",
    "k = (20, 30, 0, -2)\r\n",
    "\r\n",
    "# aparecen dos números por pantalla porque hay un print \r\n",
    "# y está en la última línea\r\n",
    "media_l = funcion_hace_media(lista_de_numeros=l)\r\n",
    "media_k = funcion_hace_media(lista_de_numeros=k)\r\n",
    "\r\n",
    "print(\"media_l:\", media_l)\r\n",
    "print(\"media_k:\", media_k)\r\n"
   ],
   "outputs": [
    {
     "output_type": "stream",
     "name": "stdout",
     "text": [
      "media_l: -56.25\n",
      "media_k: 12.0\n"
     ]
    }
   ],
   "metadata": {}
  },
  {
   "cell_type": "code",
   "execution_count": 52,
   "source": [
    "student_list = [(\"Gabriel Vázquez\", 29, 1.75), (\"Leonardo Sánchez\", 24, 1.82), (\"Piero Termini\", 25, 1.71), (\"Marta Buesa\", 35, 1.66), (\"Silvia Pasinato\", 37, 1.63), (\"Faro Zamani\", 29, 1.90), ('Miguel Nievas', 27, 1.80), (\"Alejandro Medina\", 28, 1.70), (\"Cristina Martínez\", 32, 1.60), (\"Francisco Palma\", 36, 1.74), (\"Jorge Duque\", 45, 1.72), (\"Jesús Llanes\", 41, 1.65), (\"Luis Pech\", 18, 1.71), (\"Marta Gómez\", 30, 1.65), (\"Jennifer Sanchez\", 40, 1.60), (\"Diego Isla\", 39, 1.80), (\"Nuria Brocar\", 35, 1.75), (\"Antonio Campaña\", 23, 1.77), (\"Isabella Schindowski\", 34, 1.60), (\"Juan Maniglia\", 32, 1.75), (\"David Suárez\", 27, 1.70), (\"Antonio Jiménez\", 34, 1.80), (\"Carlos Hernández\", 27, 1.77), (\"Erik Urresta\", 28, 1.70), (\"Marcos Lobo\", 35, 1.80), (\"Natalia Fernandez\", 31, 1.70)]\r\n",
    "\r\n",
    "# lista con todas las edades\r\n",
    "lista_edades = []\r\n",
    "for student_tupla in student_list:\r\n",
    "    edad = student_tupla[1]\r\n",
    "    lista_edades.append()\r\n",
    "print(lista_edades)"
   ],
   "outputs": [
    {
     "output_type": "stream",
     "name": "stdout",
     "text": [
      "[29, 24, 25, 35, 37, 29, 27, 28, 32, 36, 45, 41, 18, 30, 40, 39, 35, 23, 34, 32, 27, 34, 27, 28, 35, 31]\n"
     ]
    }
   ],
   "metadata": {}
  },
  {
   "cell_type": "code",
   "execution_count": 58,
   "source": [
    "media = funcion_hace_media(lista_de_numeros=lista_edades)\r\n",
    "print(\"media:\", media)\r\n",
    "print(\"media + 2:\", media + 2)"
   ],
   "outputs": [
    {
     "output_type": "stream",
     "name": "stdout",
     "text": [
      "31.576923076923077\n",
      "media: 31.576923076923077\n",
      "media + 2: 33.57692307692308\n"
     ]
    }
   ],
   "metadata": {}
  },
  {
   "cell_type": "code",
   "execution_count": 47,
   "source": [
    "def sin_return():\r\n",
    "    print(2)\r\n",
    "\r\n",
    "x = sin_return()\r\n",
    "print(\"x:\", x)"
   ],
   "outputs": [
    {
     "output_type": "stream",
     "name": "stdout",
     "text": [
      "2\n",
      "x: None\n"
     ]
    }
   ],
   "metadata": {}
  },
  {
   "cell_type": "code",
   "execution_count": 51,
   "source": [
    "def con_return():\r\n",
    "    print(2)\r\n",
    "    return 1\r\n",
    "\r\n",
    "x = con_return()\r\n",
    "print(\"x:\", x)"
   ],
   "outputs": [
    {
     "output_type": "stream",
     "name": "stdout",
     "text": [
      "2\n",
      "x: 1\n"
     ]
    }
   ],
   "metadata": {}
  },
  {
   "cell_type": "code",
   "execution_count": 50,
   "source": [
    "lista = [2, 4]\r\n",
    "\r\n",
    "x = lista.pop()\r\n",
    "y = lista.remove(2)\r\n",
    "\r\n",
    "print(\"x:\", x)\r\n",
    "print(\"y:\", y)"
   ],
   "outputs": [
    {
     "output_type": "stream",
     "name": "stdout",
     "text": [
      "x: 4\n",
      "y: None\n"
     ]
    }
   ],
   "metadata": {}
  },
  {
   "cell_type": "code",
   "execution_count": null,
   "source": [
    "# Parámetros: opcionales \r\n",
    "# No tiene restricciones a la hora de pasarle un valor\r\n",
    "\r\n",
    "# Return (opcional)\r\n",
    "# Si no tiene return es como si tuviera 'return None'\r\n",
    "# Si tiene return, la función devuelve lo que retorna\r\n",
    "\r\n",
    "\r\n"
   ],
   "outputs": [],
   "metadata": {}
  },
  {
   "cell_type": "markdown",
   "source": [
    "## Funciones `print`"
   ],
   "metadata": {}
  },
  {
   "cell_type": "code",
   "execution_count": 4,
   "source": [
    "print(\"Yo soy 'así'\")"
   ],
   "outputs": [
    {
     "output_type": "stream",
     "name": "stdout",
     "text": [
      "Yo soy 'así'\n"
     ]
    }
   ],
   "metadata": {}
  },
  {
   "cell_type": "code",
   "execution_count": 5,
   "source": [
    "print('Yo soy \"así\"')"
   ],
   "outputs": [
    {
     "output_type": "stream",
     "name": "stdout",
     "text": [
      "Yo soy \"así\"\n"
     ]
    }
   ],
   "metadata": {}
  },
  {
   "cell_type": "code",
   "execution_count": 6,
   "source": [
    "_ = \"así\"\r\n",
    "print(\"Yo soy \" + _ + \" .\")"
   ],
   "outputs": [
    {
     "output_type": "stream",
     "name": "stdout",
     "text": [
      "Yo soy así .\n"
     ]
    }
   ],
   "metadata": {}
  },
  {
   "cell_type": "code",
   "execution_count": 7,
   "source": [
    "_ = 15\r\n",
    "x = \"Yo tengo \" + str(_) + \" años.\"\r\n",
    "print(x)"
   ],
   "outputs": [
    {
     "output_type": "stream",
     "name": "stdout",
     "text": [
      "Yo tengo 15 años.\n"
     ]
    }
   ],
   "metadata": {}
  },
  {
   "cell_type": "code",
   "execution_count": 8,
   "source": [
    "print(\"Yo tengo\", _ , \" años.\")"
   ],
   "outputs": [
    {
     "output_type": "stream",
     "name": "stdout",
     "text": [
      "Yo tengo 15  años.\n"
     ]
    }
   ],
   "metadata": {}
  },
  {
   "cell_type": "code",
   "execution_count": 9,
   "source": [
    "def prtn(x, r, y, t):\r\n",
    "    print(x + r + y + t)\r\n",
    "\r\n",
    "prtn(x=\"Yo\", r=\" tengo\", y=\" 15\", t=\" años.\")"
   ],
   "outputs": [
    {
     "output_type": "stream",
     "name": "stdout",
     "text": [
      "Yo tengo 15 años.\n"
     ]
    }
   ],
   "metadata": {}
  },
  {
   "cell_type": "code",
   "execution_count": 3,
   "source": [
    "def prtn(x, r, y, t):\r\n",
    "    print(x + r + y + t)\r\n",
    "\r\n",
    "prtn(\"Yo\", \" tengo\", \" 15\", \" años.\")"
   ],
   "outputs": [
    {
     "output_type": "stream",
     "name": "stdout",
     "text": [
      "Yo tengo 15 años.\n"
     ]
    }
   ],
   "metadata": {}
  },
  {
   "cell_type": "code",
   "execution_count": 10,
   "source": [
    "def p(*args):\r\n",
    "    print(args)\r\n",
    "\r\n",
    "p(2, 4, 6, 8, 3, 1, 3)"
   ],
   "outputs": [
    {
     "output_type": "stream",
     "name": "stdout",
     "text": [
      "(2, 4, 6, 8, 3, 1, 3)\n"
     ]
    }
   ],
   "metadata": {}
  },
  {
   "cell_type": "code",
   "execution_count": null,
   "source": [
    "def x():\r\n",
    "    a = 2\r\n",
    "    b = 4\r\n",
    "    suma = a + b\r\n",
    "    print(suma)\r\n",
    "\r\n",
    "x()"
   ],
   "outputs": [],
   "metadata": {}
  },
  {
   "cell_type": "markdown",
   "source": [
    "--------------------------------------------------------------------------------------"
   ],
   "metadata": {}
  },
  {
   "cell_type": "markdown",
   "source": [
    "## Funciones `return`"
   ],
   "metadata": {}
  },
  {
   "cell_type": "code",
   "execution_count": 12,
   "source": [
    "def x():\r\n",
    "    a = 2\r\n",
    "    b = 4\r\n",
    "    suma = a + b\r\n",
    "    #print(\"suma:\", suma)\r\n",
    "    return a\r\n",
    "\r\n",
    "z = x()\r\n",
    "print(\"z:\", z)"
   ],
   "outputs": [
    {
     "output_type": "stream",
     "name": "stdout",
     "text": [
      "z: 2\n"
     ]
    }
   ],
   "metadata": {}
  },
  {
   "cell_type": "code",
   "execution_count": 13,
   "source": [
    "a = 3\r\n",
    "\r\n",
    "def nombre_funcion():\r\n",
    "    a = 2\r\n",
    "    b = 4\r\n",
    "    suma3 = a + b\r\n",
    "    print(\"suma3:\", suma3)\r\n",
    "\r\n",
    "print(\"a:\", a)\r\n",
    "nombre_funcion()"
   ],
   "outputs": [
    {
     "output_type": "stream",
     "name": "stdout",
     "text": [
      "a: 3\n",
      "suma3: 6\n"
     ]
    }
   ],
   "metadata": {}
  },
  {
   "cell_type": "code",
   "execution_count": null,
   "source": [
    "a = 3\r\n",
    "\r\n",
    "def nombre_funcion():\r\n",
    "    print(\"a2:\", a)\r\n",
    "    b = 4\r\n",
    "    suma3 = a + b\r\n",
    "    print(\"suma3:\", suma3)\r\n",
    "\r\n",
    "print(\"a0:\", a)\r\n",
    "nombre_funcion()"
   ],
   "outputs": [],
   "metadata": {}
  },
  {
   "cell_type": "code",
   "execution_count": null,
   "source": [
    "def nombre_funcion():\r\n",
    "    a = 2\r\n",
    "    b = 4\r\n",
    "    suma3 = a + b\r\n",
    "    return suma3\r\n",
    "    \r\n",
    "print(nombre_funcion())"
   ],
   "outputs": [],
   "metadata": {}
  },
  {
   "cell_type": "code",
   "execution_count": null,
   "source": [
    "def nombre_funcion():\r\n",
    "    a = 2\r\n",
    "    b = 4\r\n",
    "    suma3 = a + b\r\n",
    "    \r\n",
    "print(nombre_funcion())"
   ],
   "outputs": [],
   "metadata": {}
  },
  {
   "cell_type": "code",
   "execution_count": null,
   "source": [
    "s = \"HOLA\"\r\n",
    "s.lower()"
   ],
   "outputs": [],
   "metadata": {}
  },
  {
   "cell_type": "code",
   "execution_count": null,
   "source": [
    "def nombre_funcion():\r\n",
    "    a = 2\r\n",
    "    b = 4\r\n",
    "    suma3 = a + b\r\n",
    "    resta = a - b\r\n",
    "    print(suma3)\r\n",
    "    print(resta)\r\n",
    "    return resta\r\n",
    "    print(suma3)\r\n",
    "    return [\"2\", 2]\r\n",
    "    \r\n",
    "x = nombre_funcion()\r\n",
    "print(x)"
   ],
   "outputs": [],
   "metadata": {}
  },
  {
   "cell_type": "code",
   "execution_count": null,
   "source": [
    "def suma():\r\n",
    "    a = 2\r\n",
    "    b = 3\r\n",
    "    return a + b\r\n",
    "\r\n",
    "def multiplicacion():\r\n",
    "    a = 2\r\n",
    "    b = 3\r\n",
    "    return a * b\r\n",
    "\r\n",
    "def f():\r\n",
    "    x = suma()\r\n",
    "    y = multiplicacion()\r\n",
    "    h = x / y\r\n",
    "    return h\r\n",
    "\r\n",
    "x = f()\r\n",
    "print(x)"
   ],
   "outputs": [],
   "metadata": {}
  },
  {
   "cell_type": "code",
   "execution_count": null,
   "source": [
    "suma = 2 \r\n",
    "x = suma()"
   ],
   "outputs": [],
   "metadata": {}
  },
  {
   "cell_type": "code",
   "execution_count": 15,
   "source": [
    "# Esto es un comentario\r\n",
    "\"\"\" Esto es otro\"\"\" \r\n",
    "\r\n",
    "def suma_generica(arg1, arg2):\r\n",
    "    \"\"\" Suma arg1 y arg2 \r\n",
    "    Esta es la segunda línea de la documentación de la función\r\n",
    "    \"\"\"\r\n",
    "    a = 2  # Esta variable vale 2\r\n",
    "    return arg1 + arg2\r\n",
    "\r\n",
    "a = 3\r\n",
    "b = 7\r\n",
    "\r\n",
    "x = suma_generica(arg1=a, arg2=b)\r\n",
    "print(x)"
   ],
   "outputs": [
    {
     "output_type": "stream",
     "name": "stdout",
     "text": [
      "10\n"
     ]
    }
   ],
   "metadata": {}
  },
  {
   "cell_type": "markdown",
   "source": [
    "`help`"
   ],
   "metadata": {}
  },
  {
   "cell_type": "code",
   "execution_count": 16,
   "source": [
    "help(suma_generica)"
   ],
   "outputs": [
    {
     "output_type": "stream",
     "name": "stdout",
     "text": [
      "Help on function suma_generica in module __main__:\n",
      "\n",
      "suma_generica(arg1, arg2)\n",
      "    Suma arg1 y arg2 \n",
      "    Esta es la segunda línea de la documentación de la función\n",
      "\n"
     ]
    }
   ],
   "metadata": {}
  },
  {
   "cell_type": "code",
   "execution_count": 17,
   "source": [
    "def suma_generica(arg1, arg2):\r\n",
    "    \"\"\" Suma arg1 y arg2 \"\"\"\r\n",
    "    if arg1.isnumeric() and arg2.isnumeric():\r\n",
    "        return int(arg1) + int(arg2)\r\n",
    "    else:\r\n",
    "        print(\"Solo se pueden sumar números\")\r\n",
    "\r\n",
    "a = input()\r\n",
    "b = input()\r\n",
    "\r\n",
    "x = suma_generica(arg1=a, arg2=b)\r\n",
    "print(x)"
   ],
   "outputs": [
    {
     "output_type": "stream",
     "name": "stdout",
     "text": [
      " 5\n",
      " 6\n"
     ]
    },
    {
     "output_type": "stream",
     "name": "stdout",
     "text": [
      "11\n"
     ]
    }
   ],
   "metadata": {}
  },
  {
   "cell_type": "code",
   "execution_count": 18,
   "source": [
    "def suma_generica(arg1, arg2):\r\n",
    "    \"\"\" Suma arg1 y arg2 \"\"\"\r\n",
    "    if arg1.isnumeric() and arg2.isnumeric():\r\n",
    "        return int(arg1) + int(arg2)\r\n",
    "    else:\r\n",
    "        return \"Solo se pueden sumar números\"\r\n",
    "\r\n",
    "a = input()\r\n",
    "b = input()\r\n",
    "\r\n",
    "x = suma_generica(arg1=a, arg2=b)\r\n",
    "print(x)"
   ],
   "outputs": [
    {
     "output_type": "stream",
     "name": "stdout",
     "text": [
      " 6\n",
      " 7\n"
     ]
    },
    {
     "output_type": "stream",
     "name": "stdout",
     "text": [
      "13\n"
     ]
    }
   ],
   "metadata": {}
  },
  {
   "cell_type": "markdown",
   "source": [
    "--------------------------------------------------------------------------------------"
   ],
   "metadata": {}
  },
  {
   "cell_type": "markdown",
   "source": [
    "## Funciones con valores por defecto"
   ],
   "metadata": {}
  },
  {
   "cell_type": "code",
   "execution_count": null,
   "source": [
    "def mi_funcion_1(a, b=10):\r\n",
    "    return a**b\r\n",
    "\r\n",
    "r = mi_funcion(a=2)\r\n",
    "r"
   ],
   "outputs": [],
   "metadata": {}
  },
  {
   "cell_type": "code",
   "execution_count": null,
   "source": [
    "def mi_funcion_2(a, b=10):\r\n",
    "    return a**b\r\n",
    "\r\n",
    "r = mi_funcion(a=2, b=5)\r\n",
    "r"
   ],
   "outputs": [],
   "metadata": {}
  },
  {
   "cell_type": "code",
   "execution_count": null,
   "source": [
    "def mi_funcion_3(a, b):\r\n",
    "    return a**b\r\n",
    "\r\n",
    "k = int(input(\"Edad:\"))\r\n",
    "h = int(input(\"Altura:\"))\r\n",
    "\r\n",
    "r = mi_funcion(a=k, b=h)\r\n",
    "type(r)"
   ],
   "outputs": [],
   "metadata": {}
  },
  {
   "cell_type": "code",
   "execution_count": null,
   "source": [
    "b = None\r\n",
    "str(b)"
   ],
   "outputs": [],
   "metadata": {}
  },
  {
   "cell_type": "code",
   "execution_count": null,
   "source": [
    "def mi_funcion_4(a=5, b=None, c=None, y=None, h=None):\n",
    "    if b == None:\n",
    "        b = len(str(None))\n",
    "    return a**b\n",
    "\n",
    "r = mi_funcion()\n",
    "r"
   ],
   "outputs": [],
   "metadata": {}
  },
  {
   "cell_type": "code",
   "execution_count": null,
   "source": [
    "def mi_funcion_5(a, b=4, c=None, y=None, h=None):\n",
    "    return a**b\n",
    "\n",
    "r = mi_funcion(a=2)\n",
    "r"
   ],
   "outputs": [],
   "metadata": {}
  },
  {
   "cell_type": "code",
   "execution_count": null,
   "source": [
    "def mi_funcion_6(a, b=4, c=676, y=None, h=None):\n",
    "    return a**b\n",
    "\n",
    "r = mi_funcion(a=2)\n",
    "r"
   ],
   "outputs": [],
   "metadata": {}
  },
  {
   "cell_type": "code",
   "execution_count": null,
   "source": [
    "def mi_funcion_7(b, a=7, c=676, y=None, h=None):\n",
    "    return a**b\n",
    "\n",
    "r = mi_funcion(b=2)\n",
    "r"
   ],
   "outputs": [],
   "metadata": {}
  },
  {
   "cell_type": "markdown",
   "source": [
    "**Ejemplos:** \n",
    "\n",
    " - [Función de matplotlib](https://matplotlib.org/api/_as_gen/matplotlib.pyplot.pie.html#matplotlib.pyplot.pie)\n",
    " - [Función de pandas](https://pandas.pydata.org/pandas-docs/stable/reference/api/pandas.DataFrame.to_csv.html)\n",
    "    "
   ],
   "metadata": {}
  },
  {
   "cell_type": "markdown",
   "source": [
    "--------------------------------------------------------------------------------------"
   ],
   "metadata": {}
  },
  {
   "cell_type": "markdown",
   "source": [
    "## Recursividad"
   ],
   "metadata": {}
  },
  {
   "cell_type": "code",
   "execution_count": 19,
   "source": [
    "def nombre_funcion():\n",
    "    print(\"X\")\n",
    "    \n",
    "nombre_funcion()"
   ],
   "outputs": [
    {
     "output_type": "stream",
     "name": "stdout",
     "text": [
      "X\n"
     ]
    }
   ],
   "metadata": {}
  },
  {
   "cell_type": "code",
   "execution_count": 20,
   "source": [
    "def nombre_funcion(x):\n",
    "    print(x)\n",
    "    \n",
    "nombre_funcion(x=\"4\")"
   ],
   "outputs": [
    {
     "output_type": "stream",
     "name": "stdout",
     "text": [
      "4\n"
     ]
    }
   ],
   "metadata": {}
  },
  {
   "cell_type": "code",
   "execution_count": 21,
   "source": [
    "def nombre_funcion(x):\n",
    "    return x\n",
    "    \n",
    "s = nombre_funcion(x=3)"
   ],
   "outputs": [],
   "metadata": {}
  },
  {
   "cell_type": "code",
   "execution_count": 22,
   "source": [
    "print(s)"
   ],
   "outputs": [
    {
     "output_type": "stream",
     "name": "stdout",
     "text": [
      "3\n"
     ]
    }
   ],
   "metadata": {}
  },
  {
   "cell_type": "code",
   "execution_count": 23,
   "source": [
    "def f_recursiva():\n",
    "    print(\"X\")\n",
    "    f_recursiva()"
   ],
   "outputs": [],
   "metadata": {}
  },
  {
   "cell_type": "markdown",
   "source": [
    "```python\n",
    "def f():\n",
    "    print(\"Muestro esto\")\n",
    "    f()\n",
    "    print(\"X\")\n",
    "    \n",
    "f()\n",
    "```"
   ],
   "metadata": {}
  },
  {
   "cell_type": "code",
   "execution_count": 25,
   "source": [
    "def f(acum):\n",
    "    if acum == 10:\n",
    "        return acum\n",
    "    print(\"acum:\", acum)\n",
    "    f(acum=acum+1)\n",
    "    \n",
    "x = f(acum=0)\n",
    "print(\"x:\", x)"
   ],
   "outputs": [
    {
     "output_type": "stream",
     "name": "stdout",
     "text": [
      "acum: 0\n",
      "acum: 1\n",
      "acum: 2\n",
      "acum: 3\n",
      "acum: 4\n",
      "acum: 5\n",
      "acum: 6\n",
      "acum: 7\n",
      "acum: 8\n",
      "acum: 9\n",
      "x: None\n"
     ]
    }
   ],
   "metadata": {}
  },
  {
   "cell_type": "code",
   "execution_count": 26,
   "source": [
    "def f(acum):\n",
    "    if acum == 0:\n",
    "        return acum\n",
    "    print(\"acum:\", acum)\n",
    "    p = f(acum=acum+1)\n",
    "    \n",
    "x = f(acum=0)\n",
    "print(x)\n",
    "print(\"Ha terminado esto\")"
   ],
   "outputs": [
    {
     "output_type": "stream",
     "name": "stdout",
     "text": [
      "0\n",
      "Ha terminado esto\n"
     ]
    }
   ],
   "metadata": {}
  },
  {
   "cell_type": "code",
   "execution_count": 27,
   "source": [
    "def f(acum):\r\n",
    "    if acum == 10:\r\n",
    "        return acum\r\n",
    "    print(\"acum:\", acum)\r\n",
    "    p = f(acum=acum+1)\r\n",
    "    return p\r\n",
    "    \r\n",
    "x = f(acum=0)\r\n",
    "print(x)\r\n",
    "print(\"Ha terminado esto\")"
   ],
   "outputs": [
    {
     "output_type": "stream",
     "name": "stdout",
     "text": [
      "acum: 0\n",
      "acum: 1\n",
      "acum: 2\n",
      "acum: 3\n",
      "acum: 4\n",
      "acum: 5\n",
      "acum: 6\n",
      "acum: 7\n",
      "acum: 8\n",
      "acum: 9\n",
      "10\n",
      "Ha terminado esto\n"
     ]
    }
   ],
   "metadata": {}
  },
  {
   "cell_type": "markdown",
   "source": [
    "--------------------------------------------------------------------------------------"
   ],
   "metadata": {}
  },
  {
   "cell_type": "code",
   "execution_count": null,
   "source": [
    "# Lo último que hace una función es el return"
   ],
   "outputs": [],
   "metadata": {}
  },
  {
   "cell_type": "code",
   "execution_count": 7,
   "source": [
    "def f1():\r\n",
    "    print(2)\r\n",
    "    5\r\n",
    "\r\n",
    "x = f1()\r\n",
    "print(x)"
   ],
   "outputs": [
    {
     "output_type": "stream",
     "name": "stdout",
     "text": [
      "2\n",
      "None\n"
     ]
    }
   ],
   "metadata": {}
  },
  {
   "cell_type": "code",
   "execution_count": 9,
   "source": [
    "# Recursividad\r\n",
    "\r\n",
    "def nombre_f(contador):\r\n",
    "    if contador == 1:  # caso base\r\n",
    "        return \"FIN\"\r\n",
    "    print(contador)\r\n",
    "    contador += 1\r\n",
    "    return nombre_f(contador=contador)\r\n",
    "\r\n",
    "print(nombre_f(contador=0))"
   ],
   "outputs": [
    {
     "output_type": "stream",
     "name": "stdout",
     "text": [
      "0\n",
      "None\n"
     ]
    }
   ],
   "metadata": {}
  }
 ],
 "metadata": {
  "kernelspec": {
   "name": "python3",
   "display_name": "Python 3.6.4 64-bit"
  },
  "language_info": {
   "codemirror_mode": {
    "name": "ipython",
    "version": 3
   },
   "file_extension": ".py",
   "mimetype": "text/x-python",
   "name": "python",
   "nbconvert_exporter": "python",
   "pygments_lexer": "ipython3",
   "version": "3.6.4"
  },
  "interpreter": {
   "hash": "e05034a492cd28020b141b637ab43cad260081b164a40cac23ec4809d29fc4bf"
  }
 },
 "nbformat": 4,
 "nbformat_minor": 4
}