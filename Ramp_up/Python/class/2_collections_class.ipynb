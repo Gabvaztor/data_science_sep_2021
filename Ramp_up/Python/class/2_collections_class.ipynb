{
 "cells": [
  {
   "cell_type": "markdown",
   "source": [
    "# Apartado 2 - Collections"
   ],
   "metadata": {}
  },
  {
   "cell_type": "markdown",
   "source": [
    "º- Listas, tuplas y colecciones\n",
    "- Diccionarios "
   ],
   "metadata": {}
  },
  {
   "cell_type": "markdown",
   "source": [
    "--------------------------------------------------------------------------------------"
   ],
   "metadata": {}
  },
  {
   "cell_type": "code",
   "execution_count": 4,
   "source": [
    "x = 2\r\n",
    "y = \"2\"\r\n",
    "\r\n",
    "# listas\r\n",
    "lista = [x, y, 99, \"85715\", 518.31]\r\n",
    "print(type(lista))\r\n",
    "print(\"Elementos de lista:\", len(lista))\r\n",
    "print(lista)\r\n",
    "\r\n"
   ],
   "outputs": [
    {
     "output_type": "stream",
     "name": "stdout",
     "text": [
      "<class 'list'>\n",
      "Elementos de lista: 5\n",
      "[2, '2', 99, '85715', 518.31]\n"
     ]
    }
   ],
   "metadata": {}
  },
  {
   "cell_type": "markdown",
   "source": [
    "## Listas"
   ],
   "metadata": {}
  },
  {
   "cell_type": "code",
   "execution_count": 49,
   "source": [
    "lc = [\"red\", \"blue\", \"green\"]\r\n",
    "print(type(lc))\r\n",
    "print(lc)"
   ],
   "outputs": [
    {
     "output_type": "stream",
     "name": "stdout",
     "text": [
      "<class 'list'>\n",
      "['red', 'blue', 'green']\n"
     ]
    }
   ],
   "metadata": {}
  },
  {
   "cell_type": "code",
   "execution_count": 3,
   "source": [
    "len(lc)"
   ],
   "outputs": [
    {
     "output_type": "execute_result",
     "data": {
      "text/plain": [
       "3"
      ]
     },
     "metadata": {},
     "execution_count": 3
    }
   ],
   "metadata": {}
  },
  {
   "cell_type": "code",
   "execution_count": 4,
   "source": [
    "la = [\"red\", \"blue\", \"green\", 2, 6.9]\r\n",
    "la"
   ],
   "outputs": [
    {
     "output_type": "execute_result",
     "data": {
      "text/plain": [
       "['red', 'blue', 'green', 2, 6.9]"
      ]
     },
     "metadata": {},
     "execution_count": 4
    }
   ],
   "metadata": {}
  },
  {
   "cell_type": "code",
   "execution_count": 7,
   "source": [
    "# Acceder a posiciones\r\n",
    "lista = [x, y, 99, \"85715\", 518.31]\r\n",
    "\r\n",
    "print(lista[2])\r\n",
    "z = int(lista[3]) + lista[4]\r\n",
    "print(z)"
   ],
   "outputs": [
    {
     "output_type": "stream",
     "name": "stdout",
     "text": [
      "99\n",
      "86233.31\n"
     ]
    }
   ],
   "metadata": {}
  },
  {
   "cell_type": "code",
   "execution_count": 9,
   "source": [
    "# Acceder a posiciones\r\n",
    "# Empiezan desde la posición 0\r\n",
    "# La última posición es -1 \r\n",
    "lista = [x, y, 99, \"85715\", 518.31]\r\n",
    "\r\n",
    "print(lista[2])\r\n",
    "z = int(lista[-2]) + lista[-1]\r\n",
    "print(z)"
   ],
   "outputs": [
    {
     "output_type": "stream",
     "name": "stdout",
     "text": [
      "99\n",
      "86233.31\n"
     ]
    }
   ],
   "metadata": {}
  },
  {
   "cell_type": "code",
   "execution_count": 13,
   "source": [
    "lista = [x, y, 99, \"85715\", 518.31]\r\n",
    "\r\n",
    "tamano_lista = len(lista)  # 5\r\n",
    "posicion_de_ultimo_elemento = tamano_lista - 1  # 4\r\n",
    "posicion_de_elemento_del_medio = posicion_de_ultimo_elemento // 2  # 2\r\n",
    "\r\n",
    "print(\"tamano_lista:\", tamano_lista)\r\n",
    "print(\"posicion_de_ultimo_elemento:\", posicion_de_ultimo_elemento)\r\n",
    "print(lista[posicion_de_ultimo_elemento], lista[-1])\r\n",
    "print(\"posicion_de_elemento_del_medio:\", posicion_de_elemento_del_medio)\r\n",
    "print(lista[2], lista[posicion_de_elemento_del_medio])\r\n",
    "\r\n",
    "\r\n"
   ],
   "outputs": [
    {
     "output_type": "stream",
     "name": "stdout",
     "text": [
      "tamano_lista: 5\n",
      "posicion_de_ultimo_elemento: 4\n",
      "518.31 518.31\n",
      "posicion_de_elemento_del_medio: 2\n",
      "99 99\n"
     ]
    }
   ],
   "metadata": {}
  },
  {
   "cell_type": "code",
   "execution_count": 19,
   "source": [
    "# Listas son colecciones de elementos\r\n",
    "# Empiezan por la posición 0\r\n",
    "# Si empezamos al revés, empieza desde el -1\r\n",
    "# Pueden contener cualquier cantidad de elementos\r\n",
    "\r\n",
    "lista = [x, y, 99, \"85715\", 518.31]\r\n",
    "lista[-6]"
   ],
   "outputs": [
    {
     "output_type": "error",
     "ename": "IndexError",
     "evalue": "list index out of range",
     "traceback": [
      "\u001b[1;31m---------------------------------------------------------------------------\u001b[0m",
      "\u001b[1;31mIndexError\u001b[0m                                Traceback (most recent call last)",
      "\u001b[1;32m<ipython-input-19-48e98afa4331>\u001b[0m in \u001b[0;36m<module>\u001b[1;34m\u001b[0m\n\u001b[0;32m      1\u001b[0m \u001b[0mlista\u001b[0m \u001b[1;33m=\u001b[0m \u001b[1;33m[\u001b[0m\u001b[0mx\u001b[0m\u001b[1;33m,\u001b[0m \u001b[0my\u001b[0m\u001b[1;33m,\u001b[0m \u001b[1;36m99\u001b[0m\u001b[1;33m,\u001b[0m \u001b[1;34m\"85715\"\u001b[0m\u001b[1;33m,\u001b[0m \u001b[1;36m518.31\u001b[0m\u001b[1;33m]\u001b[0m\u001b[1;33m\u001b[0m\u001b[0m\n\u001b[1;32m----> 2\u001b[1;33m \u001b[0mlista\u001b[0m\u001b[1;33m[\u001b[0m\u001b[1;33m-\u001b[0m\u001b[1;36m6\u001b[0m\u001b[1;33m]\u001b[0m\u001b[1;33m\u001b[0m\u001b[0m\n\u001b[0m",
      "\u001b[1;31mIndexError\u001b[0m: list index out of range"
     ]
    }
   ],
   "metadata": {}
  },
  {
   "cell_type": "code",
   "execution_count": 24,
   "source": [
    "# Accediendo al último elemento del último elemento\r\n",
    "lista = [x, y, 99, \"85715\", 518.31, [-1, \"A\"]]\r\n",
    "print(lista[5][-1])\r\n",
    "print(lista[-1][-1])\r\n",
    "print(lista[-1][1])"
   ],
   "outputs": [
    {
     "output_type": "stream",
     "name": "stdout",
     "text": [
      "A\n",
      "A\n",
      "A\n"
     ]
    }
   ],
   "metadata": {}
  },
  {
   "cell_type": "code",
   "execution_count": 5,
   "source": [
    "print(la[0])"
   ],
   "outputs": [
    {
     "output_type": "stream",
     "name": "stdout",
     "text": [
      "red\n"
     ]
    }
   ],
   "metadata": {}
  },
  {
   "cell_type": "code",
   "execution_count": 6,
   "source": [
    "la[4]"
   ],
   "outputs": [
    {
     "output_type": "execute_result",
     "data": {
      "text/plain": [
       "6.9"
      ]
     },
     "metadata": {},
     "execution_count": 6
    }
   ],
   "metadata": {}
  },
  {
   "cell_type": "code",
   "execution_count": 7,
   "source": [
    "# Última posición\r\n",
    "la[-1]"
   ],
   "outputs": [
    {
     "output_type": "execute_result",
     "data": {
      "text/plain": [
       "6.9"
      ]
     },
     "metadata": {},
     "execution_count": 7
    }
   ],
   "metadata": {}
  },
  {
   "cell_type": "code",
   "execution_count": 8,
   "source": [
    "# Penúltima posición\r\n",
    "la[-2]"
   ],
   "outputs": [
    {
     "output_type": "execute_result",
     "data": {
      "text/plain": [
       "2"
      ]
     },
     "metadata": {},
     "execution_count": 8
    }
   ],
   "metadata": {}
  },
  {
   "cell_type": "code",
   "execution_count": 9,
   "source": [
    "len(la)"
   ],
   "outputs": [
    {
     "output_type": "execute_result",
     "data": {
      "text/plain": [
       "5"
      ]
     },
     "metadata": {},
     "execution_count": 9
    }
   ],
   "metadata": {}
  },
  {
   "cell_type": "code",
   "execution_count": 10,
   "source": [
    "la"
   ],
   "outputs": [
    {
     "output_type": "execute_result",
     "data": {
      "text/plain": [
       "['red', 'blue', 'green', 2, 6.9]"
      ]
     },
     "metadata": {},
     "execution_count": 10
    }
   ],
   "metadata": {}
  },
  {
   "cell_type": "code",
   "execution_count": 11,
   "source": [
    "tamano = len(la)\r\n",
    "la[tamano - 2]"
   ],
   "outputs": [
    {
     "output_type": "execute_result",
     "data": {
      "text/plain": [
       "2"
      ]
     },
     "metadata": {},
     "execution_count": 11
    }
   ],
   "metadata": {}
  },
  {
   "cell_type": "code",
   "execution_count": 25,
   "source": [
    "bicycles = ['trek', 'cannondale', 'redline', 'specialized']\r\n",
    "message = \"My first bicycle was a \" + bicycles[0]\r\n",
    "\r\n",
    "print(bicycles)\r\n",
    "print(message)"
   ],
   "outputs": [
    {
     "output_type": "stream",
     "name": "stdout",
     "text": [
      "['trek', 'cannondale', 'redline', 'specialized']\n",
      "My first bicycle was a trek\n"
     ]
    }
   ],
   "metadata": {}
  },
  {
   "cell_type": "markdown",
   "source": [
    "`list.reverse`"
   ],
   "metadata": {}
  },
  {
   "cell_type": "code",
   "execution_count": 13,
   "source": [
    "cars = ['bmw', 'audi', 'toyota', 'subaru']\r\n",
    "print(cars)\r\n",
    "\r\n",
    "cars.reverse()\r\n",
    "print(cars)"
   ],
   "outputs": [
    {
     "output_type": "stream",
     "name": "stdout",
     "text": [
      "['bmw', 'audi', 'toyota', 'subaru']\n",
      "['subaru', 'toyota', 'audi', 'bmw']\n"
     ]
    }
   ],
   "metadata": {}
  },
  {
   "cell_type": "code",
   "execution_count": 26,
   "source": [
    "lista = [2, 4, \"x\", \"x\", 6]\r\n",
    "print(lista)\r\n",
    "lista.remove(4)\r\n",
    "print(lista)"
   ],
   "outputs": [
    {
     "output_type": "stream",
     "name": "stdout",
     "text": [
      "[2, 4, 'x', 'x', 6]\n",
      "[2, 'x', 'x', 6]\n"
     ]
    }
   ],
   "metadata": {}
  },
  {
   "cell_type": "code",
   "execution_count": 28,
   "source": [
    "# Eliminar por valor del elemento\r\n",
    "lista = [2, 4, \"x\", 6, \"x\"]\r\n",
    "print(lista)\r\n",
    "lista.remove(\"x\")\r\n",
    "print(lista)"
   ],
   "outputs": [
    {
     "output_type": "stream",
     "name": "stdout",
     "text": [
      "[2, 4, 'x', 6, 'x']\n",
      "[2, 4, 6, 'x']\n"
     ]
    }
   ],
   "metadata": {}
  },
  {
   "cell_type": "code",
   "execution_count": 40,
   "source": [
    "# Eliminar por posición del elemento\r\n",
    "\r\n",
    "lista = [2, 4, \"x\", 6, \"x\"]\r\n",
    "print(lista)\r\n",
    "lista.pop()\r\n",
    "lista.pop()\r\n",
    "lista.pop()\r\n",
    "lista.pop()\r\n",
    "print(lista)"
   ],
   "outputs": [
    {
     "output_type": "stream",
     "name": "stdout",
     "text": [
      "[2, 4, 'x', 6, 'x']\n",
      "[2]\n"
     ]
    }
   ],
   "metadata": {}
  },
  {
   "cell_type": "code",
   "execution_count": 46,
   "source": [
    "lista = [\"A\", \"2\"]\r\n",
    "print(lista)\r\n",
    "elemento_eliminado = lista.pop(0)\r\n",
    "print(\"elemento_eliminado:\", elemento_eliminado)\r\n",
    "print(lista)"
   ],
   "outputs": [
    {
     "output_type": "stream",
     "name": "stdout",
     "text": [
      "['A', '2']\n",
      "elemento_eliminado: A\n",
      "['2']\n"
     ]
    }
   ],
   "metadata": {}
  },
  {
   "cell_type": "code",
   "execution_count": 48,
   "source": [
    "motorcycles = ['honda', 'yamaha', 'suzuki', 'ducati'] \r\n",
    "motorcycles.remove(\"honda\")\r\n",
    "motorcycles.remove(\"yamaha\")\r\n",
    "motorcycles.remove(\"suzuki\")\r\n",
    "motorcycles.remove(\"ducati\")\r\n",
    "print(motorcycles)"
   ],
   "outputs": [
    {
     "output_type": "stream",
     "name": "stdout",
     "text": [
      "[]\n"
     ]
    }
   ],
   "metadata": {}
  },
  {
   "cell_type": "code",
   "execution_count": 49,
   "source": [
    "motorcycles = ['honda', 'yamaha', 'suzuki', 'ducati'] \r\n",
    "motorcycles.pop()\r\n",
    "motorcycles.pop()\r\n",
    "motorcycles.pop()\r\n",
    "motorcycles.pop()\r\n",
    "print(motorcycles)"
   ],
   "outputs": [
    {
     "output_type": "stream",
     "name": "stdout",
     "text": [
      "[]\n"
     ]
    }
   ],
   "metadata": {}
  },
  {
   "cell_type": "code",
   "execution_count": 50,
   "source": [
    "motorcycles = ['honda', 'yamaha', 'suzuki', 'ducati'] \r\n",
    "motorcycles.clear()\r\n",
    "print(motorcycles)"
   ],
   "outputs": [
    {
     "output_type": "stream",
     "name": "stdout",
     "text": [
      "[]\n"
     ]
    }
   ],
   "metadata": {}
  },
  {
   "cell_type": "code",
   "execution_count": 51,
   "source": [
    "motorcycles = ['honda', 'yamaha', 'suzuki', 'ducati', 'suzuki'] \r\n",
    "# count devuelve el número de ocurrencias de un valor \r\n",
    "print(motorcycles.count('suzuki'))"
   ],
   "outputs": [
    {
     "output_type": "stream",
     "name": "stdout",
     "text": [
      "2\n"
     ]
    }
   ],
   "metadata": {}
  },
  {
   "cell_type": "code",
   "execution_count": 17,
   "source": [
    "motorcycles = ['honda', 'yamaha', 'suzuki', 'ducati'] \r\n",
    "print(motorcycles)\r\n",
    "\r\n",
    "too_expensive = 'ducati'\r\n",
    "motorcycles.remove(too_expensive)\r\n",
    "print(motorcycles)\r\n",
    "print(too_expensive + \" is too expensive for me.\")"
   ],
   "outputs": [
    {
     "output_type": "stream",
     "name": "stdout",
     "text": [
      "['honda', 'yamaha', 'suzuki', 'ducati']\n",
      "['honda', 'yamaha', 'suzuki']\n",
      "ducati is too expensive for me.\n"
     ]
    }
   ],
   "metadata": {}
  },
  {
   "cell_type": "code",
   "execution_count": 52,
   "source": [
    "motorcycles.remove(too_expensive)\r\n",
    "print(\"END\")"
   ],
   "outputs": [
    {
     "output_type": "error",
     "ename": "NameError",
     "evalue": "name 'too_expensive' is not defined",
     "traceback": [
      "\u001b[1;31m---------------------------------------------------------------------------\u001b[0m",
      "\u001b[1;31mNameError\u001b[0m                                 Traceback (most recent call last)",
      "\u001b[1;32m<ipython-input-52-8f885f1e9e43>\u001b[0m in \u001b[0;36m<module>\u001b[1;34m\u001b[0m\n\u001b[1;32m----> 1\u001b[1;33m \u001b[0mmotorcycles\u001b[0m\u001b[1;33m.\u001b[0m\u001b[0mremove\u001b[0m\u001b[1;33m(\u001b[0m\u001b[0mtoo_expensive\u001b[0m\u001b[1;33m)\u001b[0m\u001b[1;33m\u001b[0m\u001b[0m\n\u001b[0m\u001b[0;32m      2\u001b[0m \u001b[0mprint\u001b[0m\u001b[1;33m(\u001b[0m\u001b[1;34m\"END\"\u001b[0m\u001b[1;33m)\u001b[0m\u001b[1;33m\u001b[0m\u001b[0m\n",
      "\u001b[1;31mNameError\u001b[0m: name 'too_expensive' is not defined"
     ]
    }
   ],
   "metadata": {}
  },
  {
   "cell_type": "code",
   "execution_count": 53,
   "source": [
    "print(motorcycles)"
   ],
   "outputs": [
    {
     "output_type": "stream",
     "name": "stdout",
     "text": [
      "['honda', 'yamaha', 'suzuki', 'ducati', 'suzuki']\n"
     ]
    }
   ],
   "metadata": {}
  },
  {
   "cell_type": "code",
   "execution_count": 54,
   "source": [
    "# añadir un elemento a la última posición\r\n",
    "motorcycles.append(35235)\r\n",
    "print(\"Tamaño de la lista: \" + str(len(motorcycles)))\r\n",
    "print(\"salto\")\r\n",
    "print(\"m\")\r\n",
    "print(\"n\")\r\n",
    "print(\"---------\")\r\n",
    "print(motorcycles[-2])\r\n",
    "print(\"---------\")\r\n",
    "print(motorcycles)"
   ],
   "outputs": [
    {
     "output_type": "stream",
     "name": "stdout",
     "text": [
      "Tamaño de la lista: 6\n",
      "salto\n",
      "m\n",
      "n\n",
      "---------\n",
      "suzuki\n",
      "---------\n",
      "['honda', 'yamaha', 'suzuki', 'ducati', 'suzuki', 35235]\n"
     ]
    }
   ],
   "metadata": {}
  },
  {
   "cell_type": "code",
   "execution_count": 55,
   "source": [
    "print(type(motorcycles))"
   ],
   "outputs": [
    {
     "output_type": "stream",
     "name": "stdout",
     "text": [
      "<class 'list'>\n"
     ]
    }
   ],
   "metadata": {}
  },
  {
   "cell_type": "code",
   "execution_count": 20,
   "source": [
    "type(len(motorcycles))"
   ],
   "outputs": [
    {
     "output_type": "execute_result",
     "data": {
      "text/plain": [
       "int"
      ]
     },
     "metadata": {},
     "execution_count": 20
    }
   ],
   "metadata": {}
  },
  {
   "cell_type": "markdown",
   "source": [
    "[2, 6]   --> el corchete es incluido\r\n",
    "\r\n",
    "(2, 6]   --> el paréntesis es no incluido"
   ],
   "metadata": {}
  },
  {
   "cell_type": "code",
   "execution_count": 56,
   "source": [
    "# Cuando cogemos varios elementos de la lista [n:m), 'm' es sin incluir\r\n",
    "\r\n",
    "lista = [1, 2, 3, 6, 7, 8]\r\n",
    "\r\n",
    "print(lista[1:4])"
   ],
   "outputs": [
    {
     "output_type": "stream",
     "name": "stdout",
     "text": [
      "[2, 3, 6]\n"
     ]
    }
   ],
   "metadata": {}
  },
  {
   "cell_type": "code",
   "execution_count": 57,
   "source": [
    "print(lista[2:4])"
   ],
   "outputs": [
    {
     "output_type": "stream",
     "name": "stdout",
     "text": [
      "[3, 6]\n"
     ]
    }
   ],
   "metadata": {}
  },
  {
   "cell_type": "code",
   "execution_count": 58,
   "source": [
    "l = [1, 2, 3, 4, 5 ,6 ,7 ,8 ,9]\r\n",
    "\r\n",
    "print(l[0:4])"
   ],
   "outputs": [
    {
     "output_type": "stream",
     "name": "stdout",
     "text": [
      "[1, 2, 3, 4]\n"
     ]
    }
   ],
   "metadata": {}
  },
  {
   "cell_type": "markdown",
   "source": [
    "--------------------------------------------------------------------------------------"
   ],
   "metadata": {}
  },
  {
   "cell_type": "code",
   "execution_count": null,
   "source": [],
   "outputs": [],
   "metadata": {}
  },
  {
   "cell_type": "markdown",
   "source": [
    "### Tuplas"
   ],
   "metadata": {}
  },
  {
   "cell_type": "markdown",
   "source": [
    "Las tuplas se inicializan con paréntesis\r\n",
    "\r\n",
    "Son inmutables"
   ],
   "metadata": {}
  },
  {
   "cell_type": "code",
   "execution_count": 60,
   "source": [
    "tupla = (\"2\", \"3\", \"2\")\r\n",
    "print(type(tupla))\r\n",
    "print(tupla)"
   ],
   "outputs": [
    {
     "output_type": "stream",
     "name": "stdout",
     "text": [
      "<class 'tuple'>\n",
      "('2', '3', '2')\n"
     ]
    }
   ],
   "metadata": {}
  },
  {
   "cell_type": "code",
   "execution_count": 61,
   "source": [
    "tupla.remove(\"2\")"
   ],
   "outputs": [
    {
     "output_type": "error",
     "ename": "AttributeError",
     "evalue": "'tuple' object has no attribute 'remove'",
     "traceback": [
      "\u001b[1;31m---------------------------------------------------------------------------\u001b[0m",
      "\u001b[1;31mAttributeError\u001b[0m                            Traceback (most recent call last)",
      "\u001b[1;32m<ipython-input-61-78fefd3a3f4d>\u001b[0m in \u001b[0;36m<module>\u001b[1;34m\u001b[0m\n\u001b[1;32m----> 1\u001b[1;33m \u001b[0mtupla\u001b[0m\u001b[1;33m.\u001b[0m\u001b[0mremove\u001b[0m\u001b[1;33m(\u001b[0m\u001b[1;34m\"2\"\u001b[0m\u001b[1;33m)\u001b[0m\u001b[1;33m\u001b[0m\u001b[0m\n\u001b[0m",
      "\u001b[1;31mAttributeError\u001b[0m: 'tuple' object has no attribute 'remove'"
     ]
    }
   ],
   "metadata": {}
  },
  {
   "cell_type": "code",
   "execution_count": 62,
   "source": [
    "print(len(tupla))"
   ],
   "outputs": [
    {
     "output_type": "stream",
     "name": "stdout",
     "text": [
      "3\n"
     ]
    }
   ],
   "metadata": {}
  },
  {
   "cell_type": "code",
   "execution_count": 63,
   "source": [
    "print(type(tupla))"
   ],
   "outputs": [
    {
     "output_type": "stream",
     "name": "stdout",
     "text": [
      "<class 'tuple'>\n"
     ]
    }
   ],
   "metadata": {}
  },
  {
   "cell_type": "code",
   "execution_count": 64,
   "source": [
    "l = []\r\n",
    "print(type(l))"
   ],
   "outputs": [
    {
     "output_type": "stream",
     "name": "stdout",
     "text": [
      "<class 'list'>\n"
     ]
    }
   ],
   "metadata": {}
  },
  {
   "cell_type": "code",
   "execution_count": 65,
   "source": [
    "t = (\"A\", 2, \"B\")\r\n",
    "print(t)\r\n",
    "print(type(t))"
   ],
   "outputs": [
    {
     "output_type": "stream",
     "name": "stdout",
     "text": [
      "('A', 2, 'B')\n",
      "<class 'tuple'>\n"
     ]
    }
   ],
   "metadata": {}
  },
  {
   "cell_type": "code",
   "execution_count": 78,
   "source": [
    "t = (\"A\", 2, \"B\")\r\n",
    "print(t)\r\n",
    "t = list(t)\r\n",
    "print(type(t))\r\n",
    "print(t)\r\n",
    "t.remove(\"A\")\r\n",
    "print(t)\r\n",
    "t = tuple(t)\r\n",
    "print(type(t))\r\n",
    "print(t)"
   ],
   "outputs": [
    {
     "output_type": "stream",
     "name": "stdout",
     "text": [
      "('A', 2, 'B')\n",
      "<class 'list'>\n",
      "['A', 2, 'B']\n",
      "[2, 'B']\n",
      "<class 'tuple'>\n",
      "(2, 'B')\n"
     ]
    }
   ],
   "metadata": {}
  },
  {
   "cell_type": "code",
   "execution_count": 79,
   "source": [
    "t = (\"A\", \r\n",
    "    2, \r\n",
    "    \"B\", \r\n",
    "    [\"Bootcamp\", \"DataScience\"],\r\n",
    "     (-80, -100))\r\n",
    "\r\n",
    "print(t[3][1])"
   ],
   "outputs": [
    {
     "output_type": "stream",
     "name": "stdout",
     "text": [
      "DataScience\n"
     ]
    }
   ],
   "metadata": {}
  },
  {
   "cell_type": "code",
   "execution_count": 87,
   "source": [
    "lista = [2, 4, \"x\", 6, \"x\"]\r\n",
    "\r\n",
    "print(lista)\r\n",
    "tupla = tuple(lista)\r\n",
    "print(tupla)"
   ],
   "outputs": [
    {
     "output_type": "stream",
     "name": "stdout",
     "text": [
      "[2, 4, 'x', 6, 'x']\n",
      "(2, 4, 'x', 6, 'x')\n"
     ]
    }
   ],
   "metadata": {}
  },
  {
   "cell_type": "code",
   "execution_count": null,
   "source": [],
   "outputs": [],
   "metadata": {}
  },
  {
   "cell_type": "code",
   "execution_count": 27,
   "source": [
    "t = (\"5,7\", 8, [2,5])\r\n",
    "t_to_list = list(t)\r\n",
    "print(type(t))\r\n",
    "print(type(t_to_list))\r\n",
    "list_to_tuple = tuple(t_to_list)"
   ],
   "outputs": [
    {
     "output_type": "stream",
     "name": "stdout",
     "text": [
      "<class 'tuple'>\n",
      "<class 'list'>\n"
     ]
    }
   ],
   "metadata": {}
  },
  {
   "cell_type": "code",
   "execution_count": 28,
   "source": [
    "t = (2,4,6,8)\n",
    "print(type(t))\n",
    "t = list(t)\n",
    "t.append(45)\n",
    "print(type(t))\n",
    "t = tuple(t)\n",
    "print(type(t))\n",
    "t"
   ],
   "outputs": [
    {
     "output_type": "stream",
     "name": "stdout",
     "text": [
      "<class 'tuple'>\n",
      "<class 'list'>\n",
      "<class 'tuple'>\n"
     ]
    },
    {
     "output_type": "execute_result",
     "data": {
      "text/plain": [
       "(2, 4, 6, 8, 45)"
      ]
     },
     "metadata": {},
     "execution_count": 28
    }
   ],
   "metadata": {}
  },
  {
   "cell_type": "markdown",
   "source": [
    "--------------------------------------------------------------------------------------"
   ],
   "metadata": {}
  },
  {
   "cell_type": "markdown",
   "source": [
    "### Set"
   ],
   "metadata": {}
  },
  {
   "cell_type": "code",
   "execution_count": 29,
   "source": [
    "l = [\"x\", 6, \"y\", \"y\", \"a\", 7, 8, 5]\n",
    "print(\"l:\", l)\n",
    "print(type(l))\n",
    "s = set(l)\n",
    "print(type(s))\n",
    "print(\"s:\", s)\n",
    "len(s)"
   ],
   "outputs": [
    {
     "output_type": "stream",
     "name": "stdout",
     "text": [
      "l: ['x', 6, 'y', 'y', 'a', 7, 8, 5]\n",
      "<class 'list'>\n",
      "<class 'set'>\n",
      "s: {'y', 5, 6, 7, 8, 'a', 'x'}\n"
     ]
    },
    {
     "output_type": "execute_result",
     "data": {
      "text/plain": [
       "7"
      ]
     },
     "metadata": {},
     "execution_count": 29
    }
   ],
   "metadata": {}
  },
  {
   "cell_type": "markdown",
   "source": [
    "--------------------------------------------------------------------------------------"
   ],
   "metadata": {}
  },
  {
   "cell_type": "markdown",
   "source": [
    "## Diccionarios"
   ],
   "metadata": {}
  },
  {
   "cell_type": "markdown",
   "source": [
    "```python\n",
    "{\"soy_key\": [4, \"soy_value\"]}\n",
    "```"
   ],
   "metadata": {}
  },
  {
   "cell_type": "code",
   "execution_count": 32,
   "source": [
    "diccionario = {1:\"X\", \"X\":2}\n",
    "diccionario"
   ],
   "outputs": [
    {
     "output_type": "execute_result",
     "data": {
      "text/plain": [
       "{1: 'X', 'X': 2}"
      ]
     },
     "metadata": {},
     "execution_count": 32
    }
   ],
   "metadata": {}
  },
  {
   "cell_type": "code",
   "execution_count": 33,
   "source": [
    "diccionario[1]"
   ],
   "outputs": [
    {
     "output_type": "execute_result",
     "data": {
      "text/plain": [
       "'X'"
      ]
     },
     "metadata": {},
     "execution_count": 33
    }
   ],
   "metadata": {}
  },
  {
   "cell_type": "code",
   "execution_count": null,
   "source": [
    "diccionario[\"X\"]"
   ],
   "outputs": [],
   "metadata": {}
  },
  {
   "cell_type": "code",
   "execution_count": 34,
   "source": [
    "diccionario[\"clave\"] = [\"2\", 2]\n",
    "diccionario"
   ],
   "outputs": [
    {
     "output_type": "execute_result",
     "data": {
      "text/plain": [
       "{1: 'X', 'X': 2, 'clave': ['2', 2]}"
      ]
     },
     "metadata": {},
     "execution_count": 34
    }
   ],
   "metadata": {}
  },
  {
   "cell_type": "code",
   "execution_count": 35,
   "source": [
    "diccionario[2] = 4\n",
    "diccionario"
   ],
   "outputs": [
    {
     "output_type": "execute_result",
     "data": {
      "text/plain": [
       "{1: 'X', 'X': 2, 'clave': ['2', 2], 2: 4}"
      ]
     },
     "metadata": {},
     "execution_count": 35
    }
   ],
   "metadata": {}
  },
  {
   "cell_type": "code",
   "execution_count": 36,
   "source": [
    "print(diccionario[\"clave\"])"
   ],
   "outputs": [
    {
     "output_type": "stream",
     "name": "stdout",
     "text": [
      "['2', 2]\n"
     ]
    }
   ],
   "metadata": {}
  },
  {
   "cell_type": "code",
   "execution_count": 37,
   "source": [
    "diccionario[\"clave\"] = [\"2\", 4]\n",
    "diccionario"
   ],
   "outputs": [
    {
     "output_type": "execute_result",
     "data": {
      "text/plain": [
       "{1: 'X', 'X': 2, 'clave': ['2', 4], 2: 4}"
      ]
     },
     "metadata": {},
     "execution_count": 37
    }
   ],
   "metadata": {}
  },
  {
   "cell_type": "code",
   "execution_count": 38,
   "source": [
    "diccionario[\"clave\"] = diccionario[\"clave\"]\n",
    "diccionario"
   ],
   "outputs": [
    {
     "output_type": "execute_result",
     "data": {
      "text/plain": [
       "{1: 'X', 'X': 2, 'clave': ['2', 4], 2: 4}"
      ]
     },
     "metadata": {},
     "execution_count": 38
    }
   ],
   "metadata": {}
  },
  {
   "cell_type": "code",
   "execution_count": 39,
   "source": [
    "diccionario[\"X\"] = \"3\"\n",
    "diccionario"
   ],
   "outputs": [
    {
     "output_type": "execute_result",
     "data": {
      "text/plain": [
       "{1: 'X', 'X': '3', 'clave': ['2', 4], 2: 4}"
      ]
     },
     "metadata": {},
     "execution_count": 39
    }
   ],
   "metadata": {}
  },
  {
   "cell_type": "code",
   "execution_count": 40,
   "source": [
    "diccionario[\"x\"] = 99\n",
    "diccionario"
   ],
   "outputs": [
    {
     "output_type": "execute_result",
     "data": {
      "text/plain": [
       "{1: 'X', 'X': '3', 'clave': ['2', 4], 2: 4, 'x': 99}"
      ]
     },
     "metadata": {},
     "execution_count": 40
    }
   ],
   "metadata": {}
  },
  {
   "cell_type": "code",
   "execution_count": 41,
   "source": [
    "diccionario[\"X\"] = diccionario[\"x\"]\n",
    "diccionario"
   ],
   "outputs": [
    {
     "output_type": "execute_result",
     "data": {
      "text/plain": [
       "{1: 'X', 'X': 99, 'clave': ['2', 4], 2: 4, 'x': 99}"
      ]
     },
     "metadata": {},
     "execution_count": 41
    }
   ],
   "metadata": {}
  },
  {
   "cell_type": "code",
   "execution_count": 42,
   "source": [
    "del diccionario[\"clave\"]\n",
    "diccionario"
   ],
   "outputs": [
    {
     "output_type": "execute_result",
     "data": {
      "text/plain": [
       "{1: 'X', 'X': 99, 2: 4, 'x': 99}"
      ]
     },
     "metadata": {},
     "execution_count": 42
    }
   ],
   "metadata": {}
  },
  {
   "cell_type": "code",
   "execution_count": 43,
   "source": [
    "del diccionario[\"x\"]\n",
    "diccionario"
   ],
   "outputs": [
    {
     "output_type": "execute_result",
     "data": {
      "text/plain": [
       "{1: 'X', 'X': 99, 2: 4}"
      ]
     },
     "metadata": {},
     "execution_count": 43
    }
   ],
   "metadata": {}
  },
  {
   "cell_type": "markdown",
   "source": [
    "`dict.update`"
   ],
   "metadata": {}
  },
  {
   "cell_type": "code",
   "execution_count": 44,
   "source": [
    "diccionario.update({'before' : 24})\n",
    "diccionario"
   ],
   "outputs": [
    {
     "output_type": "execute_result",
     "data": {
      "text/plain": [
       "{1: 'X', 'X': 99, 2: 4, 'before': 24}"
      ]
     },
     "metadata": {},
     "execution_count": 44
    }
   ],
   "metadata": {}
  },
  {
   "cell_type": "code",
   "execution_count": 45,
   "source": [
    "diccionario[\"before\"] = 2\n",
    "diccionario"
   ],
   "outputs": [
    {
     "output_type": "execute_result",
     "data": {
      "text/plain": [
       "{1: 'X', 'X': 99, 2: 4, 'before': 2}"
      ]
     },
     "metadata": {},
     "execution_count": 45
    }
   ],
   "metadata": {}
  },
  {
   "cell_type": "code",
   "execution_count": 46,
   "source": [
    "diccionario[\"dict\"] = diccionario"
   ],
   "outputs": [],
   "metadata": {}
  },
  {
   "cell_type": "code",
   "execution_count": 47,
   "source": [
    "print(diccionario)"
   ],
   "outputs": [
    {
     "output_type": "stream",
     "name": "stdout",
     "text": [
      "{1: 'X', 'X': 99, 2: 4, 'before': 2, 'dict': {...}}\n"
     ]
    }
   ],
   "metadata": {}
  },
  {
   "cell_type": "code",
   "execution_count": 48,
   "source": [
    "dict_dnis = {}\n",
    "dict_dnis[\"899008667J\"] = [\"Paco\", 1.78, 33, 4000000]\n",
    "dict_dnis[\"676777888Y\"] = [\"Paco\", 1.78, 33, 30]\n",
    "dict_dnis"
   ],
   "outputs": [
    {
     "output_type": "execute_result",
     "data": {
      "text/plain": [
       "{'899008667J': ['Paco', 1.78, 33, 4000000],\n",
       " '676777888Y': ['Paco', 1.78, 33, 30]}"
      ]
     },
     "metadata": {},
     "execution_count": 48
    }
   ],
   "metadata": {}
  },
  {
   "cell_type": "code",
   "execution_count": null,
   "source": [],
   "outputs": [],
   "metadata": {}
  }
 ],
 "metadata": {
  "kernelspec": {
   "name": "python3",
   "display_name": "Python 3.6.4 64-bit"
  },
  "language_info": {
   "codemirror_mode": {
    "name": "ipython",
    "version": 3
   },
   "file_extension": ".py",
   "mimetype": "text/x-python",
   "name": "python",
   "nbconvert_exporter": "python",
   "pygments_lexer": "ipython3",
   "version": "3.6.4"
  },
  "interpreter": {
   "hash": "e05034a492cd28020b141b637ab43cad260081b164a40cac23ec4809d29fc4bf"
  }
 },
 "nbformat": 4,
 "nbformat_minor": 4
}