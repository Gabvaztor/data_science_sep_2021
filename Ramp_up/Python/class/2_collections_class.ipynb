{
 "cells": [
  {
   "cell_type": "markdown",
   "source": [
    "# Apartado 2 - Collections"
   ],
   "metadata": {}
  },
  {
   "cell_type": "markdown",
   "source": [
    "º- Listas, tuplas y colecciones\n",
    "- Diccionarios "
   ],
   "metadata": {}
  },
  {
   "cell_type": "markdown",
   "source": [
    "--------------------------------------------------------------------------------------"
   ],
   "metadata": {}
  },
  {
   "cell_type": "code",
   "execution_count": 4,
   "source": [
    "x = 2\r\n",
    "y = \"2\"\r\n",
    "\r\n",
    "# listas\r\n",
    "lista = [x, y, 99, \"85715\", 518.31]\r\n",
    "print(type(lista))\r\n",
    "print(\"Elementos de lista:\", len(lista))\r\n",
    "print(lista)\r\n",
    "\r\n"
   ],
   "outputs": [
    {
     "output_type": "stream",
     "name": "stdout",
     "text": [
      "<class 'list'>\n",
      "Elementos de lista: 5\n",
      "[2, '2', 99, '85715', 518.31]\n"
     ]
    }
   ],
   "metadata": {}
  },
  {
   "cell_type": "markdown",
   "source": [
    "## Listas"
   ],
   "metadata": {}
  },
  {
   "cell_type": "code",
   "execution_count": 49,
   "source": [
    "lc = [\"red\", \"blue\", \"green\"]\r\n",
    "print(type(lc))\r\n",
    "print(lc)"
   ],
   "outputs": [
    {
     "output_type": "stream",
     "name": "stdout",
     "text": [
      "<class 'list'>\n",
      "['red', 'blue', 'green']\n"
     ]
    }
   ],
   "metadata": {}
  },
  {
   "cell_type": "code",
   "execution_count": 3,
   "source": [
    "len(lc)"
   ],
   "outputs": [
    {
     "output_type": "execute_result",
     "data": {
      "text/plain": [
       "3"
      ]
     },
     "metadata": {},
     "execution_count": 3
    }
   ],
   "metadata": {}
  },
  {
   "cell_type": "code",
   "execution_count": 4,
   "source": [
    "la = [\"red\", \"blue\", \"green\", 2, 6.9]\r\n",
    "la"
   ],
   "outputs": [
    {
     "output_type": "execute_result",
     "data": {
      "text/plain": [
       "['red', 'blue', 'green', 2, 6.9]"
      ]
     },
     "metadata": {},
     "execution_count": 4
    }
   ],
   "metadata": {}
  },
  {
   "cell_type": "code",
   "execution_count": 7,
   "source": [
    "# Acceder a posiciones\r\n",
    "lista = [x, y, 99, \"85715\", 518.31]\r\n",
    "\r\n",
    "print(lista[2])\r\n",
    "z = int(lista[3]) + lista[4]\r\n",
    "print(z)"
   ],
   "outputs": [
    {
     "output_type": "stream",
     "name": "stdout",
     "text": [
      "99\n",
      "86233.31\n"
     ]
    }
   ],
   "metadata": {}
  },
  {
   "cell_type": "code",
   "execution_count": 9,
   "source": [
    "# Acceder a posiciones\r\n",
    "# Empiezan desde la posición 0\r\n",
    "# La última posición es -1 \r\n",
    "lista = [x, y, 99, \"85715\", 518.31]\r\n",
    "\r\n",
    "print(lista[2])\r\n",
    "z = int(lista[-2]) + lista[-1]\r\n",
    "print(z)"
   ],
   "outputs": [
    {
     "output_type": "stream",
     "name": "stdout",
     "text": [
      "99\n",
      "86233.31\n"
     ]
    }
   ],
   "metadata": {}
  },
  {
   "cell_type": "code",
   "execution_count": 13,
   "source": [
    "lista = [x, y, 99, \"85715\", 518.31]\r\n",
    "\r\n",
    "tamano_lista = len(lista)  # 5\r\n",
    "posicion_de_ultimo_elemento = tamano_lista - 1  # 4\r\n",
    "posicion_de_elemento_del_medio = posicion_de_ultimo_elemento // 2  # 2\r\n",
    "\r\n",
    "print(\"tamano_lista:\", tamano_lista)\r\n",
    "print(\"posicion_de_ultimo_elemento:\", posicion_de_ultimo_elemento)\r\n",
    "print(lista[posicion_de_ultimo_elemento], lista[-1])\r\n",
    "print(\"posicion_de_elemento_del_medio:\", posicion_de_elemento_del_medio)\r\n",
    "print(lista[2], lista[posicion_de_elemento_del_medio])\r\n",
    "\r\n",
    "\r\n"
   ],
   "outputs": [
    {
     "output_type": "stream",
     "name": "stdout",
     "text": [
      "tamano_lista: 5\n",
      "posicion_de_ultimo_elemento: 4\n",
      "518.31 518.31\n",
      "posicion_de_elemento_del_medio: 2\n",
      "99 99\n"
     ]
    }
   ],
   "metadata": {}
  },
  {
   "cell_type": "code",
   "execution_count": 19,
   "source": [
    "# Listas son colecciones de elementos\r\n",
    "# Empiezan por la posición 0\r\n",
    "# Si empezamos al revés, empieza desde el -1\r\n",
    "# Pueden contener cualquier cantidad de elementos\r\n",
    "\r\n",
    "lista = [x, y, 99, \"85715\", 518.31]\r\n",
    "lista[-6]"
   ],
   "outputs": [
    {
     "output_type": "error",
     "ename": "IndexError",
     "evalue": "list index out of range",
     "traceback": [
      "\u001b[1;31m---------------------------------------------------------------------------\u001b[0m",
      "\u001b[1;31mIndexError\u001b[0m                                Traceback (most recent call last)",
      "\u001b[1;32m<ipython-input-19-48e98afa4331>\u001b[0m in \u001b[0;36m<module>\u001b[1;34m\u001b[0m\n\u001b[0;32m      1\u001b[0m \u001b[0mlista\u001b[0m \u001b[1;33m=\u001b[0m \u001b[1;33m[\u001b[0m\u001b[0mx\u001b[0m\u001b[1;33m,\u001b[0m \u001b[0my\u001b[0m\u001b[1;33m,\u001b[0m \u001b[1;36m99\u001b[0m\u001b[1;33m,\u001b[0m \u001b[1;34m\"85715\"\u001b[0m\u001b[1;33m,\u001b[0m \u001b[1;36m518.31\u001b[0m\u001b[1;33m]\u001b[0m\u001b[1;33m\u001b[0m\u001b[0m\n\u001b[1;32m----> 2\u001b[1;33m \u001b[0mlista\u001b[0m\u001b[1;33m[\u001b[0m\u001b[1;33m-\u001b[0m\u001b[1;36m6\u001b[0m\u001b[1;33m]\u001b[0m\u001b[1;33m\u001b[0m\u001b[0m\n\u001b[0m",
      "\u001b[1;31mIndexError\u001b[0m: list index out of range"
     ]
    }
   ],
   "metadata": {}
  },
  {
   "cell_type": "code",
   "execution_count": 24,
   "source": [
    "# Accediendo al último elemento del último elemento\r\n",
    "lista = [x, y, 99, \"85715\", 518.31, [-1, \"A\"]]\r\n",
    "print(lista[5][-1])\r\n",
    "print(lista[-1][-1])\r\n",
    "print(lista[-1][1])"
   ],
   "outputs": [
    {
     "output_type": "stream",
     "name": "stdout",
     "text": [
      "A\n",
      "A\n",
      "A\n"
     ]
    }
   ],
   "metadata": {}
  },
  {
   "cell_type": "code",
   "execution_count": 5,
   "source": [
    "print(la[0])"
   ],
   "outputs": [
    {
     "output_type": "stream",
     "name": "stdout",
     "text": [
      "red\n"
     ]
    }
   ],
   "metadata": {}
  },
  {
   "cell_type": "code",
   "execution_count": 6,
   "source": [
    "la[4]"
   ],
   "outputs": [
    {
     "output_type": "execute_result",
     "data": {
      "text/plain": [
       "6.9"
      ]
     },
     "metadata": {},
     "execution_count": 6
    }
   ],
   "metadata": {}
  },
  {
   "cell_type": "code",
   "execution_count": 7,
   "source": [
    "# Última posición\r\n",
    "la[-1]"
   ],
   "outputs": [
    {
     "output_type": "execute_result",
     "data": {
      "text/plain": [
       "6.9"
      ]
     },
     "metadata": {},
     "execution_count": 7
    }
   ],
   "metadata": {}
  },
  {
   "cell_type": "code",
   "execution_count": 8,
   "source": [
    "# Penúltima posición\r\n",
    "la[-2]"
   ],
   "outputs": [
    {
     "output_type": "execute_result",
     "data": {
      "text/plain": [
       "2"
      ]
     },
     "metadata": {},
     "execution_count": 8
    }
   ],
   "metadata": {}
  },
  {
   "cell_type": "code",
   "execution_count": 9,
   "source": [
    "len(la)"
   ],
   "outputs": [
    {
     "output_type": "execute_result",
     "data": {
      "text/plain": [
       "5"
      ]
     },
     "metadata": {},
     "execution_count": 9
    }
   ],
   "metadata": {}
  },
  {
   "cell_type": "code",
   "execution_count": 10,
   "source": [
    "la"
   ],
   "outputs": [
    {
     "output_type": "execute_result",
     "data": {
      "text/plain": [
       "['red', 'blue', 'green', 2, 6.9]"
      ]
     },
     "metadata": {},
     "execution_count": 10
    }
   ],
   "metadata": {}
  },
  {
   "cell_type": "code",
   "execution_count": 11,
   "source": [
    "tamano = len(la)\r\n",
    "la[tamano - 2]"
   ],
   "outputs": [
    {
     "output_type": "execute_result",
     "data": {
      "text/plain": [
       "2"
      ]
     },
     "metadata": {},
     "execution_count": 11
    }
   ],
   "metadata": {}
  },
  {
   "cell_type": "code",
   "execution_count": 25,
   "source": [
    "bicycles = ['trek', 'cannondale', 'redline', 'specialized']\r\n",
    "message = \"My first bicycle was a \" + bicycles[0]\r\n",
    "\r\n",
    "print(bicycles)\r\n",
    "print(message)"
   ],
   "outputs": [
    {
     "output_type": "stream",
     "name": "stdout",
     "text": [
      "['trek', 'cannondale', 'redline', 'specialized']\n",
      "My first bicycle was a trek\n"
     ]
    }
   ],
   "metadata": {}
  },
  {
   "cell_type": "markdown",
   "source": [
    "`list.reverse`"
   ],
   "metadata": {}
  },
  {
   "cell_type": "code",
   "execution_count": 13,
   "source": [
    "cars = ['bmw', 'audi', 'toyota', 'subaru']\r\n",
    "print(cars)\r\n",
    "\r\n",
    "cars.reverse()\r\n",
    "print(cars)"
   ],
   "outputs": [
    {
     "output_type": "stream",
     "name": "stdout",
     "text": [
      "['bmw', 'audi', 'toyota', 'subaru']\n",
      "['subaru', 'toyota', 'audi', 'bmw']\n"
     ]
    }
   ],
   "metadata": {}
  },
  {
   "cell_type": "code",
   "execution_count": 26,
   "source": [
    "lista = [2, 4, \"x\", \"x\", 6]\r\n",
    "print(lista)\r\n",
    "lista.remove(4)\r\n",
    "print(lista)"
   ],
   "outputs": [
    {
     "output_type": "stream",
     "name": "stdout",
     "text": [
      "[2, 4, 'x', 'x', 6]\n",
      "[2, 'x', 'x', 6]\n"
     ]
    }
   ],
   "metadata": {}
  },
  {
   "cell_type": "code",
   "execution_count": 28,
   "source": [
    "# Eliminar por valor del elemento\r\n",
    "lista = [2, 4, \"x\", 6, \"x\"]\r\n",
    "print(lista)\r\n",
    "lista.remove(\"x\")\r\n",
    "print(lista)"
   ],
   "outputs": [
    {
     "output_type": "stream",
     "name": "stdout",
     "text": [
      "[2, 4, 'x', 6, 'x']\n",
      "[2, 4, 6, 'x']\n"
     ]
    }
   ],
   "metadata": {}
  },
  {
   "cell_type": "code",
   "execution_count": 40,
   "source": [
    "# Eliminar por posición del elemento\r\n",
    "\r\n",
    "lista = [2, 4, \"x\", 6, \"x\"]\r\n",
    "print(lista)\r\n",
    "lista.pop()\r\n",
    "lista.pop()\r\n",
    "lista.pop()\r\n",
    "lista.pop()\r\n",
    "print(lista)"
   ],
   "outputs": [
    {
     "output_type": "stream",
     "name": "stdout",
     "text": [
      "[2, 4, 'x', 6, 'x']\n",
      "[2]\n"
     ]
    }
   ],
   "metadata": {}
  },
  {
   "cell_type": "code",
   "execution_count": 46,
   "source": [
    "lista = [\"A\", \"2\"]\r\n",
    "print(lista)\r\n",
    "elemento_eliminado = lista.pop(0)\r\n",
    "print(\"elemento_eliminado:\", elemento_eliminado)\r\n",
    "print(lista)"
   ],
   "outputs": [
    {
     "output_type": "stream",
     "name": "stdout",
     "text": [
      "['A', '2']\n",
      "elemento_eliminado: A\n",
      "['2']\n"
     ]
    }
   ],
   "metadata": {}
  },
  {
   "cell_type": "code",
   "execution_count": 48,
   "source": [
    "motorcycles = ['honda', 'yamaha', 'suzuki', 'ducati'] \r\n",
    "motorcycles.remove(\"honda\")\r\n",
    "motorcycles.remove(\"yamaha\")\r\n",
    "motorcycles.remove(\"suzuki\")\r\n",
    "motorcycles.remove(\"ducati\")\r\n",
    "print(motorcycles)"
   ],
   "outputs": [
    {
     "output_type": "stream",
     "name": "stdout",
     "text": [
      "[]\n"
     ]
    }
   ],
   "metadata": {}
  },
  {
   "cell_type": "code",
   "execution_count": 49,
   "source": [
    "motorcycles = ['honda', 'yamaha', 'suzuki', 'ducati'] \r\n",
    "motorcycles.pop()\r\n",
    "motorcycles.pop()\r\n",
    "motorcycles.pop()\r\n",
    "motorcycles.pop()\r\n",
    "print(motorcycles)"
   ],
   "outputs": [
    {
     "output_type": "stream",
     "name": "stdout",
     "text": [
      "[]\n"
     ]
    }
   ],
   "metadata": {}
  },
  {
   "cell_type": "code",
   "execution_count": 50,
   "source": [
    "motorcycles = ['honda', 'yamaha', 'suzuki', 'ducati'] \r\n",
    "motorcycles.clear()\r\n",
    "print(motorcycles)"
   ],
   "outputs": [
    {
     "output_type": "stream",
     "name": "stdout",
     "text": [
      "[]\n"
     ]
    }
   ],
   "metadata": {}
  },
  {
   "cell_type": "code",
   "execution_count": 51,
   "source": [
    "motorcycles = ['honda', 'yamaha', 'suzuki', 'ducati', 'suzuki'] \r\n",
    "# count devuelve el número de ocurrencias de un valor \r\n",
    "print(motorcycles.count('suzuki'))"
   ],
   "outputs": [
    {
     "output_type": "stream",
     "name": "stdout",
     "text": [
      "2\n"
     ]
    }
   ],
   "metadata": {}
  },
  {
   "cell_type": "code",
   "execution_count": 17,
   "source": [
    "motorcycles = ['honda', 'yamaha', 'suzuki', 'ducati'] \r\n",
    "print(motorcycles)\r\n",
    "\r\n",
    "too_expensive = 'ducati'\r\n",
    "motorcycles.remove(too_expensive)\r\n",
    "print(motorcycles)\r\n",
    "print(too_expensive + \" is too expensive for me.\")"
   ],
   "outputs": [
    {
     "output_type": "stream",
     "name": "stdout",
     "text": [
      "['honda', 'yamaha', 'suzuki', 'ducati']\n",
      "['honda', 'yamaha', 'suzuki']\n",
      "ducati is too expensive for me.\n"
     ]
    }
   ],
   "metadata": {}
  },
  {
   "cell_type": "code",
   "execution_count": 52,
   "source": [
    "motorcycles.remove(too_expensive)\r\n",
    "print(\"END\")"
   ],
   "outputs": [
    {
     "output_type": "error",
     "ename": "NameError",
     "evalue": "name 'too_expensive' is not defined",
     "traceback": [
      "\u001b[1;31m---------------------------------------------------------------------------\u001b[0m",
      "\u001b[1;31mNameError\u001b[0m                                 Traceback (most recent call last)",
      "\u001b[1;32m<ipython-input-52-8f885f1e9e43>\u001b[0m in \u001b[0;36m<module>\u001b[1;34m\u001b[0m\n\u001b[1;32m----> 1\u001b[1;33m \u001b[0mmotorcycles\u001b[0m\u001b[1;33m.\u001b[0m\u001b[0mremove\u001b[0m\u001b[1;33m(\u001b[0m\u001b[0mtoo_expensive\u001b[0m\u001b[1;33m)\u001b[0m\u001b[1;33m\u001b[0m\u001b[0m\n\u001b[0m\u001b[0;32m      2\u001b[0m \u001b[0mprint\u001b[0m\u001b[1;33m(\u001b[0m\u001b[1;34m\"END\"\u001b[0m\u001b[1;33m)\u001b[0m\u001b[1;33m\u001b[0m\u001b[0m\n",
      "\u001b[1;31mNameError\u001b[0m: name 'too_expensive' is not defined"
     ]
    }
   ],
   "metadata": {}
  },
  {
   "cell_type": "code",
   "execution_count": 53,
   "source": [
    "print(motorcycles)"
   ],
   "outputs": [
    {
     "output_type": "stream",
     "name": "stdout",
     "text": [
      "['honda', 'yamaha', 'suzuki', 'ducati', 'suzuki']\n"
     ]
    }
   ],
   "metadata": {}
  },
  {
   "cell_type": "code",
   "execution_count": 54,
   "source": [
    "# añadir un elemento a la última posición\r\n",
    "motorcycles.append(35235)\r\n",
    "print(\"Tamaño de la lista: \" + str(len(motorcycles)))\r\n",
    "print(\"salto\")\r\n",
    "print(\"m\")\r\n",
    "print(\"n\")\r\n",
    "print(\"---------\")\r\n",
    "print(motorcycles[-2])\r\n",
    "print(\"---------\")\r\n",
    "print(motorcycles)"
   ],
   "outputs": [
    {
     "output_type": "stream",
     "name": "stdout",
     "text": [
      "Tamaño de la lista: 6\n",
      "salto\n",
      "m\n",
      "n\n",
      "---------\n",
      "suzuki\n",
      "---------\n",
      "['honda', 'yamaha', 'suzuki', 'ducati', 'suzuki', 35235]\n"
     ]
    }
   ],
   "metadata": {}
  },
  {
   "cell_type": "code",
   "execution_count": 55,
   "source": [
    "print(type(motorcycles))"
   ],
   "outputs": [
    {
     "output_type": "stream",
     "name": "stdout",
     "text": [
      "<class 'list'>\n"
     ]
    }
   ],
   "metadata": {}
  },
  {
   "cell_type": "code",
   "execution_count": 20,
   "source": [
    "type(len(motorcycles))"
   ],
   "outputs": [
    {
     "output_type": "execute_result",
     "data": {
      "text/plain": [
       "int"
      ]
     },
     "metadata": {},
     "execution_count": 20
    }
   ],
   "metadata": {}
  },
  {
   "cell_type": "markdown",
   "source": [
    "[2, 6]   --> el corchete es incluido\r\n",
    "\r\n",
    "(2, 6]   --> el paréntesis es no incluido"
   ],
   "metadata": {}
  },
  {
   "cell_type": "code",
   "execution_count": 56,
   "source": [
    "# Cuando cogemos varios elementos de la lista [n:m), 'm' es sin incluir\r\n",
    "\r\n",
    "lista = [1, 2, 3, 6, 7, 8]\r\n",
    "\r\n",
    "print(lista[1:4])"
   ],
   "outputs": [
    {
     "output_type": "stream",
     "name": "stdout",
     "text": [
      "[2, 3, 6]\n"
     ]
    }
   ],
   "metadata": {}
  },
  {
   "cell_type": "code",
   "execution_count": 57,
   "source": [
    "print(lista[2:4])"
   ],
   "outputs": [
    {
     "output_type": "stream",
     "name": "stdout",
     "text": [
      "[3, 6]\n"
     ]
    }
   ],
   "metadata": {}
  },
  {
   "cell_type": "code",
   "execution_count": 58,
   "source": [
    "l = [1, 2, 3, 4, 5 ,6 ,7 ,8 ,9]\r\n",
    "\r\n",
    "print(l[0:4])"
   ],
   "outputs": [
    {
     "output_type": "stream",
     "name": "stdout",
     "text": [
      "[1, 2, 3, 4]\n"
     ]
    }
   ],
   "metadata": {}
  },
  {
   "cell_type": "markdown",
   "source": [
    "--------------------------------------------------------------------------------------"
   ],
   "metadata": {}
  },
  {
   "cell_type": "code",
   "execution_count": null,
   "source": [],
   "outputs": [],
   "metadata": {}
  },
  {
   "cell_type": "markdown",
   "source": [
    "### Tuplas"
   ],
   "metadata": {}
  },
  {
   "cell_type": "markdown",
   "source": [
    "Las tuplas se inicializan con paréntesis\r\n",
    "\r\n",
    "Son inmutables"
   ],
   "metadata": {}
  },
  {
   "cell_type": "code",
   "execution_count": 60,
   "source": [
    "tupla = (\"2\", \"3\", \"2\")\r\n",
    "print(type(tupla))\r\n",
    "print(tupla)"
   ],
   "outputs": [
    {
     "output_type": "stream",
     "name": "stdout",
     "text": [
      "<class 'tuple'>\n",
      "('2', '3', '2')\n"
     ]
    }
   ],
   "metadata": {}
  },
  {
   "cell_type": "code",
   "execution_count": 61,
   "source": [
    "tupla.remove(\"2\")"
   ],
   "outputs": [
    {
     "output_type": "error",
     "ename": "AttributeError",
     "evalue": "'tuple' object has no attribute 'remove'",
     "traceback": [
      "\u001b[1;31m---------------------------------------------------------------------------\u001b[0m",
      "\u001b[1;31mAttributeError\u001b[0m                            Traceback (most recent call last)",
      "\u001b[1;32m<ipython-input-61-78fefd3a3f4d>\u001b[0m in \u001b[0;36m<module>\u001b[1;34m\u001b[0m\n\u001b[1;32m----> 1\u001b[1;33m \u001b[0mtupla\u001b[0m\u001b[1;33m.\u001b[0m\u001b[0mremove\u001b[0m\u001b[1;33m(\u001b[0m\u001b[1;34m\"2\"\u001b[0m\u001b[1;33m)\u001b[0m\u001b[1;33m\u001b[0m\u001b[0m\n\u001b[0m",
      "\u001b[1;31mAttributeError\u001b[0m: 'tuple' object has no attribute 'remove'"
     ]
    }
   ],
   "metadata": {}
  },
  {
   "cell_type": "code",
   "execution_count": 62,
   "source": [
    "print(len(tupla))"
   ],
   "outputs": [
    {
     "output_type": "stream",
     "name": "stdout",
     "text": [
      "3\n"
     ]
    }
   ],
   "metadata": {}
  },
  {
   "cell_type": "code",
   "execution_count": 63,
   "source": [
    "print(type(tupla))"
   ],
   "outputs": [
    {
     "output_type": "stream",
     "name": "stdout",
     "text": [
      "<class 'tuple'>\n"
     ]
    }
   ],
   "metadata": {}
  },
  {
   "cell_type": "code",
   "execution_count": 64,
   "source": [
    "l = []\r\n",
    "print(type(l))"
   ],
   "outputs": [
    {
     "output_type": "stream",
     "name": "stdout",
     "text": [
      "<class 'list'>\n"
     ]
    }
   ],
   "metadata": {}
  },
  {
   "cell_type": "code",
   "execution_count": 65,
   "source": [
    "t = (\"A\", 2, \"B\")\r\n",
    "print(t)\r\n",
    "print(type(t))"
   ],
   "outputs": [
    {
     "output_type": "stream",
     "name": "stdout",
     "text": [
      "('A', 2, 'B')\n",
      "<class 'tuple'>\n"
     ]
    }
   ],
   "metadata": {}
  },
  {
   "cell_type": "code",
   "execution_count": 78,
   "source": [
    "t = (\"A\", 2, \"B\")\r\n",
    "print(t)\r\n",
    "t = list(t)\r\n",
    "print(type(t))\r\n",
    "print(t)\r\n",
    "t.remove(\"A\")\r\n",
    "print(t)\r\n",
    "t = tuple(t)\r\n",
    "print(type(t))\r\n",
    "print(t)"
   ],
   "outputs": [
    {
     "output_type": "stream",
     "name": "stdout",
     "text": [
      "('A', 2, 'B')\n",
      "<class 'list'>\n",
      "['A', 2, 'B']\n",
      "[2, 'B']\n",
      "<class 'tuple'>\n",
      "(2, 'B')\n"
     ]
    }
   ],
   "metadata": {}
  },
  {
   "cell_type": "code",
   "execution_count": 79,
   "source": [
    "t = (\"A\", \r\n",
    "    2, \r\n",
    "    \"B\", \r\n",
    "    [\"Bootcamp\", \"DataScience\"],\r\n",
    "     (-80, -100))\r\n",
    "\r\n",
    "print(t[3][1])"
   ],
   "outputs": [
    {
     "output_type": "stream",
     "name": "stdout",
     "text": [
      "DataScience\n"
     ]
    }
   ],
   "metadata": {}
  },
  {
   "cell_type": "code",
   "execution_count": 87,
   "source": [
    "lista = [2, 4, \"x\", 6, \"x\"]\r\n",
    "\r\n",
    "print(lista)\r\n",
    "tupla = tuple(lista)\r\n",
    "print(tupla)"
   ],
   "outputs": [
    {
     "output_type": "stream",
     "name": "stdout",
     "text": [
      "[2, 4, 'x', 6, 'x']\n",
      "(2, 4, 'x', 6, 'x')\n"
     ]
    }
   ],
   "metadata": {}
  },
  {
   "cell_type": "code",
   "execution_count": null,
   "source": [],
   "outputs": [],
   "metadata": {}
  },
  {
   "cell_type": "code",
   "execution_count": 27,
   "source": [
    "t = (\"5,7\", 8, [2,5])\r\n",
    "t_to_list = list(t)\r\n",
    "print(type(t))\r\n",
    "print(type(t_to_list))\r\n",
    "list_to_tuple = tuple(t_to_list)"
   ],
   "outputs": [
    {
     "output_type": "stream",
     "name": "stdout",
     "text": [
      "<class 'tuple'>\n",
      "<class 'list'>\n"
     ]
    }
   ],
   "metadata": {}
  },
  {
   "cell_type": "code",
   "execution_count": 28,
   "source": [
    "t = (2,4,6,8)\r\n",
    "print(type(t))\r\n",
    "t = list(t)\r\n",
    "t.append(45)\r\n",
    "print(type(t))\r\n",
    "t = tuple(t)\r\n",
    "print(type(t))\r\n",
    "t"
   ],
   "outputs": [
    {
     "output_type": "stream",
     "name": "stdout",
     "text": [
      "<class 'tuple'>\n",
      "<class 'list'>\n",
      "<class 'tuple'>\n"
     ]
    },
    {
     "output_type": "execute_result",
     "data": {
      "text/plain": [
       "(2, 4, 6, 8, 45)"
      ]
     },
     "metadata": {},
     "execution_count": 28
    }
   ],
   "metadata": {}
  },
  {
   "cell_type": "code",
   "execution_count": 4,
   "source": [
    "l = [2, 4, 6, 8]\r\n",
    "t = (((2,)))\r\n",
    "\r\n",
    "print(type(t))\r\n",
    "print(t)"
   ],
   "outputs": [
    {
     "output_type": "stream",
     "name": "stdout",
     "text": [
      "<class 'tuple'>\n",
      "(2,)\n"
     ]
    }
   ],
   "metadata": {}
  },
  {
   "cell_type": "code",
   "execution_count": 9,
   "source": [
    "t = (((1,4),3),2)\r\n",
    "if t:\r\n",
    "    print(1)\r\n",
    "else:\r\n",
    "    print(0)\r\n",
    "print(t)\r\n",
    "print(t[0])\r\n",
    "print(t[0][0])\r\n",
    "print(t[0][0][0])"
   ],
   "outputs": [
    {
     "output_type": "stream",
     "name": "stdout",
     "text": [
      "1\n",
      "(((1, 4), 3), 2)\n",
      "((1, 4), 3)\n",
      "(1, 4)\n",
      "1\n"
     ]
    }
   ],
   "metadata": {}
  },
  {
   "cell_type": "code",
   "execution_count": 19,
   "source": [
    "# remove\r\n",
    "lista = [2, \r\n",
    "        [\"A\", (0 , 1)],\r\n",
    "        \"B\"]\r\n",
    "\r\n",
    "# remove(valor_del_elemento)\r\n",
    "# pop(posición)\r\n",
    "\r\n",
    "print(lista)\r\n",
    "# accedemos a la posición 1 porque ese es el elemento que contiene la tupla (0, 1)\r\n",
    "lista[1].remove((0, 1))\r\n",
    "print(lista)\r\n"
   ],
   "outputs": [
    {
     "output_type": "stream",
     "name": "stdout",
     "text": [
      "[2, ['A', (0, 1)], 'B']\n",
      "[2, ['A'], 'B']\n"
     ]
    }
   ],
   "metadata": {}
  },
  {
   "cell_type": "code",
   "execution_count": 23,
   "source": [
    "#pop\r\n",
    "lista = [2, \r\n",
    "        [\"A\", (0 , 1)],\r\n",
    "        \"B\"]\r\n",
    "\r\n",
    "# remove(valor_del_elemento)\r\n",
    "# pop(posición)\r\n",
    "\r\n",
    "print(lista)\r\n",
    "lista[1].pop(0)\r\n",
    "print(lista)"
   ],
   "outputs": [
    {
     "output_type": "stream",
     "name": "stdout",
     "text": [
      "[2, ['A', (0, 1)], 'B']\n",
      "[2, [(0, 1)], 'B']\n"
     ]
    }
   ],
   "metadata": {}
  },
  {
   "cell_type": "code",
   "execution_count": 14,
   "source": [
    "l = [\"A\", (0, 1)]\r\n",
    "print(l)\r\n",
    "l.remove((0, 1))\r\n",
    "print(l)"
   ],
   "outputs": [
    {
     "output_type": "stream",
     "name": "stdout",
     "text": [
      "['A', (0, 1)]\n",
      "['A']\n"
     ]
    }
   ],
   "metadata": {}
  },
  {
   "cell_type": "code",
   "execution_count": 28,
   "source": [
    "l = [\"A\"]\r\n",
    "l.append([8, 9, (1, 2)])\r\n",
    "print(\"l:\", l)\r\n",
    "print(\"l[1]:\", l[1])\r\n",
    "print(\"l[1][2]:\", l[1][2])\r\n",
    "print(\"l[1][2][0]:\", l[1][2][0])"
   ],
   "outputs": [
    {
     "output_type": "stream",
     "name": "stdout",
     "text": [
      "l: ['A', [8, 9, (1, 2)]]\n",
      "l[1]: [8, 9, (1, 2)]\n",
      "l[1][2]: (1, 2)\n",
      "l[1][2][0]: 1\n"
     ]
    }
   ],
   "metadata": {}
  },
  {
   "cell_type": "code",
   "execution_count": 30,
   "source": [
    "type(l[1][2][0])"
   ],
   "outputs": [
    {
     "output_type": "execute_result",
     "data": {
      "text/plain": [
       "int"
      ]
     },
     "metadata": {},
     "execution_count": 30
    }
   ],
   "metadata": {}
  },
  {
   "cell_type": "code",
   "execution_count": 33,
   "source": [
    "# Actualización de elemento en colección (lista)\r\n",
    "\r\n",
    "# Modificar la \"A\" por --> 2\r\n",
    "l = [\"A\", (0, 1)]\r\n",
    "l.pop()\r\n",
    "l.pop()\r\n",
    "print(l)\r\n",
    "l.append(2)\r\n",
    "print(l)\r\n",
    "l.append((0, 1))\r\n",
    "print(l)"
   ],
   "outputs": [
    {
     "output_type": "stream",
     "name": "stdout",
     "text": [
      "[]\n",
      "[2]\n",
      "[2, (0, 1)]\n"
     ]
    }
   ],
   "metadata": {}
  },
  {
   "cell_type": "code",
   "execution_count": 34,
   "source": [
    "# Actualización de elemento en colección (lista)\r\n",
    "\r\n",
    "# Modificar la \"A\" por --> 2\r\n",
    "l = [\"A\", (0, 1)]\r\n",
    "l[0] = 2\r\n",
    "print(l)"
   ],
   "outputs": [
    {
     "output_type": "stream",
     "name": "stdout",
     "text": [
      "[2, (0, 1)]\n"
     ]
    }
   ],
   "metadata": {}
  },
  {
   "cell_type": "code",
   "execution_count": 13,
   "source": [
    "(0, 1) == (0, 1)"
   ],
   "outputs": [
    {
     "output_type": "execute_result",
     "data": {
      "text/plain": [
       "True"
      ]
     },
     "metadata": {},
     "execution_count": 13
    }
   ],
   "metadata": {}
  },
  {
   "cell_type": "code",
   "execution_count": null,
   "source": [
    "x = (0, 1)"
   ],
   "outputs": [],
   "metadata": {}
  },
  {
   "cell_type": "markdown",
   "source": [
    "--------------------------------------------------------------------------------------"
   ],
   "metadata": {}
  },
  {
   "cell_type": "markdown",
   "source": [
    "### Set"
   ],
   "metadata": {}
  },
  {
   "cell_type": "code",
   "execution_count": 42,
   "source": [
    "s = {}\r\n",
    "print(type(s))"
   ],
   "outputs": [
    {
     "output_type": "stream",
     "name": "stdout",
     "text": [
      "<class 'set'>\n"
     ]
    }
   ],
   "metadata": {}
  },
  {
   "cell_type": "code",
   "execution_count": 45,
   "source": [
    "s = [2, 2, 2, 2, 2, 2]\r\n",
    "print(len(s))\r\n",
    "s = set(s)\r\n",
    "print(s)\r\n",
    "print(len(s))"
   ],
   "outputs": [
    {
     "output_type": "stream",
     "name": "stdout",
     "text": [
      "6\n",
      "{2}\n",
      "1\n"
     ]
    }
   ],
   "metadata": {}
  },
  {
   "cell_type": "code",
   "execution_count": 35,
   "source": [
    "l = [\"x\", 6, \"y\", \"y\", \"a\", 7, 8, 5]\r\n",
    "l = set(l)\r\n",
    "print(l)"
   ],
   "outputs": [
    {
     "output_type": "stream",
     "name": "stdout",
     "text": [
      "{'a', 'y', 6, 7, 8, 'x', 5}\n"
     ]
    }
   ],
   "metadata": {}
  },
  {
   "cell_type": "code",
   "execution_count": 38,
   "source": [],
   "outputs": [
    {
     "output_type": "execute_result",
     "data": {
      "text/plain": [
       "1734510823280"
      ]
     },
     "metadata": {},
     "execution_count": 38
    }
   ],
   "metadata": {}
  },
  {
   "cell_type": "code",
   "execution_count": 29,
   "source": [
    "l = [\"x\", 6, \"y\", \"y\", \"a\", 7, 8, 5]\r\n",
    "print(\"l:\", l)\r\n",
    "print(type(l))\r\n",
    "s = set(l)\r\n",
    "print(type(s))\r\n",
    "print(\"s:\", s)\r\n",
    "len(s)"
   ],
   "outputs": [
    {
     "output_type": "stream",
     "name": "stdout",
     "text": [
      "l: ['x', 6, 'y', 'y', 'a', 7, 8, 5]\n",
      "<class 'list'>\n",
      "<class 'set'>\n",
      "s: {'y', 5, 6, 7, 8, 'a', 'x'}\n"
     ]
    },
    {
     "output_type": "execute_result",
     "data": {
      "text/plain": [
       "7"
      ]
     },
     "metadata": {},
     "execution_count": 29
    }
   ],
   "metadata": {}
  },
  {
   "cell_type": "code",
   "execution_count": 48,
   "source": [
    "# Una tupla sin elementos repetidos ni el 8\r\n",
    "l = (\"x\", 6, \"y\", \"y\", \"a\", 7, 8, 5)\r\n",
    "print(type(l))\r\n",
    "l = set(l)  # Lo pasamos a set para eliminar elementos repetidos\r\n",
    "print(type(l))\r\n",
    "l = list(l)  # Lo pasamos a lista para eliminar el 8\r\n",
    "print(type(l))\r\n",
    "l.remove(8)\r\n",
    "l = tuple(l)\r\n",
    "print(type(l))\r\n",
    "print(l)"
   ],
   "outputs": [
    {
     "output_type": "stream",
     "name": "stdout",
     "text": [
      "<class 'tuple'>\n",
      "<class 'set'>\n",
      "<class 'list'>\n",
      "<class 'tuple'>\n",
      "('a', 'y', 6, 7, 'x', 5)\n"
     ]
    }
   ],
   "metadata": {}
  },
  {
   "cell_type": "markdown",
   "source": [
    "--------------------------------------------------------------------------------------"
   ],
   "metadata": {}
  },
  {
   "cell_type": "code",
   "execution_count": 54,
   "source": [
    "s = \"Cadena\"\r\n",
    "s = list(s)\r\n",
    "print(\"list:\",s)\r\n",
    "print(len(s))\r\n",
    "s = str(s)\r\n",
    "print(\"str:\",s)\r\n",
    "print(len(s))"
   ],
   "outputs": [
    {
     "output_type": "stream",
     "name": "stdout",
     "text": [
      "list: ['C', 'a', 'd', 'e', 'n', 'a']\n",
      "6\n",
      "str: ['C', 'a', 'd', 'e', 'n', 'a']\n",
      "30\n"
     ]
    }
   ],
   "metadata": {}
  },
  {
   "cell_type": "markdown",
   "source": [
    "## Diccionarios"
   ],
   "metadata": {}
  },
  {
   "cell_type": "markdown",
   "source": [
    "```python\r\n",
    "{\"soy_key\": [4, \"soy_value\"]}\r\n",
    "```"
   ],
   "metadata": {}
  },
  {
   "cell_type": "code",
   "execution_count": 26,
   "source": [
    "lista_alumnos = [(\"pepito\", 20, 1.75), \r\n",
    "                 (\"pepita\", 40, 1.66)]\r\n",
    "\r\n",
    "lista_nombres = []\r\n",
    "lista_alturas = []\r\n",
    "lista_edades = []\r\n",
    "for tupla_alumno in lista_alumnos:\r\n",
    "    nombre = tupla_alumno[0]\r\n",
    "    edad = tupla_alumno[1]\r\n",
    "    altura = tupla_alumno[2]\r\n",
    "    lista_nombres.append(nombre)\r\n",
    "    lista_alturas.append(altura)\r\n",
    "    lista_edades.append(edad)\r\n",
    "\r\n",
    "print(\"lista_alumnos:\", lista_alumnos)\r\n",
    "print(\"lista_nombres:\", lista_nombres)\r\n",
    "print(\"lista_alturas:\", lista_alturas)\r\n",
    "print(\"lista_edades:\", lista_edades)\r\n",
    "\r\n"
   ],
   "outputs": [
    {
     "output_type": "stream",
     "name": "stdout",
     "text": [
      "lista_alumnos: [('pepito', 20, 1.75), ('pepita', 40, 1.66)]\n",
      "lista_nombres: ['pepito', 'pepita']\n",
      "lista_alturas: [1.75, 1.66]\n",
      "lista_edades: [20, 40]\n"
     ]
    }
   ],
   "metadata": {}
  },
  {
   "cell_type": "markdown",
   "source": [
    "```python\r\n",
    "{\"soy_key\": [4, \"soy_value\"]}\r\n",
    "```"
   ],
   "metadata": {}
  },
  {
   "cell_type": "code",
   "execution_count": null,
   "source": [
    "diccionario = {}\r\n",
    "# key debe ser única\r\n",
    "diccionario1 = {\"key\":\"value\"}\r\n",
    "\r\n",
    "\r\n"
   ],
   "outputs": [],
   "metadata": {}
  },
  {
   "cell_type": "code",
   "execution_count": 31,
   "source": [
    "diccionario_nombre_altura = {\"pepito\":1.75}\r\n",
    "diccionario_nombre_altura"
   ],
   "outputs": [
    {
     "output_type": "execute_result",
     "data": {
      "text/plain": [
       "{'pepito': 1.75}"
      ]
     },
     "metadata": {},
     "execution_count": 31
    }
   ],
   "metadata": {}
  },
  {
   "cell_type": "code",
   "execution_count": 30,
   "source": [
    "dict_alumno_info = {\"pepito\":[20, 1.75]}\r\n",
    "dict_alumno_info"
   ],
   "outputs": [
    {
     "output_type": "execute_result",
     "data": {
      "text/plain": [
       "{'pepito': [20, 1.75]}"
      ]
     },
     "metadata": {},
     "execution_count": 30
    }
   ],
   "metadata": {}
  },
  {
   "cell_type": "code",
   "execution_count": 32,
   "source": [
    "# Para coger un elemento se hace a partir del valor de su clave\r\n",
    "dict_alumno_info[\"pepito\"]"
   ],
   "outputs": [
    {
     "output_type": "execute_result",
     "data": {
      "text/plain": [
       "[20, 1.75]"
      ]
     },
     "metadata": {},
     "execution_count": 32
    }
   ],
   "metadata": {}
  },
  {
   "cell_type": "code",
   "execution_count": 33,
   "source": [
    "dict_alumno_info = {\"pepito\":[20, 1.75]}\r\n",
    "dict_alumno_info"
   ],
   "outputs": [
    {
     "output_type": "execute_result",
     "data": {
      "text/plain": [
       "{'pepito': [20, 1.75]}"
      ]
     },
     "metadata": {},
     "execution_count": 33
    }
   ],
   "metadata": {}
  },
  {
   "cell_type": "code",
   "execution_count": 43,
   "source": [
    "# añadir un elemento\r\n",
    "\r\n",
    "dict_alumno_info[\"key\"] = \"value\"\r\n",
    "dict_alumno_info"
   ],
   "outputs": [
    {
     "output_type": "execute_result",
     "data": {
      "text/plain": [
       "{'pepito': [20, 1.75], 'key': 'value', 0: 2}"
      ]
     },
     "metadata": {},
     "execution_count": 43
    }
   ],
   "metadata": {}
  },
  {
   "cell_type": "code",
   "execution_count": 35,
   "source": [
    "dict_alumno_info[0] = 2\r\n",
    "dict_alumno_info"
   ],
   "outputs": [
    {
     "output_type": "execute_result",
     "data": {
      "text/plain": [
       "{'pepito': [20, 1.75], 'key': 'value', 0: 2}"
      ]
     },
     "metadata": {},
     "execution_count": 35
    }
   ],
   "metadata": {}
  },
  {
   "cell_type": "code",
   "execution_count": 40,
   "source": [
    "dict_alumno_info[\"pepito\"]"
   ],
   "outputs": [
    {
     "output_type": "execute_result",
     "data": {
      "text/plain": [
       "[20, 1.75]"
      ]
     },
     "metadata": {},
     "execution_count": 40
    }
   ],
   "metadata": {}
  },
  {
   "cell_type": "code",
   "execution_count": 47,
   "source": [
    "# crear diccionario vacío\r\n",
    "diccionario = {}\r\n",
    "# añadir elemento a diccionario (clave:valor)\r\n",
    "diccionario[\"nombre_clave\"] = 98 \r\n",
    "diccionario\r\n"
   ],
   "outputs": [
    {
     "output_type": "execute_result",
     "data": {
      "text/plain": [
       "{'nombre_clave': 98}"
      ]
     },
     "metadata": {},
     "execution_count": 47
    }
   ],
   "metadata": {}
  },
  {
   "cell_type": "code",
   "execution_count": 48,
   "source": [
    "# coger el valor a partir de la clave\r\n",
    "diccionario[\"nombre_clave\"]"
   ],
   "outputs": [
    {
     "output_type": "execute_result",
     "data": {
      "text/plain": [
       "98"
      ]
     },
     "metadata": {},
     "execution_count": 48
    }
   ],
   "metadata": {}
  },
  {
   "cell_type": "code",
   "execution_count": 49,
   "source": [
    "# eliminar una clave:valor\r\n",
    "del diccionario[\"nombre_clave\"]\r\n",
    "diccionario"
   ],
   "outputs": [
    {
     "output_type": "execute_result",
     "data": {
      "text/plain": [
       "{}"
      ]
     },
     "metadata": {},
     "execution_count": 49
    }
   ],
   "metadata": {}
  },
  {
   "cell_type": "code",
   "execution_count": 51,
   "source": [
    "diccionario = {0: [2, 4], \"X\":\"A\"}\r\n",
    "\r\n",
    "diccionario"
   ],
   "outputs": [
    {
     "output_type": "execute_result",
     "data": {
      "text/plain": [
       "{0: [2, 4], 'X': 'A'}"
      ]
     },
     "metadata": {},
     "execution_count": 51
    }
   ],
   "metadata": {}
  },
  {
   "cell_type": "code",
   "execution_count": 52,
   "source": [
    "# 3 formas de recorrer un diccionario\r\n",
    "\r\n",
    "# 1a. Por clave\r\n",
    "\r\n",
    "for key in diccionario:\r\n",
    "    print(\"key:\", key) "
   ],
   "outputs": [
    {
     "output_type": "stream",
     "name": "stdout",
     "text": [
      "key: 0\n",
      "key: X\n"
     ]
    }
   ],
   "metadata": {}
  },
  {
   "cell_type": "code",
   "execution_count": 53,
   "source": [
    "# 1a. Por clave\r\n",
    "\r\n",
    "for key in diccionario.keys():\r\n",
    "    print(\"key:\", key) "
   ],
   "outputs": [
    {
     "output_type": "stream",
     "name": "stdout",
     "text": [
      "key: 0\n",
      "key: X\n"
     ]
    }
   ],
   "metadata": {}
  },
  {
   "cell_type": "code",
   "execution_count": 55,
   "source": [
    "# 2a. Por valor\r\n",
    "print(diccionario)\r\n",
    "for value in diccionario.values():\r\n",
    "    print(\"value:\", value) "
   ],
   "outputs": [
    {
     "output_type": "stream",
     "name": "stdout",
     "text": [
      "{0: [2, 4], 'X': 'A'}\n",
      "value: [2, 4]\n",
      "value: A\n"
     ]
    }
   ],
   "metadata": {}
  },
  {
   "cell_type": "code",
   "execution_count": 58,
   "source": [
    "# 3a. Por clave y valor\r\n",
    "print(diccionario)\r\n",
    "for key, value in diccionario.items():\r\n",
    "    print(\"--------\")\r\n",
    "    print(\"key:\", key)\r\n",
    "    print(\"value:\", value)\r\n",
    "    print(key, \":\", value)"
   ],
   "outputs": [
    {
     "output_type": "stream",
     "name": "stdout",
     "text": [
      "{0: [2, 4], 'X': 'A'}\n",
      "--------\n",
      "key: 0\n",
      "value: [2, 4]\n",
      "0 : [2, 4]\n",
      "--------\n",
      "key: X\n",
      "value: A\n",
      "X : A\n"
     ]
    }
   ],
   "metadata": {}
  },
  {
   "cell_type": "code",
   "execution_count": 59,
   "source": [
    "student_list = [(\"Gabriel Vázquez\", 29, 1.75), (\"Leonardo Sánchez\", 24, 1.82), (\"Piero Termini\", 25, 1.71), (\"Marta Buesa\", 35, 1.66), (\"Silvia Pasinato\", 37, 1.63), (\"Faro Zamani\", 29, 1.90), ('Miguel Nievas', 27, 1.80), (\"Alejandro Medina\", 28, 1.70), (\"Cristina Martínez\", 32, 1.60), (\"Francisco Palma\", 36, 1.74), (\"Jorge Duque\", 45, 1.72), (\"Jesús Llanes\", 41, 1.65), (\"Luis Pech\", 18, 1.71), (\"Marta Gómez\", 30, 1.65), (\"Jennifer Sanchez\", 40, 1.60), (\"Diego Isla\", 39, 1.80), (\"Nuria Brocar\", 35, 1.75), (\"Antonio Campaña\", 23, 1.77), (\"Isabella Schindowski\", 34, 1.60), (\"Juan Maniglia\", 32, 1.75), (\"David Suárez\", 27, 1.70), (\"Antonio Jiménez\", 34, 1.80), (\"Carlos Hernández\", 27, 1.77), (\"Erik Urresta\", 28, 1.70), (\"Marcos Lobo\", 35, 1.80), (\"Natalia Fernandez\", 31, 1.70)]\r\n",
    "\r\n",
    "print(student_list)"
   ],
   "outputs": [
    {
     "output_type": "stream",
     "name": "stdout",
     "text": [
      "[('Gabriel Vázquez', 29, 1.75), ('Leonardo Sánchez', 24, 1.82), ('Piero Termini', 25, 1.71), ('Marta Buesa', 35, 1.66), ('Silvia Pasinato', 37, 1.63), ('Faro Zamani', 29, 1.9), ('Miguel Nievas', 27, 1.8), ('Alejandro Medina', 28, 1.7), ('Cristina Martínez', 32, 1.6), ('Francisco Palma', 36, 1.74), ('Jorge Duque', 45, 1.72), ('Jesús Llanes', 41, 1.65), ('Luis Pech', 18, 1.71), ('Marta Gómez', 30, 1.65), ('Jennifer Sanchez', 40, 1.6), ('Diego Isla', 39, 1.8), ('Nuria Brocar', 35, 1.75), ('Antonio Campaña', 23, 1.77), ('Isabella Schindowski', 34, 1.6), ('Juan Maniglia', 32, 1.75), ('David Suárez', 27, 1.7), ('Antonio Jiménez', 34, 1.8), ('Carlos Hernández', 27, 1.77), ('Erik Urresta', 28, 1.7), ('Marcos Lobo', 35, 1.8), ('Natalia Fernandez', 31, 1.7)]\n"
     ]
    }
   ],
   "metadata": {}
  },
  {
   "cell_type": "code",
   "execution_count": 63,
   "source": [
    "# {\"nombre_alumno\": [edad, altura]}\r\n",
    "diccionario_alumno = {}\r\n",
    "#diccionario_alumno[\"ataulfo\"] = [20, 1.8] \r\n",
    "# dentro del bucle for  se añaden todos los alumnos \r\n",
    "# y profesores junto con una lista que tiene la edad y la altura\r\n",
    "for tupla_alumno in student_list:\r\n",
    "    nombre = tupla_alumno[0]\r\n",
    "    edad = tupla_alumno[1]\r\n",
    "    altura = tupla_alumno[2]\r\n",
    "    # añadimos nombre : [edad, altura]\r\n",
    "    diccionario_alumno[nombre] = [edad, altura] \r\n",
    "print(diccionario_alumno)"
   ],
   "outputs": [
    {
     "output_type": "stream",
     "name": "stdout",
     "text": [
      "{'Gabriel Vázquez': [29, 1.75], 'Leonardo Sánchez': [24, 1.82], 'Piero Termini': [25, 1.71], 'Marta Buesa': [35, 1.66], 'Silvia Pasinato': [37, 1.63], 'Faro Zamani': [29, 1.9], 'Miguel Nievas': [27, 1.8], 'Alejandro Medina': [28, 1.7], 'Cristina Martínez': [32, 1.6], 'Francisco Palma': [36, 1.74], 'Jorge Duque': [45, 1.72], 'Jesús Llanes': [41, 1.65], 'Luis Pech': [18, 1.71], 'Marta Gómez': [30, 1.65], 'Jennifer Sanchez': [40, 1.6], 'Diego Isla': [39, 1.8], 'Nuria Brocar': [35, 1.75], 'Antonio Campaña': [23, 1.77], 'Isabella Schindowski': [34, 1.6], 'Juan Maniglia': [32, 1.75], 'David Suárez': [27, 1.7], 'Antonio Jiménez': [34, 1.8], 'Carlos Hernández': [27, 1.77], 'Erik Urresta': [28, 1.7], 'Marcos Lobo': [35, 1.8], 'Natalia Fernandez': [31, 1.7]}\n"
     ]
    }
   ],
   "metadata": {}
  },
  {
   "cell_type": "code",
   "execution_count": 66,
   "source": [
    "# Una nueva lista que contenga todos los nombres\r\n",
    "# cuya altura sea mayor a 1.7  (recorriendo el diccionario)\r\n",
    "\r\n",
    "lista_filtro_altura = []\r\n",
    "for nombre, edad_altura in diccionario_alumno.items():\r\n",
    "    if edad_altura[1] > 1.7:\r\n",
    "        lista_filtro_altura.append(nombre)\r\n",
    "\r\n",
    "print(\"lista_filtro_altura:\", lista_filtro_altura)\r\n",
    "#print(nombre, \":\", edad_altura)\r\n"
   ],
   "outputs": [
    {
     "output_type": "stream",
     "name": "stdout",
     "text": [
      "lista_filtro_altura: ['Gabriel Vázquez', 'Leonardo Sánchez', 'Piero Termini', 'Faro Zamani', 'Miguel Nievas', 'Francisco Palma', 'Jorge Duque', 'Luis Pech', 'Diego Isla', 'Nuria Brocar', 'Antonio Campaña', 'Juan Maniglia', 'Antonio Jiménez', 'Carlos Hernández', 'Marcos Lobo']\n"
     ]
    }
   ],
   "metadata": {}
  },
  {
   "cell_type": "code",
   "execution_count": 67,
   "source": [
    "diccionario_alumno"
   ],
   "outputs": [
    {
     "output_type": "execute_result",
     "data": {
      "text/plain": [
       "{'Gabriel Vázquez': [29, 1.75],\n",
       " 'Leonardo Sánchez': [24, 1.82],\n",
       " 'Piero Termini': [25, 1.71],\n",
       " 'Marta Buesa': [35, 1.66],\n",
       " 'Silvia Pasinato': [37, 1.63],\n",
       " 'Faro Zamani': [29, 1.9],\n",
       " 'Miguel Nievas': [27, 1.8],\n",
       " 'Alejandro Medina': [28, 1.7],\n",
       " 'Cristina Martínez': [32, 1.6],\n",
       " 'Francisco Palma': [36, 1.74],\n",
       " 'Jorge Duque': [45, 1.72],\n",
       " 'Jesús Llanes': [41, 1.65],\n",
       " 'Luis Pech': [18, 1.71],\n",
       " 'Marta Gómez': [30, 1.65],\n",
       " 'Jennifer Sanchez': [40, 1.6],\n",
       " 'Diego Isla': [39, 1.8],\n",
       " 'Nuria Brocar': [35, 1.75],\n",
       " 'Antonio Campaña': [23, 1.77],\n",
       " 'Isabella Schindowski': [34, 1.6],\n",
       " 'Juan Maniglia': [32, 1.75],\n",
       " 'David Suárez': [27, 1.7],\n",
       " 'Antonio Jiménez': [34, 1.8],\n",
       " 'Carlos Hernández': [27, 1.77],\n",
       " 'Erik Urresta': [28, 1.7],\n",
       " 'Marcos Lobo': [35, 1.8],\n",
       " 'Natalia Fernandez': [31, 1.7]}"
      ]
     },
     "metadata": {},
     "execution_count": 67
    }
   ],
   "metadata": {}
  },
  {
   "cell_type": "code",
   "execution_count": 74,
   "source": [
    "lista = [\"A\", \"B\", \"C\"]\r\n",
    "\r\n",
    "for x in enumerate(lista):\r\n",
    "    print(x)"
   ],
   "outputs": [
    {
     "output_type": "stream",
     "name": "stdout",
     "text": [
      "(0, 'A')\n",
      "(1, 'B')\n",
      "(2, 'C')\n"
     ]
    }
   ],
   "metadata": {}
  },
  {
   "cell_type": "code",
   "execution_count": 82,
   "source": [
    "# lista alturas\r\n",
    "# lista nombres \r\n",
    "# lista edades \r\n",
    "\r\n",
    "lista_nombres = []\r\n",
    "lista_alturas = []\r\n",
    "lista_edades = []\r\n",
    "for key, value in diccionario_alumno.items():\r\n",
    "    print(\"------\")\r\n",
    "    print(\"key:\", key)\r\n",
    "    print(\"value:\", value)\r\n",
    "    lista_nombres.append(key)\r\n",
    "    lista_edades.append(value[0])\r\n",
    "    lista_alturas.append(value[1])\r\n",
    "\r\n",
    "print(\"lista_nombres:\", lista_nombres)\r\n",
    "print(\"lista_alturas:\", lista_alturas)\r\n",
    "print(\"lista_edades:\", lista_edades)"
   ],
   "outputs": [
    {
     "output_type": "stream",
     "name": "stdout",
     "text": [
      "------\n",
      "key: Gabriel Vázquez\n",
      "value: [29, 1.75]\n",
      "------\n",
      "key: Leonardo Sánchez\n",
      "value: [24, 1.82]\n",
      "------\n",
      "key: Piero Termini\n",
      "value: [25, 1.71]\n",
      "------\n",
      "key: Marta Buesa\n",
      "value: [35, 1.66]\n",
      "------\n",
      "key: Silvia Pasinato\n",
      "value: [37, 1.63]\n",
      "------\n",
      "key: Faro Zamani\n",
      "value: [29, 1.9]\n",
      "------\n",
      "key: Miguel Nievas\n",
      "value: [27, 1.8]\n",
      "------\n",
      "key: Alejandro Medina\n",
      "value: [28, 1.7]\n",
      "------\n",
      "key: Cristina Martínez\n",
      "value: [32, 1.6]\n",
      "------\n",
      "key: Francisco Palma\n",
      "value: [36, 1.74]\n",
      "------\n",
      "key: Jorge Duque\n",
      "value: [45, 1.72]\n",
      "------\n",
      "key: Jesús Llanes\n",
      "value: [41, 1.65]\n",
      "------\n",
      "key: Luis Pech\n",
      "value: [18, 1.71]\n",
      "------\n",
      "key: Marta Gómez\n",
      "value: [30, 1.65]\n",
      "------\n",
      "key: Jennifer Sanchez\n",
      "value: [40, 1.6]\n",
      "------\n",
      "key: Diego Isla\n",
      "value: [39, 1.8]\n",
      "------\n",
      "key: Nuria Brocar\n",
      "value: [35, 1.75]\n",
      "------\n",
      "key: Antonio Campaña\n",
      "value: [23, 1.77]\n",
      "------\n",
      "key: Isabella Schindowski\n",
      "value: [34, 1.6]\n",
      "------\n",
      "key: Juan Maniglia\n",
      "value: [32, 1.75]\n",
      "------\n",
      "key: David Suárez\n",
      "value: [27, 1.7]\n",
      "------\n",
      "key: Antonio Jiménez\n",
      "value: [34, 1.8]\n",
      "------\n",
      "key: Carlos Hernández\n",
      "value: [27, 1.77]\n",
      "------\n",
      "key: Erik Urresta\n",
      "value: [28, 1.7]\n",
      "------\n",
      "key: Marcos Lobo\n",
      "value: [35, 1.8]\n",
      "------\n",
      "key: Natalia Fernandez\n",
      "value: [31, 1.7]\n",
      "lista_nombres: ['Gabriel Vázquez', 'Leonardo Sánchez', 'Piero Termini', 'Marta Buesa', 'Silvia Pasinato', 'Faro Zamani', 'Miguel Nievas', 'Alejandro Medina', 'Cristina Martínez', 'Francisco Palma', 'Jorge Duque', 'Jesús Llanes', 'Luis Pech', 'Marta Gómez', 'Jennifer Sanchez', 'Diego Isla', 'Nuria Brocar', 'Antonio Campaña', 'Isabella Schindowski', 'Juan Maniglia', 'David Suárez', 'Antonio Jiménez', 'Carlos Hernández', 'Erik Urresta', 'Marcos Lobo', 'Natalia Fernandez']\n",
      "lista_alturas: [1.75, 1.82, 1.71, 1.66, 1.63, 1.9, 1.8, 1.7, 1.6, 1.74, 1.72, 1.65, 1.71, 1.65, 1.6, 1.8, 1.75, 1.77, 1.6, 1.75, 1.7, 1.8, 1.77, 1.7, 1.8, 1.7]\n",
      "lista_edades: [29, 24, 25, 35, 37, 29, 27, 28, 32, 36, 45, 41, 18, 30, 40, 39, 35, 23, 34, 32, 27, 34, 27, 28, 35, 31]\n"
     ]
    }
   ],
   "metadata": {}
  },
  {
   "cell_type": "code",
   "execution_count": 87,
   "source": [
    "print(len(lista_nombres))\r\n",
    "print(len(lista_edades))"
   ],
   "outputs": [
    {
     "output_type": "stream",
     "name": "stdout",
     "text": [
      "26\n",
      "26\n"
     ]
    }
   ],
   "metadata": {}
  },
  {
   "cell_type": "code",
   "execution_count": 92,
   "source": [
    "diccionario_zip = {}\r\n",
    "\r\n",
    "for pos, nombre in enumerate(lista_nombres):\r\n",
    "    diccionario_zip[nombre] = lista_edades[pos]\r\n",
    "\r\n",
    "diccionario_zip\r\n"
   ],
   "outputs": [
    {
     "output_type": "execute_result",
     "data": {
      "text/plain": [
       "{'Gabriel Vázquez': 29,\n",
       " 'Leonardo Sánchez': 24,\n",
       " 'Piero Termini': 25,\n",
       " 'Marta Buesa': 35,\n",
       " 'Silvia Pasinato': 37,\n",
       " 'Faro Zamani': 29,\n",
       " 'Miguel Nievas': 27,\n",
       " 'Alejandro Medina': 28,\n",
       " 'Cristina Martínez': 32,\n",
       " 'Francisco Palma': 36,\n",
       " 'Jorge Duque': 45,\n",
       " 'Jesús Llanes': 41,\n",
       " 'Luis Pech': 18,\n",
       " 'Marta Gómez': 30,\n",
       " 'Jennifer Sanchez': 40,\n",
       " 'Diego Isla': 39,\n",
       " 'Nuria Brocar': 35,\n",
       " 'Antonio Campaña': 23,\n",
       " 'Isabella Schindowski': 34,\n",
       " 'Juan Maniglia': 32,\n",
       " 'David Suárez': 27,\n",
       " 'Antonio Jiménez': 34,\n",
       " 'Carlos Hernández': 27,\n",
       " 'Erik Urresta': 28,\n",
       " 'Marcos Lobo': 35,\n",
       " 'Natalia Fernandez': 31}"
      ]
     },
     "metadata": {},
     "execution_count": 92
    }
   ],
   "metadata": {}
  },
  {
   "cell_type": "code",
   "execution_count": 89,
   "source": [
    "diccionario_zip = {}\r\n",
    "\r\n",
    "for pos in range(len(lista_nombres)):\r\n",
    "    nombre = lista_nombres[pos]\r\n",
    "    edad = lista_edades[pos]\r\n",
    "    diccionario_zip[nombre] = edad\r\n",
    "\r\n",
    "diccionario_zip"
   ],
   "outputs": [
    {
     "output_type": "execute_result",
     "data": {
      "text/plain": [
       "{'Gabriel Vázquez': 29,\n",
       " 'Leonardo Sánchez': 24,\n",
       " 'Piero Termini': 25,\n",
       " 'Marta Buesa': 35,\n",
       " 'Silvia Pasinato': 37,\n",
       " 'Faro Zamani': 29,\n",
       " 'Miguel Nievas': 27,\n",
       " 'Alejandro Medina': 28,\n",
       " 'Cristina Martínez': 32,\n",
       " 'Francisco Palma': 36,\n",
       " 'Jorge Duque': 45,\n",
       " 'Jesús Llanes': 41,\n",
       " 'Luis Pech': 18,\n",
       " 'Marta Gómez': 30,\n",
       " 'Jennifer Sanchez': 40,\n",
       " 'Diego Isla': 39,\n",
       " 'Nuria Brocar': 35,\n",
       " 'Antonio Campaña': 23,\n",
       " 'Isabella Schindowski': 34,\n",
       " 'Juan Maniglia': 32,\n",
       " 'David Suárez': 27,\n",
       " 'Antonio Jiménez': 34,\n",
       " 'Carlos Hernández': 27,\n",
       " 'Erik Urresta': 28,\n",
       " 'Marcos Lobo': 35,\n",
       " 'Natalia Fernandez': 31}"
      ]
     },
     "metadata": {},
     "execution_count": 89
    }
   ],
   "metadata": {}
  },
  {
   "cell_type": "code",
   "execution_count": null,
   "source": [
    "diccionario_zip = {}\r\n",
    "\r\n",
    "contador = 0\r\n",
    "for valor in lista_nombres:\r\n",
    "    nombre = valor\r\n",
    "    edad = lista_edades[contador]\r\n",
    "    diccionario_zip[nombre] = edad\r\n",
    "    contador += 1\r\n",
    "\r\n",
    "diccionario_zip"
   ],
   "outputs": [],
   "metadata": {}
  },
  {
   "cell_type": "code",
   "execution_count": 83,
   "source": [
    "# Fusiona dos colecciones. La que pongamos a la izquierda serán\r\n",
    "# las claves y lo que pongamos a la derecha sus valores\r\n",
    "dict_zip = dict(zip(lista_nombres, lista_edades))\r\n",
    "dict_zip"
   ],
   "outputs": [
    {
     "output_type": "execute_result",
     "data": {
      "text/plain": [
       "{'Gabriel Vázquez': 29,\n",
       " 'Leonardo Sánchez': 24,\n",
       " 'Piero Termini': 25,\n",
       " 'Marta Buesa': 35,\n",
       " 'Silvia Pasinato': 37,\n",
       " 'Faro Zamani': 29,\n",
       " 'Miguel Nievas': 27,\n",
       " 'Alejandro Medina': 28,\n",
       " 'Cristina Martínez': 32,\n",
       " 'Francisco Palma': 36,\n",
       " 'Jorge Duque': 45,\n",
       " 'Jesús Llanes': 41,\n",
       " 'Luis Pech': 18,\n",
       " 'Marta Gómez': 30,\n",
       " 'Jennifer Sanchez': 40,\n",
       " 'Diego Isla': 39,\n",
       " 'Nuria Brocar': 35,\n",
       " 'Antonio Campaña': 23,\n",
       " 'Isabella Schindowski': 34,\n",
       " 'Juan Maniglia': 32,\n",
       " 'David Suárez': 27,\n",
       " 'Antonio Jiménez': 34,\n",
       " 'Carlos Hernández': 27,\n",
       " 'Erik Urresta': 28,\n",
       " 'Marcos Lobo': 35,\n",
       " 'Natalia Fernandez': 31}"
      ]
     },
     "metadata": {},
     "execution_count": 83
    }
   ],
   "metadata": {}
  },
  {
   "cell_type": "code",
   "execution_count": null,
   "source": [
    "# repaso\r\n",
    "diccionario = {}\r\n",
    "diccionario[\"clave\"] = \"valor\"\r\n",
    "diccionario[\"pepito\"] = [2, \"X\"]\r\n",
    "del diccionario[\"clave\"]\r\n",
    "# mostrar el valor de pepito\r\n",
    "print(diccionario[\"pepito\"])\r\n",
    "# actualizar el valor de la clave pepito existente\r\n",
    "diccionario[\"pepito\"] = (-10, -5)\r\n",
    "# recorrer claves\r\n",
    "for key in diccionario:\r\n",
    "    print(key)\r\n",
    "for value in diccionario.values():\r\n",
    "    print(value)\r\n",
    "for key, value in diccionario.items():\r\n",
    "    print(key)\r\n",
    "    print(value)\r\n",
    "\r\n"
   ],
   "outputs": [],
   "metadata": {}
  },
  {
   "cell_type": "code",
   "execution_count": 90,
   "source": [
    "# Las claves solo pueden ser elementos inmutables\r\n",
    "\r\n",
    "diccionario_2 = {}\r\n",
    "\r\n",
    "diccionario_2 = {(2, 4): \"value\"}\r\n",
    "diccionario_2"
   ],
   "outputs": [
    {
     "output_type": "execute_result",
     "data": {
      "text/plain": [
       "{(2, 4): 'value'}"
      ]
     },
     "metadata": {},
     "execution_count": 90
    }
   ],
   "metadata": {}
  },
  {
   "cell_type": "code",
   "execution_count": 91,
   "source": [
    "diccionario_2 = {}\r\n",
    "\r\n",
    "diccionario_2 = {[2, 4]: \"value\"}\r\n",
    "diccionario_2"
   ],
   "outputs": [
    {
     "output_type": "error",
     "ename": "TypeError",
     "evalue": "unhashable type: 'list'",
     "traceback": [
      "\u001b[1;31m---------------------------------------------------------------------------\u001b[0m",
      "\u001b[1;31mTypeError\u001b[0m                                 Traceback (most recent call last)",
      "\u001b[1;32m<ipython-input-91-55a7072e4b8b>\u001b[0m in \u001b[0;36m<module>\u001b[1;34m\u001b[0m\n\u001b[0;32m      1\u001b[0m \u001b[0mdiccionario_2\u001b[0m \u001b[1;33m=\u001b[0m \u001b[1;33m{\u001b[0m\u001b[1;33m}\u001b[0m\u001b[1;33m\u001b[0m\u001b[0m\n\u001b[0;32m      2\u001b[0m \u001b[1;33m\u001b[0m\u001b[0m\n\u001b[1;32m----> 3\u001b[1;33m \u001b[0mdiccionario_2\u001b[0m \u001b[1;33m=\u001b[0m \u001b[1;33m{\u001b[0m\u001b[1;33m[\u001b[0m\u001b[1;36m2\u001b[0m\u001b[1;33m,\u001b[0m \u001b[1;36m4\u001b[0m\u001b[1;33m]\u001b[0m\u001b[1;33m:\u001b[0m \u001b[1;34m\"value\"\u001b[0m\u001b[1;33m}\u001b[0m\u001b[1;33m\u001b[0m\u001b[0m\n\u001b[0m\u001b[0;32m      4\u001b[0m \u001b[0mdiccionario_2\u001b[0m\u001b[1;33m\u001b[0m\u001b[0m\n",
      "\u001b[1;31mTypeError\u001b[0m: unhashable type: 'list'"
     ]
    }
   ],
   "metadata": {}
  },
  {
   "cell_type": "code",
   "execution_count": 96,
   "source": [
    "diccionario_2 = {}\r\n",
    "\r\n",
    "diccionario_2 = {\"sdasd\": \"value\"}\r\n",
    "diccionario_2 = {24124: \"value\"}\r\n",
    "diccionario_2 = {24124.: \"value\"}\r\n",
    "diccionario_2[24124.1] = {\"clave\": \"value\"}\r\n",
    "diccionario_2"
   ],
   "outputs": [
    {
     "output_type": "execute_result",
     "data": {
      "text/plain": [
       "{24124.0: 'value', 24124.1: {'clave': 'value'}}"
      ]
     },
     "metadata": {},
     "execution_count": 96
    }
   ],
   "metadata": {}
  },
  {
   "cell_type": "code",
   "execution_count": 100,
   "source": [
    "diccionario_2[24124.1]"
   ],
   "outputs": [
    {
     "output_type": "execute_result",
     "data": {
      "text/plain": [
       "{'clave': 'value'}"
      ]
     },
     "metadata": {},
     "execution_count": 100
    }
   ],
   "metadata": {}
  },
  {
   "cell_type": "code",
   "execution_count": 99,
   "source": [
    "diccionario_2[24124.1][\"clave\"]"
   ],
   "outputs": [
    {
     "output_type": "execute_result",
     "data": {
      "text/plain": [
       "'value'"
      ]
     },
     "metadata": {},
     "execution_count": 99
    }
   ],
   "metadata": {}
  },
  {
   "cell_type": "code",
   "execution_count": 32,
   "source": [
    "diccionario = {1:\"X\", \"X\":2}\r\n",
    "diccionario"
   ],
   "outputs": [
    {
     "output_type": "execute_result",
     "data": {
      "text/plain": [
       "{1: 'X', 'X': 2}"
      ]
     },
     "metadata": {},
     "execution_count": 32
    }
   ],
   "metadata": {}
  },
  {
   "cell_type": "code",
   "execution_count": 101,
   "source": [
    "list(range(8))"
   ],
   "outputs": [
    {
     "output_type": "execute_result",
     "data": {
      "text/plain": [
       "[0, 1, 2, 3, 4, 5, 6, 7]"
      ]
     },
     "metadata": {},
     "execution_count": 101
    }
   ],
   "metadata": {}
  },
  {
   "cell_type": "code",
   "execution_count": 102,
   "source": [
    "list(range(2, 8))"
   ],
   "outputs": [
    {
     "output_type": "execute_result",
     "data": {
      "text/plain": [
       "[2, 3, 4, 5, 6, 7]"
      ]
     },
     "metadata": {},
     "execution_count": 102
    }
   ],
   "metadata": {}
  },
  {
   "cell_type": "code",
   "execution_count": 104,
   "source": [
    "list(range(8))\r\n",
    "list(range(0,8,1))"
   ],
   "outputs": [
    {
     "output_type": "execute_result",
     "data": {
      "text/plain": [
       "[0, 1, 2, 3, 4, 5, 6, 7]"
      ]
     },
     "metadata": {},
     "execution_count": 104
    }
   ],
   "metadata": {}
  },
  {
   "cell_type": "code",
   "execution_count": 105,
   "source": [
    "list(range(2, 8, 2))"
   ],
   "outputs": [
    {
     "output_type": "execute_result",
     "data": {
      "text/plain": [
       "[2, 4, 6]"
      ]
     },
     "metadata": {},
     "execution_count": 105
    }
   ],
   "metadata": {}
  },
  {
   "cell_type": "code",
   "execution_count": 110,
   "source": [
    "list(range(-2, 8, -1))"
   ],
   "outputs": [
    {
     "output_type": "execute_result",
     "data": {
      "text/plain": [
       "[]"
      ]
     },
     "metadata": {},
     "execution_count": 110
    }
   ],
   "metadata": {}
  },
  {
   "cell_type": "code",
   "execution_count": 111,
   "source": [
    "list(range(8, -2, -1))"
   ],
   "outputs": [
    {
     "output_type": "execute_result",
     "data": {
      "text/plain": [
       "[8, 7, 6, 5, 4, 3, 2, 1, 0, -1]"
      ]
     },
     "metadata": {},
     "execution_count": 111
    }
   ],
   "metadata": {}
  },
  {
   "cell_type": "code",
   "execution_count": 33,
   "source": [
    "diccionario[1]"
   ],
   "outputs": [
    {
     "output_type": "execute_result",
     "data": {
      "text/plain": [
       "'X'"
      ]
     },
     "metadata": {},
     "execution_count": 33
    }
   ],
   "metadata": {}
  },
  {
   "cell_type": "code",
   "execution_count": null,
   "source": [
    "diccionario[\"X\"]"
   ],
   "outputs": [],
   "metadata": {}
  },
  {
   "cell_type": "code",
   "execution_count": 34,
   "source": [
    "diccionario[\"clave\"] = [\"2\", 2]\r\n",
    "diccionario"
   ],
   "outputs": [
    {
     "output_type": "execute_result",
     "data": {
      "text/plain": [
       "{1: 'X', 'X': 2, 'clave': ['2', 2]}"
      ]
     },
     "metadata": {},
     "execution_count": 34
    }
   ],
   "metadata": {}
  },
  {
   "cell_type": "code",
   "execution_count": 35,
   "source": [
    "diccionario[2] = 4\r\n",
    "diccionario"
   ],
   "outputs": [
    {
     "output_type": "execute_result",
     "data": {
      "text/plain": [
       "{1: 'X', 'X': 2, 'clave': ['2', 2], 2: 4}"
      ]
     },
     "metadata": {},
     "execution_count": 35
    }
   ],
   "metadata": {}
  },
  {
   "cell_type": "code",
   "execution_count": 36,
   "source": [
    "print(diccionario[\"clave\"])"
   ],
   "outputs": [
    {
     "output_type": "stream",
     "name": "stdout",
     "text": [
      "['2', 2]\n"
     ]
    }
   ],
   "metadata": {}
  },
  {
   "cell_type": "code",
   "execution_count": 37,
   "source": [
    "diccionario[\"clave\"] = [\"2\", 4]\r\n",
    "diccionario"
   ],
   "outputs": [
    {
     "output_type": "execute_result",
     "data": {
      "text/plain": [
       "{1: 'X', 'X': 2, 'clave': ['2', 4], 2: 4}"
      ]
     },
     "metadata": {},
     "execution_count": 37
    }
   ],
   "metadata": {}
  },
  {
   "cell_type": "code",
   "execution_count": 38,
   "source": [
    "diccionario[\"clave\"] = diccionario[\"clave\"]\r\n",
    "diccionario"
   ],
   "outputs": [
    {
     "output_type": "execute_result",
     "data": {
      "text/plain": [
       "{1: 'X', 'X': 2, 'clave': ['2', 4], 2: 4}"
      ]
     },
     "metadata": {},
     "execution_count": 38
    }
   ],
   "metadata": {}
  },
  {
   "cell_type": "code",
   "execution_count": 39,
   "source": [
    "diccionario[\"X\"] = \"3\"\r\n",
    "diccionario"
   ],
   "outputs": [
    {
     "output_type": "execute_result",
     "data": {
      "text/plain": [
       "{1: 'X', 'X': '3', 'clave': ['2', 4], 2: 4}"
      ]
     },
     "metadata": {},
     "execution_count": 39
    }
   ],
   "metadata": {}
  },
  {
   "cell_type": "code",
   "execution_count": 40,
   "source": [
    "diccionario[\"x\"] = 99\r\n",
    "diccionario"
   ],
   "outputs": [
    {
     "output_type": "execute_result",
     "data": {
      "text/plain": [
       "{1: 'X', 'X': '3', 'clave': ['2', 4], 2: 4, 'x': 99}"
      ]
     },
     "metadata": {},
     "execution_count": 40
    }
   ],
   "metadata": {}
  },
  {
   "cell_type": "code",
   "execution_count": 41,
   "source": [
    "diccionario[\"X\"] = diccionario[\"x\"]\r\n",
    "diccionario"
   ],
   "outputs": [
    {
     "output_type": "execute_result",
     "data": {
      "text/plain": [
       "{1: 'X', 'X': 99, 'clave': ['2', 4], 2: 4, 'x': 99}"
      ]
     },
     "metadata": {},
     "execution_count": 41
    }
   ],
   "metadata": {}
  },
  {
   "cell_type": "code",
   "execution_count": 42,
   "source": [
    "del diccionario[\"clave\"]\r\n",
    "diccionario"
   ],
   "outputs": [
    {
     "output_type": "execute_result",
     "data": {
      "text/plain": [
       "{1: 'X', 'X': 99, 2: 4, 'x': 99}"
      ]
     },
     "metadata": {},
     "execution_count": 42
    }
   ],
   "metadata": {}
  },
  {
   "cell_type": "code",
   "execution_count": 43,
   "source": [
    "del diccionario[\"x\"]\r\n",
    "diccionario"
   ],
   "outputs": [
    {
     "output_type": "execute_result",
     "data": {
      "text/plain": [
       "{1: 'X', 'X': 99, 2: 4}"
      ]
     },
     "metadata": {},
     "execution_count": 43
    }
   ],
   "metadata": {}
  },
  {
   "cell_type": "markdown",
   "source": [
    "`dict.update`"
   ],
   "metadata": {}
  },
  {
   "cell_type": "code",
   "execution_count": 44,
   "source": [
    "diccionario.update({'before' : 24})\r\n",
    "diccionario"
   ],
   "outputs": [
    {
     "output_type": "execute_result",
     "data": {
      "text/plain": [
       "{1: 'X', 'X': 99, 2: 4, 'before': 24}"
      ]
     },
     "metadata": {},
     "execution_count": 44
    }
   ],
   "metadata": {}
  },
  {
   "cell_type": "code",
   "execution_count": 45,
   "source": [
    "diccionario[\"before\"] = 2\r\n",
    "diccionario"
   ],
   "outputs": [
    {
     "output_type": "execute_result",
     "data": {
      "text/plain": [
       "{1: 'X', 'X': 99, 2: 4, 'before': 2}"
      ]
     },
     "metadata": {},
     "execution_count": 45
    }
   ],
   "metadata": {}
  },
  {
   "cell_type": "code",
   "execution_count": 46,
   "source": [
    "diccionario[\"dict\"] = diccionario"
   ],
   "outputs": [],
   "metadata": {}
  },
  {
   "cell_type": "code",
   "execution_count": 47,
   "source": [
    "print(diccionario)"
   ],
   "outputs": [
    {
     "output_type": "stream",
     "name": "stdout",
     "text": [
      "{1: 'X', 'X': 99, 2: 4, 'before': 2, 'dict': {...}}\n"
     ]
    }
   ],
   "metadata": {}
  },
  {
   "cell_type": "code",
   "execution_count": 48,
   "source": [
    "dict_dnis = {}\r\n",
    "dict_dnis[\"899008667J\"] = [\"Paco\", 1.78, 33, 4000000]\r\n",
    "dict_dnis[\"676777888Y\"] = [\"Paco\", 1.78, 33, 30]\r\n",
    "dict_dnis"
   ],
   "outputs": [
    {
     "output_type": "execute_result",
     "data": {
      "text/plain": [
       "{'899008667J': ['Paco', 1.78, 33, 4000000],\n",
       " '676777888Y': ['Paco', 1.78, 33, 30]}"
      ]
     },
     "metadata": {},
     "execution_count": 48
    }
   ],
   "metadata": {}
  },
  {
   "cell_type": "markdown",
   "source": [
    "### Lista (copia)"
   ],
   "metadata": {}
  },
  {
   "cell_type": "code",
   "execution_count": 3,
   "source": [
    "lista = [2, \"A\", 5, \"Z\"]\r\n",
    "print(\"lista:\", lista)\r\n",
    "\r\n",
    "# k no es una copia de lista, es una referencia a lista\r\n",
    "k = lista\r\n",
    "\r\n",
    "lista.remove(\"A\")\r\n",
    "print(\"lista:\", lista)\r\n",
    "print(\"k:\", k)\r\n",
    "\r\n"
   ],
   "outputs": [
    {
     "output_type": "stream",
     "name": "stdout",
     "text": [
      "lista: [2, 'A', 5, 'Z']\n",
      "lista: [2, 5, 'Z']\n",
      "k: [2, 5, 'Z']\n"
     ]
    }
   ],
   "metadata": {}
  },
  {
   "cell_type": "code",
   "execution_count": 4,
   "source": [
    "print(id(lista))\r\n",
    "print(id(k))"
   ],
   "outputs": [
    {
     "output_type": "stream",
     "name": "stdout",
     "text": [
      "2054348265096\n",
      "2054348265096\n"
     ]
    }
   ],
   "metadata": {}
  },
  {
   "cell_type": "code",
   "execution_count": 5,
   "source": [
    "lista = [2, \"A\", 5, \"Z\"]\r\n",
    "print(\"lista:\", lista)\r\n",
    "\r\n",
    "k = lista[:] \r\n",
    "\r\n",
    "lista.remove(\"A\")\r\n",
    "print(\"lista:\", lista)\r\n",
    "print(\"k:\", k)\r\n",
    "\r\n",
    "print(id(lista))\r\n",
    "print(id(k))\r\n"
   ],
   "outputs": [
    {
     "output_type": "stream",
     "name": "stdout",
     "text": [
      "lista: [2, 'A', 5, 'Z']\n",
      "lista: [2, 5, 'Z']\n",
      "k: [2, 'A', 5, 'Z']\n",
      "2054321370184\n",
      "2054321623176\n"
     ]
    }
   ],
   "metadata": {}
  },
  {
   "cell_type": "code",
   "execution_count": 7,
   "source": [
    "lista = [2, \"A\", 5, \"Z\"]\r\n",
    "print(\"lista:\", lista)\r\n",
    "\r\n",
    "k = lista.copy()\r\n",
    "print(id(lista))\r\n",
    "print(id(k))\r\n"
   ],
   "outputs": [
    {
     "output_type": "stream",
     "name": "stdout",
     "text": [
      "lista: [2, 'A', 5, 'Z']\n",
      "2054348265096\n",
      "2054321597832\n"
     ]
    }
   ],
   "metadata": {}
  },
  {
   "cell_type": "code",
   "execution_count": 8,
   "source": [
    "lista = [2, \"A\", 5, \"Z\"]\r\n",
    "print(\"lista:\", lista)\r\n",
    "\r\n",
    "# [n:m)\r\n",
    "k = lista[0:2] \r\n",
    "print(\"k:\", k)"
   ],
   "outputs": [
    {
     "output_type": "stream",
     "name": "stdout",
     "text": [
      "lista: [2, 'A', 5, 'Z']\n",
      "k: [2, 'A']\n"
     ]
    }
   ],
   "metadata": {}
  },
  {
   "cell_type": "code",
   "execution_count": 23,
   "source": [
    "lista = [2, \"A\", 5, \"Z\"]\r\n",
    "print(\"lista:\", lista)\r\n",
    "\r\n",
    "for x in lista[:2]:\r\n",
    "    k = lista[:2]\r\n",
    "    print(\"k:\", k)\r\n",
    "    k.remove(x)\r\n",
    "    print(\"k después de remove:\", k)\r\n",
    "\r\n",
    "print(\"lista:\", lista)\r\n",
    "print(\"lista[:2]:\", lista[:2])"
   ],
   "outputs": [
    {
     "output_type": "stream",
     "name": "stdout",
     "text": [
      "lista: [2, 'A', 5, 'Z']\n",
      "k: [2, 'A']\n",
      "k después de remove: ['A']\n",
      "k: [2, 'A']\n",
      "k después de remove: [2]\n",
      "lista: [2, 'A', 5, 'Z']\n",
      "lista[:2]: [2, 'A']\n"
     ]
    }
   ],
   "metadata": {}
  },
  {
   "cell_type": "code",
   "execution_count": 24,
   "source": [
    "lista = [2, \"A\", 5, \"Z\"]\r\n",
    "print(\"lista:\", lista)\r\n",
    "\r\n",
    "for x in lista[:2]:\r\n",
    "    lista.remove(x)\r\n",
    "\r\n",
    "print(\"lista:\", lista)\r\n",
    "print(\"lista[:2]:\", lista[:2])"
   ],
   "outputs": [
    {
     "output_type": "stream",
     "name": "stdout",
     "text": [
      "lista: [2, 'A', 5, 'Z']\n",
      "lista: [5, 'Z']\n",
      "lista[:2]: [5, 'Z']\n"
     ]
    }
   ],
   "metadata": {}
  },
  {
   "cell_type": "code",
   "execution_count": 22,
   "source": [
    "lista = [2, \"A\", 5, \"Z\"]\r\n",
    "print(\"lista:\", lista)\r\n",
    "\r\n",
    "k = lista[:2]\r\n",
    "g = lista[:2]\r\n",
    "m = lista[:2]\r\n",
    "\r\n",
    "print(id(lista))\r\n",
    "print(id(k))\r\n",
    "print(id(g))\r\n",
    "print(id(m))"
   ],
   "outputs": [
    {
     "output_type": "stream",
     "name": "stdout",
     "text": [
      "lista: [2, 'A', 5, 'Z']\n",
      "2054321623176\n",
      "2054348329096\n",
      "2054321625864\n",
      "2054348265096\n"
     ]
    }
   ],
   "metadata": {}
  },
  {
   "cell_type": "code",
   "execution_count": 14,
   "source": [
    "lista = [2, \"A\", 5, \"Z\"]\r\n",
    "print(\"lista:\", lista)\r\n",
    "\r\n",
    "lista_numeros = []\r\n",
    "for x in lista:\r\n",
    "    if type(x) == int:\r\n",
    "        lista_numeros.append(x)\r\n",
    "\r\n",
    "print(\"lista_numeros:\", lista_numeros)"
   ],
   "outputs": [
    {
     "output_type": "stream",
     "name": "stdout",
     "text": [
      "lista: [2, 'A', 5, 'Z']\n",
      "lista_numeros: [2, 5]\n"
     ]
    }
   ],
   "metadata": {}
  }
 ],
 "metadata": {
  "kernelspec": {
   "name": "python3",
   "display_name": "Python 3.6.4 64-bit"
  },
  "language_info": {
   "codemirror_mode": {
    "name": "ipython",
    "version": 3
   },
   "file_extension": ".py",
   "mimetype": "text/x-python",
   "name": "python",
   "nbconvert_exporter": "python",
   "pygments_lexer": "ipython3",
   "version": "3.6.4"
  },
  "interpreter": {
   "hash": "e05034a492cd28020b141b637ab43cad260081b164a40cac23ec4809d29fc4bf"
  }
 },
 "nbformat": 4,
 "nbformat_minor": 4
}