{
 "cells": [
  {
   "cell_type": "markdown",
   "source": [
    "Enunciado del ejercicio:\r\n",
    "\r\n",
    "https://www.practicepython.org/exercise/2017/01/10/32-hangman.html\r\n",
    "\r\n",
    "Por favor, tratad de hacerlo sin mirar la solución. Es como he dicho, básicamente que se vaya mostrando por pantalla ```_ _ _ _ _``` las rayas bajas correspondientes al número de letras que tiene la palabra a adivinar. El usuario deberá insertar una letra y, si esa letra existe, se mostrará o mostrarán las letras acertadas ```O _ O _ _```. \r\n",
    "\r\n",
    "Si falla, se mostrará el número de errores que lleva y, si lleva 6 errores, entonces se mostrará \"Fin del juego\""
   ],
   "metadata": {}
  },
  {
   "cell_type": "code",
   "execution_count": 43,
   "source": [
    "numero_fallos = 0\r\n",
    "numero_aciertos = 0 \r\n",
    "palabra_a_adivinar = \"solsticio\"\r\n",
    "palabra_a_adivinar = palabra_a_adivinar.upper()\r\n",
    "\r\n",
    "def transforma_a_guiones(palabra):\r\n",
    "    return list(\"_\" * len(palabra))\r\n",
    "\r\n",
    "def muestra_guiones(lista_palabras):\r\n",
    "    a_mostrar = \"\"\r\n",
    "    for elem in lista_palabras:\r\n",
    "        a_mostrar = a_mostrar + elem + \" \"\r\n",
    "    print(a_mostrar)\r\n",
    "\r\n",
    "# Esto es una lista de guiones que vamos a ir reemplazando a medida\r\n",
    "# que el usuario vaya acertando las palabras\r\n",
    "palabra_espacios = transforma_a_guiones(palabra=palabra_a_adivinar)\r\n",
    "muestra_guiones(lista_palabras=palabra_espacios)\r\n",
    "while True:\r\n",
    "    if numero_fallos == 6:  # Ha perdido\r\n",
    "        print(\"Has perdido\")\r\n",
    "        print(\"La palabra era:\", palabra_a_adivinar)\r\n",
    "        break\r\n",
    "    else:  # No ha perdido\r\n",
    "        if not (\"_\" in palabra_espacios):  # No hay ningún _ en palabra_espacios\r\n",
    "            # Ha ganado\r\n",
    "            print(\"Has ganado\")\r\n",
    "            break\r\n",
    "    letra_usuario = input(\"Por favor, inserte una letra\").upper()\r\n",
    "    if letra_usuario in palabra_a_adivinar:  # Ha acertado una letra\r\n",
    "        # cambiamos el guión por la palabra\r\n",
    "        # mostramos los guiones modificados\r\n",
    "        for pos, letra in enumerate(palabra_a_adivinar):\r\n",
    "            if letra == letra_usuario:  # Si la letra que se está recorriendo\r\n",
    "                # es la letra que ha insertado el usuario\r\n",
    "                palabra_espacios[pos] = letra  # sustituimos en \r\n",
    "                # palabra_espacios el guión por la letra acertada\r\n",
    "        muestra_guiones(lista_palabras=palabra_espacios)\r\n",
    "    else:\r\n",
    "        print(\"No has acertado:\")\r\n",
    "        numero_fallos += 1\r\n",
    "        print(\"Número de fallos:\", numero_fallos)\r\n",
    "    \r\n",
    "\r\n",
    "    \r\n"
   ],
   "outputs": [
    {
     "output_type": "stream",
     "name": "stdout",
     "text": [
      "_ _ _ _ _ _ _ _ _ \n",
      "S _ _ S _ _ _ _ _ \n",
      "No has acertado:\n",
      "Número de fallos: 1\n",
      "S _ _ S _ I _ I _ \n",
      "S O _ S _ I _ I O \n",
      "S O _ S T I _ I O \n",
      "S O L S T I _ I O \n",
      "S O L S T I C I O \n",
      "Has ganado\n"
     ]
    }
   ],
   "metadata": {}
  },
  {
   "cell_type": "code",
   "execution_count": 10,
   "source": [
    "list(palabra_a_adivinar)"
   ],
   "outputs": [
    {
     "output_type": "execute_result",
     "data": {
      "text/plain": [
       "['M', 'U', 'R', 'C', 'I', 'E', 'L', 'A', 'G', 'O']"
      ]
     },
     "metadata": {},
     "execution_count": 10
    }
   ],
   "metadata": {}
  },
  {
   "cell_type": "code",
   "execution_count": null,
   "source": [
    "palabra_a_adivinar"
   ],
   "outputs": [],
   "metadata": {}
  },
  {
   "cell_type": "code",
   "execution_count": 27,
   "source": [
    "# Función que reciba una palabra a adivinar y muestre \r\n",
    "# por pantalla su forma con guiones \r\n",
    "\r\n",
    "def transforma_a_guiones(palabra):\r\n",
    "    return list(\"_\" * len(palabra))\r\n",
    "\r\n",
    "palabra_espacios = transforma_a_guiones(palabra=palabra_a_adivinar)\r\n",
    "palabra_espacios"
   ],
   "outputs": [
    {
     "output_type": "execute_result",
     "data": {
      "text/plain": [
       "['_', '_', '_', '_', '_', '_', '_', '_', '_', '_']"
      ]
     },
     "metadata": {},
     "execution_count": 27
    }
   ],
   "metadata": {}
  },
  {
   "cell_type": "code",
   "execution_count": 25,
   "source": [
    "palabra_espacios"
   ],
   "outputs": [
    {
     "output_type": "execute_result",
     "data": {
      "text/plain": [
       "['_', 'A', '_', '_', '_', '_', '_', '_', '_', '_']"
      ]
     },
     "metadata": {},
     "execution_count": 25
    }
   ],
   "metadata": {}
  },
  {
   "cell_type": "code",
   "execution_count": 24,
   "source": [
    "palabra_espacios[1] = \"A\"\r\n",
    "a_mostrar = \"\"\r\n",
    "for elem in palabra_espacios:\r\n",
    "    a_mostrar = a_mostrar + elem + \" \"\r\n",
    "a_mostrar"
   ],
   "outputs": [
    {
     "output_type": "execute_result",
     "data": {
      "text/plain": [
       "'_ A _ _ _ _ _ _ _ _ '"
      ]
     },
     "metadata": {},
     "execution_count": 24
    }
   ],
   "metadata": {}
  },
  {
   "cell_type": "code",
   "execution_count": 31,
   "source": [
    "palabra_espacios\r\n",
    "a_mostrar = \"\"\r\n",
    "for elem in palabra_espacios:\r\n",
    "    a_mostrar = a_mostrar + elem + \" \"\r\n",
    "print(a_mostrar)"
   ],
   "outputs": [
    {
     "output_type": "stream",
     "name": "stdout",
     "text": [
      "_ _ _ _ _ _ _ _ _ _ \n"
     ]
    }
   ],
   "metadata": {}
  },
  {
   "cell_type": "code",
   "execution_count": null,
   "source": [
    "diccionario = {(22131,213):3, \"a\":2, 1:42}"
   ],
   "outputs": [],
   "metadata": {}
  },
  {
   "cell_type": "code",
   "execution_count": 15,
   "source": [
    "s = \"pepito\"\r\n",
    "s = list(s)\r\n",
    "s[2] = \"h\"\r\n",
    "s"
   ],
   "outputs": [
    {
     "output_type": "execute_result",
     "data": {
      "text/plain": [
       "['p', 'e', 'h', 'i', 't', 'o']"
      ]
     },
     "metadata": {},
     "execution_count": 15
    }
   ],
   "metadata": {}
  },
  {
   "cell_type": "code",
   "execution_count": 3,
   "source": [
    "\"_ \" * 8"
   ],
   "outputs": [
    {
     "output_type": "execute_result",
     "data": {
      "text/plain": [
       "'_ _ _ _ _ _ _ _ '"
      ]
     },
     "metadata": {},
     "execution_count": 3
    }
   ],
   "metadata": {}
  },
  {
   "cell_type": "code",
   "execution_count": 19,
   "source": [
    "s = \"\"\r\n",
    "s += \"2\"\r\n",
    "s += \"2\"\r\n",
    "s"
   ],
   "outputs": [
    {
     "output_type": "execute_result",
     "data": {
      "text/plain": [
       "'22'"
      ]
     },
     "metadata": {},
     "execution_count": 19
    }
   ],
   "metadata": {}
  },
  {
   "cell_type": "code",
   "execution_count": 20,
   "source": [
    "s = [\"_\", \"_\", \"_\"]\r\n",
    "a_mostrar = \"\"\r\n",
    "for elem in s:\r\n",
    "    a_mostrar = a_mostrar + elem + \" \"\r\n",
    "a_mostrar"
   ],
   "outputs": [
    {
     "output_type": "execute_result",
     "data": {
      "text/plain": [
       "'_ _ _ '"
      ]
     },
     "metadata": {},
     "execution_count": 20
    }
   ],
   "metadata": {}
  }
 ],
 "metadata": {
  "orig_nbformat": 4,
  "language_info": {
   "name": "python",
   "version": "3.6.4",
   "mimetype": "text/x-python",
   "codemirror_mode": {
    "name": "ipython",
    "version": 3
   },
   "pygments_lexer": "ipython3",
   "nbconvert_exporter": "python",
   "file_extension": ".py"
  },
  "kernelspec": {
   "name": "python3",
   "display_name": "Python 3.6.4 64-bit"
  },
  "interpreter": {
   "hash": "e05034a492cd28020b141b637ab43cad260081b164a40cac23ec4809d29fc4bf"
  }
 },
 "nbformat": 4,
 "nbformat_minor": 2
}