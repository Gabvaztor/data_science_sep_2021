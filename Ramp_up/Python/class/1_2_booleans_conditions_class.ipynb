{
 "cells": [
  {
   "cell_type": "markdown",
   "source": [
    "## Booleans and conditions\r\n",
    "\r\n",
    "- Boolean\r\n",
    "- None\r\n",
    "- Conditions"
   ],
   "metadata": {}
  },
  {
   "cell_type": "code",
   "execution_count": null,
   "source": [
    "x = True\r\n",
    "y = False\r\n",
    "n = None"
   ],
   "outputs": [],
   "metadata": {}
  },
  {
   "cell_type": "code",
   "execution_count": null,
   "source": [
    "# Operadores de comparación\r\n",
    "\r\n",
    "< # menor que\r\n",
    "> # mayor que \r\n",
    "<= # menor o igual\r\n",
    ">= # mayor o igual\r\n",
    "== # es igual a \r\n",
    "!= # es diferente a\r\n"
   ],
   "outputs": [],
   "metadata": {}
  },
  {
   "cell_type": "code",
   "execution_count": 26,
   "source": [
    "x = 2\r\n",
    "print(x == 2)"
   ],
   "outputs": [
    {
     "output_type": "stream",
     "name": "stdout",
     "text": [
      "True\n"
     ]
    }
   ],
   "metadata": {}
  },
  {
   "cell_type": "code",
   "execution_count": 30,
   "source": [
    "x = 2\r\n",
    "print(x < 1)\r\n",
    "print(x > 1)\r\n",
    "print(x >= 2) \r\n",
    "print(x <= 2) \r\n",
    "print(x == x)\r\n",
    "print(x == 2)\r\n",
    "print(x != 1)\r\n",
    "print(x != 2)\r\n",
    "print(x != x)"
   ],
   "outputs": [
    {
     "output_type": "stream",
     "name": "stdout",
     "text": [
      "False\n",
      "True\n",
      "True\n",
      "True\n",
      "True\n",
      "True\n",
      "True\n",
      "False\n",
      "False\n"
     ]
    }
   ],
   "metadata": {}
  },
  {
   "cell_type": "code",
   "execution_count": 34,
   "source": [
    "x = \"2\"\r\n",
    "\r\n",
    "print(x == 2)  # Comprueba el tipo de la variable\r\n",
    "print(x == \"2\")\r\n",
    "print(x == x)\r\n",
    "print(x != 2)"
   ],
   "outputs": [
    {
     "output_type": "stream",
     "name": "stdout",
     "text": [
      "False\n",
      "True\n",
      "True\n",
      "True\n"
     ]
    }
   ],
   "metadata": {}
  },
  {
   "cell_type": "code",
   "execution_count": 35,
   "source": [
    "x = 2.0\r\n",
    "print(x == 2)"
   ],
   "outputs": [
    {
     "output_type": "stream",
     "name": "stdout",
     "text": [
      "True\n"
     ]
    }
   ],
   "metadata": {}
  },
  {
   "cell_type": "code",
   "execution_count": 36,
   "source": [
    "x = 2\r\n",
    "print(type(x) == type(189))"
   ],
   "outputs": [
    {
     "output_type": "stream",
     "name": "stdout",
     "text": [
      "True\n"
     ]
    }
   ],
   "metadata": {}
  },
  {
   "cell_type": "code",
   "execution_count": 39,
   "source": [
    "lista = [2, \"3\", 98, 2]\r\n",
    "print(lista[0] == type(lista[2]))\r\n",
    "print(type(lista[0]) == type(lista[2]))\r\n",
    "print(lista[0] == lista[-1])"
   ],
   "outputs": [
    {
     "output_type": "stream",
     "name": "stdout",
     "text": [
      "False\n",
      "True\n",
      "True\n"
     ]
    }
   ],
   "metadata": {}
  },
  {
   "cell_type": "code",
   "execution_count": 40,
   "source": [
    "if type(2) == type(41):\r\n",
    "    print(\"Es número\")"
   ],
   "outputs": [
    {
     "output_type": "stream",
     "name": "stdout",
     "text": [
      "Es número\n"
     ]
    }
   ],
   "metadata": {}
  },
  {
   "cell_type": "code",
   "execution_count": null,
   "source": [
    "and \r\n",
    "or \r\n",
    "not"
   ],
   "outputs": [],
   "metadata": {}
  },
  {
   "cell_type": "code",
   "execution_count": 48,
   "source": [
    "if True and False:  # True and False\r\n",
    "    print(\"Entra\")\r\n",
    "else:\r\n",
    "    print(\"No entra\")"
   ],
   "outputs": [
    {
     "output_type": "stream",
     "name": "stdout",
     "text": [
      "No entra\n"
     ]
    }
   ],
   "metadata": {}
  },
  {
   "cell_type": "code",
   "execution_count": 49,
   "source": [
    "if True and True:\r\n",
    "    print(\"Se cumple\")"
   ],
   "outputs": [
    {
     "output_type": "stream",
     "name": "stdout",
     "text": [
      "Se cumple\n"
     ]
    }
   ],
   "metadata": {}
  },
  {
   "cell_type": "code",
   "execution_count": 52,
   "source": [
    "print(1 == 1)"
   ],
   "outputs": [
    {
     "output_type": "stream",
     "name": "stdout",
     "text": [
      "True\n"
     ]
    }
   ],
   "metadata": {}
  },
  {
   "cell_type": "code",
   "execution_count": 51,
   "source": [
    "# Lo primero que se lee son los and\r\n",
    "if True and False or True:\r\n",
    "    print(1)\r\n",
    "else:\r\n",
    "    print(0)"
   ],
   "outputs": [
    {
     "output_type": "stream",
     "name": "stdout",
     "text": [
      "1\n"
     ]
    }
   ],
   "metadata": {}
  },
  {
   "cell_type": "code",
   "execution_count": 53,
   "source": [
    "# Lo primero que se lee son los and\r\n",
    "x = 2\r\n",
    "if (type(x) == type(9)) and x == 0 or x == 2:  # True and False or True\r\n",
    "    print(1)\r\n",
    "else:\r\n",
    "    print(0)"
   ],
   "outputs": [
    {
     "output_type": "stream",
     "name": "stdout",
     "text": [
      "1\n"
     ]
    }
   ],
   "metadata": {}
  },
  {
   "cell_type": "code",
   "execution_count": 54,
   "source": [
    "x = 2\r\n",
    "if not(x == 2):  # not es lo contrario de la comparación a su derecha\r\n",
    "    print(1)\r\n",
    "else:\r\n",
    "    print(0)"
   ],
   "outputs": [
    {
     "output_type": "stream",
     "name": "stdout",
     "text": [
      "0\n"
     ]
    }
   ],
   "metadata": {}
  },
  {
   "cell_type": "code",
   "execution_count": 55,
   "source": [
    "x = 2\r\n",
    "if not x == 2:  # not es lo contrario de la comparación a su derecha\r\n",
    "    print(1)\r\n",
    "else:\r\n",
    "    print(0)"
   ],
   "outputs": [
    {
     "output_type": "stream",
     "name": "stdout",
     "text": [
      "0\n"
     ]
    }
   ],
   "metadata": {}
  },
  {
   "cell_type": "code",
   "execution_count": 57,
   "source": [
    "(1 == 2) and (3 == 1) "
   ],
   "outputs": [
    {
     "output_type": "execute_result",
     "data": {
      "text/plain": [
       "False"
      ]
     },
     "metadata": {},
     "execution_count": 57
    }
   ],
   "metadata": {}
  },
  {
   "cell_type": "code",
   "execution_count": 56,
   "source": [
    "if False and True and True and not True:\r\n",
    "    print(1)\r\n",
    "else:\r\n",
    "    print(0)"
   ],
   "outputs": [
    {
     "output_type": "stream",
     "name": "stdout",
     "text": [
      "0\n"
     ]
    }
   ],
   "metadata": {}
  },
  {
   "cell_type": "code",
   "execution_count": 59,
   "source": [
    "if not (False and True and True) and True:\r\n",
    "    # True and True\r\n",
    "    print(1)\r\n",
    "else:\r\n",
    "    print(0)"
   ],
   "outputs": [
    {
     "output_type": "stream",
     "name": "stdout",
     "text": [
      "1\n"
     ]
    }
   ],
   "metadata": {}
  },
  {
   "cell_type": "code",
   "execution_count": 60,
   "source": [
    "if not False and True or False or True and False:\r\n",
    "    # True or False\r\n",
    "    print(1)\r\n",
    "else:\r\n",
    "    print(0)"
   ],
   "outputs": [
    {
     "output_type": "stream",
     "name": "stdout",
     "text": [
      "1\n"
     ]
    }
   ],
   "metadata": {}
  },
  {
   "cell_type": "code",
   "execution_count": 47,
   "source": [
    "x = 2\r\n",
    "if (x < 2) or (x > 2) or False:  # Con que una sea True, ya se cumple la condición\r\n",
    "    print(\"X no es 2\")\r\n",
    "else:\r\n",
    "    print(\"X es 2\")"
   ],
   "outputs": [
    {
     "output_type": "stream",
     "name": "stdout",
     "text": [
      "X es 2\n"
     ]
    }
   ],
   "metadata": {}
  },
  {
   "cell_type": "code",
   "execution_count": 44,
   "source": [
    "if isinstance(2.0, (int, str)):\r\n",
    "    print(\"Es entero\")"
   ],
   "outputs": [],
   "metadata": {}
  },
  {
   "cell_type": "code",
   "execution_count": 3,
   "source": [
    "edad = 18\r\n",
    "if (edad > 18):\r\n",
    "    print(\"Es mayor de edad\")"
   ],
   "outputs": [],
   "metadata": {}
  },
  {
   "cell_type": "code",
   "execution_count": 8,
   "source": [
    "edad = -18\r\n",
    "\r\n",
    "if (edad < 0):\r\n",
    "    print(\"No puede tener menos de 0 años\")\r\n",
    "if edad >= 18:  # Si tiene 18 o más años\r\n",
    "    print(\"Es mayor de edad\")\r\n",
    "else:  # En cualquier otro caso\r\n",
    "    print(\"No es mayor de edad\")\r\n",
    "print(\"END\")"
   ],
   "outputs": [
    {
     "output_type": "stream",
     "name": "stdout",
     "text": [
      "No puede tener menos de 0 años\n",
      "No es mayor de edad\n",
      "END\n"
     ]
    }
   ],
   "metadata": {}
  },
  {
   "cell_type": "code",
   "execution_count": 23,
   "source": [
    "# Un bloque de condición\r\n",
    "\r\n",
    "edad = 66\r\n",
    "if edad < 0:\r\n",
    "    print(\"Es imposible esa edad\")\r\n",
    "elif edad >= 18:\r\n",
    "    print(\"Mayor de edad\")\r\n",
    "    if edad >= 65:\r\n",
    "        print(\"Jubilación\")\r\n",
    "else:\r\n",
    "    print(\"Es menor de edad\")\r\n",
    "    \r\n"
   ],
   "outputs": [
    {
     "output_type": "stream",
     "name": "stdout",
     "text": [
      "Mayor de edad\n",
      "Jubilación\n"
     ]
    }
   ],
   "metadata": {}
  },
  {
   "cell_type": "code",
   "execution_count": null,
   "source": [
    "gusto = False\r\n"
   ],
   "outputs": [],
   "metadata": {}
  },
  {
   "cell_type": "code",
   "execution_count": 21,
   "source": [
    "# Un bloque de condición\r\n",
    "\r\n",
    "edad = \"17\"\r\n",
    "if edad < 0:\r\n",
    "    print(\"Es imposible esa edad\")\r\n",
    "elif edad >= 18:\r\n",
    "    print(\"Mayor de edad\")\r\n",
    "else:\r\n",
    "    print(\"Es menor de edad\")"
   ],
   "outputs": [
    {
     "output_type": "error",
     "ename": "TypeError",
     "evalue": "'<' not supported between instances of 'str' and 'int'",
     "traceback": [
      "\u001b[1;31m---------------------------------------------------------------------------\u001b[0m",
      "\u001b[1;31mTypeError\u001b[0m                                 Traceback (most recent call last)",
      "\u001b[1;32m<ipython-input-21-08f32f887a0d>\u001b[0m in \u001b[0;36m<module>\u001b[1;34m\u001b[0m\n\u001b[0;32m      2\u001b[0m \u001b[1;33m\u001b[0m\u001b[0m\n\u001b[0;32m      3\u001b[0m \u001b[0medad\u001b[0m \u001b[1;33m=\u001b[0m \u001b[1;34m\"17\"\u001b[0m\u001b[1;33m\u001b[0m\u001b[0m\n\u001b[1;32m----> 4\u001b[1;33m \u001b[1;32mif\u001b[0m \u001b[0medad\u001b[0m \u001b[1;33m<\u001b[0m \u001b[1;36m0\u001b[0m\u001b[1;33m:\u001b[0m\u001b[1;33m\u001b[0m\u001b[0m\n\u001b[0m\u001b[0;32m      5\u001b[0m     \u001b[0mprint\u001b[0m\u001b[1;33m(\u001b[0m\u001b[1;34m\"Es imposible esa edad\"\u001b[0m\u001b[1;33m)\u001b[0m\u001b[1;33m\u001b[0m\u001b[0m\n\u001b[0;32m      6\u001b[0m \u001b[1;32melif\u001b[0m \u001b[0medad\u001b[0m \u001b[1;33m>=\u001b[0m \u001b[1;36m18\u001b[0m\u001b[1;33m:\u001b[0m\u001b[1;33m\u001b[0m\u001b[0m\n",
      "\u001b[1;31mTypeError\u001b[0m: '<' not supported between instances of 'str' and 'int'"
     ]
    }
   ],
   "metadata": {}
  },
  {
   "cell_type": "code",
   "execution_count": 61,
   "source": [
    "edad = 18\r\n",
    "altura = 1.75\r\n",
    "\r\n",
    "if altura > 1.7 and edad == 20:  # FAlse\r\n",
    "    print(\"Basket\")\r\n",
    "elif altura == edad:  # False\r\n",
    "    print(\"Misma altura y edad\")\r\n",
    "elif not (altura == altura) or (edad == 17):  # False or False\r\n",
    "    print(\"X\")\r\n",
    "elif edad == 18 and (edad == 18) and not False: # True and True and True\r\n",
    "    print(2)\r\n",
    "else: \r\n",
    "    print(\"NADA\")\r\n",
    "print(\"END\")"
   ],
   "outputs": [
    {
     "output_type": "stream",
     "name": "stdout",
     "text": [
      "2\n",
      "END\n"
     ]
    }
   ],
   "metadata": {}
  },
  {
   "cell_type": "code",
   "execution_count": 62,
   "source": [
    "edad = 19\r\n",
    "altura = 1.75\r\n",
    "\r\n",
    "if altura > 1.7 and edad == 20:  # FAlse\r\n",
    "    print(\"Basket\")\r\n",
    "elif altura == edad:  # False\r\n",
    "    print(\"Misma altura y edad\")\r\n",
    "elif not (altura == altura) or (edad == 17):  # False or False\r\n",
    "    print(\"X\")\r\n",
    "elif edad == 18 and (edad == 18) and not False: # True and True and True\r\n",
    "    print(2)\r\n",
    "else: \r\n",
    "    print(\"ALGO\")\r\n",
    "print(\"END\")"
   ],
   "outputs": [
    {
     "output_type": "stream",
     "name": "stdout",
     "text": [
      "ALGO\n",
      "END\n"
     ]
    }
   ],
   "metadata": {}
  },
  {
   "cell_type": "code",
   "execution_count": 63,
   "source": [
    "edad = 1.75\r\n",
    "altura = 1.75\r\n",
    "\r\n",
    "if altura > 1.7 and edad == 20: \r\n",
    "    print(\"Basket\")\r\n",
    "elif altura == edad:  \r\n",
    "    print(\"Misma altura y edad\")\r\n",
    "elif not (altura == altura) or (edad == 17):\r\n",
    "    print(\"X\")\r\n",
    "elif edad == 18 and (edad == 18) and not False: \r\n",
    "    print(2)\r\n",
    "else: \r\n",
    "    print(\"ALGO\")\r\n",
    "print(\"END\")"
   ],
   "outputs": [
    {
     "output_type": "stream",
     "name": "stdout",
     "text": [
      "Misma altura y edad\n",
      "END\n"
     ]
    }
   ],
   "metadata": {}
  },
  {
   "cell_type": "code",
   "execution_count": 64,
   "source": [
    "edad = 20\r\n",
    "altura = 1.75\r\n",
    "\r\n",
    "if altura > 1.7 and edad == 20: \r\n",
    "    print(\"Basket\")\r\n",
    "elif altura == edad:  \r\n",
    "    print(\"Misma altura y edad\")\r\n",
    "elif not (altura == altura) or (edad == 17):\r\n",
    "    print(\"X\")\r\n",
    "elif edad == 18 and (edad == 18) and not False: \r\n",
    "    print(2)\r\n",
    "else: \r\n",
    "    print(\"ALGO\")\r\n",
    "print(\"END\")"
   ],
   "outputs": [
    {
     "output_type": "stream",
     "name": "stdout",
     "text": [
      "Basket\n",
      "END\n"
     ]
    }
   ],
   "metadata": {}
  },
  {
   "cell_type": "code",
   "execution_count": 66,
   "source": [
    "edad = 20\r\n",
    "altura = 1.75\r\n",
    "\r\n",
    "if altura > 1.7 and edad == 20: # Bloque if 1\r\n",
    "    print(\"Basket\")\r\n",
    "elif altura == edad:  \r\n",
    "    print(\"Misma altura y edad\")\r\n",
    "elif not (altura == altura) or (edad == 17):\r\n",
    "    print(\"X\")\r\n",
    "elif edad == 18 and (edad == 18) and not False: \r\n",
    "    print(2)\r\n",
    "else: \r\n",
    "    print(\"ALGO\")\r\n",
    "if True: # Bloque if 2\r\n",
    "    print(22)\r\n",
    "if False: # Bloque if 3\r\n",
    "    print(\"Nada\")\r\n",
    "else:\r\n",
    "    print(\"bloque 3\")\r\n",
    "if True and True and altura == 1.75 and ((altura + edad == 21.75)): # Bloque if 3\r\n",
    "    print(\"Muy bien\")\r\n",
    "print(\"END\")"
   ],
   "outputs": [
    {
     "output_type": "stream",
     "name": "stdout",
     "text": [
      "Basket\n",
      "22\n",
      "bloque 3\n",
      "Muy bien\n",
      "END\n"
     ]
    }
   ],
   "metadata": {}
  },
  {
   "cell_type": "code",
   "execution_count": 85,
   "source": [
    "print([] == False)"
   ],
   "outputs": [
    {
     "output_type": "stream",
     "name": "stdout",
     "text": [
      "False\n"
     ]
    }
   ],
   "metadata": {}
  },
  {
   "cell_type": "code",
   "execution_count": 84,
   "source": [
    "if [] == False:\r\n",
    "    print(1)\r\n",
    "else:\r\n",
    "    print(0)"
   ],
   "outputs": [
    {
     "output_type": "stream",
     "name": "stdout",
     "text": [
      "0\n"
     ]
    }
   ],
   "metadata": {}
  },
  {
   "cell_type": "code",
   "execution_count": 77,
   "source": [
    "# 4 valores que representan False en una condición\r\n",
    "# False\r\n",
    "# None\r\n",
    "# 0 & 0.0\r\n",
    "# [], \"\", ()\r\n",
    "\r\n",
    "l = []\r\n",
    "if None or False or 0 or 0.0 or [] or \"\" or () or not True:\r\n",
    "    print(\"Se cumple\")\r\n",
    "else:\r\n",
    "    print(\"No se cumple\")"
   ],
   "outputs": [
    {
     "output_type": "stream",
     "name": "stdout",
     "text": [
      "No se cumple\n"
     ]
    }
   ],
   "metadata": {}
  },
  {
   "cell_type": "code",
   "execution_count": 80,
   "source": [
    "if [None]:\r\n",
    "    print(1)\r\n",
    "else:\r\n",
    "    print(0)"
   ],
   "outputs": [
    {
     "output_type": "stream",
     "name": "stdout",
     "text": [
      "1\n"
     ]
    }
   ],
   "metadata": {}
  },
  {
   "cell_type": "code",
   "execution_count": null,
   "source": [
    "if\r\n",
    "elif\r\n",
    "else"
   ],
   "outputs": [],
   "metadata": {}
  }
 ],
 "metadata": {
  "orig_nbformat": 4,
  "language_info": {
   "name": "python",
   "version": "3.6.4",
   "mimetype": "text/x-python",
   "codemirror_mode": {
    "name": "ipython",
    "version": 3
   },
   "pygments_lexer": "ipython3",
   "nbconvert_exporter": "python",
   "file_extension": ".py"
  },
  "kernelspec": {
   "name": "python3",
   "display_name": "Python 3.6.4 64-bit"
  },
  "interpreter": {
   "hash": "e05034a492cd28020b141b637ab43cad260081b164a40cac23ec4809d29fc4bf"
  }
 },
 "nbformat": 4,
 "nbformat_minor": 2
}